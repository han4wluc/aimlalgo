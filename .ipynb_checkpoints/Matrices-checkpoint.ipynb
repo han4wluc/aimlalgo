{
 "cells": [
  {
   "cell_type": "markdown",
   "metadata": {},
   "source": [
    "\n",
    "Dimension of matrix: number of rows * number of columns\n",
    "\n",
    "### Addition\n",
    "* only matrices of same dimension can be added\n",
    "$$\n",
    "X=\n",
    "\\begin{bmatrix}\n",
    "    8 & 6 & 9 \\\\\n",
    "   10 & 1 & 10 \\\\\n",
    "\\end{bmatrix}\n",
    "+\n",
    "\\begin{bmatrix}\n",
    "    3 & 10 & 2 \\\\\n",
    "    6 & 1  & -1 \\\\\n",
    "\\end{bmatrix}\n",
    "=\n",
    "\\begin{bmatrix}\n",
    "    11 & 16 & 9 \\\\\n",
    "    10 & 1  & 10 \\\\\n",
    "\\end{bmatrix}\n",
    "$$\n",
    "\n",
    "\n",
    "### Scalar Multiplication\n",
    "\n",
    "$$\n",
    "3 \\times\n",
    "\\begin{bmatrix}\n",
    "    1 & 0 \\\\\n",
    "    2 & 5 \\\\\n",
    "    3 & 1 \\\\\n",
    "\\end{bmatrix}\n",
    "=\n",
    "\\begin{bmatrix}\n",
    "    3 &  0 \\\\\n",
    "    6 & 15 \\\\\n",
    "    9 &  3 \\\\\n",
    "\\end{bmatrix}\n",
    "$$\n",
    "\n",
    "### Matrix Vector Multiplication\n",
    "\n",
    "* columns of matrix must match row of vector\n",
    "\n",
    "<img src=\"./img/1.png\" width=\"60%\"/>\n",
    "\n",
    "<img src=\"./img/2.png\" width=\"60%\"/>\n",
    "\n",
    "\n",
    "\n",
    "### Matrix Matrix Multiplication\n",
    "\n",
    "\n",
    "\n"
   ]
  },
  {
   "cell_type": "code",
   "execution_count": 4,
   "metadata": {
    "collapsed": true
   },
   "outputs": [],
   "source": [
    "import numpy as np\n",
    "X = np.array([[1,0],\n",
    "              [2,5],\n",
    "              [3,1]])"
   ]
  },
  {
   "cell_type": "code",
   "execution_count": 3,
   "metadata": {
    "collapsed": false
   },
   "outputs": [
    {
     "name": "stdout",
     "output_type": "stream",
     "text": [
      "[[ 3  0]\n",
      " [ 6 15]\n",
      " [ 9  3]]\n"
     ]
    }
   ],
   "source": [
    "# Scalar Multiplication\n",
    "print X * 3"
   ]
  },
  {
   "cell_type": "code",
   "execution_count": 13,
   "metadata": {
    "collapsed": false
   },
   "outputs": [
    {
     "name": "stdout",
     "output_type": "stream",
     "text": [
      "[[ 1]\n",
      " [27]\n",
      " [ 8]]\n",
      "[[ 1  0]\n",
      " [ 2 25]\n",
      " [ 3  5]]\n"
     ]
    }
   ],
   "source": [
    "# Matrix Vector Multiplication\n",
    "y = np.array([[1],\n",
    "              [5],])\n",
    "\n",
    "print X.dot(y)\n",
    "\n",
    "print X * y.T # need to sum up the columns\n"
   ]
  },
  {
   "cell_type": "code",
   "execution_count": null,
   "metadata": {
    "collapsed": true
   },
   "outputs": [],
   "source": []
  }
 ],
 "metadata": {
  "kernelspec": {
   "display_name": "Python 2",
   "language": "python",
   "name": "python2"
  },
  "language_info": {
   "codemirror_mode": {
    "name": "ipython",
    "version": 2
   },
   "file_extension": ".py",
   "mimetype": "text/x-python",
   "name": "python",
   "nbconvert_exporter": "python",
   "pygments_lexer": "ipython2",
   "version": "2.7.6"
  }
 },
 "nbformat": 4,
 "nbformat_minor": 1
}
