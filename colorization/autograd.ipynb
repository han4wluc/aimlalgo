{
 "cells": [
  {
   "cell_type": "code",
   "execution_count": 5,
   "metadata": {
    "collapsed": false
   },
   "outputs": [
    {
     "data": {
      "text/plain": [
       "1.5666079934574\t\n"
      ]
     },
     "execution_count": 5,
     "metadata": {},
     "output_type": "execute_result"
    }
   ],
   "source": [
    "-- libraries:\n",
    "t = require 'torch'\n",
    "require 'torch'\n",
    "grad = require 'autograd'\n",
    "Plot = require 'itorch.Plot'\n",
    "torch.manualSeed(0)\n",
    "\n",
    "-- define trainable parameters:\n",
    "params = {\n",
    "    W = {\n",
    "        t.randn(100,50),\n",
    "        t.randn(50,10),\n",
    "    },\n",
    "    b = {\n",
    "        t.randn(50),\n",
    "        t.randn(10),\n",
    "    }\n",
    "}\n",
    "\n",
    "-- define model\n",
    "neuralNet = function(params, x, y)\n",
    "    local h1 = t.tanh(x * params.W[1] + params.b[1])\n",
    "    local h2 = t.tanh(h1 * params.W[2] + params.b[2])\n",
    "    local yHat = h2 - t.log(t.sum(t.exp(h2)))\n",
    "    local loss = -t.sum(t.cmul(yHat, y))\n",
    "    return loss\n",
    "end\n",
    "\n",
    "-- gradients:\n",
    "dneuralNet = grad(neuralNet)\n",
    "\n",
    "-- some data:\n",
    "x = t.randn(1,100)\n",
    "y = t.Tensor(1,10):zero()\n",
    "y[1][3] = 1\n",
    "\n",
    "-- compute loss and gradients wrt all parameters in params:\n",
    "dparams, loss = dneuralNet(params, x, y)\n",
    "\n",
    "-- print(dparams['b'][1])\n",
    "print(loss)\n",
    "\n",
    "-- in this case:\n",
    "--> loss: is a scalar (Lua number)\n",
    "--> dparams: is a table that mimics the structure of params; for\n",
    "-- each Tensor in params, dparams provides the derivatives of the\n",
    "-- loss wrt that Tensor.\n",
    "\n",
    "\n",
    "\n"
   ]
  },
  {
   "cell_type": "code",
   "execution_count": null,
   "metadata": {
    "collapsed": true
   },
   "outputs": [],
   "source": [
    "for i,sample in datasetIterator() do\n",
    "    "
   ]
  },
  {
   "cell_type": "code",
   "execution_count": null,
   "metadata": {
    "collapsed": false
   },
   "outputs": [],
   "source": []
  },
  {
   "cell_type": "code",
   "execution_count": 6,
   "metadata": {
    "collapsed": false,
    "scrolled": false
   },
   "outputs": [
    {
     "data": {
      "text/html": [
       "<script type=\"text/javascript\">\n",
       "$(function() {\n",
       "    if (typeof (window._bokeh_onload_callbacks) === \"undefined\"){\n",
       "  window._bokeh_onload_callbacks = [];\n",
       "    }\n",
       "    function load_lib(url, callback){\n",
       "  window._bokeh_onload_callbacks.push(callback);\n",
       "  if (window._bokeh_is_loading){\n",
       "      console.log(\"Bokeh: BokehJS is being loaded, scheduling callback at\", new Date());\n",
       "      return null;\n",
       "  }\n",
       "  console.log(\"Bokeh: BokehJS not loaded, scheduling load and callback at\", new Date());\n",
       "  window._bokeh_is_loading = true;\n",
       "  var s = document.createElement('script');\n",
       "  s.src = url;\n",
       "  s.async = true;\n",
       "  s.onreadystatechange = s.onload = function(){\n",
       "      Bokeh.embed.inject_css(\"https://cdn.pydata.org/bokeh-0.7.0.min.css\");\n",
       "      window._bokeh_onload_callbacks.forEach(function(callback){callback()});\n",
       "  };\n",
       "  s.onerror = function(){\n",
       "      console.warn(\"failed to load library \" + url);\n",
       "  };\n",
       "  document.getElementsByTagName(\"head\")[0].appendChild(s);\n",
       "    }\n",
       "\n",
       "    bokehjs_url = \"https://cdn.pydata.org/bokeh-0.7.0.min.js\"\n",
       "\n",
       "    var elt = document.getElementById(\"f7004df0-ddf7-4d03-cdb8-4fa1de6e3bcf\");\n",
       "    if(elt==null) {\n",
       "  console.log(\"Bokeh: ERROR: autoload.js configured with elementid 'f7004df0-ddf7-4d03-cdb8-4fa1de6e3bcf'\"\n",
       "        + \"but no matching script tag was found. \")\n",
       "  return false;\n",
       "    }\n",
       "\n",
       "    if(typeof(Bokeh) !== \"undefined\") {\n",
       "  console.log(\"Bokeh: BokehJS loaded, going straight to plotting\");\n",
       "  var modelid = \"fb8d1727-b786-45ce-c531-9c54b5609220\";\n",
       "  var modeltype = \"Plot\";\n",
       "  var all_models = [{\"id\":\"598729a1-0cf7-497a-c946-bb2b6c2bb0b4\",\"type\":\"ColumnDataSource\",\"attributes\":{\"data\":{\"y\":[2893.9736033082,3068.3551430665,2428.8043917306,2580.1108606011,2222.5398934446,2438.4062399752,2526.2124269046,1928.0445943922,2514.4788808133,2593.9692651387,2080.9474143237,2118.1662812419,1524.7856178842,1580.8326801322,1617.1798812225,1970.2916713841,1862.8629602827,1760.1258771271,1707.4978129137,1133.6447450798,976.24329219945,1773.5510727074,1045.5844138712,850.89755456336,1409.0830481146,583.81344925053,937.5091187153,628.85609857365,895.32872697711,1317.0919770841,743.85330310464,1105.9156385958,713.50980609283,822.21305481531,424.96658619493,629.79828170873,510.93414542824,505.33144842461,801.86011963896,633.56297570281,925.09371227957,394.90863819234,1027.2289338764,205.07231137156,814.01424375363,452.96518358774,85.797463931143,44.490050334483,249.48528252915,348.05635549128,478.22248127684,532.0847097747,977.9448189456,683.44834603742,734.59104597569,576.19167553633,395.53417300433,453.58463212475,676.59504594654,540.87726739235,1038.5394878257,306.97689173371,741.63299729675,980.64074572548,559.54437926412,1143.1663575992,438.77641054429,812.44713461585,1108.3574616015,802.12062746286,1192.9060310442,1245.8346461095,1497.7912568916,715.96707368642,1424.7301230207,809.36027227342,1611.0359210949,944.85469000973,1683.168105999,978.73472454958,1527.0884457175,2008.0799346566,1707.8670345582,1729.8163196947,1637.950449856,2135.8498743773,2333.8820813745,2119.6766582839,1682.2182175741,1692.704375973,2278.9509053286,1853.6172870416,2249.0438891817,2932.3372999337,2337.0705238543,2531.7835724764,2685.5403366182,2869.8091877121,2797.8196951319,2732.5572266709],\"x\":[-47.349930658005,-46.604234321974,-29.305925386027,-33.976788361557,-30.387034476735,-37.955854461528,-30.81928403303,-35.385500675067,-39.966158572584,-34.789047120139,-33.486775561236,-29.080546765588,-20.378227339126,-30.819621709175,-18.751381114125,-15.262743482366,-13.578915835358,-20.139337301254,-14.924013497308,-22.795036812313,-10.791448607109,-11.229828239419,-19.626831769012,-13.795738866553,-23.968760366552,-9.0484726391733,-9.5699297282845,-10.988421689719,-12.579646724276,-2.1577334217727,-2.4733617631719,-10.357285306789,1.6020815465599,-0.016335876658559,1.7295683454722,-9.0414553983137,-3.1554643921554,-10.892873707227,-0.97847224585712,-0.13966286554933,-4.2366507332772,5.2935744803399,4.9699348276481,-0.50311210006475,4.7485939366743,3.9904089216143,16.400620609522,13.944757820107,15.300917784683,13.879762780853,3.248822748661,14.217454542406,9.0429517226294,9.4479160020128,10.356786795892,23.425943207927,21.623711789027,8.9524152381346,11.390873017721,15.475862193853,14.918921942823,13.226013628766,28.830329842865,18.047446027398,23.393696397543,16.961556304246,24.246999666095,25.584715122357,21.148490347899,23.25698081404,37.446296898648,39.813747948967,23.215840158053,25.613477231003,43.421714529395,29.891490404494,37.71601009462,34.369424816221,29.697267078795,42.10780962836,37.921626580879,38.025783861987,51.00957751926,37.552645752206,50.387153835036,48.428553733043,46.537812178023,40.826281031594,45.006823638454,43.823475320823,47.894105686806,59.877353108488,54.423133402131,60.183991828002,51.611829083413,49.481650259346,63.093700253405,57.248527823947,58.094096841291,54.874244546518]},\"column_names\":[\"y\",\"x\"],\"cont_ranges\":{},\"discrete_ranges\":{},\"selected\":[],\"id\":\"598729a1-0cf7-497a-c946-bb2b6c2bb0b4\",\"doc\":null,\"tags\":[]}},{\"id\":\"294bc1d6-012f-4c1b-ccc7-8ff65da8cfb9\",\"type\":\"Circle\",\"attributes\":{\"fill_alpha\":{\"units\":\"data\",\"value\":0.2},\"line_alpha\":{\"units\":\"data\",\"value\":1},\"doc\":null,\"size\":{\"units\":\"screen\",\"value\":10},\"fill_color\":{\"value\":\"red\"},\"line_color\":{\"value\":\"red\"},\"x\":{\"units\":\"data\",\"field\":\"x\"},\"id\":\"294bc1d6-012f-4c1b-ccc7-8ff65da8cfb9\",\"y\":{\"units\":\"data\",\"field\":\"y\"},\"tags\":[]}},{\"id\":\"8065d0d8-e099-4afe-ca1c-cd2fa32b7fc2\",\"type\":\"Circle\",\"attributes\":{\"fill_alpha\":{\"units\":\"data\",\"value\":0.2},\"line_alpha\":{\"units\":\"data\",\"value\":1},\"doc\":null,\"size\":{\"units\":\"screen\",\"value\":10},\"fill_color\":{\"value\":\"red\"},\"line_color\":{\"value\":\"red\"},\"x\":{\"units\":\"data\",\"field\":\"x\"},\"id\":\"8065d0d8-e099-4afe-ca1c-cd2fa32b7fc2\",\"y\":{\"units\":\"data\",\"field\":\"y\"},\"tags\":[]}},{\"id\":\"b8bff12f-b404-43d6-c3ca-4404aedee39e\",\"type\":\"GlyphRenderer\",\"attributes\":{\"name\":null,\"nonselection_glyph\":{\"type\":\"Circle\",\"id\":\"8065d0d8-e099-4afe-ca1c-cd2fa32b7fc2\"},\"doc\":null,\"server_data_source\":null,\"data_source\":{\"type\":\"ColumnDataSource\",\"id\":\"598729a1-0cf7-497a-c946-bb2b6c2bb0b4\"},\"glyph\":{\"type\":\"Circle\",\"id\":\"294bc1d6-012f-4c1b-ccc7-8ff65da8cfb9\"},\"selection_glyph\":null,\"id\":\"b8bff12f-b404-43d6-c3ca-4404aedee39e\",\"tags\":[]}},{\"id\":\"90ac4a97-417d-4903-c98b-ed9a675d4918\",\"type\":\"ColumnDataSource\",\"attributes\":{\"data\":{\"y\":[1091.9736033082,1460.3551430665,1010.8043917306,1348.1108606011,1172.5398934446,1566.4062399752,1828.2124269046,1400.0445943922,2152.4788808133,2393.9692651387,2038.9474143237,2230.1662812419,1786.7856178842,1988.8326801322,2167.1798812225,2658.2916713841,2684.8629602827,2712.1258771271,2785.4978129137,2333.6447450798,2294.2432921994,3205.5510727074,2587.5844138712,2498.8975545634,3159.0830481146,2431.8134492505,2879.5091187153,2660.8560985737,3013.3287269771,3517.0919770841,3021.8533031046,3457.9156385958,3135.5098060928,3310.2130548153,2974.9665861949,3237.7982817087,3172.9341454282,3217.3314484246,3559.860119639,3433.5629757028,3763.0937122796,3266.9086381923,3929.2289338764,3133.0723113716,3764.0142437536,3420.9651835877,3067.7974639311,3036.4900503345,3247.4852825291,3348.0563554913,3476.2224812768,3524.0847097747,3959.9448189456,3651.4483460374,3684.5910459757,3504.1916755363,3297.5341730043,3325.5846321248,3514.5950459465,3340.8772673924,3796.5394878257,3018.9768917337,3403.6329972968,3588.6407457255,3109.5443792641,3631.1663575992,2860.7764105443,3164.4471346159,3386.3574616015,3002.1206274629,3310.9060310442,3277.8346461095,3439.7912568916,2563.9670736864,3174.7301230207,2457.3602722734,3153.0359210949,2376.8546900097,3001.168105999,2178.7347245496,2605.0884457175,2960.0799346566,2529.8670345582,2417.8163196947,2187.950449856,2543.8498743773,2595.8820813745,2231.6766582839,1640.2182175741,1492.704375973,1916.9509053286,1325.6172870416,1551.0438891817,2060.3372999337,1287.0705238543,1299.7835724764,1267.5403366182,1261.8091877121,995.81969513185,732.55722667091],\"x\":[4.8152255024761,0.13149467110634,-4.0124761061743,7.7447948381305,-3.8030736986548,13.477619801648,8.5572744607925,7.2313684802502,4.5253821471706,1.1441511986777,10.564312770963,7.1179106580094,13.092923911288,15.714601782151,19.671408943832,23.884741108865,15.112677792087,19.788282720372,17.284421083517,17.839404665865,25.725215923972,31.333622111008,28.670155384578,19.718438588083,23.226747782901,16.71103990078,18.775159817189,27.535403880291,24.057597663254,38.754854276776,21.782522256486,38.75179887563,40.232754379511,32.952202596702,41.780584580265,31.710887303576,28.536369170062,39.587017616257,47.466821620241,30.830170903355,46.875024958514,34.043650140986,49.0437584389,36.899490413256,48.853232981637,48.74152725935,41.287190609612,47.837626009248,58.957159725018,48.164168000221,52.408733767457,43.018073572777,46.234823923558,58.997256747447,49.797159610316,56.4721332388,50.616788084619,54.537879956886,65.505643725395,56.408844622783,66.154685429297,58.596725163981,64.348818829283,73.572609225288,64.165577851236,74.673529177904,60.28008774668,64.790053360164,75.626073168591,79.267488396727,74.414199175313,64.018526764587,65.489212248474,71.777777472511,68.243417507038,77.4496641187,85.779297936708,83.853507593274,86.177138184197,86.916232146323,82.516768038273,76.727438697591,77.871605411172,81.867703172378,89.115608427674,82.252157506533,89.929118140601,91.961746254936,80.861342885531,87.822100245394,97.765729603358,89.863772539422,94.171660525724,99.1401761733,96.913380073383,88.363158133812,90.461445155554,97.463851200417,97.665296556428,95.476782862097]},\"column_names\":[\"y\",\"x\"],\"cont_ranges\":{},\"discrete_ranges\":{},\"selected\":[],\"id\":\"90ac4a97-417d-4903-c98b-ed9a675d4918\",\"doc\":null,\"tags\":[]}},{\"id\":\"50ab886e-2ffc-4562-c531-022fe52b2fa8\",\"type\":\"Circle\",\"attributes\":{\"fill_alpha\":{\"units\":\"data\",\"value\":0.2},\"line_alpha\":{\"units\":\"data\",\"value\":1},\"doc\":null,\"size\":{\"units\":\"screen\",\"value\":10},\"fill_color\":{\"value\":\"green\"},\"line_color\":{\"value\":\"green\"},\"x\":{\"units\":\"data\",\"field\":\"x\"},\"id\":\"50ab886e-2ffc-4562-c531-022fe52b2fa8\",\"y\":{\"units\":\"data\",\"field\":\"y\"},\"tags\":[]}},{\"id\":\"22748664-18c5-491a-c983-aa6519a2cf3d\",\"type\":\"Circle\",\"attributes\":{\"fill_alpha\":{\"units\":\"data\",\"value\":0.2},\"line_alpha\":{\"units\":\"data\",\"value\":1},\"doc\":null,\"size\":{\"units\":\"screen\",\"value\":10},\"fill_color\":{\"value\":\"green\"},\"line_color\":{\"value\":\"green\"},\"x\":{\"units\":\"data\",\"field\":\"x\"},\"id\":\"22748664-18c5-491a-c983-aa6519a2cf3d\",\"y\":{\"units\":\"data\",\"field\":\"y\"},\"tags\":[]}},{\"id\":\"dfc5d210-21c2-4941-c9e8-e315d3e43f11\",\"type\":\"GlyphRenderer\",\"attributes\":{\"name\":null,\"nonselection_glyph\":{\"type\":\"Circle\",\"id\":\"22748664-18c5-491a-c983-aa6519a2cf3d\"},\"doc\":null,\"server_data_source\":null,\"data_source\":{\"type\":\"ColumnDataSource\",\"id\":\"90ac4a97-417d-4903-c98b-ed9a675d4918\"},\"glyph\":{\"type\":\"Circle\",\"id\":\"50ab886e-2ffc-4562-c531-022fe52b2fa8\"},\"selection_glyph\":null,\"id\":\"dfc5d210-21c2-4941-c9e8-e315d3e43f11\",\"tags\":[]}},{\"id\":\"dbcc3eaa-b727-47b6-c720-42663355dce0\",\"type\":\"DataRange1d\",\"attributes\":{\"sources\":[{\"columns\":[\"x\"],\"source\":{\"type\":\"ColumnDataSource\",\"id\":\"598729a1-0cf7-497a-c946-bb2b6c2bb0b4\"}},{\"columns\":[\"x\"],\"source\":{\"type\":\"ColumnDataSource\",\"id\":\"90ac4a97-417d-4903-c98b-ed9a675d4918\"}}],\"id\":\"dbcc3eaa-b727-47b6-c720-42663355dce0\",\"tags\":[],\"doc\":null}},{\"id\":\"5009ef23-82c9-4a61-ca83-74682f17fda2\",\"type\":\"DataRange1d\",\"attributes\":{\"sources\":[{\"columns\":[\"y\"],\"source\":{\"type\":\"ColumnDataSource\",\"id\":\"598729a1-0cf7-497a-c946-bb2b6c2bb0b4\"}},{\"columns\":[\"y\"],\"source\":{\"type\":\"ColumnDataSource\",\"id\":\"90ac4a97-417d-4903-c98b-ed9a675d4918\"}}],\"id\":\"5009ef23-82c9-4a61-ca83-74682f17fda2\",\"tags\":[],\"doc\":null}},{\"id\":\"cb31dc76-94d6-465b-c6f7-be2f9280a00e\",\"type\":\"ToolEvents\",\"attributes\":{\"tags\":[],\"id\":\"cb31dc76-94d6-465b-c6f7-be2f9280a00e\",\"geometries\":[],\"doc\":null}},{\"id\":\"2ce6d563-645b-437e-c3e5-955c0880629e\",\"type\":\"BasicTickFormatter\",\"attributes\":{\"id\":\"2ce6d563-645b-437e-c3e5-955c0880629e\",\"tags\":[],\"doc\":null}},{\"id\":\"ae9bdc2a-8636-481f-c89f-c93e65dd2be2\",\"type\":\"BasicTicker\",\"attributes\":{\"num_minor_ticks\":5,\"id\":\"ae9bdc2a-8636-481f-c89f-c93e65dd2be2\",\"tags\":[],\"doc\":null}},{\"id\":\"6ea307e2-93aa-4cdd-cc53-0fe234bdd645\",\"type\":\"LinearAxis\",\"attributes\":{\"formatter\":{\"type\":\"BasicTickFormatter\",\"id\":\"2ce6d563-645b-437e-c3e5-955c0880629e\"},\"ticker\":{\"type\":\"BasicTicker\",\"id\":\"ae9bdc2a-8636-481f-c89f-c93e65dd2be2\"},\"plot\":{\"id\":\"fb8d1727-b786-45ce-c531-9c54b5609220\",\"type\":\"Plot\",\"subtype\":\"Figure\"},\"axis_label\":null,\"id\":\"6ea307e2-93aa-4cdd-cc53-0fe234bdd645\",\"doc\":null,\"tags\":[]}},{\"id\":\"16ca4d4e-69df-4fa1-cf2a-9b4b1287e209\",\"type\":\"Grid\",\"attributes\":{\"dimension\":0,\"plot\":{\"id\":\"fb8d1727-b786-45ce-c531-9c54b5609220\",\"type\":\"Plot\",\"subtype\":\"Figure\"},\"ticker\":{\"type\":\"BasicTicker\",\"id\":\"ae9bdc2a-8636-481f-c89f-c93e65dd2be2\"},\"id\":\"16ca4d4e-69df-4fa1-cf2a-9b4b1287e209\",\"doc\":null,\"tags\":[]}},{\"id\":\"bc15cc70-ce9e-41f7-c15e-cf43818825f6\",\"type\":\"BasicTickFormatter\",\"attributes\":{\"id\":\"bc15cc70-ce9e-41f7-c15e-cf43818825f6\",\"tags\":[],\"doc\":null}},{\"id\":\"f58a716c-0919-4ed1-ce81-4532f5591c71\",\"type\":\"BasicTicker\",\"attributes\":{\"num_minor_ticks\":5,\"id\":\"f58a716c-0919-4ed1-ce81-4532f5591c71\",\"tags\":[],\"doc\":null}},{\"id\":\"7d0e3034-00f9-433f-c303-8ee9f15f43eb\",\"type\":\"LinearAxis\",\"attributes\":{\"formatter\":{\"type\":\"BasicTickFormatter\",\"id\":\"bc15cc70-ce9e-41f7-c15e-cf43818825f6\"},\"ticker\":{\"type\":\"BasicTicker\",\"id\":\"f58a716c-0919-4ed1-ce81-4532f5591c71\"},\"plot\":{\"id\":\"fb8d1727-b786-45ce-c531-9c54b5609220\",\"type\":\"Plot\",\"subtype\":\"Figure\"},\"axis_label\":null,\"id\":\"7d0e3034-00f9-433f-c303-8ee9f15f43eb\",\"doc\":null,\"tags\":[]}},{\"id\":\"3f6751a2-733b-4934-c931-1d1d86374e94\",\"type\":\"Grid\",\"attributes\":{\"dimension\":1,\"plot\":{\"id\":\"fb8d1727-b786-45ce-c531-9c54b5609220\",\"type\":\"Plot\",\"subtype\":\"Figure\"},\"ticker\":{\"type\":\"BasicTicker\",\"id\":\"f58a716c-0919-4ed1-ce81-4532f5591c71\"},\"id\":\"3f6751a2-733b-4934-c931-1d1d86374e94\",\"doc\":null,\"tags\":[]}},{\"id\":\"916b9db1-7745-489e-c89f-1f690cc20823\",\"type\":\"PanTool\",\"attributes\":{\"plot\":{\"id\":\"fb8d1727-b786-45ce-c531-9c54b5609220\",\"type\":\"Plot\",\"subtype\":\"Figure\"},\"dimensions\":[\"width\",\"height\"],\"id\":\"916b9db1-7745-489e-c89f-1f690cc20823\",\"doc\":null,\"tags\":[]}},{\"id\":\"1abaa17f-bd72-4876-c83c-1f031df8990d\",\"type\":\"WheelZoomTool\",\"attributes\":{\"plot\":{\"id\":\"fb8d1727-b786-45ce-c531-9c54b5609220\",\"type\":\"Plot\",\"subtype\":\"Figure\"},\"dimensions\":[\"width\",\"height\"],\"id\":\"1abaa17f-bd72-4876-c83c-1f031df8990d\",\"doc\":null,\"tags\":[]}},{\"id\":\"6b9474d1-8d60-4850-c806-e7a23f5fff7f\",\"type\":\"BoxZoomTool\",\"attributes\":{\"plot\":{\"id\":\"fb8d1727-b786-45ce-c531-9c54b5609220\",\"type\":\"Plot\",\"subtype\":\"Figure\"},\"id\":\"6b9474d1-8d60-4850-c806-e7a23f5fff7f\",\"tags\":[],\"doc\":null}},{\"id\":\"a49f8f88-172c-43fc-c36e-1e4be944b303\",\"type\":\"PreviewSaveTool\",\"attributes\":{\"plot\":{\"id\":\"fb8d1727-b786-45ce-c531-9c54b5609220\",\"type\":\"Plot\",\"subtype\":\"Figure\"},\"id\":\"a49f8f88-172c-43fc-c36e-1e4be944b303\",\"tags\":[],\"doc\":null}},{\"id\":\"4c92973d-d7fe-41e5-c1dd-b80d028b6905\",\"type\":\"ResizeTool\",\"attributes\":{\"plot\":{\"id\":\"fb8d1727-b786-45ce-c531-9c54b5609220\",\"type\":\"Plot\",\"subtype\":\"Figure\"},\"id\":\"4c92973d-d7fe-41e5-c1dd-b80d028b6905\",\"tags\":[],\"doc\":null}},{\"id\":\"c1b533d8-3c18-4cdd-cc47-403647fe1018\",\"type\":\"ResetTool\",\"attributes\":{\"plot\":{\"id\":\"fb8d1727-b786-45ce-c531-9c54b5609220\",\"type\":\"Plot\",\"subtype\":\"Figure\"},\"id\":\"c1b533d8-3c18-4cdd-cc47-403647fe1018\",\"tags\":[],\"doc\":null}},{\"id\":\"fb8d1727-b786-45ce-c531-9c54b5609220\",\"type\":\"Plot\",\"attributes\":{\"x_range\":{\"type\":\"DataRange1d\",\"id\":\"dbcc3eaa-b727-47b6-c720-42663355dce0\"},\"tool_events\":{\"type\":\"ToolEvents\",\"id\":\"cb31dc76-94d6-465b-c6f7-be2f9280a00e\"},\"below\":[{\"type\":\"LinearAxis\",\"id\":\"6ea307e2-93aa-4cdd-cc53-0fe234bdd645\"}],\"renderers\":[{\"type\":\"GlyphRenderer\",\"id\":\"b8bff12f-b404-43d6-c3ca-4404aedee39e\"},{\"type\":\"GlyphRenderer\",\"id\":\"dfc5d210-21c2-4941-c9e8-e315d3e43f11\"},{\"type\":\"LinearAxis\",\"id\":\"6ea307e2-93aa-4cdd-cc53-0fe234bdd645\"},{\"type\":\"Grid\",\"id\":\"16ca4d4e-69df-4fa1-cf2a-9b4b1287e209\"},{\"type\":\"LinearAxis\",\"id\":\"7d0e3034-00f9-433f-c303-8ee9f15f43eb\"},{\"type\":\"Grid\",\"id\":\"3f6751a2-733b-4934-c931-1d1d86374e94\"}],\"above\":[],\"tools\":[{\"type\":\"PanTool\",\"id\":\"916b9db1-7745-489e-c89f-1f690cc20823\"},{\"type\":\"WheelZoomTool\",\"id\":\"1abaa17f-bd72-4876-c83c-1f031df8990d\"},{\"type\":\"BoxZoomTool\",\"id\":\"6b9474d1-8d60-4850-c806-e7a23f5fff7f\"},{\"type\":\"PreviewSaveTool\",\"id\":\"a49f8f88-172c-43fc-c36e-1e4be944b303\"},{\"type\":\"ResizeTool\",\"id\":\"4c92973d-d7fe-41e5-c1dd-b80d028b6905\"},{\"type\":\"ResetTool\",\"id\":\"c1b533d8-3c18-4cdd-cc47-403647fe1018\"}],\"doc\":null,\"right\":[],\"title\":\"Untitled Plot\",\"extra_x_ranges\":{},\"left\":[{\"type\":\"LinearAxis\",\"id\":\"7d0e3034-00f9-433f-c303-8ee9f15f43eb\"}],\"y_range\":{\"type\":\"DataRange1d\",\"id\":\"5009ef23-82c9-4a61-ca83-74682f17fda2\"},\"id\":\"fb8d1727-b786-45ce-c531-9c54b5609220\",\"extra_y_ranges\":{},\"tags\":[]}}];\n",
       "  Bokeh.load_models(all_models);\n",
       "  var model = Bokeh.Collections(modeltype).get(modelid);\n",
       "  $(\"#f7004df0-ddf7-4d03-cdb8-4fa1de6e3bcf\").html(''); // clear any previous plot in window_id\n",
       "  var view = new model.default_view({model: model, el: \"#f7004df0-ddf7-4d03-cdb8-4fa1de6e3bcf\"});\n",
       "    } else {\n",
       "  load_lib(bokehjs_url, function() {\n",
       "      console.log(\"Bokeh: BokehJS plotting callback run at\", new Date())\n",
       "      var modelid = \"fb8d1727-b786-45ce-c531-9c54b5609220\";\n",
       "      var modeltype = \"Plot\";\n",
       "      var all_models = [{\"id\":\"598729a1-0cf7-497a-c946-bb2b6c2bb0b4\",\"type\":\"ColumnDataSource\",\"attributes\":{\"data\":{\"y\":[2893.9736033082,3068.3551430665,2428.8043917306,2580.1108606011,2222.5398934446,2438.4062399752,2526.2124269046,1928.0445943922,2514.4788808133,2593.9692651387,2080.9474143237,2118.1662812419,1524.7856178842,1580.8326801322,1617.1798812225,1970.2916713841,1862.8629602827,1760.1258771271,1707.4978129137,1133.6447450798,976.24329219945,1773.5510727074,1045.5844138712,850.89755456336,1409.0830481146,583.81344925053,937.5091187153,628.85609857365,895.32872697711,1317.0919770841,743.85330310464,1105.9156385958,713.50980609283,822.21305481531,424.96658619493,629.79828170873,510.93414542824,505.33144842461,801.86011963896,633.56297570281,925.09371227957,394.90863819234,1027.2289338764,205.07231137156,814.01424375363,452.96518358774,85.797463931143,44.490050334483,249.48528252915,348.05635549128,478.22248127684,532.0847097747,977.9448189456,683.44834603742,734.59104597569,576.19167553633,395.53417300433,453.58463212475,676.59504594654,540.87726739235,1038.5394878257,306.97689173371,741.63299729675,980.64074572548,559.54437926412,1143.1663575992,438.77641054429,812.44713461585,1108.3574616015,802.12062746286,1192.9060310442,1245.8346461095,1497.7912568916,715.96707368642,1424.7301230207,809.36027227342,1611.0359210949,944.85469000973,1683.168105999,978.73472454958,1527.0884457175,2008.0799346566,1707.8670345582,1729.8163196947,1637.950449856,2135.8498743773,2333.8820813745,2119.6766582839,1682.2182175741,1692.704375973,2278.9509053286,1853.6172870416,2249.0438891817,2932.3372999337,2337.0705238543,2531.7835724764,2685.5403366182,2869.8091877121,2797.8196951319,2732.5572266709],\"x\":[-47.349930658005,-46.604234321974,-29.305925386027,-33.976788361557,-30.387034476735,-37.955854461528,-30.81928403303,-35.385500675067,-39.966158572584,-34.789047120139,-33.486775561236,-29.080546765588,-20.378227339126,-30.819621709175,-18.751381114125,-15.262743482366,-13.578915835358,-20.139337301254,-14.924013497308,-22.795036812313,-10.791448607109,-11.229828239419,-19.626831769012,-13.795738866553,-23.968760366552,-9.0484726391733,-9.5699297282845,-10.988421689719,-12.579646724276,-2.1577334217727,-2.4733617631719,-10.357285306789,1.6020815465599,-0.016335876658559,1.7295683454722,-9.0414553983137,-3.1554643921554,-10.892873707227,-0.97847224585712,-0.13966286554933,-4.2366507332772,5.2935744803399,4.9699348276481,-0.50311210006475,4.7485939366743,3.9904089216143,16.400620609522,13.944757820107,15.300917784683,13.879762780853,3.248822748661,14.217454542406,9.0429517226294,9.4479160020128,10.356786795892,23.425943207927,21.623711789027,8.9524152381346,11.390873017721,15.475862193853,14.918921942823,13.226013628766,28.830329842865,18.047446027398,23.393696397543,16.961556304246,24.246999666095,25.584715122357,21.148490347899,23.25698081404,37.446296898648,39.813747948967,23.215840158053,25.613477231003,43.421714529395,29.891490404494,37.71601009462,34.369424816221,29.697267078795,42.10780962836,37.921626580879,38.025783861987,51.00957751926,37.552645752206,50.387153835036,48.428553733043,46.537812178023,40.826281031594,45.006823638454,43.823475320823,47.894105686806,59.877353108488,54.423133402131,60.183991828002,51.611829083413,49.481650259346,63.093700253405,57.248527823947,58.094096841291,54.874244546518]},\"column_names\":[\"y\",\"x\"],\"cont_ranges\":{},\"discrete_ranges\":{},\"selected\":[],\"id\":\"598729a1-0cf7-497a-c946-bb2b6c2bb0b4\",\"doc\":null,\"tags\":[]}},{\"id\":\"294bc1d6-012f-4c1b-ccc7-8ff65da8cfb9\",\"type\":\"Circle\",\"attributes\":{\"fill_alpha\":{\"units\":\"data\",\"value\":0.2},\"line_alpha\":{\"units\":\"data\",\"value\":1},\"doc\":null,\"size\":{\"units\":\"screen\",\"value\":10},\"fill_color\":{\"value\":\"red\"},\"line_color\":{\"value\":\"red\"},\"x\":{\"units\":\"data\",\"field\":\"x\"},\"id\":\"294bc1d6-012f-4c1b-ccc7-8ff65da8cfb9\",\"y\":{\"units\":\"data\",\"field\":\"y\"},\"tags\":[]}},{\"id\":\"8065d0d8-e099-4afe-ca1c-cd2fa32b7fc2\",\"type\":\"Circle\",\"attributes\":{\"fill_alpha\":{\"units\":\"data\",\"value\":0.2},\"line_alpha\":{\"units\":\"data\",\"value\":1},\"doc\":null,\"size\":{\"units\":\"screen\",\"value\":10},\"fill_color\":{\"value\":\"red\"},\"line_color\":{\"value\":\"red\"},\"x\":{\"units\":\"data\",\"field\":\"x\"},\"id\":\"8065d0d8-e099-4afe-ca1c-cd2fa32b7fc2\",\"y\":{\"units\":\"data\",\"field\":\"y\"},\"tags\":[]}},{\"id\":\"b8bff12f-b404-43d6-c3ca-4404aedee39e\",\"type\":\"GlyphRenderer\",\"attributes\":{\"name\":null,\"nonselection_glyph\":{\"type\":\"Circle\",\"id\":\"8065d0d8-e099-4afe-ca1c-cd2fa32b7fc2\"},\"doc\":null,\"server_data_source\":null,\"data_source\":{\"type\":\"ColumnDataSource\",\"id\":\"598729a1-0cf7-497a-c946-bb2b6c2bb0b4\"},\"glyph\":{\"type\":\"Circle\",\"id\":\"294bc1d6-012f-4c1b-ccc7-8ff65da8cfb9\"},\"selection_glyph\":null,\"id\":\"b8bff12f-b404-43d6-c3ca-4404aedee39e\",\"tags\":[]}},{\"id\":\"90ac4a97-417d-4903-c98b-ed9a675d4918\",\"type\":\"ColumnDataSource\",\"attributes\":{\"data\":{\"y\":[1091.9736033082,1460.3551430665,1010.8043917306,1348.1108606011,1172.5398934446,1566.4062399752,1828.2124269046,1400.0445943922,2152.4788808133,2393.9692651387,2038.9474143237,2230.1662812419,1786.7856178842,1988.8326801322,2167.1798812225,2658.2916713841,2684.8629602827,2712.1258771271,2785.4978129137,2333.6447450798,2294.2432921994,3205.5510727074,2587.5844138712,2498.8975545634,3159.0830481146,2431.8134492505,2879.5091187153,2660.8560985737,3013.3287269771,3517.0919770841,3021.8533031046,3457.9156385958,3135.5098060928,3310.2130548153,2974.9665861949,3237.7982817087,3172.9341454282,3217.3314484246,3559.860119639,3433.5629757028,3763.0937122796,3266.9086381923,3929.2289338764,3133.0723113716,3764.0142437536,3420.9651835877,3067.7974639311,3036.4900503345,3247.4852825291,3348.0563554913,3476.2224812768,3524.0847097747,3959.9448189456,3651.4483460374,3684.5910459757,3504.1916755363,3297.5341730043,3325.5846321248,3514.5950459465,3340.8772673924,3796.5394878257,3018.9768917337,3403.6329972968,3588.6407457255,3109.5443792641,3631.1663575992,2860.7764105443,3164.4471346159,3386.3574616015,3002.1206274629,3310.9060310442,3277.8346461095,3439.7912568916,2563.9670736864,3174.7301230207,2457.3602722734,3153.0359210949,2376.8546900097,3001.168105999,2178.7347245496,2605.0884457175,2960.0799346566,2529.8670345582,2417.8163196947,2187.950449856,2543.8498743773,2595.8820813745,2231.6766582839,1640.2182175741,1492.704375973,1916.9509053286,1325.6172870416,1551.0438891817,2060.3372999337,1287.0705238543,1299.7835724764,1267.5403366182,1261.8091877121,995.81969513185,732.55722667091],\"x\":[4.8152255024761,0.13149467110634,-4.0124761061743,7.7447948381305,-3.8030736986548,13.477619801648,8.5572744607925,7.2313684802502,4.5253821471706,1.1441511986777,10.564312770963,7.1179106580094,13.092923911288,15.714601782151,19.671408943832,23.884741108865,15.112677792087,19.788282720372,17.284421083517,17.839404665865,25.725215923972,31.333622111008,28.670155384578,19.718438588083,23.226747782901,16.71103990078,18.775159817189,27.535403880291,24.057597663254,38.754854276776,21.782522256486,38.75179887563,40.232754379511,32.952202596702,41.780584580265,31.710887303576,28.536369170062,39.587017616257,47.466821620241,30.830170903355,46.875024958514,34.043650140986,49.0437584389,36.899490413256,48.853232981637,48.74152725935,41.287190609612,47.837626009248,58.957159725018,48.164168000221,52.408733767457,43.018073572777,46.234823923558,58.997256747447,49.797159610316,56.4721332388,50.616788084619,54.537879956886,65.505643725395,56.408844622783,66.154685429297,58.596725163981,64.348818829283,73.572609225288,64.165577851236,74.673529177904,60.28008774668,64.790053360164,75.626073168591,79.267488396727,74.414199175313,64.018526764587,65.489212248474,71.777777472511,68.243417507038,77.4496641187,85.779297936708,83.853507593274,86.177138184197,86.916232146323,82.516768038273,76.727438697591,77.871605411172,81.867703172378,89.115608427674,82.252157506533,89.929118140601,91.961746254936,80.861342885531,87.822100245394,97.765729603358,89.863772539422,94.171660525724,99.1401761733,96.913380073383,88.363158133812,90.461445155554,97.463851200417,97.665296556428,95.476782862097]},\"column_names\":[\"y\",\"x\"],\"cont_ranges\":{},\"discrete_ranges\":{},\"selected\":[],\"id\":\"90ac4a97-417d-4903-c98b-ed9a675d4918\",\"doc\":null,\"tags\":[]}},{\"id\":\"50ab886e-2ffc-4562-c531-022fe52b2fa8\",\"type\":\"Circle\",\"attributes\":{\"fill_alpha\":{\"units\":\"data\",\"value\":0.2},\"line_alpha\":{\"units\":\"data\",\"value\":1},\"doc\":null,\"size\":{\"units\":\"screen\",\"value\":10},\"fill_color\":{\"value\":\"green\"},\"line_color\":{\"value\":\"green\"},\"x\":{\"units\":\"data\",\"field\":\"x\"},\"id\":\"50ab886e-2ffc-4562-c531-022fe52b2fa8\",\"y\":{\"units\":\"data\",\"field\":\"y\"},\"tags\":[]}},{\"id\":\"22748664-18c5-491a-c983-aa6519a2cf3d\",\"type\":\"Circle\",\"attributes\":{\"fill_alpha\":{\"units\":\"data\",\"value\":0.2},\"line_alpha\":{\"units\":\"data\",\"value\":1},\"doc\":null,\"size\":{\"units\":\"screen\",\"value\":10},\"fill_color\":{\"value\":\"green\"},\"line_color\":{\"value\":\"green\"},\"x\":{\"units\":\"data\",\"field\":\"x\"},\"id\":\"22748664-18c5-491a-c983-aa6519a2cf3d\",\"y\":{\"units\":\"data\",\"field\":\"y\"},\"tags\":[]}},{\"id\":\"dfc5d210-21c2-4941-c9e8-e315d3e43f11\",\"type\":\"GlyphRenderer\",\"attributes\":{\"name\":null,\"nonselection_glyph\":{\"type\":\"Circle\",\"id\":\"22748664-18c5-491a-c983-aa6519a2cf3d\"},\"doc\":null,\"server_data_source\":null,\"data_source\":{\"type\":\"ColumnDataSource\",\"id\":\"90ac4a97-417d-4903-c98b-ed9a675d4918\"},\"glyph\":{\"type\":\"Circle\",\"id\":\"50ab886e-2ffc-4562-c531-022fe52b2fa8\"},\"selection_glyph\":null,\"id\":\"dfc5d210-21c2-4941-c9e8-e315d3e43f11\",\"tags\":[]}},{\"id\":\"dbcc3eaa-b727-47b6-c720-42663355dce0\",\"type\":\"DataRange1d\",\"attributes\":{\"sources\":[{\"columns\":[\"x\"],\"source\":{\"type\":\"ColumnDataSource\",\"id\":\"598729a1-0cf7-497a-c946-bb2b6c2bb0b4\"}},{\"columns\":[\"x\"],\"source\":{\"type\":\"ColumnDataSource\",\"id\":\"90ac4a97-417d-4903-c98b-ed9a675d4918\"}}],\"id\":\"dbcc3eaa-b727-47b6-c720-42663355dce0\",\"tags\":[],\"doc\":null}},{\"id\":\"5009ef23-82c9-4a61-ca83-74682f17fda2\",\"type\":\"DataRange1d\",\"attributes\":{\"sources\":[{\"columns\":[\"y\"],\"source\":{\"type\":\"ColumnDataSource\",\"id\":\"598729a1-0cf7-497a-c946-bb2b6c2bb0b4\"}},{\"columns\":[\"y\"],\"source\":{\"type\":\"ColumnDataSource\",\"id\":\"90ac4a97-417d-4903-c98b-ed9a675d4918\"}}],\"id\":\"5009ef23-82c9-4a61-ca83-74682f17fda2\",\"tags\":[],\"doc\":null}},{\"id\":\"cb31dc76-94d6-465b-c6f7-be2f9280a00e\",\"type\":\"ToolEvents\",\"attributes\":{\"tags\":[],\"id\":\"cb31dc76-94d6-465b-c6f7-be2f9280a00e\",\"geometries\":[],\"doc\":null}},{\"id\":\"2ce6d563-645b-437e-c3e5-955c0880629e\",\"type\":\"BasicTickFormatter\",\"attributes\":{\"id\":\"2ce6d563-645b-437e-c3e5-955c0880629e\",\"tags\":[],\"doc\":null}},{\"id\":\"ae9bdc2a-8636-481f-c89f-c93e65dd2be2\",\"type\":\"BasicTicker\",\"attributes\":{\"num_minor_ticks\":5,\"id\":\"ae9bdc2a-8636-481f-c89f-c93e65dd2be2\",\"tags\":[],\"doc\":null}},{\"id\":\"6ea307e2-93aa-4cdd-cc53-0fe234bdd645\",\"type\":\"LinearAxis\",\"attributes\":{\"formatter\":{\"type\":\"BasicTickFormatter\",\"id\":\"2ce6d563-645b-437e-c3e5-955c0880629e\"},\"ticker\":{\"type\":\"BasicTicker\",\"id\":\"ae9bdc2a-8636-481f-c89f-c93e65dd2be2\"},\"plot\":{\"id\":\"fb8d1727-b786-45ce-c531-9c54b5609220\",\"type\":\"Plot\",\"subtype\":\"Figure\"},\"axis_label\":null,\"id\":\"6ea307e2-93aa-4cdd-cc53-0fe234bdd645\",\"doc\":null,\"tags\":[]}},{\"id\":\"16ca4d4e-69df-4fa1-cf2a-9b4b1287e209\",\"type\":\"Grid\",\"attributes\":{\"dimension\":0,\"plot\":{\"id\":\"fb8d1727-b786-45ce-c531-9c54b5609220\",\"type\":\"Plot\",\"subtype\":\"Figure\"},\"ticker\":{\"type\":\"BasicTicker\",\"id\":\"ae9bdc2a-8636-481f-c89f-c93e65dd2be2\"},\"id\":\"16ca4d4e-69df-4fa1-cf2a-9b4b1287e209\",\"doc\":null,\"tags\":[]}},{\"id\":\"bc15cc70-ce9e-41f7-c15e-cf43818825f6\",\"type\":\"BasicTickFormatter\",\"attributes\":{\"id\":\"bc15cc70-ce9e-41f7-c15e-cf43818825f6\",\"tags\":[],\"doc\":null}},{\"id\":\"f58a716c-0919-4ed1-ce81-4532f5591c71\",\"type\":\"BasicTicker\",\"attributes\":{\"num_minor_ticks\":5,\"id\":\"f58a716c-0919-4ed1-ce81-4532f5591c71\",\"tags\":[],\"doc\":null}},{\"id\":\"7d0e3034-00f9-433f-c303-8ee9f15f43eb\",\"type\":\"LinearAxis\",\"attributes\":{\"formatter\":{\"type\":\"BasicTickFormatter\",\"id\":\"bc15cc70-ce9e-41f7-c15e-cf43818825f6\"},\"ticker\":{\"type\":\"BasicTicker\",\"id\":\"f58a716c-0919-4ed1-ce81-4532f5591c71\"},\"plot\":{\"id\":\"fb8d1727-b786-45ce-c531-9c54b5609220\",\"type\":\"Plot\",\"subtype\":\"Figure\"},\"axis_label\":null,\"id\":\"7d0e3034-00f9-433f-c303-8ee9f15f43eb\",\"doc\":null,\"tags\":[]}},{\"id\":\"3f6751a2-733b-4934-c931-1d1d86374e94\",\"type\":\"Grid\",\"attributes\":{\"dimension\":1,\"plot\":{\"id\":\"fb8d1727-b786-45ce-c531-9c54b5609220\",\"type\":\"Plot\",\"subtype\":\"Figure\"},\"ticker\":{\"type\":\"BasicTicker\",\"id\":\"f58a716c-0919-4ed1-ce81-4532f5591c71\"},\"id\":\"3f6751a2-733b-4934-c931-1d1d86374e94\",\"doc\":null,\"tags\":[]}},{\"id\":\"916b9db1-7745-489e-c89f-1f690cc20823\",\"type\":\"PanTool\",\"attributes\":{\"plot\":{\"id\":\"fb8d1727-b786-45ce-c531-9c54b5609220\",\"type\":\"Plot\",\"subtype\":\"Figure\"},\"dimensions\":[\"width\",\"height\"],\"id\":\"916b9db1-7745-489e-c89f-1f690cc20823\",\"doc\":null,\"tags\":[]}},{\"id\":\"1abaa17f-bd72-4876-c83c-1f031df8990d\",\"type\":\"WheelZoomTool\",\"attributes\":{\"plot\":{\"id\":\"fb8d1727-b786-45ce-c531-9c54b5609220\",\"type\":\"Plot\",\"subtype\":\"Figure\"},\"dimensions\":[\"width\",\"height\"],\"id\":\"1abaa17f-bd72-4876-c83c-1f031df8990d\",\"doc\":null,\"tags\":[]}},{\"id\":\"6b9474d1-8d60-4850-c806-e7a23f5fff7f\",\"type\":\"BoxZoomTool\",\"attributes\":{\"plot\":{\"id\":\"fb8d1727-b786-45ce-c531-9c54b5609220\",\"type\":\"Plot\",\"subtype\":\"Figure\"},\"id\":\"6b9474d1-8d60-4850-c806-e7a23f5fff7f\",\"tags\":[],\"doc\":null}},{\"id\":\"a49f8f88-172c-43fc-c36e-1e4be944b303\",\"type\":\"PreviewSaveTool\",\"attributes\":{\"plot\":{\"id\":\"fb8d1727-b786-45ce-c531-9c54b5609220\",\"type\":\"Plot\",\"subtype\":\"Figure\"},\"id\":\"a49f8f88-172c-43fc-c36e-1e4be944b303\",\"tags\":[],\"doc\":null}},{\"id\":\"4c92973d-d7fe-41e5-c1dd-b80d028b6905\",\"type\":\"ResizeTool\",\"attributes\":{\"plot\":{\"id\":\"fb8d1727-b786-45ce-c531-9c54b5609220\",\"type\":\"Plot\",\"subtype\":\"Figure\"},\"id\":\"4c92973d-d7fe-41e5-c1dd-b80d028b6905\",\"tags\":[],\"doc\":null}},{\"id\":\"c1b533d8-3c18-4cdd-cc47-403647fe1018\",\"type\":\"ResetTool\",\"attributes\":{\"plot\":{\"id\":\"fb8d1727-b786-45ce-c531-9c54b5609220\",\"type\":\"Plot\",\"subtype\":\"Figure\"},\"id\":\"c1b533d8-3c18-4cdd-cc47-403647fe1018\",\"tags\":[],\"doc\":null}},{\"id\":\"fb8d1727-b786-45ce-c531-9c54b5609220\",\"type\":\"Plot\",\"attributes\":{\"x_range\":{\"type\":\"DataRange1d\",\"id\":\"dbcc3eaa-b727-47b6-c720-42663355dce0\"},\"tool_events\":{\"type\":\"ToolEvents\",\"id\":\"cb31dc76-94d6-465b-c6f7-be2f9280a00e\"},\"below\":[{\"type\":\"LinearAxis\",\"id\":\"6ea307e2-93aa-4cdd-cc53-0fe234bdd645\"}],\"renderers\":[{\"type\":\"GlyphRenderer\",\"id\":\"b8bff12f-b404-43d6-c3ca-4404aedee39e\"},{\"type\":\"GlyphRenderer\",\"id\":\"dfc5d210-21c2-4941-c9e8-e315d3e43f11\"},{\"type\":\"LinearAxis\",\"id\":\"6ea307e2-93aa-4cdd-cc53-0fe234bdd645\"},{\"type\":\"Grid\",\"id\":\"16ca4d4e-69df-4fa1-cf2a-9b4b1287e209\"},{\"type\":\"LinearAxis\",\"id\":\"7d0e3034-00f9-433f-c303-8ee9f15f43eb\"},{\"type\":\"Grid\",\"id\":\"3f6751a2-733b-4934-c931-1d1d86374e94\"}],\"above\":[],\"tools\":[{\"type\":\"PanTool\",\"id\":\"916b9db1-7745-489e-c89f-1f690cc20823\"},{\"type\":\"WheelZoomTool\",\"id\":\"1abaa17f-bd72-4876-c83c-1f031df8990d\"},{\"type\":\"BoxZoomTool\",\"id\":\"6b9474d1-8d60-4850-c806-e7a23f5fff7f\"},{\"type\":\"PreviewSaveTool\",\"id\":\"a49f8f88-172c-43fc-c36e-1e4be944b303\"},{\"type\":\"ResizeTool\",\"id\":\"4c92973d-d7fe-41e5-c1dd-b80d028b6905\"},{\"type\":\"ResetTool\",\"id\":\"c1b533d8-3c18-4cdd-cc47-403647fe1018\"}],\"doc\":null,\"right\":[],\"title\":\"Untitled Plot\",\"extra_x_ranges\":{},\"left\":[{\"type\":\"LinearAxis\",\"id\":\"7d0e3034-00f9-433f-c303-8ee9f15f43eb\"}],\"y_range\":{\"type\":\"DataRange1d\",\"id\":\"5009ef23-82c9-4a61-ca83-74682f17fda2\"},\"id\":\"fb8d1727-b786-45ce-c531-9c54b5609220\",\"extra_y_ranges\":{},\"tags\":[]}}];\n",
       "      Bokeh.load_models(all_models);\n",
       "      var model = Bokeh.Collections(modeltype).get(modelid);\n",
       "      $(\"#f7004df0-ddf7-4d03-cdb8-4fa1de6e3bcf\").html(''); // clear any previous plot in window_id\n",
       "      var view = new model.default_view({model: model, el: \"#f7004df0-ddf7-4d03-cdb8-4fa1de6e3bcf\"});\n",
       "  });\n",
       "    }\n",
       "});\n",
       "</script>\n",
       "<div class=\"plotdiv\" id=\"f7004df0-ddf7-4d03-cdb8-4fa1de6e3bcf\"></div>\n"
      ]
     },
     "metadata": {},
     "output_type": "display_data"
    },
    {
     "data": {
      "text/html": [
       "<script type=\"text/javascript\">\n",
       "$(function() {\n",
       "    if (typeof (window._bokeh_onload_callbacks) === \"undefined\"){\n",
       "  window._bokeh_onload_callbacks = [];\n",
       "    }\n",
       "    function load_lib(url, callback){\n",
       "  window._bokeh_onload_callbacks.push(callback);\n",
       "  if (window._bokeh_is_loading){\n",
       "      console.log(\"Bokeh: BokehJS is being loaded, scheduling callback at\", new Date());\n",
       "      return null;\n",
       "  }\n",
       "  console.log(\"Bokeh: BokehJS not loaded, scheduling load and callback at\", new Date());\n",
       "  window._bokeh_is_loading = true;\n",
       "  var s = document.createElement('script');\n",
       "  s.src = url;\n",
       "  s.async = true;\n",
       "  s.onreadystatechange = s.onload = function(){\n",
       "      Bokeh.embed.inject_css(\"https://cdn.pydata.org/bokeh-0.7.0.min.css\");\n",
       "      window._bokeh_onload_callbacks.forEach(function(callback){callback()});\n",
       "  };\n",
       "  s.onerror = function(){\n",
       "      console.warn(\"failed to load library \" + url);\n",
       "  };\n",
       "  document.getElementsByTagName(\"head\")[0].appendChild(s);\n",
       "    }\n",
       "\n",
       "    bokehjs_url = \"https://cdn.pydata.org/bokeh-0.7.0.min.js\"\n",
       "\n",
       "    var elt = document.getElementById(\"f7004df0-ddf7-4d03-cdb8-4fa1de6e3bcf\");\n",
       "    if(elt==null) {\n",
       "  console.log(\"Bokeh: ERROR: autoload.js configured with elementid 'f7004df0-ddf7-4d03-cdb8-4fa1de6e3bcf'\"\n",
       "        + \"but no matching script tag was found. \")\n",
       "  return false;\n",
       "    }\n",
       "\n",
       "    if(typeof(Bokeh) !== \"undefined\") {\n",
       "  console.log(\"Bokeh: BokehJS loaded, going straight to plotting\");\n",
       "  var modelid = \"3341b4ae-cbb7-4b06-cb09-af6b68284b67\";\n",
       "  var modeltype = \"Plot\";\n",
       "  var all_models = [{\"id\":\"4790005a-184c-44cd-c430-d44d8e4487c9\",\"type\":\"ColumnDataSource\",\"attributes\":{\"data\":{\"y\":[2893.9736033082,3068.3551430665,2428.8043917306,2580.1108606011,2222.5398934446,2438.4062399752,2526.2124269046,1928.0445943922,2514.4788808133,2593.9692651387,2080.9474143237,2118.1662812419,1524.7856178842,1580.8326801322,1617.1798812225,1970.2916713841,1862.8629602827,1760.1258771271,1707.4978129137,1133.6447450798,976.24329219945,1773.5510727074,1045.5844138712,850.89755456336,1409.0830481146,583.81344925053,937.5091187153,628.85609857365,895.32872697711,1317.0919770841,743.85330310464,1105.9156385958,713.50980609283,822.21305481531,424.96658619493,629.79828170873,510.93414542824,505.33144842461,801.86011963896,633.56297570281,925.09371227957,394.90863819234,1027.2289338764,205.07231137156,814.01424375363,452.96518358774,85.797463931143,44.490050334483,249.48528252915,348.05635549128,478.22248127684,532.0847097747,977.9448189456,683.44834603742,734.59104597569,576.19167553633,395.53417300433,453.58463212475,676.59504594654,540.87726739235,1038.5394878257,306.97689173371,741.63299729675,980.64074572548,559.54437926412,1143.1663575992,438.77641054429,812.44713461585,1108.3574616015,802.12062746286,1192.9060310442,1245.8346461095,1497.7912568916,715.96707368642,1424.7301230207,809.36027227342,1611.0359210949,944.85469000973,1683.168105999,978.73472454958,1527.0884457175,2008.0799346566,1707.8670345582,1729.8163196947,1637.950449856,2135.8498743773,2333.8820813745,2119.6766582839,1682.2182175741,1692.704375973,2278.9509053286,1853.6172870416,2249.0438891817,2932.3372999337,2337.0705238543,2531.7835724764,2685.5403366182,2869.8091877121,2797.8196951319,2732.5572266709],\"x\":[-47.349930658005,-46.604234321974,-29.305925386027,-33.976788361557,-30.387034476735,-37.955854461528,-30.81928403303,-35.385500675067,-39.966158572584,-34.789047120139,-33.486775561236,-29.080546765588,-20.378227339126,-30.819621709175,-18.751381114125,-15.262743482366,-13.578915835358,-20.139337301254,-14.924013497308,-22.795036812313,-10.791448607109,-11.229828239419,-19.626831769012,-13.795738866553,-23.968760366552,-9.0484726391733,-9.5699297282845,-10.988421689719,-12.579646724276,-2.1577334217727,-2.4733617631719,-10.357285306789,1.6020815465599,-0.016335876658559,1.7295683454722,-9.0414553983137,-3.1554643921554,-10.892873707227,-0.97847224585712,-0.13966286554933,-4.2366507332772,5.2935744803399,4.9699348276481,-0.50311210006475,4.7485939366743,3.9904089216143,16.400620609522,13.944757820107,15.300917784683,13.879762780853,3.248822748661,14.217454542406,9.0429517226294,9.4479160020128,10.356786795892,23.425943207927,21.623711789027,8.9524152381346,11.390873017721,15.475862193853,14.918921942823,13.226013628766,28.830329842865,18.047446027398,23.393696397543,16.961556304246,24.246999666095,25.584715122357,21.148490347899,23.25698081404,37.446296898648,39.813747948967,23.215840158053,25.613477231003,43.421714529395,29.891490404494,37.71601009462,34.369424816221,29.697267078795,42.10780962836,37.921626580879,38.025783861987,51.00957751926,37.552645752206,50.387153835036,48.428553733043,46.537812178023,40.826281031594,45.006823638454,43.823475320823,47.894105686806,59.877353108488,54.423133402131,60.183991828002,51.611829083413,49.481650259346,63.093700253405,57.248527823947,58.094096841291,54.874244546518]},\"column_names\":[\"y\",\"x\"],\"cont_ranges\":{},\"discrete_ranges\":{},\"selected\":[],\"id\":\"4790005a-184c-44cd-c430-d44d8e4487c9\",\"doc\":null,\"tags\":[]}},{\"id\":\"851d1b8b-11ef-4d4f-cd56-15c4c5291a50\",\"type\":\"Circle\",\"attributes\":{\"fill_alpha\":{\"units\":\"data\",\"value\":0.2},\"line_alpha\":{\"units\":\"data\",\"value\":1},\"doc\":null,\"size\":{\"units\":\"screen\",\"value\":10},\"fill_color\":{\"value\":\"red\"},\"line_color\":{\"value\":\"red\"},\"x\":{\"units\":\"data\",\"field\":\"x\"},\"id\":\"851d1b8b-11ef-4d4f-cd56-15c4c5291a50\",\"y\":{\"units\":\"data\",\"field\":\"y\"},\"tags\":[]}},{\"id\":\"edb83bf6-05e3-44b6-c4a2-4de8e78dc2eb\",\"type\":\"Circle\",\"attributes\":{\"fill_alpha\":{\"units\":\"data\",\"value\":0.2},\"line_alpha\":{\"units\":\"data\",\"value\":1},\"doc\":null,\"size\":{\"units\":\"screen\",\"value\":10},\"fill_color\":{\"value\":\"red\"},\"line_color\":{\"value\":\"red\"},\"x\":{\"units\":\"data\",\"field\":\"x\"},\"id\":\"edb83bf6-05e3-44b6-c4a2-4de8e78dc2eb\",\"y\":{\"units\":\"data\",\"field\":\"y\"},\"tags\":[]}},{\"id\":\"9ad64c8d-0dc1-490d-c9da-0dd82bac1e91\",\"type\":\"GlyphRenderer\",\"attributes\":{\"name\":null,\"nonselection_glyph\":{\"type\":\"Circle\",\"id\":\"edb83bf6-05e3-44b6-c4a2-4de8e78dc2eb\"},\"doc\":null,\"server_data_source\":null,\"data_source\":{\"type\":\"ColumnDataSource\",\"id\":\"4790005a-184c-44cd-c430-d44d8e4487c9\"},\"glyph\":{\"type\":\"Circle\",\"id\":\"851d1b8b-11ef-4d4f-cd56-15c4c5291a50\"},\"selection_glyph\":null,\"id\":\"9ad64c8d-0dc1-490d-c9da-0dd82bac1e91\",\"tags\":[]}},{\"id\":\"88fe02b4-c305-4443-c4bc-51a48e8ab53c\",\"type\":\"ColumnDataSource\",\"attributes\":{\"data\":{\"y\":[1091.9736033082,1460.3551430665,1010.8043917306,1348.1108606011,1172.5398934446,1566.4062399752,1828.2124269046,1400.0445943922,2152.4788808133,2393.9692651387,2038.9474143237,2230.1662812419,1786.7856178842,1988.8326801322,2167.1798812225,2658.2916713841,2684.8629602827,2712.1258771271,2785.4978129137,2333.6447450798,2294.2432921994,3205.5510727074,2587.5844138712,2498.8975545634,3159.0830481146,2431.8134492505,2879.5091187153,2660.8560985737,3013.3287269771,3517.0919770841,3021.8533031046,3457.9156385958,3135.5098060928,3310.2130548153,2974.9665861949,3237.7982817087,3172.9341454282,3217.3314484246,3559.860119639,3433.5629757028,3763.0937122796,3266.9086381923,3929.2289338764,3133.0723113716,3764.0142437536,3420.9651835877,3067.7974639311,3036.4900503345,3247.4852825291,3348.0563554913,3476.2224812768,3524.0847097747,3959.9448189456,3651.4483460374,3684.5910459757,3504.1916755363,3297.5341730043,3325.5846321248,3514.5950459465,3340.8772673924,3796.5394878257,3018.9768917337,3403.6329972968,3588.6407457255,3109.5443792641,3631.1663575992,2860.7764105443,3164.4471346159,3386.3574616015,3002.1206274629,3310.9060310442,3277.8346461095,3439.7912568916,2563.9670736864,3174.7301230207,2457.3602722734,3153.0359210949,2376.8546900097,3001.168105999,2178.7347245496,2605.0884457175,2960.0799346566,2529.8670345582,2417.8163196947,2187.950449856,2543.8498743773,2595.8820813745,2231.6766582839,1640.2182175741,1492.704375973,1916.9509053286,1325.6172870416,1551.0438891817,2060.3372999337,1287.0705238543,1299.7835724764,1267.5403366182,1261.8091877121,995.81969513185,732.55722667091],\"x\":[4.8152255024761,0.13149467110634,-4.0124761061743,7.7447948381305,-3.8030736986548,13.477619801648,8.5572744607925,7.2313684802502,4.5253821471706,1.1441511986777,10.564312770963,7.1179106580094,13.092923911288,15.714601782151,19.671408943832,23.884741108865,15.112677792087,19.788282720372,17.284421083517,17.839404665865,25.725215923972,31.333622111008,28.670155384578,19.718438588083,23.226747782901,16.71103990078,18.775159817189,27.535403880291,24.057597663254,38.754854276776,21.782522256486,38.75179887563,40.232754379511,32.952202596702,41.780584580265,31.710887303576,28.536369170062,39.587017616257,47.466821620241,30.830170903355,46.875024958514,34.043650140986,49.0437584389,36.899490413256,48.853232981637,48.74152725935,41.287190609612,47.837626009248,58.957159725018,48.164168000221,52.408733767457,43.018073572777,46.234823923558,58.997256747447,49.797159610316,56.4721332388,50.616788084619,54.537879956886,65.505643725395,56.408844622783,66.154685429297,58.596725163981,64.348818829283,73.572609225288,64.165577851236,74.673529177904,60.28008774668,64.790053360164,75.626073168591,79.267488396727,74.414199175313,64.018526764587,65.489212248474,71.777777472511,68.243417507038,77.4496641187,85.779297936708,83.853507593274,86.177138184197,86.916232146323,82.516768038273,76.727438697591,77.871605411172,81.867703172378,89.115608427674,82.252157506533,89.929118140601,91.961746254936,80.861342885531,87.822100245394,97.765729603358,89.863772539422,94.171660525724,99.1401761733,96.913380073383,88.363158133812,90.461445155554,97.463851200417,97.665296556428,95.476782862097]},\"column_names\":[\"y\",\"x\"],\"cont_ranges\":{},\"discrete_ranges\":{},\"selected\":[],\"id\":\"88fe02b4-c305-4443-c4bc-51a48e8ab53c\",\"doc\":null,\"tags\":[]}},{\"id\":\"3de3aa81-2bc2-4514-c55b-552a597be5ee\",\"type\":\"Circle\",\"attributes\":{\"fill_alpha\":{\"units\":\"data\",\"value\":0.2},\"line_alpha\":{\"units\":\"data\",\"value\":1},\"doc\":null,\"size\":{\"units\":\"screen\",\"value\":10},\"fill_color\":{\"value\":\"green\"},\"line_color\":{\"value\":\"green\"},\"x\":{\"units\":\"data\",\"field\":\"x\"},\"id\":\"3de3aa81-2bc2-4514-c55b-552a597be5ee\",\"y\":{\"units\":\"data\",\"field\":\"y\"},\"tags\":[]}},{\"id\":\"30478146-1415-43bc-c354-2f11b7f63741\",\"type\":\"Circle\",\"attributes\":{\"fill_alpha\":{\"units\":\"data\",\"value\":0.2},\"line_alpha\":{\"units\":\"data\",\"value\":1},\"doc\":null,\"size\":{\"units\":\"screen\",\"value\":10},\"fill_color\":{\"value\":\"green\"},\"line_color\":{\"value\":\"green\"},\"x\":{\"units\":\"data\",\"field\":\"x\"},\"id\":\"30478146-1415-43bc-c354-2f11b7f63741\",\"y\":{\"units\":\"data\",\"field\":\"y\"},\"tags\":[]}},{\"id\":\"67fedde7-77f3-4be4-cbee-f8d7e302e1f3\",\"type\":\"GlyphRenderer\",\"attributes\":{\"name\":null,\"nonselection_glyph\":{\"type\":\"Circle\",\"id\":\"30478146-1415-43bc-c354-2f11b7f63741\"},\"doc\":null,\"server_data_source\":null,\"data_source\":{\"type\":\"ColumnDataSource\",\"id\":\"88fe02b4-c305-4443-c4bc-51a48e8ab53c\"},\"glyph\":{\"type\":\"Circle\",\"id\":\"3de3aa81-2bc2-4514-c55b-552a597be5ee\"},\"selection_glyph\":null,\"id\":\"67fedde7-77f3-4be4-cbee-f8d7e302e1f3\",\"tags\":[]}},{\"id\":\"bf1c741c-5060-4927-c9b9-07391de6e8a4\",\"type\":\"DataRange1d\",\"attributes\":{\"sources\":[{\"columns\":[\"x\"],\"source\":{\"type\":\"ColumnDataSource\",\"id\":\"4790005a-184c-44cd-c430-d44d8e4487c9\"}},{\"columns\":[\"x\"],\"source\":{\"type\":\"ColumnDataSource\",\"id\":\"88fe02b4-c305-4443-c4bc-51a48e8ab53c\"}}],\"id\":\"bf1c741c-5060-4927-c9b9-07391de6e8a4\",\"tags\":[],\"doc\":null}},{\"id\":\"e4375cef-c895-46d0-c6a9-fab205519e72\",\"type\":\"DataRange1d\",\"attributes\":{\"sources\":[{\"columns\":[\"y\"],\"source\":{\"type\":\"ColumnDataSource\",\"id\":\"4790005a-184c-44cd-c430-d44d8e4487c9\"}},{\"columns\":[\"y\"],\"source\":{\"type\":\"ColumnDataSource\",\"id\":\"88fe02b4-c305-4443-c4bc-51a48e8ab53c\"}}],\"id\":\"e4375cef-c895-46d0-c6a9-fab205519e72\",\"tags\":[],\"doc\":null}},{\"id\":\"648b2e60-e405-4c40-cc5b-fff61141078a\",\"type\":\"ToolEvents\",\"attributes\":{\"tags\":[],\"id\":\"648b2e60-e405-4c40-cc5b-fff61141078a\",\"geometries\":[],\"doc\":null}},{\"id\":\"489e075e-014c-4ef5-ce93-ac111bcdfad3\",\"type\":\"BasicTickFormatter\",\"attributes\":{\"id\":\"489e075e-014c-4ef5-ce93-ac111bcdfad3\",\"tags\":[],\"doc\":null}},{\"id\":\"4323d333-fe4b-47ae-c720-624cf01f3eae\",\"type\":\"BasicTicker\",\"attributes\":{\"num_minor_ticks\":5,\"id\":\"4323d333-fe4b-47ae-c720-624cf01f3eae\",\"tags\":[],\"doc\":null}},{\"id\":\"1aa638fb-0aeb-4e45-cebe-45eea8d8a6e4\",\"type\":\"LinearAxis\",\"attributes\":{\"formatter\":{\"type\":\"BasicTickFormatter\",\"id\":\"489e075e-014c-4ef5-ce93-ac111bcdfad3\"},\"ticker\":{\"type\":\"BasicTicker\",\"id\":\"4323d333-fe4b-47ae-c720-624cf01f3eae\"},\"plot\":{\"id\":\"3341b4ae-cbb7-4b06-cb09-af6b68284b67\",\"type\":\"Plot\",\"subtype\":\"Figure\"},\"axis_label\":null,\"id\":\"1aa638fb-0aeb-4e45-cebe-45eea8d8a6e4\",\"doc\":null,\"tags\":[]}},{\"id\":\"a5b6de1d-d2b3-4e39-ce5e-d76a30234d47\",\"type\":\"Grid\",\"attributes\":{\"dimension\":0,\"plot\":{\"id\":\"3341b4ae-cbb7-4b06-cb09-af6b68284b67\",\"type\":\"Plot\",\"subtype\":\"Figure\"},\"ticker\":{\"type\":\"BasicTicker\",\"id\":\"4323d333-fe4b-47ae-c720-624cf01f3eae\"},\"id\":\"a5b6de1d-d2b3-4e39-ce5e-d76a30234d47\",\"doc\":null,\"tags\":[]}},{\"id\":\"d8769ff3-60c1-4be2-cbef-3376017c54e6\",\"type\":\"BasicTickFormatter\",\"attributes\":{\"id\":\"d8769ff3-60c1-4be2-cbef-3376017c54e6\",\"tags\":[],\"doc\":null}},{\"id\":\"5cff97a7-73c3-432a-c325-b8d3f3c8984a\",\"type\":\"BasicTicker\",\"attributes\":{\"num_minor_ticks\":5,\"id\":\"5cff97a7-73c3-432a-c325-b8d3f3c8984a\",\"tags\":[],\"doc\":null}},{\"id\":\"8fece7b3-34f4-4a7d-ca00-df339eec392a\",\"type\":\"LinearAxis\",\"attributes\":{\"formatter\":{\"type\":\"BasicTickFormatter\",\"id\":\"d8769ff3-60c1-4be2-cbef-3376017c54e6\"},\"ticker\":{\"type\":\"BasicTicker\",\"id\":\"5cff97a7-73c3-432a-c325-b8d3f3c8984a\"},\"plot\":{\"id\":\"3341b4ae-cbb7-4b06-cb09-af6b68284b67\",\"type\":\"Plot\",\"subtype\":\"Figure\"},\"axis_label\":null,\"id\":\"8fece7b3-34f4-4a7d-ca00-df339eec392a\",\"doc\":null,\"tags\":[]}},{\"id\":\"51b3bdeb-9054-46ac-c68b-ae4a6f851315\",\"type\":\"Grid\",\"attributes\":{\"dimension\":1,\"plot\":{\"id\":\"3341b4ae-cbb7-4b06-cb09-af6b68284b67\",\"type\":\"Plot\",\"subtype\":\"Figure\"},\"ticker\":{\"type\":\"BasicTicker\",\"id\":\"5cff97a7-73c3-432a-c325-b8d3f3c8984a\"},\"id\":\"51b3bdeb-9054-46ac-c68b-ae4a6f851315\",\"doc\":null,\"tags\":[]}},{\"id\":\"4e5f4750-9a88-4fca-cf9f-cd4ce3b7a203\",\"type\":\"PanTool\",\"attributes\":{\"plot\":{\"id\":\"3341b4ae-cbb7-4b06-cb09-af6b68284b67\",\"type\":\"Plot\",\"subtype\":\"Figure\"},\"dimensions\":[\"width\",\"height\"],\"id\":\"4e5f4750-9a88-4fca-cf9f-cd4ce3b7a203\",\"doc\":null,\"tags\":[]}},{\"id\":\"49fd7e0a-99e4-42c9-c230-569e198fd904\",\"type\":\"WheelZoomTool\",\"attributes\":{\"plot\":{\"id\":\"3341b4ae-cbb7-4b06-cb09-af6b68284b67\",\"type\":\"Plot\",\"subtype\":\"Figure\"},\"dimensions\":[\"width\",\"height\"],\"id\":\"49fd7e0a-99e4-42c9-c230-569e198fd904\",\"doc\":null,\"tags\":[]}},{\"id\":\"71c762a4-7339-4c46-cc34-a9cde1830045\",\"type\":\"BoxZoomTool\",\"attributes\":{\"plot\":{\"id\":\"3341b4ae-cbb7-4b06-cb09-af6b68284b67\",\"type\":\"Plot\",\"subtype\":\"Figure\"},\"id\":\"71c762a4-7339-4c46-cc34-a9cde1830045\",\"tags\":[],\"doc\":null}},{\"id\":\"c743e878-2950-4f7e-cfc8-7835840a558a\",\"type\":\"PreviewSaveTool\",\"attributes\":{\"plot\":{\"id\":\"3341b4ae-cbb7-4b06-cb09-af6b68284b67\",\"type\":\"Plot\",\"subtype\":\"Figure\"},\"id\":\"c743e878-2950-4f7e-cfc8-7835840a558a\",\"tags\":[],\"doc\":null}},{\"id\":\"80916607-4ec3-4111-c1ce-45221464354c\",\"type\":\"ResizeTool\",\"attributes\":{\"plot\":{\"id\":\"3341b4ae-cbb7-4b06-cb09-af6b68284b67\",\"type\":\"Plot\",\"subtype\":\"Figure\"},\"id\":\"80916607-4ec3-4111-c1ce-45221464354c\",\"tags\":[],\"doc\":null}},{\"id\":\"38bd9b0b-8d2c-432c-c33c-6353b5ddd497\",\"type\":\"ResetTool\",\"attributes\":{\"plot\":{\"id\":\"3341b4ae-cbb7-4b06-cb09-af6b68284b67\",\"type\":\"Plot\",\"subtype\":\"Figure\"},\"id\":\"38bd9b0b-8d2c-432c-c33c-6353b5ddd497\",\"tags\":[],\"doc\":null}},{\"id\":\"3341b4ae-cbb7-4b06-cb09-af6b68284b67\",\"type\":\"Plot\",\"attributes\":{\"x_range\":{\"type\":\"DataRange1d\",\"id\":\"bf1c741c-5060-4927-c9b9-07391de6e8a4\"},\"tool_events\":{\"type\":\"ToolEvents\",\"id\":\"648b2e60-e405-4c40-cc5b-fff61141078a\"},\"below\":[{\"type\":\"LinearAxis\",\"id\":\"1aa638fb-0aeb-4e45-cebe-45eea8d8a6e4\"}],\"renderers\":[{\"type\":\"GlyphRenderer\",\"id\":\"9ad64c8d-0dc1-490d-c9da-0dd82bac1e91\"},{\"type\":\"GlyphRenderer\",\"id\":\"67fedde7-77f3-4be4-cbee-f8d7e302e1f3\"},{\"type\":\"LinearAxis\",\"id\":\"1aa638fb-0aeb-4e45-cebe-45eea8d8a6e4\"},{\"type\":\"Grid\",\"id\":\"a5b6de1d-d2b3-4e39-ce5e-d76a30234d47\"},{\"type\":\"LinearAxis\",\"id\":\"8fece7b3-34f4-4a7d-ca00-df339eec392a\"},{\"type\":\"Grid\",\"id\":\"51b3bdeb-9054-46ac-c68b-ae4a6f851315\"}],\"above\":[],\"tools\":[{\"type\":\"PanTool\",\"id\":\"4e5f4750-9a88-4fca-cf9f-cd4ce3b7a203\"},{\"type\":\"WheelZoomTool\",\"id\":\"49fd7e0a-99e4-42c9-c230-569e198fd904\"},{\"type\":\"BoxZoomTool\",\"id\":\"71c762a4-7339-4c46-cc34-a9cde1830045\"},{\"type\":\"PreviewSaveTool\",\"id\":\"c743e878-2950-4f7e-cfc8-7835840a558a\"},{\"type\":\"ResizeTool\",\"id\":\"80916607-4ec3-4111-c1ce-45221464354c\"},{\"type\":\"ResetTool\",\"id\":\"38bd9b0b-8d2c-432c-c33c-6353b5ddd497\"}],\"doc\":null,\"right\":[],\"title\":\"Scatter Plot Demo\",\"extra_x_ranges\":{},\"left\":[{\"type\":\"LinearAxis\",\"id\":\"8fece7b3-34f4-4a7d-ca00-df339eec392a\"}],\"y_range\":{\"type\":\"DataRange1d\",\"id\":\"e4375cef-c895-46d0-c6a9-fab205519e72\"},\"id\":\"3341b4ae-cbb7-4b06-cb09-af6b68284b67\",\"extra_y_ranges\":{},\"tags\":[]}}];\n",
       "  Bokeh.load_models(all_models);\n",
       "  var model = Bokeh.Collections(modeltype).get(modelid);\n",
       "  $(\"#f7004df0-ddf7-4d03-cdb8-4fa1de6e3bcf\").html(''); // clear any previous plot in window_id\n",
       "  var view = new model.default_view({model: model, el: \"#f7004df0-ddf7-4d03-cdb8-4fa1de6e3bcf\"});\n",
       "    } else {\n",
       "  load_lib(bokehjs_url, function() {\n",
       "      console.log(\"Bokeh: BokehJS plotting callback run at\", new Date())\n",
       "      var modelid = \"3341b4ae-cbb7-4b06-cb09-af6b68284b67\";\n",
       "      var modeltype = \"Plot\";\n",
       "      var all_models = [{\"id\":\"4790005a-184c-44cd-c430-d44d8e4487c9\",\"type\":\"ColumnDataSource\",\"attributes\":{\"data\":{\"y\":[2893.9736033082,3068.3551430665,2428.8043917306,2580.1108606011,2222.5398934446,2438.4062399752,2526.2124269046,1928.0445943922,2514.4788808133,2593.9692651387,2080.9474143237,2118.1662812419,1524.7856178842,1580.8326801322,1617.1798812225,1970.2916713841,1862.8629602827,1760.1258771271,1707.4978129137,1133.6447450798,976.24329219945,1773.5510727074,1045.5844138712,850.89755456336,1409.0830481146,583.81344925053,937.5091187153,628.85609857365,895.32872697711,1317.0919770841,743.85330310464,1105.9156385958,713.50980609283,822.21305481531,424.96658619493,629.79828170873,510.93414542824,505.33144842461,801.86011963896,633.56297570281,925.09371227957,394.90863819234,1027.2289338764,205.07231137156,814.01424375363,452.96518358774,85.797463931143,44.490050334483,249.48528252915,348.05635549128,478.22248127684,532.0847097747,977.9448189456,683.44834603742,734.59104597569,576.19167553633,395.53417300433,453.58463212475,676.59504594654,540.87726739235,1038.5394878257,306.97689173371,741.63299729675,980.64074572548,559.54437926412,1143.1663575992,438.77641054429,812.44713461585,1108.3574616015,802.12062746286,1192.9060310442,1245.8346461095,1497.7912568916,715.96707368642,1424.7301230207,809.36027227342,1611.0359210949,944.85469000973,1683.168105999,978.73472454958,1527.0884457175,2008.0799346566,1707.8670345582,1729.8163196947,1637.950449856,2135.8498743773,2333.8820813745,2119.6766582839,1682.2182175741,1692.704375973,2278.9509053286,1853.6172870416,2249.0438891817,2932.3372999337,2337.0705238543,2531.7835724764,2685.5403366182,2869.8091877121,2797.8196951319,2732.5572266709],\"x\":[-47.349930658005,-46.604234321974,-29.305925386027,-33.976788361557,-30.387034476735,-37.955854461528,-30.81928403303,-35.385500675067,-39.966158572584,-34.789047120139,-33.486775561236,-29.080546765588,-20.378227339126,-30.819621709175,-18.751381114125,-15.262743482366,-13.578915835358,-20.139337301254,-14.924013497308,-22.795036812313,-10.791448607109,-11.229828239419,-19.626831769012,-13.795738866553,-23.968760366552,-9.0484726391733,-9.5699297282845,-10.988421689719,-12.579646724276,-2.1577334217727,-2.4733617631719,-10.357285306789,1.6020815465599,-0.016335876658559,1.7295683454722,-9.0414553983137,-3.1554643921554,-10.892873707227,-0.97847224585712,-0.13966286554933,-4.2366507332772,5.2935744803399,4.9699348276481,-0.50311210006475,4.7485939366743,3.9904089216143,16.400620609522,13.944757820107,15.300917784683,13.879762780853,3.248822748661,14.217454542406,9.0429517226294,9.4479160020128,10.356786795892,23.425943207927,21.623711789027,8.9524152381346,11.390873017721,15.475862193853,14.918921942823,13.226013628766,28.830329842865,18.047446027398,23.393696397543,16.961556304246,24.246999666095,25.584715122357,21.148490347899,23.25698081404,37.446296898648,39.813747948967,23.215840158053,25.613477231003,43.421714529395,29.891490404494,37.71601009462,34.369424816221,29.697267078795,42.10780962836,37.921626580879,38.025783861987,51.00957751926,37.552645752206,50.387153835036,48.428553733043,46.537812178023,40.826281031594,45.006823638454,43.823475320823,47.894105686806,59.877353108488,54.423133402131,60.183991828002,51.611829083413,49.481650259346,63.093700253405,57.248527823947,58.094096841291,54.874244546518]},\"column_names\":[\"y\",\"x\"],\"cont_ranges\":{},\"discrete_ranges\":{},\"selected\":[],\"id\":\"4790005a-184c-44cd-c430-d44d8e4487c9\",\"doc\":null,\"tags\":[]}},{\"id\":\"851d1b8b-11ef-4d4f-cd56-15c4c5291a50\",\"type\":\"Circle\",\"attributes\":{\"fill_alpha\":{\"units\":\"data\",\"value\":0.2},\"line_alpha\":{\"units\":\"data\",\"value\":1},\"doc\":null,\"size\":{\"units\":\"screen\",\"value\":10},\"fill_color\":{\"value\":\"red\"},\"line_color\":{\"value\":\"red\"},\"x\":{\"units\":\"data\",\"field\":\"x\"},\"id\":\"851d1b8b-11ef-4d4f-cd56-15c4c5291a50\",\"y\":{\"units\":\"data\",\"field\":\"y\"},\"tags\":[]}},{\"id\":\"edb83bf6-05e3-44b6-c4a2-4de8e78dc2eb\",\"type\":\"Circle\",\"attributes\":{\"fill_alpha\":{\"units\":\"data\",\"value\":0.2},\"line_alpha\":{\"units\":\"data\",\"value\":1},\"doc\":null,\"size\":{\"units\":\"screen\",\"value\":10},\"fill_color\":{\"value\":\"red\"},\"line_color\":{\"value\":\"red\"},\"x\":{\"units\":\"data\",\"field\":\"x\"},\"id\":\"edb83bf6-05e3-44b6-c4a2-4de8e78dc2eb\",\"y\":{\"units\":\"data\",\"field\":\"y\"},\"tags\":[]}},{\"id\":\"9ad64c8d-0dc1-490d-c9da-0dd82bac1e91\",\"type\":\"GlyphRenderer\",\"attributes\":{\"name\":null,\"nonselection_glyph\":{\"type\":\"Circle\",\"id\":\"edb83bf6-05e3-44b6-c4a2-4de8e78dc2eb\"},\"doc\":null,\"server_data_source\":null,\"data_source\":{\"type\":\"ColumnDataSource\",\"id\":\"4790005a-184c-44cd-c430-d44d8e4487c9\"},\"glyph\":{\"type\":\"Circle\",\"id\":\"851d1b8b-11ef-4d4f-cd56-15c4c5291a50\"},\"selection_glyph\":null,\"id\":\"9ad64c8d-0dc1-490d-c9da-0dd82bac1e91\",\"tags\":[]}},{\"id\":\"88fe02b4-c305-4443-c4bc-51a48e8ab53c\",\"type\":\"ColumnDataSource\",\"attributes\":{\"data\":{\"y\":[1091.9736033082,1460.3551430665,1010.8043917306,1348.1108606011,1172.5398934446,1566.4062399752,1828.2124269046,1400.0445943922,2152.4788808133,2393.9692651387,2038.9474143237,2230.1662812419,1786.7856178842,1988.8326801322,2167.1798812225,2658.2916713841,2684.8629602827,2712.1258771271,2785.4978129137,2333.6447450798,2294.2432921994,3205.5510727074,2587.5844138712,2498.8975545634,3159.0830481146,2431.8134492505,2879.5091187153,2660.8560985737,3013.3287269771,3517.0919770841,3021.8533031046,3457.9156385958,3135.5098060928,3310.2130548153,2974.9665861949,3237.7982817087,3172.9341454282,3217.3314484246,3559.860119639,3433.5629757028,3763.0937122796,3266.9086381923,3929.2289338764,3133.0723113716,3764.0142437536,3420.9651835877,3067.7974639311,3036.4900503345,3247.4852825291,3348.0563554913,3476.2224812768,3524.0847097747,3959.9448189456,3651.4483460374,3684.5910459757,3504.1916755363,3297.5341730043,3325.5846321248,3514.5950459465,3340.8772673924,3796.5394878257,3018.9768917337,3403.6329972968,3588.6407457255,3109.5443792641,3631.1663575992,2860.7764105443,3164.4471346159,3386.3574616015,3002.1206274629,3310.9060310442,3277.8346461095,3439.7912568916,2563.9670736864,3174.7301230207,2457.3602722734,3153.0359210949,2376.8546900097,3001.168105999,2178.7347245496,2605.0884457175,2960.0799346566,2529.8670345582,2417.8163196947,2187.950449856,2543.8498743773,2595.8820813745,2231.6766582839,1640.2182175741,1492.704375973,1916.9509053286,1325.6172870416,1551.0438891817,2060.3372999337,1287.0705238543,1299.7835724764,1267.5403366182,1261.8091877121,995.81969513185,732.55722667091],\"x\":[4.8152255024761,0.13149467110634,-4.0124761061743,7.7447948381305,-3.8030736986548,13.477619801648,8.5572744607925,7.2313684802502,4.5253821471706,1.1441511986777,10.564312770963,7.1179106580094,13.092923911288,15.714601782151,19.671408943832,23.884741108865,15.112677792087,19.788282720372,17.284421083517,17.839404665865,25.725215923972,31.333622111008,28.670155384578,19.718438588083,23.226747782901,16.71103990078,18.775159817189,27.535403880291,24.057597663254,38.754854276776,21.782522256486,38.75179887563,40.232754379511,32.952202596702,41.780584580265,31.710887303576,28.536369170062,39.587017616257,47.466821620241,30.830170903355,46.875024958514,34.043650140986,49.0437584389,36.899490413256,48.853232981637,48.74152725935,41.287190609612,47.837626009248,58.957159725018,48.164168000221,52.408733767457,43.018073572777,46.234823923558,58.997256747447,49.797159610316,56.4721332388,50.616788084619,54.537879956886,65.505643725395,56.408844622783,66.154685429297,58.596725163981,64.348818829283,73.572609225288,64.165577851236,74.673529177904,60.28008774668,64.790053360164,75.626073168591,79.267488396727,74.414199175313,64.018526764587,65.489212248474,71.777777472511,68.243417507038,77.4496641187,85.779297936708,83.853507593274,86.177138184197,86.916232146323,82.516768038273,76.727438697591,77.871605411172,81.867703172378,89.115608427674,82.252157506533,89.929118140601,91.961746254936,80.861342885531,87.822100245394,97.765729603358,89.863772539422,94.171660525724,99.1401761733,96.913380073383,88.363158133812,90.461445155554,97.463851200417,97.665296556428,95.476782862097]},\"column_names\":[\"y\",\"x\"],\"cont_ranges\":{},\"discrete_ranges\":{},\"selected\":[],\"id\":\"88fe02b4-c305-4443-c4bc-51a48e8ab53c\",\"doc\":null,\"tags\":[]}},{\"id\":\"3de3aa81-2bc2-4514-c55b-552a597be5ee\",\"type\":\"Circle\",\"attributes\":{\"fill_alpha\":{\"units\":\"data\",\"value\":0.2},\"line_alpha\":{\"units\":\"data\",\"value\":1},\"doc\":null,\"size\":{\"units\":\"screen\",\"value\":10},\"fill_color\":{\"value\":\"green\"},\"line_color\":{\"value\":\"green\"},\"x\":{\"units\":\"data\",\"field\":\"x\"},\"id\":\"3de3aa81-2bc2-4514-c55b-552a597be5ee\",\"y\":{\"units\":\"data\",\"field\":\"y\"},\"tags\":[]}},{\"id\":\"30478146-1415-43bc-c354-2f11b7f63741\",\"type\":\"Circle\",\"attributes\":{\"fill_alpha\":{\"units\":\"data\",\"value\":0.2},\"line_alpha\":{\"units\":\"data\",\"value\":1},\"doc\":null,\"size\":{\"units\":\"screen\",\"value\":10},\"fill_color\":{\"value\":\"green\"},\"line_color\":{\"value\":\"green\"},\"x\":{\"units\":\"data\",\"field\":\"x\"},\"id\":\"30478146-1415-43bc-c354-2f11b7f63741\",\"y\":{\"units\":\"data\",\"field\":\"y\"},\"tags\":[]}},{\"id\":\"67fedde7-77f3-4be4-cbee-f8d7e302e1f3\",\"type\":\"GlyphRenderer\",\"attributes\":{\"name\":null,\"nonselection_glyph\":{\"type\":\"Circle\",\"id\":\"30478146-1415-43bc-c354-2f11b7f63741\"},\"doc\":null,\"server_data_source\":null,\"data_source\":{\"type\":\"ColumnDataSource\",\"id\":\"88fe02b4-c305-4443-c4bc-51a48e8ab53c\"},\"glyph\":{\"type\":\"Circle\",\"id\":\"3de3aa81-2bc2-4514-c55b-552a597be5ee\"},\"selection_glyph\":null,\"id\":\"67fedde7-77f3-4be4-cbee-f8d7e302e1f3\",\"tags\":[]}},{\"id\":\"bf1c741c-5060-4927-c9b9-07391de6e8a4\",\"type\":\"DataRange1d\",\"attributes\":{\"sources\":[{\"columns\":[\"x\"],\"source\":{\"type\":\"ColumnDataSource\",\"id\":\"4790005a-184c-44cd-c430-d44d8e4487c9\"}},{\"columns\":[\"x\"],\"source\":{\"type\":\"ColumnDataSource\",\"id\":\"88fe02b4-c305-4443-c4bc-51a48e8ab53c\"}}],\"id\":\"bf1c741c-5060-4927-c9b9-07391de6e8a4\",\"tags\":[],\"doc\":null}},{\"id\":\"e4375cef-c895-46d0-c6a9-fab205519e72\",\"type\":\"DataRange1d\",\"attributes\":{\"sources\":[{\"columns\":[\"y\"],\"source\":{\"type\":\"ColumnDataSource\",\"id\":\"4790005a-184c-44cd-c430-d44d8e4487c9\"}},{\"columns\":[\"y\"],\"source\":{\"type\":\"ColumnDataSource\",\"id\":\"88fe02b4-c305-4443-c4bc-51a48e8ab53c\"}}],\"id\":\"e4375cef-c895-46d0-c6a9-fab205519e72\",\"tags\":[],\"doc\":null}},{\"id\":\"648b2e60-e405-4c40-cc5b-fff61141078a\",\"type\":\"ToolEvents\",\"attributes\":{\"tags\":[],\"id\":\"648b2e60-e405-4c40-cc5b-fff61141078a\",\"geometries\":[],\"doc\":null}},{\"id\":\"489e075e-014c-4ef5-ce93-ac111bcdfad3\",\"type\":\"BasicTickFormatter\",\"attributes\":{\"id\":\"489e075e-014c-4ef5-ce93-ac111bcdfad3\",\"tags\":[],\"doc\":null}},{\"id\":\"4323d333-fe4b-47ae-c720-624cf01f3eae\",\"type\":\"BasicTicker\",\"attributes\":{\"num_minor_ticks\":5,\"id\":\"4323d333-fe4b-47ae-c720-624cf01f3eae\",\"tags\":[],\"doc\":null}},{\"id\":\"1aa638fb-0aeb-4e45-cebe-45eea8d8a6e4\",\"type\":\"LinearAxis\",\"attributes\":{\"formatter\":{\"type\":\"BasicTickFormatter\",\"id\":\"489e075e-014c-4ef5-ce93-ac111bcdfad3\"},\"ticker\":{\"type\":\"BasicTicker\",\"id\":\"4323d333-fe4b-47ae-c720-624cf01f3eae\"},\"plot\":{\"id\":\"3341b4ae-cbb7-4b06-cb09-af6b68284b67\",\"type\":\"Plot\",\"subtype\":\"Figure\"},\"axis_label\":null,\"id\":\"1aa638fb-0aeb-4e45-cebe-45eea8d8a6e4\",\"doc\":null,\"tags\":[]}},{\"id\":\"a5b6de1d-d2b3-4e39-ce5e-d76a30234d47\",\"type\":\"Grid\",\"attributes\":{\"dimension\":0,\"plot\":{\"id\":\"3341b4ae-cbb7-4b06-cb09-af6b68284b67\",\"type\":\"Plot\",\"subtype\":\"Figure\"},\"ticker\":{\"type\":\"BasicTicker\",\"id\":\"4323d333-fe4b-47ae-c720-624cf01f3eae\"},\"id\":\"a5b6de1d-d2b3-4e39-ce5e-d76a30234d47\",\"doc\":null,\"tags\":[]}},{\"id\":\"d8769ff3-60c1-4be2-cbef-3376017c54e6\",\"type\":\"BasicTickFormatter\",\"attributes\":{\"id\":\"d8769ff3-60c1-4be2-cbef-3376017c54e6\",\"tags\":[],\"doc\":null}},{\"id\":\"5cff97a7-73c3-432a-c325-b8d3f3c8984a\",\"type\":\"BasicTicker\",\"attributes\":{\"num_minor_ticks\":5,\"id\":\"5cff97a7-73c3-432a-c325-b8d3f3c8984a\",\"tags\":[],\"doc\":null}},{\"id\":\"8fece7b3-34f4-4a7d-ca00-df339eec392a\",\"type\":\"LinearAxis\",\"attributes\":{\"formatter\":{\"type\":\"BasicTickFormatter\",\"id\":\"d8769ff3-60c1-4be2-cbef-3376017c54e6\"},\"ticker\":{\"type\":\"BasicTicker\",\"id\":\"5cff97a7-73c3-432a-c325-b8d3f3c8984a\"},\"plot\":{\"id\":\"3341b4ae-cbb7-4b06-cb09-af6b68284b67\",\"type\":\"Plot\",\"subtype\":\"Figure\"},\"axis_label\":null,\"id\":\"8fece7b3-34f4-4a7d-ca00-df339eec392a\",\"doc\":null,\"tags\":[]}},{\"id\":\"51b3bdeb-9054-46ac-c68b-ae4a6f851315\",\"type\":\"Grid\",\"attributes\":{\"dimension\":1,\"plot\":{\"id\":\"3341b4ae-cbb7-4b06-cb09-af6b68284b67\",\"type\":\"Plot\",\"subtype\":\"Figure\"},\"ticker\":{\"type\":\"BasicTicker\",\"id\":\"5cff97a7-73c3-432a-c325-b8d3f3c8984a\"},\"id\":\"51b3bdeb-9054-46ac-c68b-ae4a6f851315\",\"doc\":null,\"tags\":[]}},{\"id\":\"4e5f4750-9a88-4fca-cf9f-cd4ce3b7a203\",\"type\":\"PanTool\",\"attributes\":{\"plot\":{\"id\":\"3341b4ae-cbb7-4b06-cb09-af6b68284b67\",\"type\":\"Plot\",\"subtype\":\"Figure\"},\"dimensions\":[\"width\",\"height\"],\"id\":\"4e5f4750-9a88-4fca-cf9f-cd4ce3b7a203\",\"doc\":null,\"tags\":[]}},{\"id\":\"49fd7e0a-99e4-42c9-c230-569e198fd904\",\"type\":\"WheelZoomTool\",\"attributes\":{\"plot\":{\"id\":\"3341b4ae-cbb7-4b06-cb09-af6b68284b67\",\"type\":\"Plot\",\"subtype\":\"Figure\"},\"dimensions\":[\"width\",\"height\"],\"id\":\"49fd7e0a-99e4-42c9-c230-569e198fd904\",\"doc\":null,\"tags\":[]}},{\"id\":\"71c762a4-7339-4c46-cc34-a9cde1830045\",\"type\":\"BoxZoomTool\",\"attributes\":{\"plot\":{\"id\":\"3341b4ae-cbb7-4b06-cb09-af6b68284b67\",\"type\":\"Plot\",\"subtype\":\"Figure\"},\"id\":\"71c762a4-7339-4c46-cc34-a9cde1830045\",\"tags\":[],\"doc\":null}},{\"id\":\"c743e878-2950-4f7e-cfc8-7835840a558a\",\"type\":\"PreviewSaveTool\",\"attributes\":{\"plot\":{\"id\":\"3341b4ae-cbb7-4b06-cb09-af6b68284b67\",\"type\":\"Plot\",\"subtype\":\"Figure\"},\"id\":\"c743e878-2950-4f7e-cfc8-7835840a558a\",\"tags\":[],\"doc\":null}},{\"id\":\"80916607-4ec3-4111-c1ce-45221464354c\",\"type\":\"ResizeTool\",\"attributes\":{\"plot\":{\"id\":\"3341b4ae-cbb7-4b06-cb09-af6b68284b67\",\"type\":\"Plot\",\"subtype\":\"Figure\"},\"id\":\"80916607-4ec3-4111-c1ce-45221464354c\",\"tags\":[],\"doc\":null}},{\"id\":\"38bd9b0b-8d2c-432c-c33c-6353b5ddd497\",\"type\":\"ResetTool\",\"attributes\":{\"plot\":{\"id\":\"3341b4ae-cbb7-4b06-cb09-af6b68284b67\",\"type\":\"Plot\",\"subtype\":\"Figure\"},\"id\":\"38bd9b0b-8d2c-432c-c33c-6353b5ddd497\",\"tags\":[],\"doc\":null}},{\"id\":\"3341b4ae-cbb7-4b06-cb09-af6b68284b67\",\"type\":\"Plot\",\"attributes\":{\"x_range\":{\"type\":\"DataRange1d\",\"id\":\"bf1c741c-5060-4927-c9b9-07391de6e8a4\"},\"tool_events\":{\"type\":\"ToolEvents\",\"id\":\"648b2e60-e405-4c40-cc5b-fff61141078a\"},\"below\":[{\"type\":\"LinearAxis\",\"id\":\"1aa638fb-0aeb-4e45-cebe-45eea8d8a6e4\"}],\"renderers\":[{\"type\":\"GlyphRenderer\",\"id\":\"9ad64c8d-0dc1-490d-c9da-0dd82bac1e91\"},{\"type\":\"GlyphRenderer\",\"id\":\"67fedde7-77f3-4be4-cbee-f8d7e302e1f3\"},{\"type\":\"LinearAxis\",\"id\":\"1aa638fb-0aeb-4e45-cebe-45eea8d8a6e4\"},{\"type\":\"Grid\",\"id\":\"a5b6de1d-d2b3-4e39-ce5e-d76a30234d47\"},{\"type\":\"LinearAxis\",\"id\":\"8fece7b3-34f4-4a7d-ca00-df339eec392a\"},{\"type\":\"Grid\",\"id\":\"51b3bdeb-9054-46ac-c68b-ae4a6f851315\"}],\"above\":[],\"tools\":[{\"type\":\"PanTool\",\"id\":\"4e5f4750-9a88-4fca-cf9f-cd4ce3b7a203\"},{\"type\":\"WheelZoomTool\",\"id\":\"49fd7e0a-99e4-42c9-c230-569e198fd904\"},{\"type\":\"BoxZoomTool\",\"id\":\"71c762a4-7339-4c46-cc34-a9cde1830045\"},{\"type\":\"PreviewSaveTool\",\"id\":\"c743e878-2950-4f7e-cfc8-7835840a558a\"},{\"type\":\"ResizeTool\",\"id\":\"80916607-4ec3-4111-c1ce-45221464354c\"},{\"type\":\"ResetTool\",\"id\":\"38bd9b0b-8d2c-432c-c33c-6353b5ddd497\"}],\"doc\":null,\"right\":[],\"title\":\"Scatter Plot Demo\",\"extra_x_ranges\":{},\"left\":[{\"type\":\"LinearAxis\",\"id\":\"8fece7b3-34f4-4a7d-ca00-df339eec392a\"}],\"y_range\":{\"type\":\"DataRange1d\",\"id\":\"e4375cef-c895-46d0-c6a9-fab205519e72\"},\"id\":\"3341b4ae-cbb7-4b06-cb09-af6b68284b67\",\"extra_y_ranges\":{},\"tags\":[]}}];\n",
       "      Bokeh.load_models(all_models);\n",
       "      var model = Bokeh.Collections(modeltype).get(modelid);\n",
       "      $(\"#f7004df0-ddf7-4d03-cdb8-4fa1de6e3bcf\").html(''); // clear any previous plot in window_id\n",
       "      var view = new model.default_view({model: model, el: \"#f7004df0-ddf7-4d03-cdb8-4fa1de6e3bcf\"});\n",
       "  });\n",
       "    }\n",
       "});\n",
       "</script>\n",
       "<div class=\"plotdiv\" id=\"38e71985-908a-4f41-cfdb-a4f2127a8589\"></div>\n"
      ]
     },
     "metadata": {},
     "output_type": "display_data"
    },
    {
     "data": {
      "text/html": [
       "<script type=\"text/javascript\">\n",
       "$(function() {\n",
       "    if (typeof (window._bokeh_onload_callbacks) === \"undefined\"){\n",
       "  window._bokeh_onload_callbacks = [];\n",
       "    }\n",
       "    function load_lib(url, callback){\n",
       "  window._bokeh_onload_callbacks.push(callback);\n",
       "  if (window._bokeh_is_loading){\n",
       "      console.log(\"Bokeh: BokehJS is being loaded, scheduling callback at\", new Date());\n",
       "      return null;\n",
       "  }\n",
       "  console.log(\"Bokeh: BokehJS not loaded, scheduling load and callback at\", new Date());\n",
       "  window._bokeh_is_loading = true;\n",
       "  var s = document.createElement('script');\n",
       "  s.src = url;\n",
       "  s.async = true;\n",
       "  s.onreadystatechange = s.onload = function(){\n",
       "      Bokeh.embed.inject_css(\"https://cdn.pydata.org/bokeh-0.7.0.min.css\");\n",
       "      window._bokeh_onload_callbacks.forEach(function(callback){callback()});\n",
       "  };\n",
       "  s.onerror = function(){\n",
       "      console.warn(\"failed to load library \" + url);\n",
       "  };\n",
       "  document.getElementsByTagName(\"head\")[0].appendChild(s);\n",
       "    }\n",
       "\n",
       "    bokehjs_url = \"https://cdn.pydata.org/bokeh-0.7.0.min.js\"\n",
       "\n",
       "    var elt = document.getElementById(\"f7004df0-ddf7-4d03-cdb8-4fa1de6e3bcf\");\n",
       "    if(elt==null) {\n",
       "  console.log(\"Bokeh: ERROR: autoload.js configured with elementid 'f7004df0-ddf7-4d03-cdb8-4fa1de6e3bcf'\"\n",
       "        + \"but no matching script tag was found. \")\n",
       "  return false;\n",
       "    }\n",
       "\n",
       "    if(typeof(Bokeh) !== \"undefined\") {\n",
       "  console.log(\"Bokeh: BokehJS loaded, going straight to plotting\");\n",
       "  var modelid = \"3d45818a-b5bc-48e0-c871-129881dfe385\";\n",
       "  var modeltype = \"Plot\";\n",
       "  var all_models = [{\"id\":\"bb20367c-45be-4187-c160-91a65e1b87ee\",\"type\":\"ColumnDataSource\",\"attributes\":{\"data\":{\"y\":[2893.9736033082,3068.3551430665,2428.8043917306,2580.1108606011,2222.5398934446,2438.4062399752,2526.2124269046,1928.0445943922,2514.4788808133,2593.9692651387,2080.9474143237,2118.1662812419,1524.7856178842,1580.8326801322,1617.1798812225,1970.2916713841,1862.8629602827,1760.1258771271,1707.4978129137,1133.6447450798,976.24329219945,1773.5510727074,1045.5844138712,850.89755456336,1409.0830481146,583.81344925053,937.5091187153,628.85609857365,895.32872697711,1317.0919770841,743.85330310464,1105.9156385958,713.50980609283,822.21305481531,424.96658619493,629.79828170873,510.93414542824,505.33144842461,801.86011963896,633.56297570281,925.09371227957,394.90863819234,1027.2289338764,205.07231137156,814.01424375363,452.96518358774,85.797463931143,44.490050334483,249.48528252915,348.05635549128,478.22248127684,532.0847097747,977.9448189456,683.44834603742,734.59104597569,576.19167553633,395.53417300433,453.58463212475,676.59504594654,540.87726739235,1038.5394878257,306.97689173371,741.63299729675,980.64074572548,559.54437926412,1143.1663575992,438.77641054429,812.44713461585,1108.3574616015,802.12062746286,1192.9060310442,1245.8346461095,1497.7912568916,715.96707368642,1424.7301230207,809.36027227342,1611.0359210949,944.85469000973,1683.168105999,978.73472454958,1527.0884457175,2008.0799346566,1707.8670345582,1729.8163196947,1637.950449856,2135.8498743773,2333.8820813745,2119.6766582839,1682.2182175741,1692.704375973,2278.9509053286,1853.6172870416,2249.0438891817,2932.3372999337,2337.0705238543,2531.7835724764,2685.5403366182,2869.8091877121,2797.8196951319,2732.5572266709],\"x\":[-47.349930658005,-46.604234321974,-29.305925386027,-33.976788361557,-30.387034476735,-37.955854461528,-30.81928403303,-35.385500675067,-39.966158572584,-34.789047120139,-33.486775561236,-29.080546765588,-20.378227339126,-30.819621709175,-18.751381114125,-15.262743482366,-13.578915835358,-20.139337301254,-14.924013497308,-22.795036812313,-10.791448607109,-11.229828239419,-19.626831769012,-13.795738866553,-23.968760366552,-9.0484726391733,-9.5699297282845,-10.988421689719,-12.579646724276,-2.1577334217727,-2.4733617631719,-10.357285306789,1.6020815465599,-0.016335876658559,1.7295683454722,-9.0414553983137,-3.1554643921554,-10.892873707227,-0.97847224585712,-0.13966286554933,-4.2366507332772,5.2935744803399,4.9699348276481,-0.50311210006475,4.7485939366743,3.9904089216143,16.400620609522,13.944757820107,15.300917784683,13.879762780853,3.248822748661,14.217454542406,9.0429517226294,9.4479160020128,10.356786795892,23.425943207927,21.623711789027,8.9524152381346,11.390873017721,15.475862193853,14.918921942823,13.226013628766,28.830329842865,18.047446027398,23.393696397543,16.961556304246,24.246999666095,25.584715122357,21.148490347899,23.25698081404,37.446296898648,39.813747948967,23.215840158053,25.613477231003,43.421714529395,29.891490404494,37.71601009462,34.369424816221,29.697267078795,42.10780962836,37.921626580879,38.025783861987,51.00957751926,37.552645752206,50.387153835036,48.428553733043,46.537812178023,40.826281031594,45.006823638454,43.823475320823,47.894105686806,59.877353108488,54.423133402131,60.183991828002,51.611829083413,49.481650259346,63.093700253405,57.248527823947,58.094096841291,54.874244546518]},\"column_names\":[\"y\",\"x\"],\"cont_ranges\":{},\"discrete_ranges\":{},\"selected\":[],\"id\":\"bb20367c-45be-4187-c160-91a65e1b87ee\",\"doc\":null,\"tags\":[]}},{\"id\":\"75deb4e1-de4b-4277-c2b6-03402a290f7d\",\"type\":\"Circle\",\"attributes\":{\"fill_alpha\":{\"units\":\"data\",\"value\":0.2},\"line_alpha\":{\"units\":\"data\",\"value\":1},\"doc\":null,\"size\":{\"units\":\"screen\",\"value\":10},\"fill_color\":{\"value\":\"red\"},\"line_color\":{\"value\":\"red\"},\"x\":{\"units\":\"data\",\"field\":\"x\"},\"id\":\"75deb4e1-de4b-4277-c2b6-03402a290f7d\",\"y\":{\"units\":\"data\",\"field\":\"y\"},\"tags\":[]}},{\"id\":\"c77fc70e-c027-4bdd-cb74-9efe64b30c3f\",\"type\":\"Circle\",\"attributes\":{\"fill_alpha\":{\"units\":\"data\",\"value\":0.2},\"line_alpha\":{\"units\":\"data\",\"value\":1},\"doc\":null,\"size\":{\"units\":\"screen\",\"value\":10},\"fill_color\":{\"value\":\"red\"},\"line_color\":{\"value\":\"red\"},\"x\":{\"units\":\"data\",\"field\":\"x\"},\"id\":\"c77fc70e-c027-4bdd-cb74-9efe64b30c3f\",\"y\":{\"units\":\"data\",\"field\":\"y\"},\"tags\":[]}},{\"id\":\"6761a806-b16f-4d65-cdfb-ac8a32d052d3\",\"type\":\"GlyphRenderer\",\"attributes\":{\"name\":null,\"nonselection_glyph\":{\"type\":\"Circle\",\"id\":\"c77fc70e-c027-4bdd-cb74-9efe64b30c3f\"},\"doc\":null,\"server_data_source\":null,\"data_source\":{\"type\":\"ColumnDataSource\",\"id\":\"bb20367c-45be-4187-c160-91a65e1b87ee\"},\"glyph\":{\"type\":\"Circle\",\"id\":\"75deb4e1-de4b-4277-c2b6-03402a290f7d\"},\"selection_glyph\":null,\"id\":\"6761a806-b16f-4d65-cdfb-ac8a32d052d3\",\"tags\":[]}},{\"id\":\"94195310-aa19-4ca4-ccff-ddd71d30ae2e\",\"type\":\"ColumnDataSource\",\"attributes\":{\"data\":{\"y\":[1091.9736033082,1460.3551430665,1010.8043917306,1348.1108606011,1172.5398934446,1566.4062399752,1828.2124269046,1400.0445943922,2152.4788808133,2393.9692651387,2038.9474143237,2230.1662812419,1786.7856178842,1988.8326801322,2167.1798812225,2658.2916713841,2684.8629602827,2712.1258771271,2785.4978129137,2333.6447450798,2294.2432921994,3205.5510727074,2587.5844138712,2498.8975545634,3159.0830481146,2431.8134492505,2879.5091187153,2660.8560985737,3013.3287269771,3517.0919770841,3021.8533031046,3457.9156385958,3135.5098060928,3310.2130548153,2974.9665861949,3237.7982817087,3172.9341454282,3217.3314484246,3559.860119639,3433.5629757028,3763.0937122796,3266.9086381923,3929.2289338764,3133.0723113716,3764.0142437536,3420.9651835877,3067.7974639311,3036.4900503345,3247.4852825291,3348.0563554913,3476.2224812768,3524.0847097747,3959.9448189456,3651.4483460374,3684.5910459757,3504.1916755363,3297.5341730043,3325.5846321248,3514.5950459465,3340.8772673924,3796.5394878257,3018.9768917337,3403.6329972968,3588.6407457255,3109.5443792641,3631.1663575992,2860.7764105443,3164.4471346159,3386.3574616015,3002.1206274629,3310.9060310442,3277.8346461095,3439.7912568916,2563.9670736864,3174.7301230207,2457.3602722734,3153.0359210949,2376.8546900097,3001.168105999,2178.7347245496,2605.0884457175,2960.0799346566,2529.8670345582,2417.8163196947,2187.950449856,2543.8498743773,2595.8820813745,2231.6766582839,1640.2182175741,1492.704375973,1916.9509053286,1325.6172870416,1551.0438891817,2060.3372999337,1287.0705238543,1299.7835724764,1267.5403366182,1261.8091877121,995.81969513185,732.55722667091],\"x\":[4.8152255024761,0.13149467110634,-4.0124761061743,7.7447948381305,-3.8030736986548,13.477619801648,8.5572744607925,7.2313684802502,4.5253821471706,1.1441511986777,10.564312770963,7.1179106580094,13.092923911288,15.714601782151,19.671408943832,23.884741108865,15.112677792087,19.788282720372,17.284421083517,17.839404665865,25.725215923972,31.333622111008,28.670155384578,19.718438588083,23.226747782901,16.71103990078,18.775159817189,27.535403880291,24.057597663254,38.754854276776,21.782522256486,38.75179887563,40.232754379511,32.952202596702,41.780584580265,31.710887303576,28.536369170062,39.587017616257,47.466821620241,30.830170903355,46.875024958514,34.043650140986,49.0437584389,36.899490413256,48.853232981637,48.74152725935,41.287190609612,47.837626009248,58.957159725018,48.164168000221,52.408733767457,43.018073572777,46.234823923558,58.997256747447,49.797159610316,56.4721332388,50.616788084619,54.537879956886,65.505643725395,56.408844622783,66.154685429297,58.596725163981,64.348818829283,73.572609225288,64.165577851236,74.673529177904,60.28008774668,64.790053360164,75.626073168591,79.267488396727,74.414199175313,64.018526764587,65.489212248474,71.777777472511,68.243417507038,77.4496641187,85.779297936708,83.853507593274,86.177138184197,86.916232146323,82.516768038273,76.727438697591,77.871605411172,81.867703172378,89.115608427674,82.252157506533,89.929118140601,91.961746254936,80.861342885531,87.822100245394,97.765729603358,89.863772539422,94.171660525724,99.1401761733,96.913380073383,88.363158133812,90.461445155554,97.463851200417,97.665296556428,95.476782862097]},\"column_names\":[\"y\",\"x\"],\"cont_ranges\":{},\"discrete_ranges\":{},\"selected\":[],\"id\":\"94195310-aa19-4ca4-ccff-ddd71d30ae2e\",\"doc\":null,\"tags\":[]}},{\"id\":\"1a51a132-5544-45d0-c517-c7413397c262\",\"type\":\"Circle\",\"attributes\":{\"fill_alpha\":{\"units\":\"data\",\"value\":0.2},\"line_alpha\":{\"units\":\"data\",\"value\":1},\"doc\":null,\"size\":{\"units\":\"screen\",\"value\":10},\"fill_color\":{\"value\":\"green\"},\"line_color\":{\"value\":\"green\"},\"x\":{\"units\":\"data\",\"field\":\"x\"},\"id\":\"1a51a132-5544-45d0-c517-c7413397c262\",\"y\":{\"units\":\"data\",\"field\":\"y\"},\"tags\":[]}},{\"id\":\"bb1614d0-945b-49bc-c939-478134e839e5\",\"type\":\"Circle\",\"attributes\":{\"fill_alpha\":{\"units\":\"data\",\"value\":0.2},\"line_alpha\":{\"units\":\"data\",\"value\":1},\"doc\":null,\"size\":{\"units\":\"screen\",\"value\":10},\"fill_color\":{\"value\":\"green\"},\"line_color\":{\"value\":\"green\"},\"x\":{\"units\":\"data\",\"field\":\"x\"},\"id\":\"bb1614d0-945b-49bc-c939-478134e839e5\",\"y\":{\"units\":\"data\",\"field\":\"y\"},\"tags\":[]}},{\"id\":\"ba89f1af-8906-4b2e-cb32-cc24feeefc78\",\"type\":\"GlyphRenderer\",\"attributes\":{\"name\":null,\"nonselection_glyph\":{\"type\":\"Circle\",\"id\":\"bb1614d0-945b-49bc-c939-478134e839e5\"},\"doc\":null,\"server_data_source\":null,\"data_source\":{\"type\":\"ColumnDataSource\",\"id\":\"94195310-aa19-4ca4-ccff-ddd71d30ae2e\"},\"glyph\":{\"type\":\"Circle\",\"id\":\"1a51a132-5544-45d0-c517-c7413397c262\"},\"selection_glyph\":null,\"id\":\"ba89f1af-8906-4b2e-cb32-cc24feeefc78\",\"tags\":[]}},{\"id\":\"6a3bde1f-0946-44d8-c4ae-464b440e8a88\",\"type\":\"DataRange1d\",\"attributes\":{\"sources\":[{\"columns\":[\"x\"],\"source\":{\"type\":\"ColumnDataSource\",\"id\":\"bb20367c-45be-4187-c160-91a65e1b87ee\"}},{\"columns\":[\"x\"],\"source\":{\"type\":\"ColumnDataSource\",\"id\":\"94195310-aa19-4ca4-ccff-ddd71d30ae2e\"}}],\"id\":\"6a3bde1f-0946-44d8-c4ae-464b440e8a88\",\"tags\":[],\"doc\":null}},{\"id\":\"c2b03050-7182-4818-c81f-517947bf8a35\",\"type\":\"DataRange1d\",\"attributes\":{\"sources\":[{\"columns\":[\"y\"],\"source\":{\"type\":\"ColumnDataSource\",\"id\":\"bb20367c-45be-4187-c160-91a65e1b87ee\"}},{\"columns\":[\"y\"],\"source\":{\"type\":\"ColumnDataSource\",\"id\":\"94195310-aa19-4ca4-ccff-ddd71d30ae2e\"}}],\"id\":\"c2b03050-7182-4818-c81f-517947bf8a35\",\"tags\":[],\"doc\":null}},{\"id\":\"70af5f75-a406-4cb3-ccd2-c2d320ffe43a\",\"type\":\"ToolEvents\",\"attributes\":{\"tags\":[],\"id\":\"70af5f75-a406-4cb3-ccd2-c2d320ffe43a\",\"geometries\":[],\"doc\":null}},{\"id\":\"d8f84276-0c60-46a2-c679-e3d3417d7849\",\"type\":\"BasicTickFormatter\",\"attributes\":{\"id\":\"d8f84276-0c60-46a2-c679-e3d3417d7849\",\"tags\":[],\"doc\":null}},{\"id\":\"78b1c040-27e8-48fc-c89a-a00850c8fc2e\",\"type\":\"BasicTicker\",\"attributes\":{\"num_minor_ticks\":5,\"id\":\"78b1c040-27e8-48fc-c89a-a00850c8fc2e\",\"tags\":[],\"doc\":null}},{\"id\":\"58a0b646-0879-4622-c6ba-6be7f1680868\",\"type\":\"LinearAxis\",\"attributes\":{\"formatter\":{\"type\":\"BasicTickFormatter\",\"id\":\"d8f84276-0c60-46a2-c679-e3d3417d7849\"},\"ticker\":{\"type\":\"BasicTicker\",\"id\":\"78b1c040-27e8-48fc-c89a-a00850c8fc2e\"},\"plot\":{\"id\":\"3d45818a-b5bc-48e0-c871-129881dfe385\",\"type\":\"Plot\",\"subtype\":\"Figure\"},\"axis_label\":\"length\",\"id\":\"58a0b646-0879-4622-c6ba-6be7f1680868\",\"doc\":null,\"tags\":[]}},{\"id\":\"90cd3bab-7862-4102-c12a-1a4193098f73\",\"type\":\"Grid\",\"attributes\":{\"dimension\":0,\"plot\":{\"id\":\"3d45818a-b5bc-48e0-c871-129881dfe385\",\"type\":\"Plot\",\"subtype\":\"Figure\"},\"ticker\":{\"type\":\"BasicTicker\",\"id\":\"78b1c040-27e8-48fc-c89a-a00850c8fc2e\"},\"id\":\"90cd3bab-7862-4102-c12a-1a4193098f73\",\"doc\":null,\"tags\":[]}},{\"id\":\"7d2b0a47-170c-4ac1-ca4a-6685398c9c2b\",\"type\":\"BasicTickFormatter\",\"attributes\":{\"id\":\"7d2b0a47-170c-4ac1-ca4a-6685398c9c2b\",\"tags\":[],\"doc\":null}},{\"id\":\"79655b13-5385-4dc0-cd9f-9c4590daca1a\",\"type\":\"BasicTicker\",\"attributes\":{\"num_minor_ticks\":5,\"id\":\"79655b13-5385-4dc0-cd9f-9c4590daca1a\",\"tags\":[],\"doc\":null}},{\"id\":\"49639db4-a51b-49a2-c935-bff03b70d736\",\"type\":\"LinearAxis\",\"attributes\":{\"formatter\":{\"type\":\"BasicTickFormatter\",\"id\":\"7d2b0a47-170c-4ac1-ca4a-6685398c9c2b\"},\"ticker\":{\"type\":\"BasicTicker\",\"id\":\"79655b13-5385-4dc0-cd9f-9c4590daca1a\"},\"plot\":{\"id\":\"3d45818a-b5bc-48e0-c871-129881dfe385\",\"type\":\"Plot\",\"subtype\":\"Figure\"},\"axis_label\":\"width\",\"id\":\"49639db4-a51b-49a2-c935-bff03b70d736\",\"doc\":null,\"tags\":[]}},{\"id\":\"ae0cac3b-e2e6-4604-c6ee-599419a12508\",\"type\":\"Grid\",\"attributes\":{\"dimension\":1,\"plot\":{\"id\":\"3d45818a-b5bc-48e0-c871-129881dfe385\",\"type\":\"Plot\",\"subtype\":\"Figure\"},\"ticker\":{\"type\":\"BasicTicker\",\"id\":\"79655b13-5385-4dc0-cd9f-9c4590daca1a\"},\"id\":\"ae0cac3b-e2e6-4604-c6ee-599419a12508\",\"doc\":null,\"tags\":[]}},{\"id\":\"68582311-abde-4789-c715-78a4d0c0d2cc\",\"type\":\"PanTool\",\"attributes\":{\"plot\":{\"id\":\"3d45818a-b5bc-48e0-c871-129881dfe385\",\"type\":\"Plot\",\"subtype\":\"Figure\"},\"dimensions\":[\"width\",\"height\"],\"id\":\"68582311-abde-4789-c715-78a4d0c0d2cc\",\"doc\":null,\"tags\":[]}},{\"id\":\"54fb40ed-43a2-470e-c73d-0ef9f3665fbd\",\"type\":\"WheelZoomTool\",\"attributes\":{\"plot\":{\"id\":\"3d45818a-b5bc-48e0-c871-129881dfe385\",\"type\":\"Plot\",\"subtype\":\"Figure\"},\"dimensions\":[\"width\",\"height\"],\"id\":\"54fb40ed-43a2-470e-c73d-0ef9f3665fbd\",\"doc\":null,\"tags\":[]}},{\"id\":\"238a02b3-e1bd-462f-c61c-130de7b273f2\",\"type\":\"BoxZoomTool\",\"attributes\":{\"plot\":{\"id\":\"3d45818a-b5bc-48e0-c871-129881dfe385\",\"type\":\"Plot\",\"subtype\":\"Figure\"},\"id\":\"238a02b3-e1bd-462f-c61c-130de7b273f2\",\"tags\":[],\"doc\":null}},{\"id\":\"1f4bd097-4ffe-4fdd-cf4e-0f2c2a6b99f4\",\"type\":\"PreviewSaveTool\",\"attributes\":{\"plot\":{\"id\":\"3d45818a-b5bc-48e0-c871-129881dfe385\",\"type\":\"Plot\",\"subtype\":\"Figure\"},\"id\":\"1f4bd097-4ffe-4fdd-cf4e-0f2c2a6b99f4\",\"tags\":[],\"doc\":null}},{\"id\":\"1f07709c-9180-46ad-c656-0a5c28549279\",\"type\":\"ResizeTool\",\"attributes\":{\"plot\":{\"id\":\"3d45818a-b5bc-48e0-c871-129881dfe385\",\"type\":\"Plot\",\"subtype\":\"Figure\"},\"id\":\"1f07709c-9180-46ad-c656-0a5c28549279\",\"tags\":[],\"doc\":null}},{\"id\":\"c9ad566e-7db4-47e1-c7e4-45f268caa4b7\",\"type\":\"ResetTool\",\"attributes\":{\"plot\":{\"id\":\"3d45818a-b5bc-48e0-c871-129881dfe385\",\"type\":\"Plot\",\"subtype\":\"Figure\"},\"id\":\"c9ad566e-7db4-47e1-c7e4-45f268caa4b7\",\"tags\":[],\"doc\":null}},{\"id\":\"3d45818a-b5bc-48e0-c871-129881dfe385\",\"type\":\"Plot\",\"attributes\":{\"x_range\":{\"type\":\"DataRange1d\",\"id\":\"6a3bde1f-0946-44d8-c4ae-464b440e8a88\"},\"tool_events\":{\"type\":\"ToolEvents\",\"id\":\"70af5f75-a406-4cb3-ccd2-c2d320ffe43a\"},\"below\":[{\"type\":\"LinearAxis\",\"id\":\"58a0b646-0879-4622-c6ba-6be7f1680868\"}],\"renderers\":[{\"type\":\"GlyphRenderer\",\"id\":\"6761a806-b16f-4d65-cdfb-ac8a32d052d3\"},{\"type\":\"GlyphRenderer\",\"id\":\"ba89f1af-8906-4b2e-cb32-cc24feeefc78\"},{\"type\":\"LinearAxis\",\"id\":\"58a0b646-0879-4622-c6ba-6be7f1680868\"},{\"type\":\"Grid\",\"id\":\"90cd3bab-7862-4102-c12a-1a4193098f73\"},{\"type\":\"LinearAxis\",\"id\":\"49639db4-a51b-49a2-c935-bff03b70d736\"},{\"type\":\"Grid\",\"id\":\"ae0cac3b-e2e6-4604-c6ee-599419a12508\"}],\"above\":[],\"tools\":[{\"type\":\"PanTool\",\"id\":\"68582311-abde-4789-c715-78a4d0c0d2cc\"},{\"type\":\"WheelZoomTool\",\"id\":\"54fb40ed-43a2-470e-c73d-0ef9f3665fbd\"},{\"type\":\"BoxZoomTool\",\"id\":\"238a02b3-e1bd-462f-c61c-130de7b273f2\"},{\"type\":\"PreviewSaveTool\",\"id\":\"1f4bd097-4ffe-4fdd-cf4e-0f2c2a6b99f4\"},{\"type\":\"ResizeTool\",\"id\":\"1f07709c-9180-46ad-c656-0a5c28549279\"},{\"type\":\"ResetTool\",\"id\":\"c9ad566e-7db4-47e1-c7e4-45f268caa4b7\"}],\"doc\":null,\"right\":[],\"title\":\"Scatter Plot Demo\",\"extra_x_ranges\":{},\"left\":[{\"type\":\"LinearAxis\",\"id\":\"49639db4-a51b-49a2-c935-bff03b70d736\"}],\"y_range\":{\"type\":\"DataRange1d\",\"id\":\"c2b03050-7182-4818-c81f-517947bf8a35\"},\"id\":\"3d45818a-b5bc-48e0-c871-129881dfe385\",\"extra_y_ranges\":{},\"tags\":[]}}];\n",
       "  Bokeh.load_models(all_models);\n",
       "  var model = Bokeh.Collections(modeltype).get(modelid);\n",
       "  $(\"#f7004df0-ddf7-4d03-cdb8-4fa1de6e3bcf\").html(''); // clear any previous plot in window_id\n",
       "  var view = new model.default_view({model: model, el: \"#f7004df0-ddf7-4d03-cdb8-4fa1de6e3bcf\"});\n",
       "    } else {\n",
       "  load_lib(bokehjs_url, function() {\n",
       "      console.log(\"Bokeh: BokehJS plotting callback run at\", new Date())\n",
       "      var modelid = \"3d45818a-b5bc-48e0-c871-129881dfe385\";\n",
       "      var modeltype = \"Plot\";\n",
       "      var all_models = [{\"id\":\"bb20367c-45be-4187-c160-91a65e1b87ee\",\"type\":\"ColumnDataSource\",\"attributes\":{\"data\":{\"y\":[2893.9736033082,3068.3551430665,2428.8043917306,2580.1108606011,2222.5398934446,2438.4062399752,2526.2124269046,1928.0445943922,2514.4788808133,2593.9692651387,2080.9474143237,2118.1662812419,1524.7856178842,1580.8326801322,1617.1798812225,1970.2916713841,1862.8629602827,1760.1258771271,1707.4978129137,1133.6447450798,976.24329219945,1773.5510727074,1045.5844138712,850.89755456336,1409.0830481146,583.81344925053,937.5091187153,628.85609857365,895.32872697711,1317.0919770841,743.85330310464,1105.9156385958,713.50980609283,822.21305481531,424.96658619493,629.79828170873,510.93414542824,505.33144842461,801.86011963896,633.56297570281,925.09371227957,394.90863819234,1027.2289338764,205.07231137156,814.01424375363,452.96518358774,85.797463931143,44.490050334483,249.48528252915,348.05635549128,478.22248127684,532.0847097747,977.9448189456,683.44834603742,734.59104597569,576.19167553633,395.53417300433,453.58463212475,676.59504594654,540.87726739235,1038.5394878257,306.97689173371,741.63299729675,980.64074572548,559.54437926412,1143.1663575992,438.77641054429,812.44713461585,1108.3574616015,802.12062746286,1192.9060310442,1245.8346461095,1497.7912568916,715.96707368642,1424.7301230207,809.36027227342,1611.0359210949,944.85469000973,1683.168105999,978.73472454958,1527.0884457175,2008.0799346566,1707.8670345582,1729.8163196947,1637.950449856,2135.8498743773,2333.8820813745,2119.6766582839,1682.2182175741,1692.704375973,2278.9509053286,1853.6172870416,2249.0438891817,2932.3372999337,2337.0705238543,2531.7835724764,2685.5403366182,2869.8091877121,2797.8196951319,2732.5572266709],\"x\":[-47.349930658005,-46.604234321974,-29.305925386027,-33.976788361557,-30.387034476735,-37.955854461528,-30.81928403303,-35.385500675067,-39.966158572584,-34.789047120139,-33.486775561236,-29.080546765588,-20.378227339126,-30.819621709175,-18.751381114125,-15.262743482366,-13.578915835358,-20.139337301254,-14.924013497308,-22.795036812313,-10.791448607109,-11.229828239419,-19.626831769012,-13.795738866553,-23.968760366552,-9.0484726391733,-9.5699297282845,-10.988421689719,-12.579646724276,-2.1577334217727,-2.4733617631719,-10.357285306789,1.6020815465599,-0.016335876658559,1.7295683454722,-9.0414553983137,-3.1554643921554,-10.892873707227,-0.97847224585712,-0.13966286554933,-4.2366507332772,5.2935744803399,4.9699348276481,-0.50311210006475,4.7485939366743,3.9904089216143,16.400620609522,13.944757820107,15.300917784683,13.879762780853,3.248822748661,14.217454542406,9.0429517226294,9.4479160020128,10.356786795892,23.425943207927,21.623711789027,8.9524152381346,11.390873017721,15.475862193853,14.918921942823,13.226013628766,28.830329842865,18.047446027398,23.393696397543,16.961556304246,24.246999666095,25.584715122357,21.148490347899,23.25698081404,37.446296898648,39.813747948967,23.215840158053,25.613477231003,43.421714529395,29.891490404494,37.71601009462,34.369424816221,29.697267078795,42.10780962836,37.921626580879,38.025783861987,51.00957751926,37.552645752206,50.387153835036,48.428553733043,46.537812178023,40.826281031594,45.006823638454,43.823475320823,47.894105686806,59.877353108488,54.423133402131,60.183991828002,51.611829083413,49.481650259346,63.093700253405,57.248527823947,58.094096841291,54.874244546518]},\"column_names\":[\"y\",\"x\"],\"cont_ranges\":{},\"discrete_ranges\":{},\"selected\":[],\"id\":\"bb20367c-45be-4187-c160-91a65e1b87ee\",\"doc\":null,\"tags\":[]}},{\"id\":\"75deb4e1-de4b-4277-c2b6-03402a290f7d\",\"type\":\"Circle\",\"attributes\":{\"fill_alpha\":{\"units\":\"data\",\"value\":0.2},\"line_alpha\":{\"units\":\"data\",\"value\":1},\"doc\":null,\"size\":{\"units\":\"screen\",\"value\":10},\"fill_color\":{\"value\":\"red\"},\"line_color\":{\"value\":\"red\"},\"x\":{\"units\":\"data\",\"field\":\"x\"},\"id\":\"75deb4e1-de4b-4277-c2b6-03402a290f7d\",\"y\":{\"units\":\"data\",\"field\":\"y\"},\"tags\":[]}},{\"id\":\"c77fc70e-c027-4bdd-cb74-9efe64b30c3f\",\"type\":\"Circle\",\"attributes\":{\"fill_alpha\":{\"units\":\"data\",\"value\":0.2},\"line_alpha\":{\"units\":\"data\",\"value\":1},\"doc\":null,\"size\":{\"units\":\"screen\",\"value\":10},\"fill_color\":{\"value\":\"red\"},\"line_color\":{\"value\":\"red\"},\"x\":{\"units\":\"data\",\"field\":\"x\"},\"id\":\"c77fc70e-c027-4bdd-cb74-9efe64b30c3f\",\"y\":{\"units\":\"data\",\"field\":\"y\"},\"tags\":[]}},{\"id\":\"6761a806-b16f-4d65-cdfb-ac8a32d052d3\",\"type\":\"GlyphRenderer\",\"attributes\":{\"name\":null,\"nonselection_glyph\":{\"type\":\"Circle\",\"id\":\"c77fc70e-c027-4bdd-cb74-9efe64b30c3f\"},\"doc\":null,\"server_data_source\":null,\"data_source\":{\"type\":\"ColumnDataSource\",\"id\":\"bb20367c-45be-4187-c160-91a65e1b87ee\"},\"glyph\":{\"type\":\"Circle\",\"id\":\"75deb4e1-de4b-4277-c2b6-03402a290f7d\"},\"selection_glyph\":null,\"id\":\"6761a806-b16f-4d65-cdfb-ac8a32d052d3\",\"tags\":[]}},{\"id\":\"94195310-aa19-4ca4-ccff-ddd71d30ae2e\",\"type\":\"ColumnDataSource\",\"attributes\":{\"data\":{\"y\":[1091.9736033082,1460.3551430665,1010.8043917306,1348.1108606011,1172.5398934446,1566.4062399752,1828.2124269046,1400.0445943922,2152.4788808133,2393.9692651387,2038.9474143237,2230.1662812419,1786.7856178842,1988.8326801322,2167.1798812225,2658.2916713841,2684.8629602827,2712.1258771271,2785.4978129137,2333.6447450798,2294.2432921994,3205.5510727074,2587.5844138712,2498.8975545634,3159.0830481146,2431.8134492505,2879.5091187153,2660.8560985737,3013.3287269771,3517.0919770841,3021.8533031046,3457.9156385958,3135.5098060928,3310.2130548153,2974.9665861949,3237.7982817087,3172.9341454282,3217.3314484246,3559.860119639,3433.5629757028,3763.0937122796,3266.9086381923,3929.2289338764,3133.0723113716,3764.0142437536,3420.9651835877,3067.7974639311,3036.4900503345,3247.4852825291,3348.0563554913,3476.2224812768,3524.0847097747,3959.9448189456,3651.4483460374,3684.5910459757,3504.1916755363,3297.5341730043,3325.5846321248,3514.5950459465,3340.8772673924,3796.5394878257,3018.9768917337,3403.6329972968,3588.6407457255,3109.5443792641,3631.1663575992,2860.7764105443,3164.4471346159,3386.3574616015,3002.1206274629,3310.9060310442,3277.8346461095,3439.7912568916,2563.9670736864,3174.7301230207,2457.3602722734,3153.0359210949,2376.8546900097,3001.168105999,2178.7347245496,2605.0884457175,2960.0799346566,2529.8670345582,2417.8163196947,2187.950449856,2543.8498743773,2595.8820813745,2231.6766582839,1640.2182175741,1492.704375973,1916.9509053286,1325.6172870416,1551.0438891817,2060.3372999337,1287.0705238543,1299.7835724764,1267.5403366182,1261.8091877121,995.81969513185,732.55722667091],\"x\":[4.8152255024761,0.13149467110634,-4.0124761061743,7.7447948381305,-3.8030736986548,13.477619801648,8.5572744607925,7.2313684802502,4.5253821471706,1.1441511986777,10.564312770963,7.1179106580094,13.092923911288,15.714601782151,19.671408943832,23.884741108865,15.112677792087,19.788282720372,17.284421083517,17.839404665865,25.725215923972,31.333622111008,28.670155384578,19.718438588083,23.226747782901,16.71103990078,18.775159817189,27.535403880291,24.057597663254,38.754854276776,21.782522256486,38.75179887563,40.232754379511,32.952202596702,41.780584580265,31.710887303576,28.536369170062,39.587017616257,47.466821620241,30.830170903355,46.875024958514,34.043650140986,49.0437584389,36.899490413256,48.853232981637,48.74152725935,41.287190609612,47.837626009248,58.957159725018,48.164168000221,52.408733767457,43.018073572777,46.234823923558,58.997256747447,49.797159610316,56.4721332388,50.616788084619,54.537879956886,65.505643725395,56.408844622783,66.154685429297,58.596725163981,64.348818829283,73.572609225288,64.165577851236,74.673529177904,60.28008774668,64.790053360164,75.626073168591,79.267488396727,74.414199175313,64.018526764587,65.489212248474,71.777777472511,68.243417507038,77.4496641187,85.779297936708,83.853507593274,86.177138184197,86.916232146323,82.516768038273,76.727438697591,77.871605411172,81.867703172378,89.115608427674,82.252157506533,89.929118140601,91.961746254936,80.861342885531,87.822100245394,97.765729603358,89.863772539422,94.171660525724,99.1401761733,96.913380073383,88.363158133812,90.461445155554,97.463851200417,97.665296556428,95.476782862097]},\"column_names\":[\"y\",\"x\"],\"cont_ranges\":{},\"discrete_ranges\":{},\"selected\":[],\"id\":\"94195310-aa19-4ca4-ccff-ddd71d30ae2e\",\"doc\":null,\"tags\":[]}},{\"id\":\"1a51a132-5544-45d0-c517-c7413397c262\",\"type\":\"Circle\",\"attributes\":{\"fill_alpha\":{\"units\":\"data\",\"value\":0.2},\"line_alpha\":{\"units\":\"data\",\"value\":1},\"doc\":null,\"size\":{\"units\":\"screen\",\"value\":10},\"fill_color\":{\"value\":\"green\"},\"line_color\":{\"value\":\"green\"},\"x\":{\"units\":\"data\",\"field\":\"x\"},\"id\":\"1a51a132-5544-45d0-c517-c7413397c262\",\"y\":{\"units\":\"data\",\"field\":\"y\"},\"tags\":[]}},{\"id\":\"bb1614d0-945b-49bc-c939-478134e839e5\",\"type\":\"Circle\",\"attributes\":{\"fill_alpha\":{\"units\":\"data\",\"value\":0.2},\"line_alpha\":{\"units\":\"data\",\"value\":1},\"doc\":null,\"size\":{\"units\":\"screen\",\"value\":10},\"fill_color\":{\"value\":\"green\"},\"line_color\":{\"value\":\"green\"},\"x\":{\"units\":\"data\",\"field\":\"x\"},\"id\":\"bb1614d0-945b-49bc-c939-478134e839e5\",\"y\":{\"units\":\"data\",\"field\":\"y\"},\"tags\":[]}},{\"id\":\"ba89f1af-8906-4b2e-cb32-cc24feeefc78\",\"type\":\"GlyphRenderer\",\"attributes\":{\"name\":null,\"nonselection_glyph\":{\"type\":\"Circle\",\"id\":\"bb1614d0-945b-49bc-c939-478134e839e5\"},\"doc\":null,\"server_data_source\":null,\"data_source\":{\"type\":\"ColumnDataSource\",\"id\":\"94195310-aa19-4ca4-ccff-ddd71d30ae2e\"},\"glyph\":{\"type\":\"Circle\",\"id\":\"1a51a132-5544-45d0-c517-c7413397c262\"},\"selection_glyph\":null,\"id\":\"ba89f1af-8906-4b2e-cb32-cc24feeefc78\",\"tags\":[]}},{\"id\":\"6a3bde1f-0946-44d8-c4ae-464b440e8a88\",\"type\":\"DataRange1d\",\"attributes\":{\"sources\":[{\"columns\":[\"x\"],\"source\":{\"type\":\"ColumnDataSource\",\"id\":\"bb20367c-45be-4187-c160-91a65e1b87ee\"}},{\"columns\":[\"x\"],\"source\":{\"type\":\"ColumnDataSource\",\"id\":\"94195310-aa19-4ca4-ccff-ddd71d30ae2e\"}}],\"id\":\"6a3bde1f-0946-44d8-c4ae-464b440e8a88\",\"tags\":[],\"doc\":null}},{\"id\":\"c2b03050-7182-4818-c81f-517947bf8a35\",\"type\":\"DataRange1d\",\"attributes\":{\"sources\":[{\"columns\":[\"y\"],\"source\":{\"type\":\"ColumnDataSource\",\"id\":\"bb20367c-45be-4187-c160-91a65e1b87ee\"}},{\"columns\":[\"y\"],\"source\":{\"type\":\"ColumnDataSource\",\"id\":\"94195310-aa19-4ca4-ccff-ddd71d30ae2e\"}}],\"id\":\"c2b03050-7182-4818-c81f-517947bf8a35\",\"tags\":[],\"doc\":null}},{\"id\":\"70af5f75-a406-4cb3-ccd2-c2d320ffe43a\",\"type\":\"ToolEvents\",\"attributes\":{\"tags\":[],\"id\":\"70af5f75-a406-4cb3-ccd2-c2d320ffe43a\",\"geometries\":[],\"doc\":null}},{\"id\":\"d8f84276-0c60-46a2-c679-e3d3417d7849\",\"type\":\"BasicTickFormatter\",\"attributes\":{\"id\":\"d8f84276-0c60-46a2-c679-e3d3417d7849\",\"tags\":[],\"doc\":null}},{\"id\":\"78b1c040-27e8-48fc-c89a-a00850c8fc2e\",\"type\":\"BasicTicker\",\"attributes\":{\"num_minor_ticks\":5,\"id\":\"78b1c040-27e8-48fc-c89a-a00850c8fc2e\",\"tags\":[],\"doc\":null}},{\"id\":\"58a0b646-0879-4622-c6ba-6be7f1680868\",\"type\":\"LinearAxis\",\"attributes\":{\"formatter\":{\"type\":\"BasicTickFormatter\",\"id\":\"d8f84276-0c60-46a2-c679-e3d3417d7849\"},\"ticker\":{\"type\":\"BasicTicker\",\"id\":\"78b1c040-27e8-48fc-c89a-a00850c8fc2e\"},\"plot\":{\"id\":\"3d45818a-b5bc-48e0-c871-129881dfe385\",\"type\":\"Plot\",\"subtype\":\"Figure\"},\"axis_label\":\"length\",\"id\":\"58a0b646-0879-4622-c6ba-6be7f1680868\",\"doc\":null,\"tags\":[]}},{\"id\":\"90cd3bab-7862-4102-c12a-1a4193098f73\",\"type\":\"Grid\",\"attributes\":{\"dimension\":0,\"plot\":{\"id\":\"3d45818a-b5bc-48e0-c871-129881dfe385\",\"type\":\"Plot\",\"subtype\":\"Figure\"},\"ticker\":{\"type\":\"BasicTicker\",\"id\":\"78b1c040-27e8-48fc-c89a-a00850c8fc2e\"},\"id\":\"90cd3bab-7862-4102-c12a-1a4193098f73\",\"doc\":null,\"tags\":[]}},{\"id\":\"7d2b0a47-170c-4ac1-ca4a-6685398c9c2b\",\"type\":\"BasicTickFormatter\",\"attributes\":{\"id\":\"7d2b0a47-170c-4ac1-ca4a-6685398c9c2b\",\"tags\":[],\"doc\":null}},{\"id\":\"79655b13-5385-4dc0-cd9f-9c4590daca1a\",\"type\":\"BasicTicker\",\"attributes\":{\"num_minor_ticks\":5,\"id\":\"79655b13-5385-4dc0-cd9f-9c4590daca1a\",\"tags\":[],\"doc\":null}},{\"id\":\"49639db4-a51b-49a2-c935-bff03b70d736\",\"type\":\"LinearAxis\",\"attributes\":{\"formatter\":{\"type\":\"BasicTickFormatter\",\"id\":\"7d2b0a47-170c-4ac1-ca4a-6685398c9c2b\"},\"ticker\":{\"type\":\"BasicTicker\",\"id\":\"79655b13-5385-4dc0-cd9f-9c4590daca1a\"},\"plot\":{\"id\":\"3d45818a-b5bc-48e0-c871-129881dfe385\",\"type\":\"Plot\",\"subtype\":\"Figure\"},\"axis_label\":\"width\",\"id\":\"49639db4-a51b-49a2-c935-bff03b70d736\",\"doc\":null,\"tags\":[]}},{\"id\":\"ae0cac3b-e2e6-4604-c6ee-599419a12508\",\"type\":\"Grid\",\"attributes\":{\"dimension\":1,\"plot\":{\"id\":\"3d45818a-b5bc-48e0-c871-129881dfe385\",\"type\":\"Plot\",\"subtype\":\"Figure\"},\"ticker\":{\"type\":\"BasicTicker\",\"id\":\"79655b13-5385-4dc0-cd9f-9c4590daca1a\"},\"id\":\"ae0cac3b-e2e6-4604-c6ee-599419a12508\",\"doc\":null,\"tags\":[]}},{\"id\":\"68582311-abde-4789-c715-78a4d0c0d2cc\",\"type\":\"PanTool\",\"attributes\":{\"plot\":{\"id\":\"3d45818a-b5bc-48e0-c871-129881dfe385\",\"type\":\"Plot\",\"subtype\":\"Figure\"},\"dimensions\":[\"width\",\"height\"],\"id\":\"68582311-abde-4789-c715-78a4d0c0d2cc\",\"doc\":null,\"tags\":[]}},{\"id\":\"54fb40ed-43a2-470e-c73d-0ef9f3665fbd\",\"type\":\"WheelZoomTool\",\"attributes\":{\"plot\":{\"id\":\"3d45818a-b5bc-48e0-c871-129881dfe385\",\"type\":\"Plot\",\"subtype\":\"Figure\"},\"dimensions\":[\"width\",\"height\"],\"id\":\"54fb40ed-43a2-470e-c73d-0ef9f3665fbd\",\"doc\":null,\"tags\":[]}},{\"id\":\"238a02b3-e1bd-462f-c61c-130de7b273f2\",\"type\":\"BoxZoomTool\",\"attributes\":{\"plot\":{\"id\":\"3d45818a-b5bc-48e0-c871-129881dfe385\",\"type\":\"Plot\",\"subtype\":\"Figure\"},\"id\":\"238a02b3-e1bd-462f-c61c-130de7b273f2\",\"tags\":[],\"doc\":null}},{\"id\":\"1f4bd097-4ffe-4fdd-cf4e-0f2c2a6b99f4\",\"type\":\"PreviewSaveTool\",\"attributes\":{\"plot\":{\"id\":\"3d45818a-b5bc-48e0-c871-129881dfe385\",\"type\":\"Plot\",\"subtype\":\"Figure\"},\"id\":\"1f4bd097-4ffe-4fdd-cf4e-0f2c2a6b99f4\",\"tags\":[],\"doc\":null}},{\"id\":\"1f07709c-9180-46ad-c656-0a5c28549279\",\"type\":\"ResizeTool\",\"attributes\":{\"plot\":{\"id\":\"3d45818a-b5bc-48e0-c871-129881dfe385\",\"type\":\"Plot\",\"subtype\":\"Figure\"},\"id\":\"1f07709c-9180-46ad-c656-0a5c28549279\",\"tags\":[],\"doc\":null}},{\"id\":\"c9ad566e-7db4-47e1-c7e4-45f268caa4b7\",\"type\":\"ResetTool\",\"attributes\":{\"plot\":{\"id\":\"3d45818a-b5bc-48e0-c871-129881dfe385\",\"type\":\"Plot\",\"subtype\":\"Figure\"},\"id\":\"c9ad566e-7db4-47e1-c7e4-45f268caa4b7\",\"tags\":[],\"doc\":null}},{\"id\":\"3d45818a-b5bc-48e0-c871-129881dfe385\",\"type\":\"Plot\",\"attributes\":{\"x_range\":{\"type\":\"DataRange1d\",\"id\":\"6a3bde1f-0946-44d8-c4ae-464b440e8a88\"},\"tool_events\":{\"type\":\"ToolEvents\",\"id\":\"70af5f75-a406-4cb3-ccd2-c2d320ffe43a\"},\"below\":[{\"type\":\"LinearAxis\",\"id\":\"58a0b646-0879-4622-c6ba-6be7f1680868\"}],\"renderers\":[{\"type\":\"GlyphRenderer\",\"id\":\"6761a806-b16f-4d65-cdfb-ac8a32d052d3\"},{\"type\":\"GlyphRenderer\",\"id\":\"ba89f1af-8906-4b2e-cb32-cc24feeefc78\"},{\"type\":\"LinearAxis\",\"id\":\"58a0b646-0879-4622-c6ba-6be7f1680868\"},{\"type\":\"Grid\",\"id\":\"90cd3bab-7862-4102-c12a-1a4193098f73\"},{\"type\":\"LinearAxis\",\"id\":\"49639db4-a51b-49a2-c935-bff03b70d736\"},{\"type\":\"Grid\",\"id\":\"ae0cac3b-e2e6-4604-c6ee-599419a12508\"}],\"above\":[],\"tools\":[{\"type\":\"PanTool\",\"id\":\"68582311-abde-4789-c715-78a4d0c0d2cc\"},{\"type\":\"WheelZoomTool\",\"id\":\"54fb40ed-43a2-470e-c73d-0ef9f3665fbd\"},{\"type\":\"BoxZoomTool\",\"id\":\"238a02b3-e1bd-462f-c61c-130de7b273f2\"},{\"type\":\"PreviewSaveTool\",\"id\":\"1f4bd097-4ffe-4fdd-cf4e-0f2c2a6b99f4\"},{\"type\":\"ResizeTool\",\"id\":\"1f07709c-9180-46ad-c656-0a5c28549279\"},{\"type\":\"ResetTool\",\"id\":\"c9ad566e-7db4-47e1-c7e4-45f268caa4b7\"}],\"doc\":null,\"right\":[],\"title\":\"Scatter Plot Demo\",\"extra_x_ranges\":{},\"left\":[{\"type\":\"LinearAxis\",\"id\":\"49639db4-a51b-49a2-c935-bff03b70d736\"}],\"y_range\":{\"type\":\"DataRange1d\",\"id\":\"c2b03050-7182-4818-c81f-517947bf8a35\"},\"id\":\"3d45818a-b5bc-48e0-c871-129881dfe385\",\"extra_y_ranges\":{},\"tags\":[]}}];\n",
       "      Bokeh.load_models(all_models);\n",
       "      var model = Bokeh.Collections(modeltype).get(modelid);\n",
       "      $(\"#f7004df0-ddf7-4d03-cdb8-4fa1de6e3bcf\").html(''); // clear any previous plot in window_id\n",
       "      var view = new model.default_view({model: model, el: \"#f7004df0-ddf7-4d03-cdb8-4fa1de6e3bcf\"});\n",
       "  });\n",
       "    }\n",
       "});\n",
       "</script>\n",
       "<div class=\"plotdiv\" id=\"726d9651-26a7-4dbc-cde2-0196622ddb44\"></div>\n"
      ]
     },
     "metadata": {},
     "output_type": "display_data"
    },
    {
     "data": {
      "text/html": [
       "<script type=\"text/javascript\">\n",
       "$(function() {\n",
       "    if (typeof (window._bokeh_onload_callbacks) === \"undefined\"){\n",
       "  window._bokeh_onload_callbacks = [];\n",
       "    }\n",
       "    function load_lib(url, callback){\n",
       "  window._bokeh_onload_callbacks.push(callback);\n",
       "  if (window._bokeh_is_loading){\n",
       "      console.log(\"Bokeh: BokehJS is being loaded, scheduling callback at\", new Date());\n",
       "      return null;\n",
       "  }\n",
       "  console.log(\"Bokeh: BokehJS not loaded, scheduling load and callback at\", new Date());\n",
       "  window._bokeh_is_loading = true;\n",
       "  var s = document.createElement('script');\n",
       "  s.src = url;\n",
       "  s.async = true;\n",
       "  s.onreadystatechange = s.onload = function(){\n",
       "      Bokeh.embed.inject_css(\"https://cdn.pydata.org/bokeh-0.7.0.min.css\");\n",
       "      window._bokeh_onload_callbacks.forEach(function(callback){callback()});\n",
       "  };\n",
       "  s.onerror = function(){\n",
       "      console.warn(\"failed to load library \" + url);\n",
       "  };\n",
       "  document.getElementsByTagName(\"head\")[0].appendChild(s);\n",
       "    }\n",
       "\n",
       "    bokehjs_url = \"https://cdn.pydata.org/bokeh-0.7.0.min.js\"\n",
       "\n",
       "    var elt = document.getElementById(\"f7004df0-ddf7-4d03-cdb8-4fa1de6e3bcf\");\n",
       "    if(elt==null) {\n",
       "  console.log(\"Bokeh: ERROR: autoload.js configured with elementid 'f7004df0-ddf7-4d03-cdb8-4fa1de6e3bcf'\"\n",
       "        + \"but no matching script tag was found. \")\n",
       "  return false;\n",
       "    }\n",
       "\n",
       "    if(typeof(Bokeh) !== \"undefined\") {\n",
       "  console.log(\"Bokeh: BokehJS loaded, going straight to plotting\");\n",
       "  var modelid = \"c63eef67-c46d-48fa-c885-6d2dba752924\";\n",
       "  var modeltype = \"Plot\";\n",
       "  var all_models = [{\"id\":\"fa53e8bb-63ea-4b35-cbbb-060d9521a3d0\",\"type\":\"ColumnDataSource\",\"attributes\":{\"data\":{\"y\":[2893.9736033082,3068.3551430665,2428.8043917306,2580.1108606011,2222.5398934446,2438.4062399752,2526.2124269046,1928.0445943922,2514.4788808133,2593.9692651387,2080.9474143237,2118.1662812419,1524.7856178842,1580.8326801322,1617.1798812225,1970.2916713841,1862.8629602827,1760.1258771271,1707.4978129137,1133.6447450798,976.24329219945,1773.5510727074,1045.5844138712,850.89755456336,1409.0830481146,583.81344925053,937.5091187153,628.85609857365,895.32872697711,1317.0919770841,743.85330310464,1105.9156385958,713.50980609283,822.21305481531,424.96658619493,629.79828170873,510.93414542824,505.33144842461,801.86011963896,633.56297570281,925.09371227957,394.90863819234,1027.2289338764,205.07231137156,814.01424375363,452.96518358774,85.797463931143,44.490050334483,249.48528252915,348.05635549128,478.22248127684,532.0847097747,977.9448189456,683.44834603742,734.59104597569,576.19167553633,395.53417300433,453.58463212475,676.59504594654,540.87726739235,1038.5394878257,306.97689173371,741.63299729675,980.64074572548,559.54437926412,1143.1663575992,438.77641054429,812.44713461585,1108.3574616015,802.12062746286,1192.9060310442,1245.8346461095,1497.7912568916,715.96707368642,1424.7301230207,809.36027227342,1611.0359210949,944.85469000973,1683.168105999,978.73472454958,1527.0884457175,2008.0799346566,1707.8670345582,1729.8163196947,1637.950449856,2135.8498743773,2333.8820813745,2119.6766582839,1682.2182175741,1692.704375973,2278.9509053286,1853.6172870416,2249.0438891817,2932.3372999337,2337.0705238543,2531.7835724764,2685.5403366182,2869.8091877121,2797.8196951319,2732.5572266709],\"x\":[-47.349930658005,-46.604234321974,-29.305925386027,-33.976788361557,-30.387034476735,-37.955854461528,-30.81928403303,-35.385500675067,-39.966158572584,-34.789047120139,-33.486775561236,-29.080546765588,-20.378227339126,-30.819621709175,-18.751381114125,-15.262743482366,-13.578915835358,-20.139337301254,-14.924013497308,-22.795036812313,-10.791448607109,-11.229828239419,-19.626831769012,-13.795738866553,-23.968760366552,-9.0484726391733,-9.5699297282845,-10.988421689719,-12.579646724276,-2.1577334217727,-2.4733617631719,-10.357285306789,1.6020815465599,-0.016335876658559,1.7295683454722,-9.0414553983137,-3.1554643921554,-10.892873707227,-0.97847224585712,-0.13966286554933,-4.2366507332772,5.2935744803399,4.9699348276481,-0.50311210006475,4.7485939366743,3.9904089216143,16.400620609522,13.944757820107,15.300917784683,13.879762780853,3.248822748661,14.217454542406,9.0429517226294,9.4479160020128,10.356786795892,23.425943207927,21.623711789027,8.9524152381346,11.390873017721,15.475862193853,14.918921942823,13.226013628766,28.830329842865,18.047446027398,23.393696397543,16.961556304246,24.246999666095,25.584715122357,21.148490347899,23.25698081404,37.446296898648,39.813747948967,23.215840158053,25.613477231003,43.421714529395,29.891490404494,37.71601009462,34.369424816221,29.697267078795,42.10780962836,37.921626580879,38.025783861987,51.00957751926,37.552645752206,50.387153835036,48.428553733043,46.537812178023,40.826281031594,45.006823638454,43.823475320823,47.894105686806,59.877353108488,54.423133402131,60.183991828002,51.611829083413,49.481650259346,63.093700253405,57.248527823947,58.094096841291,54.874244546518]},\"column_names\":[\"y\",\"x\"],\"cont_ranges\":{},\"discrete_ranges\":{},\"selected\":[],\"id\":\"fa53e8bb-63ea-4b35-cbbb-060d9521a3d0\",\"doc\":null,\"tags\":[]}},{\"id\":\"26b910f7-7142-4da8-cdf7-b9d847846dc8\",\"type\":\"Circle\",\"attributes\":{\"fill_alpha\":{\"units\":\"data\",\"value\":0.2},\"line_alpha\":{\"units\":\"data\",\"value\":1},\"doc\":null,\"size\":{\"units\":\"screen\",\"value\":10},\"fill_color\":{\"value\":\"red\"},\"line_color\":{\"value\":\"red\"},\"x\":{\"units\":\"data\",\"field\":\"x\"},\"id\":\"26b910f7-7142-4da8-cdf7-b9d847846dc8\",\"y\":{\"units\":\"data\",\"field\":\"y\"},\"tags\":[]}},{\"id\":\"7e53a95b-08ef-4339-c32e-16902ef9f67f\",\"type\":\"Circle\",\"attributes\":{\"fill_alpha\":{\"units\":\"data\",\"value\":0.2},\"line_alpha\":{\"units\":\"data\",\"value\":1},\"doc\":null,\"size\":{\"units\":\"screen\",\"value\":10},\"fill_color\":{\"value\":\"red\"},\"line_color\":{\"value\":\"red\"},\"x\":{\"units\":\"data\",\"field\":\"x\"},\"id\":\"7e53a95b-08ef-4339-c32e-16902ef9f67f\",\"y\":{\"units\":\"data\",\"field\":\"y\"},\"tags\":[]}},{\"id\":\"7c1c3b2b-9737-4c82-cc53-e49f48d9a50e\",\"type\":\"GlyphRenderer\",\"attributes\":{\"name\":null,\"nonselection_glyph\":{\"type\":\"Circle\",\"id\":\"7e53a95b-08ef-4339-c32e-16902ef9f67f\"},\"doc\":null,\"server_data_source\":null,\"data_source\":{\"type\":\"ColumnDataSource\",\"id\":\"fa53e8bb-63ea-4b35-cbbb-060d9521a3d0\"},\"glyph\":{\"type\":\"Circle\",\"id\":\"26b910f7-7142-4da8-cdf7-b9d847846dc8\"},\"selection_glyph\":null,\"id\":\"7c1c3b2b-9737-4c82-cc53-e49f48d9a50e\",\"tags\":[]}},{\"id\":\"9afa655f-a39a-4528-c531-0b258e1aed23\",\"type\":\"ColumnDataSource\",\"attributes\":{\"data\":{\"y\":[1091.9736033082,1460.3551430665,1010.8043917306,1348.1108606011,1172.5398934446,1566.4062399752,1828.2124269046,1400.0445943922,2152.4788808133,2393.9692651387,2038.9474143237,2230.1662812419,1786.7856178842,1988.8326801322,2167.1798812225,2658.2916713841,2684.8629602827,2712.1258771271,2785.4978129137,2333.6447450798,2294.2432921994,3205.5510727074,2587.5844138712,2498.8975545634,3159.0830481146,2431.8134492505,2879.5091187153,2660.8560985737,3013.3287269771,3517.0919770841,3021.8533031046,3457.9156385958,3135.5098060928,3310.2130548153,2974.9665861949,3237.7982817087,3172.9341454282,3217.3314484246,3559.860119639,3433.5629757028,3763.0937122796,3266.9086381923,3929.2289338764,3133.0723113716,3764.0142437536,3420.9651835877,3067.7974639311,3036.4900503345,3247.4852825291,3348.0563554913,3476.2224812768,3524.0847097747,3959.9448189456,3651.4483460374,3684.5910459757,3504.1916755363,3297.5341730043,3325.5846321248,3514.5950459465,3340.8772673924,3796.5394878257,3018.9768917337,3403.6329972968,3588.6407457255,3109.5443792641,3631.1663575992,2860.7764105443,3164.4471346159,3386.3574616015,3002.1206274629,3310.9060310442,3277.8346461095,3439.7912568916,2563.9670736864,3174.7301230207,2457.3602722734,3153.0359210949,2376.8546900097,3001.168105999,2178.7347245496,2605.0884457175,2960.0799346566,2529.8670345582,2417.8163196947,2187.950449856,2543.8498743773,2595.8820813745,2231.6766582839,1640.2182175741,1492.704375973,1916.9509053286,1325.6172870416,1551.0438891817,2060.3372999337,1287.0705238543,1299.7835724764,1267.5403366182,1261.8091877121,995.81969513185,732.55722667091],\"x\":[4.8152255024761,0.13149467110634,-4.0124761061743,7.7447948381305,-3.8030736986548,13.477619801648,8.5572744607925,7.2313684802502,4.5253821471706,1.1441511986777,10.564312770963,7.1179106580094,13.092923911288,15.714601782151,19.671408943832,23.884741108865,15.112677792087,19.788282720372,17.284421083517,17.839404665865,25.725215923972,31.333622111008,28.670155384578,19.718438588083,23.226747782901,16.71103990078,18.775159817189,27.535403880291,24.057597663254,38.754854276776,21.782522256486,38.75179887563,40.232754379511,32.952202596702,41.780584580265,31.710887303576,28.536369170062,39.587017616257,47.466821620241,30.830170903355,46.875024958514,34.043650140986,49.0437584389,36.899490413256,48.853232981637,48.74152725935,41.287190609612,47.837626009248,58.957159725018,48.164168000221,52.408733767457,43.018073572777,46.234823923558,58.997256747447,49.797159610316,56.4721332388,50.616788084619,54.537879956886,65.505643725395,56.408844622783,66.154685429297,58.596725163981,64.348818829283,73.572609225288,64.165577851236,74.673529177904,60.28008774668,64.790053360164,75.626073168591,79.267488396727,74.414199175313,64.018526764587,65.489212248474,71.777777472511,68.243417507038,77.4496641187,85.779297936708,83.853507593274,86.177138184197,86.916232146323,82.516768038273,76.727438697591,77.871605411172,81.867703172378,89.115608427674,82.252157506533,89.929118140601,91.961746254936,80.861342885531,87.822100245394,97.765729603358,89.863772539422,94.171660525724,99.1401761733,96.913380073383,88.363158133812,90.461445155554,97.463851200417,97.665296556428,95.476782862097]},\"column_names\":[\"y\",\"x\"],\"cont_ranges\":{},\"discrete_ranges\":{},\"selected\":[],\"id\":\"9afa655f-a39a-4528-c531-0b258e1aed23\",\"doc\":null,\"tags\":[]}},{\"id\":\"d0d4b845-1e1d-4bba-cbfe-d0a02a0f6a0b\",\"type\":\"Circle\",\"attributes\":{\"fill_alpha\":{\"units\":\"data\",\"value\":0.2},\"line_alpha\":{\"units\":\"data\",\"value\":1},\"doc\":null,\"size\":{\"units\":\"screen\",\"value\":10},\"fill_color\":{\"value\":\"green\"},\"line_color\":{\"value\":\"green\"},\"x\":{\"units\":\"data\",\"field\":\"x\"},\"id\":\"d0d4b845-1e1d-4bba-cbfe-d0a02a0f6a0b\",\"y\":{\"units\":\"data\",\"field\":\"y\"},\"tags\":[]}},{\"id\":\"b3fb7d0d-10e3-4e01-ce5f-102b01eb5a09\",\"type\":\"Circle\",\"attributes\":{\"fill_alpha\":{\"units\":\"data\",\"value\":0.2},\"line_alpha\":{\"units\":\"data\",\"value\":1},\"doc\":null,\"size\":{\"units\":\"screen\",\"value\":10},\"fill_color\":{\"value\":\"green\"},\"line_color\":{\"value\":\"green\"},\"x\":{\"units\":\"data\",\"field\":\"x\"},\"id\":\"b3fb7d0d-10e3-4e01-ce5f-102b01eb5a09\",\"y\":{\"units\":\"data\",\"field\":\"y\"},\"tags\":[]}},{\"id\":\"170864b3-51c1-48bb-c8b5-822ee5016f7f\",\"type\":\"GlyphRenderer\",\"attributes\":{\"name\":null,\"nonselection_glyph\":{\"type\":\"Circle\",\"id\":\"b3fb7d0d-10e3-4e01-ce5f-102b01eb5a09\"},\"doc\":null,\"server_data_source\":null,\"data_source\":{\"type\":\"ColumnDataSource\",\"id\":\"9afa655f-a39a-4528-c531-0b258e1aed23\"},\"glyph\":{\"type\":\"Circle\",\"id\":\"d0d4b845-1e1d-4bba-cbfe-d0a02a0f6a0b\"},\"selection_glyph\":null,\"id\":\"170864b3-51c1-48bb-c8b5-822ee5016f7f\",\"tags\":[]}},{\"id\":\"4687fd86-8de1-480a-c815-083767da76ca\",\"type\":\"DataRange1d\",\"attributes\":{\"sources\":[{\"columns\":[\"x\"],\"source\":{\"type\":\"ColumnDataSource\",\"id\":\"fa53e8bb-63ea-4b35-cbbb-060d9521a3d0\"}},{\"columns\":[\"x\"],\"source\":{\"type\":\"ColumnDataSource\",\"id\":\"9afa655f-a39a-4528-c531-0b258e1aed23\"}}],\"id\":\"4687fd86-8de1-480a-c815-083767da76ca\",\"tags\":[],\"doc\":null}},{\"id\":\"f4cb1888-616c-45a0-c59e-109620a30fc8\",\"type\":\"DataRange1d\",\"attributes\":{\"sources\":[{\"columns\":[\"y\"],\"source\":{\"type\":\"ColumnDataSource\",\"id\":\"fa53e8bb-63ea-4b35-cbbb-060d9521a3d0\"}},{\"columns\":[\"y\"],\"source\":{\"type\":\"ColumnDataSource\",\"id\":\"9afa655f-a39a-4528-c531-0b258e1aed23\"}}],\"id\":\"f4cb1888-616c-45a0-c59e-109620a30fc8\",\"tags\":[],\"doc\":null}},{\"id\":\"3dd3c44c-19a3-495b-c93f-c480dbfd62f0\",\"type\":\"ToolEvents\",\"attributes\":{\"tags\":[],\"id\":\"3dd3c44c-19a3-495b-c93f-c480dbfd62f0\",\"geometries\":[],\"doc\":null}},{\"id\":\"aa79834e-62fe-4931-c97a-215505fb245f\",\"type\":\"BasicTickFormatter\",\"attributes\":{\"id\":\"aa79834e-62fe-4931-c97a-215505fb245f\",\"tags\":[],\"doc\":null}},{\"id\":\"305b746c-3634-4deb-cd6a-06ee12c7e68c\",\"type\":\"BasicTicker\",\"attributes\":{\"num_minor_ticks\":5,\"id\":\"305b746c-3634-4deb-cd6a-06ee12c7e68c\",\"tags\":[],\"doc\":null}},{\"id\":\"0e95a6a2-8d86-410c-c12b-7da8a7372f42\",\"type\":\"LinearAxis\",\"attributes\":{\"formatter\":{\"type\":\"BasicTickFormatter\",\"id\":\"aa79834e-62fe-4931-c97a-215505fb245f\"},\"ticker\":{\"type\":\"BasicTicker\",\"id\":\"305b746c-3634-4deb-cd6a-06ee12c7e68c\"},\"plot\":{\"id\":\"c63eef67-c46d-48fa-c885-6d2dba752924\",\"type\":\"Plot\",\"subtype\":\"Figure\"},\"axis_label\":\"length\",\"id\":\"0e95a6a2-8d86-410c-c12b-7da8a7372f42\",\"doc\":null,\"tags\":[]}},{\"id\":\"646beeb2-f4a7-41fc-c111-cf6af0eff6d8\",\"type\":\"Grid\",\"attributes\":{\"dimension\":0,\"plot\":{\"id\":\"c63eef67-c46d-48fa-c885-6d2dba752924\",\"type\":\"Plot\",\"subtype\":\"Figure\"},\"ticker\":{\"type\":\"BasicTicker\",\"id\":\"305b746c-3634-4deb-cd6a-06ee12c7e68c\"},\"id\":\"646beeb2-f4a7-41fc-c111-cf6af0eff6d8\",\"doc\":null,\"tags\":[]}},{\"id\":\"4f4d10f5-e388-4b9b-cbf9-c9449d93716f\",\"type\":\"BasicTickFormatter\",\"attributes\":{\"id\":\"4f4d10f5-e388-4b9b-cbf9-c9449d93716f\",\"tags\":[],\"doc\":null}},{\"id\":\"640a6289-e4fe-4237-c22a-04d575afa26a\",\"type\":\"BasicTicker\",\"attributes\":{\"num_minor_ticks\":5,\"id\":\"640a6289-e4fe-4237-c22a-04d575afa26a\",\"tags\":[],\"doc\":null}},{\"id\":\"23a6007e-c94b-4abe-ca14-4511e4e7105c\",\"type\":\"LinearAxis\",\"attributes\":{\"formatter\":{\"type\":\"BasicTickFormatter\",\"id\":\"4f4d10f5-e388-4b9b-cbf9-c9449d93716f\"},\"ticker\":{\"type\":\"BasicTicker\",\"id\":\"640a6289-e4fe-4237-c22a-04d575afa26a\"},\"plot\":{\"id\":\"c63eef67-c46d-48fa-c885-6d2dba752924\",\"type\":\"Plot\",\"subtype\":\"Figure\"},\"axis_label\":\"width\",\"id\":\"23a6007e-c94b-4abe-ca14-4511e4e7105c\",\"doc\":null,\"tags\":[]}},{\"id\":\"6df259df-00d6-4c1d-cc95-9a45b54cc3c1\",\"type\":\"Grid\",\"attributes\":{\"dimension\":1,\"plot\":{\"id\":\"c63eef67-c46d-48fa-c885-6d2dba752924\",\"type\":\"Plot\",\"subtype\":\"Figure\"},\"ticker\":{\"type\":\"BasicTicker\",\"id\":\"640a6289-e4fe-4237-c22a-04d575afa26a\"},\"id\":\"6df259df-00d6-4c1d-cc95-9a45b54cc3c1\",\"doc\":null,\"tags\":[]}},{\"id\":\"859ec279-368f-4bd5-cbfe-edc6559df4c5\",\"type\":\"PanTool\",\"attributes\":{\"plot\":{\"id\":\"c63eef67-c46d-48fa-c885-6d2dba752924\",\"type\":\"Plot\",\"subtype\":\"Figure\"},\"dimensions\":[\"width\",\"height\"],\"id\":\"859ec279-368f-4bd5-cbfe-edc6559df4c5\",\"doc\":null,\"tags\":[]}},{\"id\":\"3efc495f-e3c2-448d-c46e-43fafc3c538e\",\"type\":\"WheelZoomTool\",\"attributes\":{\"plot\":{\"id\":\"c63eef67-c46d-48fa-c885-6d2dba752924\",\"type\":\"Plot\",\"subtype\":\"Figure\"},\"dimensions\":[\"width\",\"height\"],\"id\":\"3efc495f-e3c2-448d-c46e-43fafc3c538e\",\"doc\":null,\"tags\":[]}},{\"id\":\"a2845367-8bc9-4a0d-cab4-c2a59b2b0972\",\"type\":\"BoxZoomTool\",\"attributes\":{\"plot\":{\"id\":\"c63eef67-c46d-48fa-c885-6d2dba752924\",\"type\":\"Plot\",\"subtype\":\"Figure\"},\"id\":\"a2845367-8bc9-4a0d-cab4-c2a59b2b0972\",\"tags\":[],\"doc\":null}},{\"id\":\"a04ed1b4-3c62-4b65-cbb4-c3d180329b66\",\"type\":\"PreviewSaveTool\",\"attributes\":{\"plot\":{\"id\":\"c63eef67-c46d-48fa-c885-6d2dba752924\",\"type\":\"Plot\",\"subtype\":\"Figure\"},\"id\":\"a04ed1b4-3c62-4b65-cbb4-c3d180329b66\",\"tags\":[],\"doc\":null}},{\"id\":\"77eec186-0054-431c-c372-a14b085461d5\",\"type\":\"ResizeTool\",\"attributes\":{\"plot\":{\"id\":\"c63eef67-c46d-48fa-c885-6d2dba752924\",\"type\":\"Plot\",\"subtype\":\"Figure\"},\"id\":\"77eec186-0054-431c-c372-a14b085461d5\",\"tags\":[],\"doc\":null}},{\"id\":\"5a5b9abf-c699-4165-c113-4182642f97d5\",\"type\":\"ResetTool\",\"attributes\":{\"plot\":{\"id\":\"c63eef67-c46d-48fa-c885-6d2dba752924\",\"type\":\"Plot\",\"subtype\":\"Figure\"},\"id\":\"5a5b9abf-c699-4165-c113-4182642f97d5\",\"tags\":[],\"doc\":null}},{\"id\":\"595acf0b-a9ae-4013-c05d-28642b4958df\",\"type\":\"Legend\",\"attributes\":{\"plot\":{\"id\":\"c63eef67-c46d-48fa-c885-6d2dba752924\",\"type\":\"Plot\",\"subtype\":\"Figure\"},\"legends\":[[\"hi\",[{\"type\":\"GlyphRenderer\",\"id\":\"7c1c3b2b-9737-4c82-cc53-e49f48d9a50e\"}]],[\"yolo\",[{\"type\":\"GlyphRenderer\",\"id\":\"170864b3-51c1-48bb-c8b5-822ee5016f7f\"}]]],\"id\":\"595acf0b-a9ae-4013-c05d-28642b4958df\",\"doc\":null,\"tags\":[]}},{\"id\":\"c63eef67-c46d-48fa-c885-6d2dba752924\",\"type\":\"Plot\",\"attributes\":{\"x_range\":{\"type\":\"DataRange1d\",\"id\":\"4687fd86-8de1-480a-c815-083767da76ca\"},\"tool_events\":{\"type\":\"ToolEvents\",\"id\":\"3dd3c44c-19a3-495b-c93f-c480dbfd62f0\"},\"below\":[{\"type\":\"LinearAxis\",\"id\":\"0e95a6a2-8d86-410c-c12b-7da8a7372f42\"}],\"renderers\":[{\"type\":\"GlyphRenderer\",\"id\":\"7c1c3b2b-9737-4c82-cc53-e49f48d9a50e\"},{\"type\":\"GlyphRenderer\",\"id\":\"170864b3-51c1-48bb-c8b5-822ee5016f7f\"},{\"type\":\"LinearAxis\",\"id\":\"0e95a6a2-8d86-410c-c12b-7da8a7372f42\"},{\"type\":\"Grid\",\"id\":\"646beeb2-f4a7-41fc-c111-cf6af0eff6d8\"},{\"type\":\"LinearAxis\",\"id\":\"23a6007e-c94b-4abe-ca14-4511e4e7105c\"},{\"type\":\"Grid\",\"id\":\"6df259df-00d6-4c1d-cc95-9a45b54cc3c1\"},{\"type\":\"Legend\",\"id\":\"595acf0b-a9ae-4013-c05d-28642b4958df\"}],\"above\":[],\"tools\":[{\"type\":\"PanTool\",\"id\":\"859ec279-368f-4bd5-cbfe-edc6559df4c5\"},{\"type\":\"WheelZoomTool\",\"id\":\"3efc495f-e3c2-448d-c46e-43fafc3c538e\"},{\"type\":\"BoxZoomTool\",\"id\":\"a2845367-8bc9-4a0d-cab4-c2a59b2b0972\"},{\"type\":\"PreviewSaveTool\",\"id\":\"a04ed1b4-3c62-4b65-cbb4-c3d180329b66\"},{\"type\":\"ResizeTool\",\"id\":\"77eec186-0054-431c-c372-a14b085461d5\"},{\"type\":\"ResetTool\",\"id\":\"5a5b9abf-c699-4165-c113-4182642f97d5\"}],\"doc\":null,\"right\":[],\"title\":\"Scatter Plot Demo\",\"extra_x_ranges\":{},\"left\":[{\"type\":\"LinearAxis\",\"id\":\"23a6007e-c94b-4abe-ca14-4511e4e7105c\"}],\"y_range\":{\"type\":\"DataRange1d\",\"id\":\"f4cb1888-616c-45a0-c59e-109620a30fc8\"},\"id\":\"c63eef67-c46d-48fa-c885-6d2dba752924\",\"extra_y_ranges\":{},\"tags\":[]}}];\n",
       "  Bokeh.load_models(all_models);\n",
       "  var model = Bokeh.Collections(modeltype).get(modelid);\n",
       "  $(\"#f7004df0-ddf7-4d03-cdb8-4fa1de6e3bcf\").html(''); // clear any previous plot in window_id\n",
       "  var view = new model.default_view({model: model, el: \"#f7004df0-ddf7-4d03-cdb8-4fa1de6e3bcf\"});\n",
       "    } else {\n",
       "  load_lib(bokehjs_url, function() {\n",
       "      console.log(\"Bokeh: BokehJS plotting callback run at\", new Date())\n",
       "      var modelid = \"c63eef67-c46d-48fa-c885-6d2dba752924\";\n",
       "      var modeltype = \"Plot\";\n",
       "      var all_models = [{\"id\":\"fa53e8bb-63ea-4b35-cbbb-060d9521a3d0\",\"type\":\"ColumnDataSource\",\"attributes\":{\"data\":{\"y\":[2893.9736033082,3068.3551430665,2428.8043917306,2580.1108606011,2222.5398934446,2438.4062399752,2526.2124269046,1928.0445943922,2514.4788808133,2593.9692651387,2080.9474143237,2118.1662812419,1524.7856178842,1580.8326801322,1617.1798812225,1970.2916713841,1862.8629602827,1760.1258771271,1707.4978129137,1133.6447450798,976.24329219945,1773.5510727074,1045.5844138712,850.89755456336,1409.0830481146,583.81344925053,937.5091187153,628.85609857365,895.32872697711,1317.0919770841,743.85330310464,1105.9156385958,713.50980609283,822.21305481531,424.96658619493,629.79828170873,510.93414542824,505.33144842461,801.86011963896,633.56297570281,925.09371227957,394.90863819234,1027.2289338764,205.07231137156,814.01424375363,452.96518358774,85.797463931143,44.490050334483,249.48528252915,348.05635549128,478.22248127684,532.0847097747,977.9448189456,683.44834603742,734.59104597569,576.19167553633,395.53417300433,453.58463212475,676.59504594654,540.87726739235,1038.5394878257,306.97689173371,741.63299729675,980.64074572548,559.54437926412,1143.1663575992,438.77641054429,812.44713461585,1108.3574616015,802.12062746286,1192.9060310442,1245.8346461095,1497.7912568916,715.96707368642,1424.7301230207,809.36027227342,1611.0359210949,944.85469000973,1683.168105999,978.73472454958,1527.0884457175,2008.0799346566,1707.8670345582,1729.8163196947,1637.950449856,2135.8498743773,2333.8820813745,2119.6766582839,1682.2182175741,1692.704375973,2278.9509053286,1853.6172870416,2249.0438891817,2932.3372999337,2337.0705238543,2531.7835724764,2685.5403366182,2869.8091877121,2797.8196951319,2732.5572266709],\"x\":[-47.349930658005,-46.604234321974,-29.305925386027,-33.976788361557,-30.387034476735,-37.955854461528,-30.81928403303,-35.385500675067,-39.966158572584,-34.789047120139,-33.486775561236,-29.080546765588,-20.378227339126,-30.819621709175,-18.751381114125,-15.262743482366,-13.578915835358,-20.139337301254,-14.924013497308,-22.795036812313,-10.791448607109,-11.229828239419,-19.626831769012,-13.795738866553,-23.968760366552,-9.0484726391733,-9.5699297282845,-10.988421689719,-12.579646724276,-2.1577334217727,-2.4733617631719,-10.357285306789,1.6020815465599,-0.016335876658559,1.7295683454722,-9.0414553983137,-3.1554643921554,-10.892873707227,-0.97847224585712,-0.13966286554933,-4.2366507332772,5.2935744803399,4.9699348276481,-0.50311210006475,4.7485939366743,3.9904089216143,16.400620609522,13.944757820107,15.300917784683,13.879762780853,3.248822748661,14.217454542406,9.0429517226294,9.4479160020128,10.356786795892,23.425943207927,21.623711789027,8.9524152381346,11.390873017721,15.475862193853,14.918921942823,13.226013628766,28.830329842865,18.047446027398,23.393696397543,16.961556304246,24.246999666095,25.584715122357,21.148490347899,23.25698081404,37.446296898648,39.813747948967,23.215840158053,25.613477231003,43.421714529395,29.891490404494,37.71601009462,34.369424816221,29.697267078795,42.10780962836,37.921626580879,38.025783861987,51.00957751926,37.552645752206,50.387153835036,48.428553733043,46.537812178023,40.826281031594,45.006823638454,43.823475320823,47.894105686806,59.877353108488,54.423133402131,60.183991828002,51.611829083413,49.481650259346,63.093700253405,57.248527823947,58.094096841291,54.874244546518]},\"column_names\":[\"y\",\"x\"],\"cont_ranges\":{},\"discrete_ranges\":{},\"selected\":[],\"id\":\"fa53e8bb-63ea-4b35-cbbb-060d9521a3d0\",\"doc\":null,\"tags\":[]}},{\"id\":\"26b910f7-7142-4da8-cdf7-b9d847846dc8\",\"type\":\"Circle\",\"attributes\":{\"fill_alpha\":{\"units\":\"data\",\"value\":0.2},\"line_alpha\":{\"units\":\"data\",\"value\":1},\"doc\":null,\"size\":{\"units\":\"screen\",\"value\":10},\"fill_color\":{\"value\":\"red\"},\"line_color\":{\"value\":\"red\"},\"x\":{\"units\":\"data\",\"field\":\"x\"},\"id\":\"26b910f7-7142-4da8-cdf7-b9d847846dc8\",\"y\":{\"units\":\"data\",\"field\":\"y\"},\"tags\":[]}},{\"id\":\"7e53a95b-08ef-4339-c32e-16902ef9f67f\",\"type\":\"Circle\",\"attributes\":{\"fill_alpha\":{\"units\":\"data\",\"value\":0.2},\"line_alpha\":{\"units\":\"data\",\"value\":1},\"doc\":null,\"size\":{\"units\":\"screen\",\"value\":10},\"fill_color\":{\"value\":\"red\"},\"line_color\":{\"value\":\"red\"},\"x\":{\"units\":\"data\",\"field\":\"x\"},\"id\":\"7e53a95b-08ef-4339-c32e-16902ef9f67f\",\"y\":{\"units\":\"data\",\"field\":\"y\"},\"tags\":[]}},{\"id\":\"7c1c3b2b-9737-4c82-cc53-e49f48d9a50e\",\"type\":\"GlyphRenderer\",\"attributes\":{\"name\":null,\"nonselection_glyph\":{\"type\":\"Circle\",\"id\":\"7e53a95b-08ef-4339-c32e-16902ef9f67f\"},\"doc\":null,\"server_data_source\":null,\"data_source\":{\"type\":\"ColumnDataSource\",\"id\":\"fa53e8bb-63ea-4b35-cbbb-060d9521a3d0\"},\"glyph\":{\"type\":\"Circle\",\"id\":\"26b910f7-7142-4da8-cdf7-b9d847846dc8\"},\"selection_glyph\":null,\"id\":\"7c1c3b2b-9737-4c82-cc53-e49f48d9a50e\",\"tags\":[]}},{\"id\":\"9afa655f-a39a-4528-c531-0b258e1aed23\",\"type\":\"ColumnDataSource\",\"attributes\":{\"data\":{\"y\":[1091.9736033082,1460.3551430665,1010.8043917306,1348.1108606011,1172.5398934446,1566.4062399752,1828.2124269046,1400.0445943922,2152.4788808133,2393.9692651387,2038.9474143237,2230.1662812419,1786.7856178842,1988.8326801322,2167.1798812225,2658.2916713841,2684.8629602827,2712.1258771271,2785.4978129137,2333.6447450798,2294.2432921994,3205.5510727074,2587.5844138712,2498.8975545634,3159.0830481146,2431.8134492505,2879.5091187153,2660.8560985737,3013.3287269771,3517.0919770841,3021.8533031046,3457.9156385958,3135.5098060928,3310.2130548153,2974.9665861949,3237.7982817087,3172.9341454282,3217.3314484246,3559.860119639,3433.5629757028,3763.0937122796,3266.9086381923,3929.2289338764,3133.0723113716,3764.0142437536,3420.9651835877,3067.7974639311,3036.4900503345,3247.4852825291,3348.0563554913,3476.2224812768,3524.0847097747,3959.9448189456,3651.4483460374,3684.5910459757,3504.1916755363,3297.5341730043,3325.5846321248,3514.5950459465,3340.8772673924,3796.5394878257,3018.9768917337,3403.6329972968,3588.6407457255,3109.5443792641,3631.1663575992,2860.7764105443,3164.4471346159,3386.3574616015,3002.1206274629,3310.9060310442,3277.8346461095,3439.7912568916,2563.9670736864,3174.7301230207,2457.3602722734,3153.0359210949,2376.8546900097,3001.168105999,2178.7347245496,2605.0884457175,2960.0799346566,2529.8670345582,2417.8163196947,2187.950449856,2543.8498743773,2595.8820813745,2231.6766582839,1640.2182175741,1492.704375973,1916.9509053286,1325.6172870416,1551.0438891817,2060.3372999337,1287.0705238543,1299.7835724764,1267.5403366182,1261.8091877121,995.81969513185,732.55722667091],\"x\":[4.8152255024761,0.13149467110634,-4.0124761061743,7.7447948381305,-3.8030736986548,13.477619801648,8.5572744607925,7.2313684802502,4.5253821471706,1.1441511986777,10.564312770963,7.1179106580094,13.092923911288,15.714601782151,19.671408943832,23.884741108865,15.112677792087,19.788282720372,17.284421083517,17.839404665865,25.725215923972,31.333622111008,28.670155384578,19.718438588083,23.226747782901,16.71103990078,18.775159817189,27.535403880291,24.057597663254,38.754854276776,21.782522256486,38.75179887563,40.232754379511,32.952202596702,41.780584580265,31.710887303576,28.536369170062,39.587017616257,47.466821620241,30.830170903355,46.875024958514,34.043650140986,49.0437584389,36.899490413256,48.853232981637,48.74152725935,41.287190609612,47.837626009248,58.957159725018,48.164168000221,52.408733767457,43.018073572777,46.234823923558,58.997256747447,49.797159610316,56.4721332388,50.616788084619,54.537879956886,65.505643725395,56.408844622783,66.154685429297,58.596725163981,64.348818829283,73.572609225288,64.165577851236,74.673529177904,60.28008774668,64.790053360164,75.626073168591,79.267488396727,74.414199175313,64.018526764587,65.489212248474,71.777777472511,68.243417507038,77.4496641187,85.779297936708,83.853507593274,86.177138184197,86.916232146323,82.516768038273,76.727438697591,77.871605411172,81.867703172378,89.115608427674,82.252157506533,89.929118140601,91.961746254936,80.861342885531,87.822100245394,97.765729603358,89.863772539422,94.171660525724,99.1401761733,96.913380073383,88.363158133812,90.461445155554,97.463851200417,97.665296556428,95.476782862097]},\"column_names\":[\"y\",\"x\"],\"cont_ranges\":{},\"discrete_ranges\":{},\"selected\":[],\"id\":\"9afa655f-a39a-4528-c531-0b258e1aed23\",\"doc\":null,\"tags\":[]}},{\"id\":\"d0d4b845-1e1d-4bba-cbfe-d0a02a0f6a0b\",\"type\":\"Circle\",\"attributes\":{\"fill_alpha\":{\"units\":\"data\",\"value\":0.2},\"line_alpha\":{\"units\":\"data\",\"value\":1},\"doc\":null,\"size\":{\"units\":\"screen\",\"value\":10},\"fill_color\":{\"value\":\"green\"},\"line_color\":{\"value\":\"green\"},\"x\":{\"units\":\"data\",\"field\":\"x\"},\"id\":\"d0d4b845-1e1d-4bba-cbfe-d0a02a0f6a0b\",\"y\":{\"units\":\"data\",\"field\":\"y\"},\"tags\":[]}},{\"id\":\"b3fb7d0d-10e3-4e01-ce5f-102b01eb5a09\",\"type\":\"Circle\",\"attributes\":{\"fill_alpha\":{\"units\":\"data\",\"value\":0.2},\"line_alpha\":{\"units\":\"data\",\"value\":1},\"doc\":null,\"size\":{\"units\":\"screen\",\"value\":10},\"fill_color\":{\"value\":\"green\"},\"line_color\":{\"value\":\"green\"},\"x\":{\"units\":\"data\",\"field\":\"x\"},\"id\":\"b3fb7d0d-10e3-4e01-ce5f-102b01eb5a09\",\"y\":{\"units\":\"data\",\"field\":\"y\"},\"tags\":[]}},{\"id\":\"170864b3-51c1-48bb-c8b5-822ee5016f7f\",\"type\":\"GlyphRenderer\",\"attributes\":{\"name\":null,\"nonselection_glyph\":{\"type\":\"Circle\",\"id\":\"b3fb7d0d-10e3-4e01-ce5f-102b01eb5a09\"},\"doc\":null,\"server_data_source\":null,\"data_source\":{\"type\":\"ColumnDataSource\",\"id\":\"9afa655f-a39a-4528-c531-0b258e1aed23\"},\"glyph\":{\"type\":\"Circle\",\"id\":\"d0d4b845-1e1d-4bba-cbfe-d0a02a0f6a0b\"},\"selection_glyph\":null,\"id\":\"170864b3-51c1-48bb-c8b5-822ee5016f7f\",\"tags\":[]}},{\"id\":\"4687fd86-8de1-480a-c815-083767da76ca\",\"type\":\"DataRange1d\",\"attributes\":{\"sources\":[{\"columns\":[\"x\"],\"source\":{\"type\":\"ColumnDataSource\",\"id\":\"fa53e8bb-63ea-4b35-cbbb-060d9521a3d0\"}},{\"columns\":[\"x\"],\"source\":{\"type\":\"ColumnDataSource\",\"id\":\"9afa655f-a39a-4528-c531-0b258e1aed23\"}}],\"id\":\"4687fd86-8de1-480a-c815-083767da76ca\",\"tags\":[],\"doc\":null}},{\"id\":\"f4cb1888-616c-45a0-c59e-109620a30fc8\",\"type\":\"DataRange1d\",\"attributes\":{\"sources\":[{\"columns\":[\"y\"],\"source\":{\"type\":\"ColumnDataSource\",\"id\":\"fa53e8bb-63ea-4b35-cbbb-060d9521a3d0\"}},{\"columns\":[\"y\"],\"source\":{\"type\":\"ColumnDataSource\",\"id\":\"9afa655f-a39a-4528-c531-0b258e1aed23\"}}],\"id\":\"f4cb1888-616c-45a0-c59e-109620a30fc8\",\"tags\":[],\"doc\":null}},{\"id\":\"3dd3c44c-19a3-495b-c93f-c480dbfd62f0\",\"type\":\"ToolEvents\",\"attributes\":{\"tags\":[],\"id\":\"3dd3c44c-19a3-495b-c93f-c480dbfd62f0\",\"geometries\":[],\"doc\":null}},{\"id\":\"aa79834e-62fe-4931-c97a-215505fb245f\",\"type\":\"BasicTickFormatter\",\"attributes\":{\"id\":\"aa79834e-62fe-4931-c97a-215505fb245f\",\"tags\":[],\"doc\":null}},{\"id\":\"305b746c-3634-4deb-cd6a-06ee12c7e68c\",\"type\":\"BasicTicker\",\"attributes\":{\"num_minor_ticks\":5,\"id\":\"305b746c-3634-4deb-cd6a-06ee12c7e68c\",\"tags\":[],\"doc\":null}},{\"id\":\"0e95a6a2-8d86-410c-c12b-7da8a7372f42\",\"type\":\"LinearAxis\",\"attributes\":{\"formatter\":{\"type\":\"BasicTickFormatter\",\"id\":\"aa79834e-62fe-4931-c97a-215505fb245f\"},\"ticker\":{\"type\":\"BasicTicker\",\"id\":\"305b746c-3634-4deb-cd6a-06ee12c7e68c\"},\"plot\":{\"id\":\"c63eef67-c46d-48fa-c885-6d2dba752924\",\"type\":\"Plot\",\"subtype\":\"Figure\"},\"axis_label\":\"length\",\"id\":\"0e95a6a2-8d86-410c-c12b-7da8a7372f42\",\"doc\":null,\"tags\":[]}},{\"id\":\"646beeb2-f4a7-41fc-c111-cf6af0eff6d8\",\"type\":\"Grid\",\"attributes\":{\"dimension\":0,\"plot\":{\"id\":\"c63eef67-c46d-48fa-c885-6d2dba752924\",\"type\":\"Plot\",\"subtype\":\"Figure\"},\"ticker\":{\"type\":\"BasicTicker\",\"id\":\"305b746c-3634-4deb-cd6a-06ee12c7e68c\"},\"id\":\"646beeb2-f4a7-41fc-c111-cf6af0eff6d8\",\"doc\":null,\"tags\":[]}},{\"id\":\"4f4d10f5-e388-4b9b-cbf9-c9449d93716f\",\"type\":\"BasicTickFormatter\",\"attributes\":{\"id\":\"4f4d10f5-e388-4b9b-cbf9-c9449d93716f\",\"tags\":[],\"doc\":null}},{\"id\":\"640a6289-e4fe-4237-c22a-04d575afa26a\",\"type\":\"BasicTicker\",\"attributes\":{\"num_minor_ticks\":5,\"id\":\"640a6289-e4fe-4237-c22a-04d575afa26a\",\"tags\":[],\"doc\":null}},{\"id\":\"23a6007e-c94b-4abe-ca14-4511e4e7105c\",\"type\":\"LinearAxis\",\"attributes\":{\"formatter\":{\"type\":\"BasicTickFormatter\",\"id\":\"4f4d10f5-e388-4b9b-cbf9-c9449d93716f\"},\"ticker\":{\"type\":\"BasicTicker\",\"id\":\"640a6289-e4fe-4237-c22a-04d575afa26a\"},\"plot\":{\"id\":\"c63eef67-c46d-48fa-c885-6d2dba752924\",\"type\":\"Plot\",\"subtype\":\"Figure\"},\"axis_label\":\"width\",\"id\":\"23a6007e-c94b-4abe-ca14-4511e4e7105c\",\"doc\":null,\"tags\":[]}},{\"id\":\"6df259df-00d6-4c1d-cc95-9a45b54cc3c1\",\"type\":\"Grid\",\"attributes\":{\"dimension\":1,\"plot\":{\"id\":\"c63eef67-c46d-48fa-c885-6d2dba752924\",\"type\":\"Plot\",\"subtype\":\"Figure\"},\"ticker\":{\"type\":\"BasicTicker\",\"id\":\"640a6289-e4fe-4237-c22a-04d575afa26a\"},\"id\":\"6df259df-00d6-4c1d-cc95-9a45b54cc3c1\",\"doc\":null,\"tags\":[]}},{\"id\":\"859ec279-368f-4bd5-cbfe-edc6559df4c5\",\"type\":\"PanTool\",\"attributes\":{\"plot\":{\"id\":\"c63eef67-c46d-48fa-c885-6d2dba752924\",\"type\":\"Plot\",\"subtype\":\"Figure\"},\"dimensions\":[\"width\",\"height\"],\"id\":\"859ec279-368f-4bd5-cbfe-edc6559df4c5\",\"doc\":null,\"tags\":[]}},{\"id\":\"3efc495f-e3c2-448d-c46e-43fafc3c538e\",\"type\":\"WheelZoomTool\",\"attributes\":{\"plot\":{\"id\":\"c63eef67-c46d-48fa-c885-6d2dba752924\",\"type\":\"Plot\",\"subtype\":\"Figure\"},\"dimensions\":[\"width\",\"height\"],\"id\":\"3efc495f-e3c2-448d-c46e-43fafc3c538e\",\"doc\":null,\"tags\":[]}},{\"id\":\"a2845367-8bc9-4a0d-cab4-c2a59b2b0972\",\"type\":\"BoxZoomTool\",\"attributes\":{\"plot\":{\"id\":\"c63eef67-c46d-48fa-c885-6d2dba752924\",\"type\":\"Plot\",\"subtype\":\"Figure\"},\"id\":\"a2845367-8bc9-4a0d-cab4-c2a59b2b0972\",\"tags\":[],\"doc\":null}},{\"id\":\"a04ed1b4-3c62-4b65-cbb4-c3d180329b66\",\"type\":\"PreviewSaveTool\",\"attributes\":{\"plot\":{\"id\":\"c63eef67-c46d-48fa-c885-6d2dba752924\",\"type\":\"Plot\",\"subtype\":\"Figure\"},\"id\":\"a04ed1b4-3c62-4b65-cbb4-c3d180329b66\",\"tags\":[],\"doc\":null}},{\"id\":\"77eec186-0054-431c-c372-a14b085461d5\",\"type\":\"ResizeTool\",\"attributes\":{\"plot\":{\"id\":\"c63eef67-c46d-48fa-c885-6d2dba752924\",\"type\":\"Plot\",\"subtype\":\"Figure\"},\"id\":\"77eec186-0054-431c-c372-a14b085461d5\",\"tags\":[],\"doc\":null}},{\"id\":\"5a5b9abf-c699-4165-c113-4182642f97d5\",\"type\":\"ResetTool\",\"attributes\":{\"plot\":{\"id\":\"c63eef67-c46d-48fa-c885-6d2dba752924\",\"type\":\"Plot\",\"subtype\":\"Figure\"},\"id\":\"5a5b9abf-c699-4165-c113-4182642f97d5\",\"tags\":[],\"doc\":null}},{\"id\":\"595acf0b-a9ae-4013-c05d-28642b4958df\",\"type\":\"Legend\",\"attributes\":{\"plot\":{\"id\":\"c63eef67-c46d-48fa-c885-6d2dba752924\",\"type\":\"Plot\",\"subtype\":\"Figure\"},\"legends\":[[\"hi\",[{\"type\":\"GlyphRenderer\",\"id\":\"7c1c3b2b-9737-4c82-cc53-e49f48d9a50e\"}]],[\"yolo\",[{\"type\":\"GlyphRenderer\",\"id\":\"170864b3-51c1-48bb-c8b5-822ee5016f7f\"}]]],\"id\":\"595acf0b-a9ae-4013-c05d-28642b4958df\",\"doc\":null,\"tags\":[]}},{\"id\":\"c63eef67-c46d-48fa-c885-6d2dba752924\",\"type\":\"Plot\",\"attributes\":{\"x_range\":{\"type\":\"DataRange1d\",\"id\":\"4687fd86-8de1-480a-c815-083767da76ca\"},\"tool_events\":{\"type\":\"ToolEvents\",\"id\":\"3dd3c44c-19a3-495b-c93f-c480dbfd62f0\"},\"below\":[{\"type\":\"LinearAxis\",\"id\":\"0e95a6a2-8d86-410c-c12b-7da8a7372f42\"}],\"renderers\":[{\"type\":\"GlyphRenderer\",\"id\":\"7c1c3b2b-9737-4c82-cc53-e49f48d9a50e\"},{\"type\":\"GlyphRenderer\",\"id\":\"170864b3-51c1-48bb-c8b5-822ee5016f7f\"},{\"type\":\"LinearAxis\",\"id\":\"0e95a6a2-8d86-410c-c12b-7da8a7372f42\"},{\"type\":\"Grid\",\"id\":\"646beeb2-f4a7-41fc-c111-cf6af0eff6d8\"},{\"type\":\"LinearAxis\",\"id\":\"23a6007e-c94b-4abe-ca14-4511e4e7105c\"},{\"type\":\"Grid\",\"id\":\"6df259df-00d6-4c1d-cc95-9a45b54cc3c1\"},{\"type\":\"Legend\",\"id\":\"595acf0b-a9ae-4013-c05d-28642b4958df\"}],\"above\":[],\"tools\":[{\"type\":\"PanTool\",\"id\":\"859ec279-368f-4bd5-cbfe-edc6559df4c5\"},{\"type\":\"WheelZoomTool\",\"id\":\"3efc495f-e3c2-448d-c46e-43fafc3c538e\"},{\"type\":\"BoxZoomTool\",\"id\":\"a2845367-8bc9-4a0d-cab4-c2a59b2b0972\"},{\"type\":\"PreviewSaveTool\",\"id\":\"a04ed1b4-3c62-4b65-cbb4-c3d180329b66\"},{\"type\":\"ResizeTool\",\"id\":\"77eec186-0054-431c-c372-a14b085461d5\"},{\"type\":\"ResetTool\",\"id\":\"5a5b9abf-c699-4165-c113-4182642f97d5\"}],\"doc\":null,\"right\":[],\"title\":\"Scatter Plot Demo\",\"extra_x_ranges\":{},\"left\":[{\"type\":\"LinearAxis\",\"id\":\"23a6007e-c94b-4abe-ca14-4511e4e7105c\"}],\"y_range\":{\"type\":\"DataRange1d\",\"id\":\"f4cb1888-616c-45a0-c59e-109620a30fc8\"},\"id\":\"c63eef67-c46d-48fa-c885-6d2dba752924\",\"extra_y_ranges\":{},\"tags\":[]}}];\n",
       "      Bokeh.load_models(all_models);\n",
       "      var model = Bokeh.Collections(modeltype).get(modelid);\n",
       "      $(\"#f7004df0-ddf7-4d03-cdb8-4fa1de6e3bcf\").html(''); // clear any previous plot in window_id\n",
       "      var view = new model.default_view({model: model, el: \"#f7004df0-ddf7-4d03-cdb8-4fa1de6e3bcf\"});\n",
       "  });\n",
       "    }\n",
       "});\n",
       "</script>\n",
       "<div class=\"plotdiv\" id=\"e9c556fc-44be-4b94-cb22-6242330a5b29\"></div>\n"
      ]
     },
     "metadata": {},
     "output_type": "display_data"
    }
   ],
   "source": [
    "x1 = t.randn(100)\n",
    "y1 = t.randn(100)\n",
    "\n",
    "x2 = t.randn(100)\n",
    "y2 = t.randn(100)\n",
    "\n",
    "for i=1, 100 do\n",
    "    rr = t.uniform()\n",
    "    ii = i-50\n",
    "    x1[i] = ii + t.uniform() * 20\n",
    "    y1[i] = ii*ii + rr * 1000\n",
    "\n",
    "    x2[i] = ii + 40 + t.uniform() * 20\n",
    "    y2[i] = -ii*ii + 3000 + rr * 1000\n",
    "end\n",
    "\n",
    "plot = Plot()\n",
    "plot:circle(x1, y1, 'red', 'hi')\n",
    "plot:circle(x2, y2,'green', 'yolo'):redraw()\n",
    "plot:title('Scatter Plot Demo'):redraw()\n",
    "plot:xaxis('length'):yaxis('width'):redraw()\n",
    "plot:legend(true)\n",
    "plot:redraw()\n",
    "\n",
    "\n",
    "xx = t.cat(x1, x2)\n",
    "yy = t.cat(y1, y2)\n",
    "\n",
    "X = t.Tensor(100,3)\n",
    "for i=1, 100 do\n",
    "    X[i][1] = 1\n",
    "    X[i][1] = xx[i]\n",
    "    X[i][2] = yy[i]\n",
    "end\n",
    "\n",
    "-- Y = \n",
    "-- Y = t.cat(t.Tensor(50):fill(0), t.Tensor(50):fill(1))\n",
    "\n",
    "-- print(X:size())\n",
    "-- print(Y:size())\n",
    "\n",
    "for i=1, 2 do\n",
    "    mean = X[{{},{i}}]:mean()\n",
    "    -- print('mean', mean)\n",
    "    X[{ {}, {i}}]:add(-mean)\n",
    "    -- print(X)\n",
    "\n",
    "    stdv = X[{ {}, {i}}]:std() -- std estimation\n",
    "    -- print('stdv', stdv)\n",
    "    X[{ {}, {i} }]:div(stdv) -- std scaling\n",
    "    -- print(X)    \n",
    "end\n"
   ]
  },
  {
   "cell_type": "code",
   "execution_count": 116,
   "metadata": {
    "collapsed": false
   },
   "outputs": [],
   "source": [
    "-- print(X)\n",
    "-- print(y)"
   ]
  },
  {
   "cell_type": "code",
   "execution_count": 119,
   "metadata": {
    "collapsed": false
   },
   "outputs": [],
   "source": [
    "-- print(Y)"
   ]
  },
  {
   "cell_type": "code",
   "execution_count": 122,
   "metadata": {
    "collapsed": false
   },
   "outputs": [
    {
     "data": {
      "text/plain": [
       "\n"
      ]
     },
     "execution_count": 122,
     "metadata": {},
     "output_type": "execute_result"
    }
   ],
   "source": [
    "-- Y = t.cat(t.Tensor(50):fill(0), t.Tensor(50):fill(1))\n",
    "-- print(Y)\n",
    "\n"
   ]
  },
  {
   "cell_type": "code",
   "execution_count": 9,
   "metadata": {
    "collapsed": false
   },
   "outputs": [],
   "source": [
    "torch.manualSeed(0)\n",
    "W = t.rand(3,2)\n",
    "\n",
    "-- W[0][0] = 0.01\n",
    "\n",
    "h = t.sigmoid(t.sum(t.mm(X, W), 2))\n",
    "h:apply(function(i)\n",
    "    if i > 0.5 then\n",
    "        return 1\n",
    "    else\n",
    "        return 0\n",
    "    end\n",
    "end)\n",
    "-- print(h)\n",
    "-- print(1 > 0.5)\n",
    "-- print(W)\n",
    "-- print(h[{{1,50}}])\n",
    "-- print(h[{{51,100}}])\n",
    "\n",
    "-- function predict(XX, WW)\n",
    "--     h = t.sigmoid(t.sum(t.mm(XX, WW), 2))\n",
    "--     h:apply(function(i)\n",
    "--         if i > 0.5 then\n",
    "--             return 1\n",
    "--         else\n",
    "--             return 0\n",
    "--         end\n",
    "--     end)\n",
    "--     return h\n",
    "-- end\n",
    "\n",
    "\n",
    "input = t.Tensor(2,3)\n",
    "input[1][1] = 1\n",
    "input[1][2] = 0.1\n",
    "input[1][3] = 0.1\n",
    "input[2][1] = 1\n",
    "input[2][2] = 0.1\n",
    "input[2][3] = 0.1\n",
    "\n",
    "-- res = predict(X,W)\n",
    "-- print(res)\n"
   ]
  },
  {
   "cell_type": "code",
   "execution_count": null,
   "metadata": {
    "collapsed": false
   },
   "outputs": [],
   "source": [
    "print(W:size())\n"
   ]
  },
  {
   "cell_type": "code",
   "execution_count": 3,
   "metadata": {
    "collapsed": true
   },
   "outputs": [],
   "source": [
    "\n",
    "t = require 'torch'\n",
    "grad = require 'autograd'\n",
    "\n",
    "--   m = X.shape[0]\n",
    "--   h = hypothesis(X, theta)\n",
    "--   part_1 = y * (np.log(h))\n",
    "--   part_2 = (1 - y) * (np.log(1-h))\n",
    "--   reg = lmbda/(2.0*m) * (theta[1:] **  2).sum()\n",
    "--   constant = -1.0/m\n",
    "--   combined = (part_1 + part_2).sum() + reg\n",
    "--   return constant * (combined)\n",
    "\n",
    "forward = function(W, X, y)\n",
    "\n",
    "    local h = t.sigmoid(t.sum(t.mm(X, W), 2))\n",
    "    local m = 100\n",
    "    local part_1 = y * t.log(h)\n",
    "    local part_2 = (1 - y) * t.log(1-h)\n",
    "    return (-1.0/m) * t.sum(part_1, part_2)\n",
    "    \n",
    "end"
   ]
  },
  {
   "cell_type": "code",
   "execution_count": 20,
   "metadata": {
    "collapsed": false
   },
   "outputs": [
    {
     "data": {
      "text/plain": [
       " 100\n",
       "[torch.LongStorage of size 1]\n",
       "\n",
       " 100\n",
       "   1\n",
       "[torch.LongStorage of size 2]\n",
       "\n"
      ]
     },
     "execution_count": 20,
     "metadata": {},
     "output_type": "execute_result"
    }
   ],
   "source": [
    "h = t.sigmoid(t.sum(t.mm(X, W), 2))\n",
    "-- print(h)\n",
    "-- y * t.log(h)\n",
    "-- print(Y * t.log(h))\n",
    "-- part_1 = y * t.log(h)\n",
    "print(Y:size())\n",
    "print(h:size())"
   ]
  },
  {
   "cell_type": "code",
   "execution_count": 88,
   "metadata": {
    "collapsed": false
   },
   "outputs": [
    {
     "data": {
      "text/plain": [
       " 0.6850\n",
       " 0.7597\n",
       " 0.6403\n",
       " 0.6658\n",
       " 0.5316\n",
       " 0.5626\n",
       " 0.6701\n",
       " 0.3423\n",
       " 0.5798\n",
       " 0.6647\n",
       " 0.4314\n",
       " 0.4931\n",
       " 0.2989\n",
       " 0.2392\n",
       " 0.3531\n",
       " 0.5573\n",
       " 0.5212\n",
       " 0.4065\n",
       " 0.4317\n",
       " 0.1518\n",
       " 0.1746\n",
       " 0.5005\n",
       " 0.1458\n",
       " 0.1278\n",
       " 0.2273\n",
       " 0.0946\n",
       " 0.1706\n",
       " 0.0956\n",
       " 0.1438\n",
       " 0.3687\n",
       " 0.1569\n",
       " 0.2175\n",
       " 0.1709\n",
       " 0.1932\n",
       " 0.1049\n",
       " 0.1027\n",
       " 0.1026\n",
       " 0.0768\n",
       " 0.1813\n",
       " 0.1411\n",
       " 0.1988\n",
       " 0.1129\n",
       " 0.3044\n",
       " 0.0650\n",
       " 0.2217\n",
       " 0.1194\n",
       " 0.0971\n",
       " 0.0825\n",
       " 0.1245\n",
       " 0.1403\n",
       " 0.1215\n",
       " 0.1922\n",
       " 0.3182\n",
       " 0.2097\n",
       " 0.2333\n",
       " 0.2723\n",
       " 0.1961\n",
       " 0.1418\n",
       " 0.2204\n",
       " 0.2029\n",
       " 0.3992\n",
       " 0.1279\n",
       " 0.3914\n",
       " 0.4017\n",
       " 0.2656\n",
       " 0.4698\n",
       " 0.2277\n",
       " 0.3939\n",
       " 0.4942\n",
       " 0.3673\n",
       " 0.6881\n",
       " 1.0000\n",
       " 1.0000\n",
       " 1.0000\n",
       " 1.0000\n",
       " 0.4340\n",
       " 1.0000\n",
       " 1.0000\n",
       " 1.0000\n",
       " 0.6351\n",
       " 0.8130\n",
       " 1.0000\n",
       " 1.0000\n",
       " 1.0000\n",
       " 1.0000\n",
       " 1.0000\n",
       " 0.9678\n",
       " 1.0000\n",
       " 1.0000\n",
       " 0.8840\n",
       " 0.9661\n",
       " 0.9520\n",
       " 1.0000\n",
       " 1.0000\n",
       " 1.0000\n",
       " 0.9804\n",
       " 1.0000\n",
       " 1.0000\n",
       " 1.0000\n",
       " 0.9892\n",
       "[torch.DoubleTensor of size 100x1]\n",
       "\n"
      ]
     },
     "execution_count": 88,
     "metadata": {},
     "output_type": "execute_result"
    }
   ],
   "source": [
    "Y = t.Tensor(100,1)\n",
    "Y:narrow(1,1,50):fill(0)\n",
    "Y:narrow(1,51,50):fill(1)\n",
    "\n",
    "part_1 = t.cmul(Y, t.log(h))\n",
    "-- part_2 = \n",
    "\n",
    "-- print(t.cmul(1 - Y, t.log(1-h)))\n",
    "print(h)\n",
    "\n",
    "-- t.csub(1, Y)\n",
    "\n",
    "-- print(Y:csub(1))\n",
    "\n",
    "-- print(Y * t.log(h))\n",
    "\n",
    "-- print(Y)\n",
    "-- print(Y:narrow(1,50,51))\n",
    "-- Y[{ {}, {} }]\n",
    "-- print(Y:chunk(1,1,10))\n",
    "-- Y = t.cat(t.Tensor(50):fill(0), t.Tensor(50):fill(1))\n",
    "-- print(Y:size())"
   ]
  },
  {
   "cell_type": "code",
   "execution_count": 95,
   "metadata": {
    "collapsed": false
   },
   "outputs": [
    {
     "data": {
      "text/plain": [
       "false\t\n"
      ]
     },
     "execution_count": 95,
     "metadata": {},
     "output_type": "execute_result"
    }
   ],
   "source": [
    "print('bb' ~= 'bb')"
   ]
  },
  {
   "cell_type": "code",
   "execution_count": 96,
   "metadata": {
    "collapsed": false
   },
   "outputs": [
    {
     "data": {
      "text/plain": [
       "1\t\n",
       "2\t\n",
       "3\t\n",
       "4\t\n",
       "5\t\n",
       "6\t\n",
       "7\t\n",
       "8\t\n",
       "9\t\n",
       "10\t\n",
       "11\t\n",
       "12\t\n",
       "13\t\n",
       "14\t\n",
       "15\t\n",
       "16\t\n",
       "17\t\n",
       "18\t\n",
       "19\t\n",
       "20\t\n",
       "21\t\n",
       "22\t\n",
       "23\t\n",
       "24\t\n",
       "25\t\n",
       "26\t\n",
       "27\t\n"
      ]
     },
     "execution_count": 96,
     "metadata": {},
     "output_type": "execute_result"
    }
   ],
   "source": [
    "for _ = 1,27 do\n",
    "    print(_)\n",
    "end"
   ]
  },
  {
   "cell_type": "code",
   "execution_count": 99,
   "metadata": {
    "collapsed": false
   },
   "outputs": [
    {
     "data": {
      "text/plain": [
       "{\n",
       "  1 : aaa\n",
       "  2 : 4\n",
       "}\n"
      ]
     },
     "execution_count": 99,
     "metadata": {},
     "output_type": "execute_result"
    }
   ],
   "source": [
    "hello = 'aaa'\n",
    "nihao = 4\n",
    "print ({hello, nihao})"
   ]
  },
  {
   "cell_type": "code",
   "execution_count": null,
   "metadata": {
    "collapsed": true
   },
   "outputs": [],
   "source": []
  }
 ],
 "metadata": {
  "kernelspec": {
   "display_name": "iTorch",
   "language": "lua",
   "name": "itorch"
  },
  "language_info": {
   "name": "lua",
   "version": "5.1"
  }
 },
 "nbformat": 4,
 "nbformat_minor": 1
}
