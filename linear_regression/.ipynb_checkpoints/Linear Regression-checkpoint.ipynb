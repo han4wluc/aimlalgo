{
 "cells": [
  {
   "cell_type": "markdown",
   "metadata": {},
   "source": [
    "https://d3c33hcgiwev3.cloudfront.net/_ec21cea314b2ac7d9e627706501b5baa_Lecture2.pdf?Expires=1478390400&Signature=TuRsWzwV17fQKGaT9TavQ6XHGk4Py0E827Dnk0aTef7xeOqzQLXOZelWsOpI-i-qE8lcRSZ~hqULcj7pLX~Zxj2MPqEinUWg87Og5AYHV8SLV-fbyoIwjIfOznB2YmNhV3BGLJr2U-f7PQ2xYZj3Lm6i4hW9AT4HY7B9PX61RiU_&Key-Pair-Id=APKAJLTNE6QMUY6HBC5A\n"
   ]
  },
  {
   "cell_type": "markdown",
   "metadata": {},
   "source": [
    "\\begin{align}\n",
    "P(313|hothotcold) = P(3|hot)×P(1|hot)×P(3|cold)\n",
    "\\end{align}\n",
    "$\\alpha_1(2) \\times P(H|C) \\times P(1|H)$"
   ]
  },
  {
   "cell_type": "markdown",
   "metadata": {},
   "source": [
    "### Linear Regression\n",
    "**Hypothesis**: $h_\\theta(x) = \\theta_0 + \\theta_1x$\n",
    "\n",
    "**Parameters**: $\\theta_0,\\theta_1$\n",
    "\n",
    "**Squared Error Cost Function**: $J(\\theta_0,\\theta_1) = \\frac{1}{2m} \\sum_{m}^{i=1}(h_\\theta(x^{(i)}) -y^{(i)})^{2} $\n",
    "\n",
    "**Goal**: $\\begin{matrix}minimize\\\\\\theta_0,\\theta_1 \\end{matrix} J(\\theta_0,\\theta_1) $\n",
    "\n",
    "### Simplify\n",
    "**Set intercept to zero**: $\\theta_0 = 0$\n",
    "\n",
    "**Hypothesis**: $h_\\theta(x) = \\theta_{1}x$\n",
    "\n",
    "**Cost Function**: $J(\\theta_1) = \\frac{1}{2m} \\sum_{i=1}^{m}(h_\\theta(x^{(i)}) - y^{(i)})^{2}$\n",
    "\n",
    "**Goal**: $\\begin{matrix}minimize\\\\\\theta_1 \\end{matrix} J(\\theta_1)$\n",
    "\n",
    "<img src=\"./1.png\" width=\"50%\"/>\n",
    "\n",
    "### Gradient descent algorithm\n",
    "repeat until convergence { <br/>\n",
    "&nbsp;&nbsp;&nbsp;&nbsp;$\\theta_j := \\theta_j - \\alpha \\frac{\\delta}{\\delta\\theta_j}J(\\theta_0,\\theta_1)$ <br/>\n",
    "} <br/>\n",
    "**$\\theta_0$ and $\\theta_1$ need to be updated simultaneously**\n",
    "\n",
    "$temp0 := \\theta_j - \\alpha \\frac{\\delta}{\\delta\\theta_0}J(\\theta_0,\\theta_1)$<br/>\n",
    "$temp1 := \\theta_j - \\alpha \\frac{\\delta}{\\delta\\theta_1}J(\\theta_0,\\theta_1)$<br/>\n",
    "$\\theta_0 := temp0$<br/>\n",
    "$\\theta_1 := temp1$<br/>\n",
    "\n",
    "#### Substitute cost function\n",
    "$\\frac{\\delta}{\\delta\\theta_1}J(\\theta_0,\\theta_1) = \\frac{\\delta}{\\delta\\theta_1}\\frac{1}{2m}\\sum_{i=1}^{m}(h_\\theta(x^{(i)}) - y^{(i)})^{2}$ <br/>\n",
    "$=\\frac{\\delta}{\\delta\\theta_1}\\frac{1}{2m}\\sum_{i=1}^{m}(\\theta_0 + \\theta_1x^{(i)} - y^{(i)})^{2}$ <br/>\n",
    "\n",
    "$j=0 : \\frac{\\delta}{\\delta\\theta_0} = \\frac{1}{m}\\sum_{i=1}^{m}(h_\\theta(x^{(i)}) - y^{(i)})$<br/>\n",
    "$j=1 : \\frac{\\delta}{\\delta\\theta_1} = \\frac{1}{m}\\sum_{i=1}^{m}(h_\\theta(x^{(i)}) - y^{(i)}) * x^{(i)}$<br/>\n",
    "\n",
    "repeat until convergence { <br/>\n",
    "&nbsp;&nbsp;&nbsp;&nbsp;$\\theta_0 := \\theta_0 - \\alpha\\frac{1}{m}\\sum_{i=1}^{m}(h_\\theta(x^{(i)}) - y^{(i)})$<br/>\n",
    "&nbsp;&nbsp;&nbsp;&nbsp;$\\theta_1 := \\theta_1 - \\alpha\\frac{1}{m}\\sum_{i=1}^{m}(h_\\theta(x^{(i)}) - y^{(i)}) * x^{(i)}$<br/>\n",
    "} <br/>\n",
    "\n",
    "repeat until convergence { <br/>\n",
    "&nbsp;&nbsp;&nbsp;&nbsp;$\\theta_0 := \\theta_0 - \\alpha\\frac{1}{m}\\sum_{i=1}^{m}(\\theta_0 + \\theta_1x) - y^{(i)})$<br/>\n",
    "&nbsp;&nbsp;&nbsp;&nbsp;$\\theta_1 := \\theta_1 - \\alpha\\frac{1}{m}\\sum_{i=1}^{m}(\\theta_0 + \\theta_1x) - y^{(i)}) * x^{(i)}$<br/>\n",
    "} <br/>\n",
    "\n",
    "### Multivariate Linear Regression\n",
    "**Hypothesis**: $h_\\theta(x) = \\theta_0x_0 + \\theta_1x_1 + ... + \\theta_nx_n = \\Theta^{T}x$\n",
    "$$\n",
    "X=\n",
    "\\begin{bmatrix}\n",
    "    x_{0}        \\\\\n",
    "    x_{1}        \\\\\n",
    "    x_{2} \\\\\n",
    "    ... \\\\\n",
    "    x_{n}\n",
    "\\end{bmatrix}\n",
    "\\in\\mathbb{R}^{n+1}\n",
    "\\Theta=\n",
    "\\begin{bmatrix}\n",
    "    \\theta_{0}        \\\\\n",
    "    \\theta_{1}        \\\\\n",
    "    \\theta_{2}        \\\\\n",
    "    ...               \\\\\n",
    "    \\theta_{n}\n",
    "\\end{bmatrix}\n",
    "\\in\\mathbb{R}^{n+1}\n",
    "$$\n",
    "\n",
    "**Cost function**: $J(\\Theta) = \\frac{1}{2m}\\sum_{i=1}^{m}(h_\\theta(x^{(i)})-y^{(i)})^{2}$<br>\n",
    "**Gradient descent**:\n",
    "Repeat { <br>\n",
    "&nbsp;&nbsp;&nbsp;&nbsp;$\\theta_j := \\theta_j - \\alpha\\frac{\\delta}{\\delta\\theta_j}J(\\Theta)$<br>\n",
    "} <br>\n",
    "Repeat { <br>\n",
    "&nbsp;&nbsp;&nbsp;&nbsp;$\\theta_j := \\theta_j - \\alpha\\frac{1}{m}\\sum_{i=1}^{m}(h_\\theta(x^{(i)})-y^{(i)})x_j^{(i)}$<br>\n",
    "}\n",
    "\n",
    "### Regulazation\n",
    "**Cost function**: $J(\\theta) = \\frac{1}{2m}[\\sum_{i=1}^{m}(h_\\theta(x^{(i)})-y^{(i)})^{2} + \\lambda\\sum_{i=1}^{n}\\theta_j^{2} ]$<br>\n",
    "**Gradient descent**: $\\theta_j := \\theta_j(1 - \\alpha\\frac{\\lambda}{m}) - \\alpha\\frac{1}{m}\\sum_{i=1}^{m}(h_\\theta(x^{(i)})-y^{(i)})x_j^{(i)}$\n",
    "\n",
    "$1 - \\alpha\\frac{\\lambda}{m} \\approx 0.99$\n",
    "\n"
   ]
  },
  {
   "cell_type": "code",
   "execution_count": 1,
   "metadata": {
    "collapsed": false
   },
   "outputs": [
    {
     "name": "stdout",
     "output_type": "stream",
     "text": [
      "[[ 1  2  3]\n",
      " [16 20 24]\n",
      " [64 72 80]\n",
      " [64 72 80]]\n"
     ]
    }
   ],
   "source": [
    "import numpy as np\n",
    "theta = np.array([\n",
    "    [1, 1],\n",
    "    [2, 2],\n",
    "    [3, 3]]\n",
    ")\n",
    "(theta).sum(axis=0)\n",
    "\n",
    "# 4, 1\n",
    "h = np.array([\n",
    "  [1],\n",
    "  [4],\n",
    "  [8],\n",
    "  [8],\n",
    "])\n",
    "\n",
    "# 4, 3\n",
    "y = np.array([\n",
    "  [1,2,3],\n",
    "  [4,5,6],\n",
    "  [8,9,10],\n",
    "  [8,9,10],   \n",
    "])\n",
    "\n",
    "print h * y\n"
   ]
  },
  {
   "cell_type": "code",
   "execution_count": null,
   "metadata": {
    "collapsed": true
   },
   "outputs": [],
   "source": []
  }
 ],
 "metadata": {
  "kernelspec": {
   "display_name": "Python 2",
   "language": "python",
   "name": "python2"
  },
  "language_info": {
   "codemirror_mode": {
    "name": "ipython",
    "version": 2
   },
   "file_extension": ".py",
   "mimetype": "text/x-python",
   "name": "python",
   "nbconvert_exporter": "python",
   "pygments_lexer": "ipython2",
   "version": "2.7.6"
  }
 },
 "nbformat": 4,
 "nbformat_minor": 1
}
