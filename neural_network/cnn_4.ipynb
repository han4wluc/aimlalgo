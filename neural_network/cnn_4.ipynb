{
 "cells": [
  {
   "cell_type": "markdown",
   "metadata": {},
   "source": [
    "https://grzegorzgwardys.wordpress.com/2016/04/22/8/#unique-identifier"
   ]
  },
  {
   "cell_type": "code",
   "execution_count": 1,
   "metadata": {
    "collapsed": true
   },
   "outputs": [],
   "source": [
    "import numpy as np"
   ]
  },
  {
   "cell_type": "code",
   "execution_count": 4,
   "metadata": {
    "collapsed": false
   },
   "outputs": [
    {
     "name": "stdout",
     "output_type": "stream",
     "text": [
      "[[1 2 3]\n",
      " [4 5 6]\n",
      " [7 8 9]]\n",
      "[[-1  0]\n",
      " [ 1  2]]\n"
     ]
    }
   ],
   "source": [
    "X = np.array([\n",
    "        [1,2,3],\n",
    "        [4,5,6],\n",
    "        [7,8,9],\n",
    "    ])\n",
    "\n",
    "kernel = np.array([\n",
    "        [-1,0],\n",
    "        [ 1,2]\n",
    "    ])\n",
    "\n",
    "print X\n",
    "print kernel"
   ]
  },
  {
   "cell_type": "code",
   "execution_count": 58,
   "metadata": {
    "collapsed": false
   },
   "outputs": [
    {
     "name": "stdout",
     "output_type": "stream",
     "text": [
      "13\n",
      "15\n",
      "19\n",
      "21\n"
     ]
    }
   ],
   "source": [
    "print (X[0:2,0:2] * kernel).sum()\n",
    "print (X[0:2,1:3] * kernel).sum()\n",
    "print (X[1:3,0:2] * kernel).sum()\n",
    "print (X[1:3,1:3] * kernel).sum()\n",
    "\n",
    "O = np.array([\n",
    "        [13, 15],\n",
    "        [19, 21],\n",
    "    ])\n"
   ]
  },
  {
   "cell_type": "code",
   "execution_count": 31,
   "metadata": {
    "collapsed": false
   },
   "outputs": [
    {
     "name": "stdout",
     "output_type": "stream",
     "text": [
      "[[ 2  1]\n",
      " [ 0 -1]]\n"
     ]
    }
   ],
   "source": [
    "# O.T\n",
    "def rot180(X):\n",
    "    return np.rot90(np.rot90(X))\n",
    "\n",
    "kernel_rot = rot180(kernel)\n",
    "print kernel_rot"
   ]
  },
  {
   "cell_type": "code",
   "execution_count": 84,
   "metadata": {
    "collapsed": false
   },
   "outputs": [
    {
     "name": "stdout",
     "output_type": "stream",
     "text": [
      "26\n",
      "43\n",
      "15\n",
      "38\n",
      "48\n",
      "6\n",
      "0\n",
      "-19\n",
      "-21\n",
      "[[ 1.026  2.043  3.015]\n",
      " [ 4.038  5.048  6.006]\n",
      " [ 7.     7.981  8.979]]\n"
     ]
    }
   ],
   "source": [
    "\n",
    "print (kernel[1,1] * O[0,0]).sum()\n",
    "print (kernel[1,:] * O[0,:]).sum()\n",
    "print (kernel[1,0] * O[0,1]).sum()\n",
    "\n",
    "\n",
    "print (kernel[:,1] * O[:,0]).sum()\n",
    "print (kernel[:,:] * O[:,:]).sum()\n",
    "print (kernel[:,0] * O[:,1]).sum()\n",
    "\n",
    "\n",
    "print (kernel[0,1] * O[1,0]).sum()\n",
    "print (kernel[0,:] * O[1,:]).sum()\n",
    "print (kernel[0,0] * O[1,1]).sum()\n",
    "\n",
    "grad = np.array([\n",
    "        [26, 43, 15],\n",
    "        [38, 48,  6],\n",
    "        [ 0,-19,-21],\n",
    "    ])\n",
    "\n",
    "# print 0.001 * grad\n",
    "\n",
    "print X + 0.001 * grad\n"
   ]
  },
  {
   "cell_type": "code",
   "execution_count": null,
   "metadata": {
    "collapsed": true
   },
   "outputs": [],
   "source": []
  }
 ],
 "metadata": {
  "kernelspec": {
   "display_name": "Python 2",
   "language": "python",
   "name": "python2"
  },
  "language_info": {
   "codemirror_mode": {
    "name": "ipython",
    "version": 2
   },
   "file_extension": ".py",
   "mimetype": "text/x-python",
   "name": "python",
   "nbconvert_exporter": "python",
   "pygments_lexer": "ipython2",
   "version": "2.7.6"
  }
 },
 "nbformat": 4,
 "nbformat_minor": 1
}
