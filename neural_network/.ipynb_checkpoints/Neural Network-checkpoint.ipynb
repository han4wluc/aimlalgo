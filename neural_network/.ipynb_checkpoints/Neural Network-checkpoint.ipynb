{
 "cells": [
  {
   "cell_type": "markdown",
   "metadata": {},
   "source": [
    "## Neural Networks\n",
    "<img src=\"./img/1.png\">"
   ]
  },
  {
   "cell_type": "code",
   "execution_count": 150,
   "metadata": {
    "collapsed": false
   },
   "outputs": [
    {
     "name": "stdout",
     "output_type": "stream",
     "text": [
      "[[10  0]]\n"
     ]
    },
    {
     "data": {
      "text/plain": [
       "0.9999546021312976"
      ]
     },
     "execution_count": 150,
     "metadata": {},
     "output_type": "execute_result"
    }
   ],
   "source": [
    "def sigmoid(z):\n",
    "  '''\n",
    "  Compute sigmoid function\n",
    "  '''\n",
    "  return 1 / (1 + np.e ** -z)\n",
    "\n",
    "def sigmoid_gradient(z):\n",
    "  return sigmoid(z) * (1-sigmoid(z))\n",
    "import numpy as np\n",
    "X = np.array([[1,0]])\n",
    "theta = np.array([[10],\n",
    "                  [-20]])\n",
    "\n",
    "a1 = X * theta.T \n",
    "print a1\n",
    "a1 = a1.sum()\n",
    "a1\n",
    "sigmoid(a1)\n",
    "# a1 = a1.sum(axis=0)\n",
    "# a1"
   ]
  },
  {
   "cell_type": "markdown",
   "metadata": {},
   "source": [
    "**Logistic Regression Cost function**: $J(\\theta) = -\\frac{1}{m}[\\sum_{i=1}^{m}y^{(i)}log(h_\\theta(x^{(i)}))+(1-y^{(i)})log (1-h_\\theta(x^{(i)}))] + \\frac{\\lambda}{2m}\\sum_{j=1}^{n}\\theta_j^{2}$\n",
    "\n",
    "**Neural Network Cost function**: $J(\\Theta) = -\\frac{1}{m}[\\sum_{m}^{i=1}\\sum_{k=1}^{K}y_k^{(i)}log(h_\\Theta(x^{(i)}))_k + (1 - y_k^{(i)} log(1 - (h_\\Theta(x^{(i)}))_k)] + \\frac{\\lambda}{2m}\\sum_{l=1}^{L-1}\\sum_{i=1}^{s_l}\\sum_{j=1}^{s_l+1}(\\Theta_{ji}^{(l)})^2$\n",
    "\n",
    "$\\begin{matrix}min\\\\\\Theta \\end{matrix} J(\\Theta)$\n",
    "\n",
    "Need code to compute:\n",
    "* $J(\\Theta)$\n",
    "* $\\frac{\\delta}{\\delta\\Theta_{ij}^{(l)}}J(\\Theta)$\n",
    "\n",
    "#### Gradient Computation\n",
    "** Forward Propagation **\n",
    "* $a^{(1)} = x$\n",
    "* $z^{(2)} = \\Theta^{(1)}a^{(1)}$\n",
    "* $a^{(2)} = g(z^{(2)})$&nbsp;&nbsp; (add $a_0^{(2)}$)\n",
    "* $z^{(3)} = \\Theta^{(2)}a^{(2)}$\n",
    "* $a^{(3)} = g(z^{(3)})$&nbsp;&nbsp; (add $a_0^{(3)}$)\n",
    "* $z^{(4)} = \\Theta^{(3)}a^{(3)}$\n",
    "* $a^{(4)} = h_\\Theta(x) = g(z^{(4)})$\n",
    "\n",
    "** Backpropagation algorithm **\n",
    "* $\\delta_j^{(4)} = a_j^{(4)} - y_j$\n",
    "* $\\delta^{(3)} = (\\Theta^{(3)})^T\\delta^{(4)}.*g'(z^{(3)})$\n",
    "\n",
    "$g'(z^{(3)}) = a^{(3)}.*(1-a^{(3)})$\n"
   ]
  },
  {
   "cell_type": "code",
   "execution_count": 294,
   "metadata": {
    "collapsed": false
   },
   "outputs": [],
   "source": [
    "coeff = np.array([[1],\n",
    "                  [1],\n",
    "                  [1],])\n",
    "X = np.array([[1,4,5,6],\n",
    "              [1,3,6,4],             \n",
    "              [1,3,6,4]\n",
    "             ])\n",
    "y = np.array([[0.9],\n",
    "              [0.8],\n",
    "              [0.7]])\n",
    "# theta1 = np.array([[10,20,30],\n",
    "#                    [40,50,60]])\n",
    "theta1 = np.array([[1,1],\n",
    "                   [10,40],\n",
    "                   [20,50],\n",
    "                   [30,60]], dtype='f')\n",
    "theta2 = np.array([[1],\n",
    "                   [70],\n",
    "                   [80],], dtype='f')\n",
    "# print X .dot(theta1)\n",
    "a2 = X.dot(theta1)\n",
    "# a2 = sigmoid(a2)\n",
    "a2 = np.concatenate((coeff, a2), axis=1)\n",
    "\n",
    "# print a2\n",
    "a3 =  a2.dot(theta2)\n",
    "# print a3\n",
    "\n",
    "# np.concatenate((coeff, a3), axis=1)\n",
    "# a3 = (a3 * theta2).sum()\n",
    "# a3 = sigmoid(a3)\n",
    "# print a3\n"
   ]
  },
  {
   "cell_type": "code",
   "execution_count": 206,
   "metadata": {
    "collapsed": false
   },
   "outputs": [
    {
     "name": "stdout",
     "output_type": "stream",
     "text": [
      "[array([[ 1.,  1.,  1.],\n",
      "       [ 1.,  1.,  1.],\n",
      "       [ 1.,  1.,  1.]]), array([[ 1.],\n",
      "       [ 1.],\n",
      "       [ 1.]])]\n"
     ]
    }
   ],
   "source": [
    "def forward_propagation(X, thetas):\n",
    "    a = X\n",
    "    coeff = X[:,[0]]\n",
    "    l = len(thetas)\n",
    "    aa = [None] * l\n",
    "    for i, theta in enumerate(thetas):\n",
    "        a = a.dot(theta)\n",
    "        a = sigmoid(a)\n",
    "        if i != l-1:\n",
    "            a = np.concatenate((coeff, a), axis=1)\n",
    "        aa[i] = a\n",
    "    return aa\n",
    "#     print aa\n",
    "#     return a\n",
    "\n",
    "a = forward_propagation(X, [theta1,theta2])\n",
    "print a\n",
    "\n",
    "# left = y - np.log(a)\n",
    "# right = (1 - y) * np.log(1.01 - a)\n",
    "\n",
    "# combined = left + right\n",
    "# print combined\n",
    "# print combined.sum()\n",
    "# m = X.shape[0]\n",
    "# (-1.0 / m) * combined.sum()\n"
   ]
  },
  {
   "cell_type": "markdown",
   "metadata": {},
   "source": [
    "**Neural Network Cost function**: $J(\\Theta) = -\\frac{1}{m}[\\sum_{m}^{i=1}\\sum_{k=1}^{K}y_k^{(i)}log(h_\\Theta(x^{(i)}))_k + (1 - y_k^{(i)} log(1 - (h_\\Theta(x^{(i)}))_k)] + \\frac{\\lambda}{2m}\\sum_{l=1}^{L-1}\\sum_{i=1}^{s_l}\\sum_{j=1}^{s_l+1}(\\Theta_{ji}^{(l)})^2$"
   ]
  },
  {
   "cell_type": "code",
   "execution_count": 84,
   "metadata": {
    "collapsed": false
   },
   "outputs": [
    {
     "data": {
      "text/plain": [
       "array([[1],\n",
       "       [1],\n",
       "       [1]])"
      ]
     },
     "execution_count": 84,
     "metadata": {},
     "output_type": "execute_result"
    }
   ],
   "source": [
    "X[:,[0]]"
   ]
  },
  {
   "cell_type": "code",
   "execution_count": 207,
   "metadata": {
    "collapsed": false
   },
   "outputs": [
    {
     "data": {
      "text/plain": [
       "0.12103403719761814"
      ]
     },
     "execution_count": 207,
     "metadata": {},
     "output_type": "execute_result"
    }
   ],
   "source": [
    "thetas = [theta1,theta2]\n",
    "\n",
    "def regularization(lmbda, m, thetas):\n",
    "    reg = 0\n",
    "    for theta in thetas:\n",
    "        reg += (theta[1:] ** 2).sum()\n",
    "\n",
    "    constant = lmbda / (2.0*m) \n",
    "    return constant * reg\n",
    "\n",
    "# regularization(2, 4, thetas)\n",
    "\n",
    "\n",
    "\n",
    "def compute_cost(X, y, thetas, lmbda=0):\n",
    "    m = X.shape[0]\n",
    "    n = X.shape[1]\n",
    "    \n",
    "    aa = forward_propagation(X, thetas)\n",
    "    a = aa[len(aa)-1]\n",
    "\n",
    "    left = y - np.log(a)\n",
    "    right = (1 - y) * np.log(1.01 - a)\n",
    "\n",
    "    combined = left + right\n",
    "    \n",
    "    reg = regularization(lmbda, m, thetas)\n",
    "    return (-1.0 / m) * combined.sum() + reg\n",
    "\n",
    "# print X.size\n",
    "compute_cost(X, y, thetas)\n"
   ]
  },
  {
   "cell_type": "code",
   "execution_count": 248,
   "metadata": {
    "collapsed": false
   },
   "outputs": [
    {
     "name": "stdout",
     "output_type": "stream",
     "text": [
      "[[ 2.96884019]\n",
      " [ 5.93768038]\n",
      " [ 8.90652058]]\n",
      "[[ 1.  1.  1.]\n",
      " [ 1.  1.  1.]\n",
      " [ 1.  1.  1.]]\n",
      "[[ 0.1  0.1  0.1]\n",
      " [ 0.2  0.2  0.2]\n",
      " [ 0.3  0.3  0.3]]\n",
      "[[ 2.96884019  2.96884019  2.96884019]\n",
      " [ 5.93768038  5.93768038  5.93768038]\n",
      " [ 8.90652058  8.90652058  8.90652058]]\n",
      "[[ 0.03333333  0.03333333  0.03333333]\n",
      " [ 0.06666667  0.06666667  0.06666667]\n",
      " [ 0.1         0.1         0.1       ]]\n"
     ]
    }
   ],
   "source": [
    "aa = forward_propagation(X, thetas)\n",
    "# print aa\n",
    "\n",
    "a3 = aa[1]\n",
    "a2 = aa[0]\n",
    "\n",
    "# print a3\n",
    "# d3 = a3 - y\n",
    "# print d3\n",
    "# print y\n",
    "# a3 = aa[1]\n",
    "delta_3 = a3 - y\n",
    "delta_2 = (theta2.T * delta_3) .dot (sigmoid_gradient(a3))\n",
    "# print delta_2\n",
    "\n",
    "print delta_2\n",
    "print a2\n",
    "\n",
    "Delta_2 = (delta_3 * a3.T)\n",
    "Delta_1 = (delta_2 * a2.T)\n",
    "print Delta_2\n",
    "print Delta_1\n",
    "\n",
    "lmbda = 0\n",
    "Theta_grad_2 = (1.0/m) * Delta_2 # + lmbda * theta2\n",
    "# print theta2\n",
    "Theta_grad_2[:,1:] = Theta_grad_2[:,1:] + lmbda * theta2\n",
    "print Theta_grad_2\n"
   ]
  },
  {
   "cell_type": "code",
   "execution_count": 202,
   "metadata": {
    "collapsed": false
   },
   "outputs": [
    {
     "ename": "ValueError",
     "evalue": "operands could not be broadcast together with shapes (2,3) (3,1) ",
     "output_type": "error",
     "traceback": [
      "\u001b[0;31m---------------------------------------------------------------------------\u001b[0m",
      "\u001b[0;31mValueError\u001b[0m                                Traceback (most recent call last)",
      "\u001b[0;32m<ipython-input-202-e6d2aeea2fcf>\u001b[0m in \u001b[0;36m<module>\u001b[0;34m()\u001b[0m\n\u001b[0;32m----> 1\u001b[0;31m \u001b[0mdelta_3\u001b[0m \u001b[0;34m=\u001b[0m \u001b[0ma\u001b[0m \u001b[0;34m-\u001b[0m \u001b[0my\u001b[0m\u001b[0;34m\u001b[0m\u001b[0m\n\u001b[0m\u001b[1;32m      2\u001b[0m \u001b[0;31m# print theta2.T\u001b[0m\u001b[0;34m\u001b[0m\u001b[0;34m\u001b[0m\u001b[0m\n\u001b[1;32m      3\u001b[0m \u001b[0;31m# print delta_3\u001b[0m\u001b[0;34m\u001b[0m\u001b[0;34m\u001b[0m\u001b[0m\n\u001b[1;32m      4\u001b[0m \u001b[0;31m# print theta2.T * delta_3\u001b[0m\u001b[0;34m\u001b[0m\u001b[0;34m\u001b[0m\u001b[0m\n\u001b[1;32m      5\u001b[0m \u001b[0;31m# print a\u001b[0m\u001b[0;34m\u001b[0m\u001b[0;34m\u001b[0m\u001b[0m\n",
      "\u001b[0;31mValueError\u001b[0m: operands could not be broadcast together with shapes (2,3) (3,1) "
     ]
    }
   ],
   "source": [
    "a3 = aa[1]\n",
    "delta_3 = a - y\n",
    "# print theta2.T\n",
    "# print delta_3\n",
    "# print theta2.T * delta_3\n",
    "# print a\n",
    "# return sigmoid(z).dot(1-sigmoid(z))\n",
    "# sigmoid_gradient(a)\n",
    "# xx = np.array()\n",
    "# X * (X)\n",
    "# sigmoid(a).dot(a)\n",
    "# a.dot(a.T)\n",
    "# print a * a\n",
    "print delta_3\n",
    "delta_2 = (theta2.T * delta_3) .dot (sigmoid_gradient(a))\n",
    "print delta_2\n",
    "\n",
    "print a.T\n",
    "\n",
    "\n"
   ]
  },
  {
   "cell_type": "markdown",
   "metadata": {},
   "source": [
    "<img src=\"./img/2.png\" width=\"70%\">"
   ]
  },
  {
   "cell_type": "markdown",
   "metadata": {},
   "source": [
    "gradApprox = (J(theta + EPSILON) - J(theta - EPSILON)) / 2*EPSILON\n",
    "\n",
    "**Parameter vector $\\theta$**\n",
    "\n",
    "$\\theta\\in\\mathbb{R}^{n}$\n",
    "\n",
    "$\\theta = [\\theta_1,\\theta_2,\\theta_2,...,\\theta_n]$\n",
    "\n",
    "$\\frac{\\delta}{\\delta\\theta_1}J(\\theta)\\approx\\frac{J(\\theta_1 + \\epsilon,\\theta_2,\\theta_3,...,\\theta_n) - J(\\theta_1 - \\epsilon,\\theta_2,\\theta_3,...,\\theta_n)}{2\\epsilon}$\n",
    "\n",
    "$...$\n",
    "\n",
    "$\\frac{\\delta}{\\delta\\theta_n}J(\\theta)\\approx\\frac{J(\\theta_1,\\theta_2,\\theta_3,...,\\theta_n + \\epsilon) - J(\\theta_1,\\theta_2,\\theta_3,...,\\theta_n-\\epsilon)}{2\\epsilon}$\n",
    "\n"
   ]
  },
  {
   "cell_type": "code",
   "execution_count": 258,
   "metadata": {
    "collapsed": false
   },
   "outputs": [
    {
     "name": "stdout",
     "output_type": "stream",
     "text": [
      "[array([[ 1,  1],\n",
      "       [10, 40],\n",
      "       [20, 50],\n",
      "       [30, 60]]), array([[ 1],\n",
      "       [70],\n",
      "       [80]])]\n"
     ]
    }
   ],
   "source": [
    "# print thetas[:]"
   ]
  },
  {
   "cell_type": "code",
   "execution_count": 257,
   "metadata": {
    "collapsed": false
   },
   "outputs": [
    {
     "name": "stdout",
     "output_type": "stream",
     "text": [
      "asdf\n"
     ]
    }
   ],
   "source": [
    "# cc = 'asdf'\n",
    "# print cc"
   ]
  },
  {
   "cell_type": "code",
   "execution_count": 304,
   "metadata": {
    "collapsed": false
   },
   "outputs": [
    {
     "name": "stdout",
     "output_type": "stream",
     "text": [
      "[ array([[  1.01999998,   1.        ],\n",
      "       [ 10.        ,  40.        ],\n",
      "       [ 20.        ,  50.        ],\n",
      "       [ 30.        ,  60.        ]], dtype=float32)\n",
      " array([[  1.],\n",
      "       [ 70.],\n",
      "       [ 80.]], dtype=float32)]\n",
      "[ array([[  1.01999998,   1.        ],\n",
      "       [ 10.        ,  40.        ],\n",
      "       [ 20.        ,  50.        ],\n",
      "       [ 30.        ,  60.        ]], dtype=float32)\n",
      " array([[  1.],\n",
      "       [ 70.],\n",
      "       [ 80.]], dtype=float32)]\n",
      "[ array([[  1.01999998,   1.        ],\n",
      "       [ 10.        ,  40.        ],\n",
      "       [ 20.        ,  50.        ],\n",
      "       [ 30.        ,  60.        ]], dtype=float32)\n",
      " array([[  1.],\n",
      "       [ 70.],\n",
      "       [ 80.]], dtype=float32)]\n",
      "[ array([[  1.01999998,   1.        ],\n",
      "       [ 10.        ,  40.        ],\n",
      "       [ 20.        ,  50.        ],\n",
      "       [ 30.        ,  60.        ]], dtype=float32)\n",
      " array([[  1.],\n",
      "       [ 70.],\n",
      "       [ 80.]], dtype=float32)]\n",
      "[ array([[  1.01999998,   1.        ],\n",
      "       [ 10.        ,  40.        ],\n",
      "       [ 20.        ,  50.        ],\n",
      "       [ 30.        ,  60.        ]], dtype=float32)\n",
      " array([[  1.],\n",
      "       [ 70.],\n",
      "       [ 80.]], dtype=float32)]\n",
      "[ array([[  1.01999998,   1.        ],\n",
      "       [ 10.        ,  40.        ],\n",
      "       [ 20.        ,  50.        ],\n",
      "       [ 30.        ,  60.        ]], dtype=float32)\n",
      " array([[  1.],\n",
      "       [ 70.],\n",
      "       [ 80.]], dtype=float32)]\n",
      "[ array([[  1.01999998,   1.        ],\n",
      "       [ 10.        ,  40.        ],\n",
      "       [ 20.        ,  50.        ],\n",
      "       [ 30.        ,  60.        ]], dtype=float32)\n",
      " array([[  1.],\n",
      "       [ 70.],\n",
      "       [ 80.]], dtype=float32)]\n",
      "[ array([[  1.01999998,   1.        ],\n",
      "       [ 10.        ,  40.        ],\n",
      "       [ 20.        ,  50.        ],\n",
      "       [ 30.        ,  60.        ]], dtype=float32)\n",
      " array([[  1.],\n",
      "       [ 70.],\n",
      "       [ 80.]], dtype=float32)]\n",
      "[ array([[  1.01999998,   1.        ],\n",
      "       [ 10.        ,  40.        ],\n",
      "       [ 20.        ,  50.        ],\n",
      "       [ 30.        ,  60.        ]], dtype=float32)\n",
      " array([[  1.],\n",
      "       [ 70.],\n",
      "       [ 80.]], dtype=float32)]\n",
      "[ array([[  1.01999998,   1.        ],\n",
      "       [ 10.        ,  40.        ],\n",
      "       [ 20.        ,  50.        ],\n",
      "       [ 30.        ,  60.        ]], dtype=float32)\n",
      " array([[  1.],\n",
      "       [ 70.],\n",
      "       [ 80.]], dtype=float32)]\n",
      "[ array([[  1.01999998,   1.        ],\n",
      "       [ 10.        ,  40.        ],\n",
      "       [ 20.        ,  50.        ],\n",
      "       [ 30.        ,  60.        ]], dtype=float32)\n",
      " array([[  1.],\n",
      "       [ 70.],\n",
      "       [ 80.]], dtype=float32)]\n"
     ]
    }
   ],
   "source": [
    "epsilon = 0.02\n",
    "thetas = [theta1,theta2]\n",
    "for l, _ in enumerate(thetas):\n",
    "    for i, _ in enumerate(thetas[l]):\n",
    "        for j, _ in enumerate(thetas[l][i]):\n",
    "            thetas_plus = np.array(thetas).copy()\n",
    "            thetas_minus = np.array(thetas).copy()\n",
    "            \n",
    "            thetas_plus[l][i][j] += epsilon\n",
    "            thetas_minus[l][i][j] -= epsilon\n",
    "            \n",
    "            \n",
    "            \n",
    "#             print thetas_plus\n",
    "#             theta_plus[i][j] += epsilon\n",
    "#             theta_minus[i][j] -= epsilon\n",
    "            \n",
    "#             new_thetas_plus = thetas.copy()\n",
    "#             new_thetas[l]\n",
    "    \n",
    "    \n",
    "#     print compute_cost(X, y, theta_plus)\n",
    "# print thetas\n",
    "# compute_cost(X, y, thetas)"
   ]
  },
  {
   "cell_type": "code",
   "execution_count": null,
   "metadata": {
    "collapsed": true
   },
   "outputs": [],
   "source": []
  }
 ],
 "metadata": {
  "kernelspec": {
   "display_name": "Python 2",
   "language": "python",
   "name": "python2"
  },
  "language_info": {
   "codemirror_mode": {
    "name": "ipython",
    "version": 2
   },
   "file_extension": ".py",
   "mimetype": "text/x-python",
   "name": "python",
   "nbconvert_exporter": "python",
   "pygments_lexer": "ipython2",
   "version": "2.7.6"
  }
 },
 "nbformat": 4,
 "nbformat_minor": 1
}
