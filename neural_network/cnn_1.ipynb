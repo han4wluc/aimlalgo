{
 "cells": [
  {
   "cell_type": "markdown",
   "metadata": {},
   "source": [
    "https://ujjwalkarn.me/2016/08/11/intuitive-explanation-convnets/\n",
    "\n",
    "https://docs.gimp.org/en/plug-in-convmatrix.html"
   ]
  },
  {
   "cell_type": "code",
   "execution_count": 1,
   "metadata": {
    "collapsed": true
   },
   "outputs": [],
   "source": [
    "# Package imports\n",
    "import pandas as pd\n",
    "import matplotlib.pyplot as plt\n",
    "import numpy as np\n",
    "import sklearn\n",
    "import sklearn.datasets\n",
    "import sklearn.linear_model\n",
    "import matplotlib\n",
    "\n",
    "# Display plots inline and change default figure size\n",
    "%matplotlib inline\n",
    "matplotlib.rcParams['figure.figsize'] = (10.0, 8.0)"
   ]
  },
  {
   "cell_type": "code",
   "execution_count": 79,
   "metadata": {
    "collapsed": false
   },
   "outputs": [],
   "source": [
    "# matrix_1 = np.array([\n",
    "#     [1, 1, 1, 0, 0],\n",
    "#     [0, 1, 1, 1, 0],\n",
    "#     [0, 0, 1, 1, 1],\n",
    "#     [0, 0, 1, 1, 0],\n",
    "#     [0, 1, 1, 0, 0]\n",
    "# ])\n",
    "\n",
    "matrix_1 = np.array([\n",
    "    [1, 1, 1, 0, 0, 1],\n",
    "    [0, 1, 1, 1, 0, 1],\n",
    "    [0, 0, 1, 1, 1, 0],\n",
    "    [0, 0, 1, 1, 0, 0],\n",
    "    [0, 1, 1, 0, 0, 0],\n",
    "    [0, 0, 1, 1, 0, 0],\n",
    "])\n",
    "\n",
    "matrix_2 = np.array([\n",
    "    [1, 0, 1],\n",
    "    [0, 1, 0],\n",
    "    [1, 0, 1],\n",
    "])\n",
    "\n",
    "filter_sharpen = np.array([[\n",
    "    [ 0,-1, 0],\n",
    "    [-1, 5,-1],\n",
    "    [ 0,-1, 0],\n",
    "]])\n",
    "\n",
    "filter_emboss = np.array([[\n",
    "    [-2,-1, 0],\n",
    "    [-1, 1, 1],\n",
    "    [ 0, 1, 2],\n",
    "]])\n",
    "\n",
    "edge_detect = np.array([\n",
    "    [0, 1, 0],\n",
    "    [1,-4, 1],\n",
    "    [0, 1, 0],\n",
    "])\n",
    "\n",
    "\n",
    "def convolution(matrix, screen, stride):\n",
    "    \n",
    "    window_width = matrix.shape[0]\n",
    "    screen_width = screen.shape[0]\n",
    "    \n",
    "    matrix_output = np.zeros(((window_width-2)/2,(window_width-2)/2))\n",
    "    \n",
    "    for i in range(0, window_width-2, stride):\n",
    "        for j in range(0, window_width-2, stride):\n",
    "            window = matrix[i:i+screen_width,j:j+screen_width]\n",
    "            combined = screen * window\n",
    "            matrix_output[i/2][j/2] = combined.sum()\n",
    "\n",
    "    return matrix_output\n"
   ]
  },
  {
   "cell_type": "code",
   "execution_count": 44,
   "metadata": {
    "collapsed": false
   },
   "outputs": [
    {
     "name": "stdout",
     "output_type": "stream",
     "text": [
      "[[ 13.  13.]\n",
      " [ 11.   9.]]\n"
     ]
    }
   ],
   "source": [
    "pm = 2\n",
    "\n",
    "# m_3 = matrix_3.shape[0]\n",
    "\n",
    "# m_4 = m_3 / pm\n",
    "\n",
    "pooled = np.zeros((2,2))\n",
    "\n",
    "for i in range(2):\n",
    "    for j in range(2):\n",
    "        window = matrix_3[2*i:2*i+2,2*j:2*j+2]\n",
    "#         print window\n",
    "        pooled[i][j] = np.sum(window)\n",
    "        \n",
    "print pooled\n",
    "\n"
   ]
  },
  {
   "cell_type": "code",
   "execution_count": 80,
   "metadata": {
    "collapsed": true
   },
   "outputs": [],
   "source": [
    "\n",
    "def predict_2(X, thetas):\n",
    "    a = X\n",
    "    thetas_len = len(thetas)\n",
    "    for i, theta in enumerate(thetas):\n",
    "        b = theta[0:1]\n",
    "        w = theta[1:]\n",
    "        z = np.dot(a, w) + b\n",
    "\n",
    "        if i < thetas_len-1:\n",
    "            a = np.tanh(z)\n",
    "        else:\n",
    "            exp_scores = np.exp(z)\n",
    "            a = exp_scores / np.sum(exp_scores, axis=1, keepdims=True)\n",
    "#     print 'a', a\n",
    "    return np.argmax(a, axis=1)\n",
    "\n",
    "def calculate_loss_2(X, y, thetas, reg_lambda):\n",
    "    m = X.shape[0]\n",
    "    a = X\n",
    "    thetas_len = len(thetas)\n",
    "\n",
    "    for i, theta in enumerate(thetas):\n",
    "        b = theta[0:1]\n",
    "        w = theta[1:]\n",
    "        z = np.dot(a, w) + b\n",
    "\n",
    "        if i < thetas_len-1:\n",
    "            a = np.tanh(z)\n",
    "        else:\n",
    "            exp_scores = np.exp(z)\n",
    "            a = exp_scores / np.sum(exp_scores, axis=1, keepdims=True)\n",
    "\n",
    "    correct_logprobs = -np.log(a[range(m), y.ravel()])\n",
    "    data_loss = np.sum(correct_logprobs)\n",
    "    \n",
    "    weights_sum = 0\n",
    "    for theta in thetas:\n",
    "        w = theta[1:]\n",
    "        w_sq = np.square(w)\n",
    "        w_sq_sum = w_sq.sum()\n",
    "        weights_sum += w_sq_sum\n",
    "    reg = (reg_lambda/2) * weights_sum\n",
    "    return 1./m * (data_loss + reg)\n",
    "\n",
    "\n",
    "\n",
    "def compute_gradient_2(X, y, thetas, reg_lambda):\n",
    "    m = X.shape[0]\n",
    "    a = X\n",
    "    thetas_len = len(thetas)\n",
    "\n",
    "    activations = [X]\n",
    "    \n",
    "    for i, theta in enumerate(thetas):\n",
    "        b = theta[0:1]\n",
    "        w = theta[1:]\n",
    "        z = np.dot(a, w) + b\n",
    "\n",
    "        if i < thetas_len-1:\n",
    "            a = np.tanh(z)\n",
    "        else:\n",
    "            exp_scores = np.exp(z)\n",
    "            a = exp_scores / np.sum(exp_scores, axis=1, keepdims=True)\n",
    "        activations.append(a)\n",
    "\n",
    "    deltas = [None] * thetas_len\n",
    "    \n",
    "    for i in range(thetas_len-1,-1,-1):\n",
    "        if i == thetas_len-1:\n",
    "            delta = activations[i+1]\n",
    "            delta[range(m), y.ravel()] -= 1\n",
    "        else:\n",
    "            next_delta = deltas[i+1]\n",
    "            next_theta = thetas[i+1]\n",
    "            next_w = next_theta[1:]\n",
    "            a = activations[i+1]\n",
    "            delta = np.dot(next_delta, next_w.T) * (1 - np.power(a, 2))\n",
    "        deltas[i] = delta\n",
    "    \n",
    "    thetas_grad = []\n",
    "    for i in range(len(deltas)):\n",
    "        delta = deltas[i]\n",
    "        theta = thetas[i]\n",
    "        w = theta[1:]\n",
    "        a = activations[i]\n",
    "        \n",
    "        b_grad = np.sum(delta, axis=0, keepdims=True)\n",
    "        w_grad = np.dot(a.T, delta) + reg_lambda * w\n",
    "        theta_grad = np.vstack((b_grad, w_grad))\n",
    "        thetas_grad.append(theta_grad)\n",
    "    \n",
    "    return thetas_grad\n",
    "\n",
    "\n",
    "def gradient_descent(X, y, reg_lambda, alpha, layers, num_iters):    \n",
    "    \n",
    "    rand = np.random.RandomState(12)\n",
    "    \n",
    "    thetas = []\n",
    "    for i in range(len(layers)-1):\n",
    "    \n",
    "        mm = layers[i]\n",
    "        nn = layers[i+1]\n",
    "        theta = rand.rand(mm+1, nn) / np.sqrt(mm)\n",
    "        theta[0] = 0\n",
    "        thetas.append(theta)\n",
    "    \n",
    "    costs = []\n",
    "    for i in range(num_iters):\n",
    "        \n",
    "        if i % 1 == 0:\n",
    "            cost = calculate_loss_2(X, y, thetas, reg_lambda)\n",
    "            costs.append(cost)\n",
    "        \n",
    "        thetas_grad = compute_gradient_2(X, y, thetas, reg_lambda)\n",
    "    \n",
    "        for i, theta_grad in enumerate(thetas_grad):\n",
    "            thetas[i] -= alpha * theta_grad\n",
    "\n",
    "    return thetas, costs\n",
    "\n",
    "\n",
    "def do_prediction(X, y, thetas):\n",
    "    m = X.shape[0]\n",
    "    predicted = predict_2(X, thetas).reshape(m,1)\n",
    "    n_correct = (predicted == y).sum()\n",
    "    percent_correct = float(n_correct) / m\n",
    "    return percent_correct\n"
   ]
  },
  {
   "cell_type": "code",
   "execution_count": 2,
   "metadata": {
    "collapsed": false
   },
   "outputs": [],
   "source": [
    "X = np.array([[  0,   0,   0,   0,   0,   0,   0,   0,   0,   0,   0,   0,   0,\n",
    "          0,   0,   0,   0,   0,   0,   0,   0,   0,   0,   0,   0,   0,\n",
    "          0,   0],\n",
    "       [  0,   0,   0,   0,   0,   0,   0,   0,   0,   0,   0,   0,   0,\n",
    "          0,   0,   0,   0,   0,   0,   0,   0,   0,   0,   0,   0,   0,\n",
    "          0,   0],\n",
    "       [  0,   0,   0,   0,   0,   0,   0,   0,   0,   0,   0,   0,   0,\n",
    "          0,   0,   0,   0,   0,   0,   0,   0,   0,   0,   0,   0,   0,\n",
    "          0,   0],\n",
    "       [  0,   0,   0,   0,   0,   0,   0,   0,   0,   0,   0,   0,   0,\n",
    "          0,   0,   0,   0,   0,   0,   0,   0,   0,   0,   0,   0,   0,\n",
    "          0,   0],\n",
    "       [  0,   0,   0,   0,   0,   0,   0,   0,   0,   0,   0,   0,   0,\n",
    "          0,   0,  51, 159, 253, 159,  50,   0,   0,   0,   0,   0,   0,\n",
    "          0,   0],\n",
    "       [  0,   0,   0,   0,   0,   0,   0,   0,   0,   0,   0,   0,   0,\n",
    "          0,  48, 238, 252, 252, 252, 237,   0,   0,   0,   0,   0,   0,\n",
    "          0,   0],\n",
    "       [  0,   0,   0,   0,   0,   0,   0,   0,   0,   0,   0,   0,   0,\n",
    "         54, 227, 253, 252, 239, 233, 252,  57,   6,   0,   0,   0,   0,\n",
    "          0,   0],\n",
    "       [  0,   0,   0,   0,   0,   0,   0,   0,   0,   0,   0,  10,  60,\n",
    "        224, 252, 253, 252, 202,  84, 252, 253, 122,   0,   0,   0,   0,\n",
    "          0,   0],\n",
    "       [  0,   0,   0,   0,   0,   0,   0,   0,   0,   0,   0, 163, 252,\n",
    "        252, 252, 253, 252, 252,  96, 189, 253, 167,   0,   0,   0,   0,\n",
    "          0,   0],\n",
    "       [  0,   0,   0,   0,   0,   0,   0,   0,   0,   0,  51, 238, 253,\n",
    "        253, 190, 114, 253, 228,  47,  79, 255, 168,   0,   0,   0,   0,\n",
    "          0,   0],\n",
    "       [  0,   0,   0,   0,   0,   0,   0,   0,   0,  48, 238, 252, 252,\n",
    "        179,  12,  75, 121,  21,   0,   0, 253, 243,  50,   0,   0,   0,\n",
    "          0,   0],\n",
    "       [  0,   0,   0,   0,   0,   0,   0,   0,  38, 165, 253, 233, 208,\n",
    "         84,   0,   0,   0,   0,   0,   0, 253, 252, 165,   0,   0,   0,\n",
    "          0,   0],\n",
    "       [  0,   0,   0,   0,   0,   0,   0,   7, 178, 252, 240,  71,  19,\n",
    "         28,   0,   0,   0,   0,   0,   0, 253, 252, 195,   0,   0,   0,\n",
    "          0,   0],\n",
    "       [  0,   0,   0,   0,   0,   0,   0,  57, 252, 252,  63,   0,   0,\n",
    "          0,   0,   0,   0,   0,   0,   0, 253, 252, 195,   0,   0,   0,\n",
    "          0,   0],\n",
    "       [  0,   0,   0,   0,   0,   0,   0, 198, 253, 190,   0,   0,   0,\n",
    "          0,   0,   0,   0,   0,   0,   0, 255, 253, 196,   0,   0,   0,\n",
    "          0,   0],\n",
    "       [  0,   0,   0,   0,   0,   0,  76, 246, 252, 112,   0,   0,   0,\n",
    "          0,   0,   0,   0,   0,   0,   0, 253, 252, 148,   0,   0,   0,\n",
    "          0,   0],\n",
    "       [  0,   0,   0,   0,   0,   0,  85, 252, 230,  25,   0,   0,   0,\n",
    "          0,   0,   0,   0,   0,   7, 135, 253, 186,  12,   0,   0,   0,\n",
    "          0,   0],\n",
    "       [  0,   0,   0,   0,   0,   0,  85, 252, 223,   0,   0,   0,   0,\n",
    "          0,   0,   0,   0,   7, 131, 252, 225,  71,   0,   0,   0,   0,\n",
    "          0,   0],\n",
    "       [  0,   0,   0,   0,   0,   0,  85, 252, 145,   0,   0,   0,   0,\n",
    "          0,   0,   0,  48, 165, 252, 173,   0,   0,   0,   0,   0,   0,\n",
    "          0,   0],\n",
    "       [  0,   0,   0,   0,   0,   0,  86, 253, 225,   0,   0,   0,   0,\n",
    "          0,   0, 114, 238, 253, 162,   0,   0,   0,   0,   0,   0,   0,\n",
    "          0,   0],\n",
    "       [  0,   0,   0,   0,   0,   0,  85, 252, 249, 146,  48,  29,  85,\n",
    "        178, 225, 253, 223, 167,  56,   0,   0,   0,   0,   0,   0,   0,\n",
    "          0,   0],\n",
    "       [  0,   0,   0,   0,   0,   0,  85, 252, 252, 252, 229, 215, 252,\n",
    "        252, 252, 196, 130,   0,   0,   0,   0,   0,   0,   0,   0,   0,\n",
    "          0,   0],\n",
    "       [  0,   0,   0,   0,   0,   0,  28, 199, 252, 252, 253, 252, 252,\n",
    "        233, 145,   0,   0,   0,   0,   0,   0,   0,   0,   0,   0,   0,\n",
    "          0,   0],\n",
    "       [  0,   0,   0,   0,   0,   0,   0,  25, 128, 252, 253, 252, 141,\n",
    "         37,   0,   0,   0,   0,   0,   0,   0,   0,   0,   0,   0,   0,\n",
    "          0,   0],\n",
    "       [  0,   0,   0,   0,   0,   0,   0,   0,   0,   0,   0,   0,   0,\n",
    "          0,   0,   0,   0,   0,   0,   0,   0,   0,   0,   0,   0,   0,\n",
    "          0,   0],\n",
    "       [  0,   0,   0,   0,   0,   0,   0,   0,   0,   0,   0,   0,   0,\n",
    "          0,   0,   0,   0,   0,   0,   0,   0,   0,   0,   0,   0,   0,\n",
    "          0,   0],\n",
    "       [  0,   0,   0,   0,   0,   0,   0,   0,   0,   0,   0,   0,   0,\n",
    "          0,   0,   0,   0,   0,   0,   0,   0,   0,   0,   0,   0,   0,\n",
    "          0,   0],\n",
    "       [  0,   0,   0,   0,   0,   0,   0,   0,   0,   0,   0,   0,   0,\n",
    "          0,   0,   0,   0,   0,   0,   0,   0,   0,   0,   0,   0,   0,\n",
    "          0,   0]])\n",
    "\n"
   ]
  },
  {
   "cell_type": "code",
   "execution_count": 54,
   "metadata": {
    "collapsed": false
   },
   "outputs": [
    {
     "data": {
      "text/plain": [
       "<matplotlib.image.AxesImage at 0x7f53b9f1b990>"
      ]
     },
     "execution_count": 54,
     "metadata": {},
     "output_type": "execute_result"
    },
    {
     "data": {
      "image/png": "[encoded data removed]",
      "text/plain": [
       "<matplotlib.figure.Figure at 0x7f53bbac2290>"
      ]
     },
     "metadata": {},
     "output_type": "display_data"
    }
   ],
   "source": [
    "plt.imshow(np.reshape(X, [28,28]), cmap='Greys', interpolation='nearest')"
   ]
  },
  {
   "cell_type": "code",
   "execution_count": 12,
   "metadata": {
    "collapsed": false
   },
   "outputs": [
    {
     "data": {
      "text/plain": [
       "<matplotlib.image.AxesImage at 0x7f8a48e57dd0>"
      ]
     },
     "execution_count": 12,
     "metadata": {},
     "output_type": "execute_result"
    },
    {
     "data": {
      "image/png": "[encoded data removed]",
      "text/plain": [
       "<matplotlib.figure.Figure at 0x7f8a48fb61d0>"
      ]
     },
     "metadata": {},
     "output_type": "display_data"
    }
   ],
   "source": [
    "conv_sharp = convolution(np.reshape(X, [28, 28]), filter_sharpen, 2)\n",
    "plt.imshow(conv_edge, cmap='Greys', interpolation='nearest')"
   ]
  },
  {
   "cell_type": "code",
   "execution_count": 11,
   "metadata": {
    "collapsed": false
   },
   "outputs": [
    {
     "data": {
      "text/plain": [
       "<matplotlib.image.AxesImage at 0x7f8a48ef3990>"
      ]
     },
     "execution_count": 11,
     "metadata": {},
     "output_type": "execute_result"
    },
    {
     "data": {
      "image/png": "[encoded data removed]",
      "text/plain": [
       "<matplotlib.figure.Figure at 0x7f8a48fb6810>"
      ]
     },
     "metadata": {},
     "output_type": "display_data"
    }
   ],
   "source": [
    "conv_edge = convolution(np.reshape(X, [28, 28]), edge_detect, 2)\n",
    "plt.imshow(conv_edge, cmap='Greys', interpolation='nearest')"
   ]
  },
  {
   "cell_type": "code",
   "execution_count": 13,
   "metadata": {
    "collapsed": false
   },
   "outputs": [
    {
     "name": "stdout",
     "output_type": "stream",
     "text": [
      "(6, 6)\n"
     ]
    },
    {
     "data": {
      "text/plain": [
       "<matplotlib.image.AxesImage at 0x7f8a48db5f50>"
      ]
     },
     "execution_count": 13,
     "metadata": {},
     "output_type": "execute_result"
    },
    {
     "data": {
      "image/png": "[encoded data removed]",
      "text/plain": [
       "<matplotlib.figure.Figure at 0x7f8a48fb6790>"
      ]
     },
     "metadata": {},
     "output_type": "display_data"
    }
   ],
   "source": [
    "# print conv_edge.shape[0]/2\n",
    "\n",
    "def pooling(original_matrix, pool_size, method):\n",
    "    m = original_matrix.shape[0]\n",
    "    \n",
    "    num_of_stride = m / pool_size\n",
    "    \n",
    "    pool_matrix = np.zeros((num_of_stride, num_of_stride))\n",
    "    for i in range(num_of_stride):\n",
    "        i1 = i * pool_size\n",
    "        i2 = i * pool_size + pool_size\n",
    "        for j in range(num_of_stride):\n",
    "            j1 = j * pool_size\n",
    "            j2 = j * pool_size + pool_size\n",
    "            \n",
    "            pool = original_matrix[i1:i2,j1:j2]\n",
    "            pool_matrix[i][j] = method(pool)\n",
    "    return pool_matrix\n",
    "\n",
    "pool_matrix = pooling(conv_edge, 2, np.sum)\n",
    "print pool_matrix.shape\n",
    "plt.imshow(pool_matrix, cmap='Greys', interpolation='nearest')\n"
   ]
  },
  {
   "cell_type": "code",
   "execution_count": 14,
   "metadata": {
    "collapsed": false,
    "scrolled": true
   },
   "outputs": [
    {
     "data": {
      "text/plain": [
       "<matplotlib.image.AxesImage at 0x7f8a48cd9a50>"
      ]
     },
     "execution_count": 14,
     "metadata": {},
     "output_type": "execute_result"
    },
    {
     "data": {
      "image/png": "[encoded data removed]",
      "text/plain": [
       "<matplotlib.figure.Figure at 0x7f8a48e7b310>"
      ]
     },
     "metadata": {},
     "output_type": "display_data"
    }
   ],
   "source": [
    "pool_sharp = pooling(conv_sharp, 2, np.sum)\n",
    "plt.imshow(pool_sharp, cmap='Greys', interpolation='nearest')"
   ]
  },
  {
   "cell_type": "code",
   "execution_count": 3,
   "metadata": {
    "collapsed": false
   },
   "outputs": [],
   "source": [
    "df = pd.read_csv('../mnist/mnist_train.csv')"
   ]
  },
  {
   "cell_type": "code",
   "execution_count": 37,
   "metadata": {
    "collapsed": false
   },
   "outputs": [
    {
     "ename": "NameError",
     "evalue": "name 'df' is not defined",
     "output_type": "error",
     "traceback": [
      "\u001b[0;31m---------------------------------------------------------------------------\u001b[0m",
      "\u001b[0;31mNameError\u001b[0m                                 Traceback (most recent call last)",
      "\u001b[0;32m<ipython-input-37-5af081edd409>\u001b[0m in \u001b[0;36m<module>\u001b[0;34m()\u001b[0m\n\u001b[1;32m      5\u001b[0m     \u001b[0;32mreturn\u001b[0m \u001b[0;34m(\u001b[0m \u001b[0mX\u001b[0m \u001b[0;34m-\u001b[0m \u001b[0mmean\u001b[0m \u001b[0;34m)\u001b[0m \u001b[0;34m/\u001b[0m \u001b[0mstd\u001b[0m\u001b[0;34m\u001b[0m\u001b[0m\n\u001b[1;32m      6\u001b[0m \u001b[0;34m\u001b[0m\u001b[0m\n\u001b[0;32m----> 7\u001b[0;31m \u001b[0mmatrix\u001b[0m \u001b[0;34m=\u001b[0m \u001b[0mdf\u001b[0m\u001b[0;34m.\u001b[0m\u001b[0mas_matrix\u001b[0m\u001b[0;34m(\u001b[0m\u001b[0;34m)\u001b[0m\u001b[0;34m[\u001b[0m\u001b[0;34m:\u001b[0m\u001b[0;36m5000\u001b[0m\u001b[0;34m]\u001b[0m\u001b[0;34m\u001b[0m\u001b[0m\n\u001b[0m\u001b[1;32m      8\u001b[0m \u001b[0mm\u001b[0m \u001b[0;34m=\u001b[0m \u001b[0mmatrix\u001b[0m\u001b[0;34m.\u001b[0m\u001b[0mshape\u001b[0m\u001b[0;34m[\u001b[0m\u001b[0;36m0\u001b[0m\u001b[0;34m]\u001b[0m\u001b[0;34m\u001b[0m\u001b[0m\n\u001b[1;32m      9\u001b[0m \u001b[0my\u001b[0m \u001b[0;34m=\u001b[0m \u001b[0mmatrix\u001b[0m\u001b[0;34m[\u001b[0m\u001b[0;34m:\u001b[0m\u001b[0;34m,\u001b[0m\u001b[0;36m0\u001b[0m\u001b[0;34m:\u001b[0m\u001b[0;36m1\u001b[0m\u001b[0;34m]\u001b[0m\u001b[0;34m\u001b[0m\u001b[0m\n",
      "\u001b[0;31mNameError\u001b[0m: name 'df' is not defined"
     ]
    }
   ],
   "source": [
    "\n",
    "def feature_normalize(X):\n",
    "    mean = np.mean(X)\n",
    "    std = np.std(X, ddof=1)\n",
    "    return ( X - mean ) / std\n",
    "\n",
    "matrix = df.as_matrix()[:5000]\n",
    "m = matrix.shape[0]\n",
    "y = matrix[:,0:1]\n",
    "X = matrix[:,1:]\n",
    "\n",
    "X = feature_normalize(X)\n"
   ]
  },
  {
   "cell_type": "code",
   "execution_count": 290,
   "metadata": {
    "collapsed": false
   },
   "outputs": [
    {
     "name": "stdout",
     "output_type": "stream",
     "text": [
      "(5000, 108)\n"
     ]
    }
   ],
   "source": [
    "m = X.shape[0]\n",
    "conv_1 = np.empty((m,108), dtype=np.float64)\n",
    "for i, x in enumerate(X):\n",
    "    convoluted_1 = convolution(np.reshape(x, [28, 28]), filter_sharpen, 2)\n",
    "    relu_1 = np.maximum(convoluted_1, 0)\n",
    "    pool_1 = pooling(relu_1, 2, np.sum)\n",
    "    \n",
    "    convoluted_2 = convolution(np.reshape(x, [28, 28]), edge_detect, 2)\n",
    "    relu_2 = np.maximum(convoluted_2, 0)\n",
    "    pool_2 = pooling(relu_2, 2, np.sum)\n",
    "    \n",
    "    convoluted_3 = convolution(np.reshape(x, [28, 28]), filter_emboss, 2)\n",
    "    relu_3 = np.maximum(convoluted_3, 0)\n",
    "    pool_3 = pooling(relu_3, 2, np.sum)\n",
    "\n",
    "    concatenated = np.concatenate((pool_1, pool_2, pool_3), axis=1).reshape(108)\n",
    "    conv_1[i] = concatenated\n",
    "\n",
    "print conv_1.shape"
   ]
  },
  {
   "cell_type": "code",
   "execution_count": 7,
   "metadata": {
    "collapsed": false
   },
   "outputs": [
    {
     "ename": "NameError",
     "evalue": "name 'conv_1' is not defined",
     "output_type": "error",
     "traceback": [
      "\u001b[0;31m---------------------------------------------------------------------------\u001b[0m",
      "\u001b[0;31mNameError\u001b[0m                                 Traceback (most recent call last)",
      "\u001b[0;32m<ipython-input-7-a14347c1fc69>\u001b[0m in \u001b[0;36m<module>\u001b[0;34m()\u001b[0m\n\u001b[1;32m      5\u001b[0m \u001b[0mnum_iters\u001b[0m \u001b[0;34m=\u001b[0m \u001b[0;36m1\u001b[0m\u001b[0;34m\u001b[0m\u001b[0m\n\u001b[1;32m      6\u001b[0m \u001b[0;34m\u001b[0m\u001b[0m\n\u001b[0;32m----> 7\u001b[0;31m \u001b[0mthetas\u001b[0m\u001b[0;34m,\u001b[0m \u001b[0mcosts\u001b[0m \u001b[0;34m=\u001b[0m \u001b[0mgradient_descent\u001b[0m\u001b[0;34m(\u001b[0m\u001b[0mconv_1\u001b[0m\u001b[0;34m,\u001b[0m \u001b[0my\u001b[0m\u001b[0;34m,\u001b[0m \u001b[0mreg_lambda\u001b[0m\u001b[0;34m,\u001b[0m \u001b[0malpha\u001b[0m\u001b[0;34m,\u001b[0m \u001b[0mlayers\u001b[0m\u001b[0;34m,\u001b[0m \u001b[0mnum_iters\u001b[0m\u001b[0;34m)\u001b[0m\u001b[0;34m\u001b[0m\u001b[0m\n\u001b[0m\u001b[1;32m      8\u001b[0m \u001b[0;34m\u001b[0m\u001b[0m\n\u001b[1;32m      9\u001b[0m \u001b[0;32mprint\u001b[0m \u001b[0mdo_prediction\u001b[0m\u001b[0;34m(\u001b[0m\u001b[0mconv_1\u001b[0m\u001b[0;34m,\u001b[0m \u001b[0my\u001b[0m\u001b[0;34m,\u001b[0m \u001b[0mthetas\u001b[0m\u001b[0;34m)\u001b[0m\u001b[0;34m\u001b[0m\u001b[0m\n",
      "\u001b[0;31mNameError\u001b[0m: name 'conv_1' is not defined"
     ]
    }
   ],
   "source": [
    "alpha = 0.0003\n",
    "reg_lambda = 0.001\n",
    "\n",
    "layers = [108,12,8,10]\n",
    "num_iters = 5000\n",
    "\n",
    "thetas, costs = gradient_descent(conv_1, y, reg_lambda, alpha, layers, num_iters)\n",
    "\n",
    "print do_prediction(conv_1, y, thetas)\n",
    "    \n",
    "plt.plot(costs)\n"
   ]
  },
  {
   "cell_type": "code",
   "execution_count": 69,
   "metadata": {
    "collapsed": false
   },
   "outputs": [
    {
     "ename": "NameError",
     "evalue": "name 'y' is not defined",
     "output_type": "error",
     "traceback": [
      "\u001b[0;31m---------------------------------------------------------------------------\u001b[0m",
      "\u001b[0;31mNameError\u001b[0m                                 Traceback (most recent call last)",
      "\u001b[0;32m<ipython-input-69-62368ed9ecc0>\u001b[0m in \u001b[0;36m<module>\u001b[0;34m()\u001b[0m\n\u001b[1;32m      2\u001b[0m \u001b[0mnum_iters\u001b[0m \u001b[0;34m=\u001b[0m \u001b[0;36m5000\u001b[0m\u001b[0;34m\u001b[0m\u001b[0m\n\u001b[1;32m      3\u001b[0m \u001b[0;34m\u001b[0m\u001b[0m\n\u001b[0;32m----> 4\u001b[0;31m \u001b[0mthetas\u001b[0m\u001b[0;34m,\u001b[0m \u001b[0mcosts\u001b[0m \u001b[0;34m=\u001b[0m \u001b[0mgradient_descent\u001b[0m\u001b[0;34m(\u001b[0m\u001b[0mX\u001b[0m\u001b[0;34m,\u001b[0m \u001b[0my\u001b[0m\u001b[0;34m,\u001b[0m \u001b[0mreg_lambda\u001b[0m\u001b[0;34m,\u001b[0m \u001b[0malpha\u001b[0m\u001b[0;34m,\u001b[0m \u001b[0mlayers\u001b[0m\u001b[0;34m,\u001b[0m \u001b[0mnum_iters\u001b[0m\u001b[0;34m)\u001b[0m\u001b[0;34m\u001b[0m\u001b[0m\n\u001b[0m\u001b[1;32m      5\u001b[0m \u001b[0;32mprint\u001b[0m \u001b[0mdo_prediction\u001b[0m\u001b[0;34m(\u001b[0m\u001b[0mX\u001b[0m\u001b[0;34m,\u001b[0m \u001b[0my\u001b[0m\u001b[0;34m,\u001b[0m \u001b[0mthetas\u001b[0m\u001b[0;34m)\u001b[0m\u001b[0;34m\u001b[0m\u001b[0m\n",
      "\u001b[0;31mNameError\u001b[0m: name 'y' is not defined"
     ]
    }
   ],
   "source": [
    "layers = [784,12,8,10]\n",
    "num_iters = 5000\n",
    "\n",
    "thetas, costs = gradient_descent(X, y, reg_lambda, alpha, layers, num_iters)\n",
    "print do_prediction(X, y, thetas)\n"
   ]
  },
  {
   "cell_type": "code",
   "execution_count": 5,
   "metadata": {
    "collapsed": false
   },
   "outputs": [
    {
     "ename": "NameError",
     "evalue": "name 'X' is not defined",
     "output_type": "error",
     "traceback": [
      "\u001b[0;31m---------------------------------------------------------------------------\u001b[0m",
      "\u001b[0;31mNameError\u001b[0m                                 Traceback (most recent call last)",
      "\u001b[0;32m<ipython-input-5-7e5c2321c2db>\u001b[0m in \u001b[0;36m<module>\u001b[0;34m()\u001b[0m\n\u001b[0;32m----> 1\u001b[0;31m \u001b[0mX_use\u001b[0m \u001b[0;34m=\u001b[0m \u001b[0mX\u001b[0m\u001b[0;34m.\u001b[0m\u001b[0mcopy\u001b[0m\u001b[0;34m(\u001b[0m\u001b[0;34m)\u001b[0m\u001b[0;34m\u001b[0m\u001b[0m\n\u001b[0m\u001b[1;32m      2\u001b[0m \u001b[0;31m# print X_use.shape\u001b[0m\u001b[0;34m\u001b[0m\u001b[0;34m\u001b[0m\u001b[0m\n\u001b[1;32m      3\u001b[0m \u001b[0mrand\u001b[0m \u001b[0;34m=\u001b[0m \u001b[0mnp\u001b[0m\u001b[0;34m.\u001b[0m\u001b[0mrandom\u001b[0m\u001b[0;34m.\u001b[0m\u001b[0mRandomState\u001b[0m\u001b[0;34m(\u001b[0m\u001b[0;36m12\u001b[0m\u001b[0;34m)\u001b[0m\u001b[0;34m\u001b[0m\u001b[0m\n\u001b[1;32m      4\u001b[0m \u001b[0mX_norm\u001b[0m \u001b[0;34m=\u001b[0m \u001b[0mfeature_normalize\u001b[0m\u001b[0;34m(\u001b[0m\u001b[0mX_use\u001b[0m\u001b[0;34m)\u001b[0m\u001b[0;34m\u001b[0m\u001b[0m\n\u001b[1;32m      5\u001b[0m \u001b[0;31m# print X_norm\u001b[0m\u001b[0;34m\u001b[0m\u001b[0;34m\u001b[0m\u001b[0m\n",
      "\u001b[0;31mNameError\u001b[0m: name 'X' is not defined"
     ]
    }
   ],
   "source": [
    "X_use = X.copy()\n",
    "# print X_use.shape\n",
    "rand = np.random.RandomState(12)\n",
    "X_norm = feature_normalize(X_use)\n",
    "# print X_norm\n",
    "X_conv = convolution(X_norm, filter_sharpen, 2)\n",
    "X_pool = pooling(X_conv, 2, np.max)\n",
    "X_pooled = np.reshape(X_pool, [1, 36])\n",
    "\n",
    "# print X_pool.shape\n",
    "w1 = 0.5 * rand.rand(36, 8)\n",
    "b1 = 0.5 * rand.rand(1, 8)\n",
    "w2 = 0.5 * rand.rand(8, 2)\n",
    "b2 = 0.5 * rand.rand(1, 2)\n",
    "# forward propagation\n",
    "z1 = np.dot(X_pooled, w1) + b1\n",
    "a1 = np.max(z1, 0)\n",
    "\n",
    "# softmax\n",
    "z2 = np.dot(a1, w2) + b2\n",
    "# print z\n",
    "a2 = np.exp(z2) / np.sum(np.exp(z2), axis=1)\n",
    "\n",
    "    \n",
    "#     for i in range(thetas_len-1,-1,-1):\n",
    "#         if i == thetas_len-1:\n",
    "#             delta = activations[i+1]\n",
    "#             delta[range(m), y.ravel()] -= 1\n",
    "#         else:\n",
    "#             next_delta = deltas[i+1]\n",
    "#             next_theta = thetas[i+1]\n",
    "#             next_w = next_theta[1:]\n",
    "#             a = activations[i+1]\n",
    "#             delta = np.dot(next_delta, next_w.T) * (1 - np.power(a, 2))\n",
    "#         deltas[i] = delta\n",
    "    \n",
    "y_use = np.array([[1]])\n",
    "\n",
    "print a2\n",
    "\n",
    "delta2 = a2\n",
    "print delta2\n",
    "delta2[[0], [y_use.ravel()]] -= 1\n",
    "print delta2\n",
    "\n",
    "print a2\n",
    "delta1 = np.dot(delta2, w2.T) * (1 - np.power(a1, 2))\n",
    "\n",
    "\n",
    "# print delta1\n",
    "\n",
    "# print a1\n",
    "# print a2\n",
    "\n",
    "\n"
   ]
  },
  {
   "cell_type": "code",
   "execution_count": 3,
   "metadata": {
    "collapsed": false
   },
   "outputs": [
    {
     "name": "stdout",
     "output_type": "stream",
     "text": [
      "aaa\n"
     ]
    }
   ],
   "source": [
    "print('aaa')"
   ]
  },
  {
   "cell_type": "code",
   "execution_count": 4,
   "metadata": {
    "collapsed": false
   },
   "outputs": [
    {
     "ename": "NameError",
     "evalue": "name 'X' is not defined",
     "output_type": "error",
     "traceback": [
      "\u001b[0;31m---------------------------------------------------------------------------\u001b[0m",
      "\u001b[0;31mNameError\u001b[0m                                 Traceback (most recent call last)",
      "\u001b[0;32m<ipython-input-4-253bcac7dd80>\u001b[0m in \u001b[0;36m<module>\u001b[0;34m()\u001b[0m\n\u001b[0;32m----> 1\u001b[0;31m \u001b[0mX\u001b[0m\u001b[0;34m\u001b[0m\u001b[0m\n\u001b[0m",
      "\u001b[0;31mNameError\u001b[0m: name 'X' is not defined"
     ]
    }
   ],
   "source": [
    "X"
   ]
  },
  {
   "cell_type": "code",
   "execution_count": 21,
   "metadata": {
    "collapsed": false
   },
   "outputs": [
    {
     "name": "stdout",
     "output_type": "stream",
     "text": [
      "[[-1.26491106  1.26491106]\n",
      " [-0.9486833   0.9486833 ]\n",
      " [ 0.          0.        ]]\n",
      "[[ 0.2822644   3.54277764]\n",
      " [ 0.38725058  2.58230729]\n",
      " [ 1.          1.        ]]\n",
      "[[ 0.0737938   0.9262062 ]\n",
      " [ 0.13040681  0.86959319]\n",
      " [ 0.5         0.5       ]]\n",
      "[[ 2.60648052  0.07665839]\n",
      " [ 2.03709638  0.13972978]\n",
      " [ 0.69314718  0.69314718]]\n"
     ]
    }
   ],
   "source": [
    "\n",
    "def feature_normalize(X):\n",
    "    mean = np.mean(X)\n",
    "    std = np.std(X, ddof=1)\n",
    "    return ( X - mean ) / std\n",
    "\n",
    "XX = np.array([\n",
    "        [0.1, 0.9],\n",
    "        [0.2, 0.8],\n",
    "        [0.5, 0.5]\n",
    "    ])\n",
    "\n",
    "XX = feature_normalize(XX)\n",
    "\n",
    "yy = np.array([\n",
    "        [1],\n",
    "        [1],\n",
    "    ])\n",
    "\n",
    "print XX\n",
    "print np.exp(XX)\n",
    "probs = np.exp(XX) / np.sum(np.exp(XX), axis=1, keepdims=True)\n",
    "print probs\n",
    "\n",
    "print -np.log(probs)\n"
   ]
  },
  {
   "cell_type": "code",
   "execution_count": null,
   "metadata": {
    "collapsed": true
   },
   "outputs": [],
   "source": [
    "\n",
    "# f(x,y,z) = (x+y)z\n",
    "\n",
    "# set some inputs\n",
    "x = -2\n",
    "y = 5\n",
    "z = -4\n",
    "\n",
    "# perform the forward pass\n",
    "q = x + y # q becomes 3\n",
    "f = q * z # f becomes -12\n",
    "\n",
    "# perform the backward pass in reverse order:\n",
    "# first backprop through f = q * z\n",
    "dfdz = q # df/dz = q, so gradient on z becomes 3\n",
    "dfdq = z # df/dq = z, so gradient on q becomes -4\n",
    "\n",
    "# now backprop through q = x + y\n",
    "dfdx = 1.0 * dfdq # dq/dx = 1. Add the multiplication here is the chain rule\n",
    "dfdy = 1.0 * dfdy # dq/dy = 1\n",
    "\n",
    "\n",
    "\n"
   ]
  },
  {
   "cell_type": "code",
   "execution_count": 74,
   "metadata": {
    "collapsed": false
   },
   "outputs": [
    {
     "name": "stdout",
     "output_type": "stream",
     "text": [
      "wx0 -2\n",
      "wx1 6\n",
      "wx01 4\n",
      "z 1\n",
      "z_ -1\n",
      "z__ 0.367879441171\n",
      "z___ 1.36787944117\n",
      "z____ 0.73105857863\n",
      "dz____ 1\n",
      "dz___ -0.534446645389\n",
      "dz__ -0.534446645389\n",
      "dz_ -0.196611933241\n"
     ]
    }
   ],
   "source": [
    "\n",
    "\n",
    "w0 =  2\n",
    "x0 = -1\n",
    "w1 = -3\n",
    "x1 = -2\n",
    "w2 = -3\n",
    "\n",
    "wx0 = w0 * x0\n",
    "print 'wx0', wx0\n",
    "\n",
    "wx1 = w1 * x1\n",
    "print 'wx1', wx1\n",
    "\n",
    "wx01 = wx0 + wx1\n",
    "print 'wx01', wx01\n",
    "\n",
    "z = wx01 + w2\n",
    "print 'z', z\n",
    "\n",
    "z_ = z * -1\n",
    "print 'z_', z_\n",
    "\n",
    "z__ = np.exp(z_)\n",
    "print 'z__', z__\n",
    "\n",
    "z___ = z__ + 1\n",
    "print 'z___', z___\n",
    "\n",
    "z____ = 1/z___\n",
    "print 'z____', z____\n",
    "\n",
    "dz____ = 1\n",
    "print 'dz____', dz____\n",
    "\n",
    "dz___ = -1/ (z___ ** 2)\n",
    "print 'dz___', dz___\n",
    "\n",
    "dz__ = (1) * dz___\n",
    "print 'dz__', dz__\n",
    "\n",
    "dz_ = np.exp(z_) * dz__\n",
    "print 'dz_', dz_\n"
   ]
  },
  {
   "cell_type": "code",
   "execution_count": 70,
   "metadata": {
    "collapsed": true
   },
   "outputs": [],
   "source": [
    "x = 3 # example values\n",
    "y = -4\n",
    "\n",
    "# forward pass\n",
    "sigy = 1.0 / (1 + np.exp(-y)) # sigmoid in numerator     #(1)\n",
    "num = x + sigy # numerator                               #(2)\n",
    "sigx = 1.0 / (1 + np.exp(-x)) # sigmoid in denominator   #(3)\n",
    "xpy = x + y                                              #(4)\n",
    "xpysqr = xpy**2                                          #(5)\n",
    "den = sigx + xpysqr # denominator                        #(6)\n",
    "invden = 1.0 / den                                       #(7)\n",
    "f = num * invden # done!                                 #(8)\n"
   ]
  },
  {
   "cell_type": "code",
   "execution_count": null,
   "metadata": {
    "collapsed": true
   },
   "outputs": [],
   "source": [
    "\n",
    "# backprop f = num * invden\n",
    "dnum = invden # gradient on numerator                    #(8)\n",
    "dinvden = num                                            #(8)\n",
    "\n",
    "# backprop invden = 1.0 / den\n",
    "dden = (-1.0 / (den**2)) * dinvden                       #(7)\n",
    "\n",
    "# backprop den = sigx + zpysqr\n",
    "dsigx = (1) * dden                                       #(6)\n",
    "dxpysqr = (1) * dden                                     #(6)\n",
    "\n",
    "# backprop xpysqr = zpy**2\n",
    "dxpy = (2 * xpy) * dxpysqr                               #(5)\n",
    "\n",
    "# backprop xpy = x + y\n",
    "dx = (1) * dxpy                                          #(4)\n",
    "dy = (1) * dxpy                                          #(4)\n",
    "\n",
    "# backprop sigx = 1.0 / (1 + math.exp(-x))\n",
    "dx += ((1 - sigx) * sigx) * dsigx                        #(3)\n",
    "\n",
    "# backprop num = x + sigy\n",
    "dx += (1) * dnum                                         #(2)\n",
    "dsigy = (1) * dnum                                       #(2)\n",
    "\n",
    "# backprop sigy = 1.0 / (1 + np.exp(-y))\n",
    "dy += ((1 - sigy) * sigy) * dsigy                        #(1)\n",
    "\n"
   ]
  },
  {
   "cell_type": "code",
   "execution_count": null,
   "metadata": {
    "collapsed": true
   },
   "outputs": [],
   "source": [
    "\n",
    "x = 3\n",
    "y = -4\n",
    "\n",
    "sigy = 1.0 / (1 + np.exp(-y))\n",
    "num = x + sigy\n",
    "sigx = 1.0 / (1 + np.exp(-x))\n",
    "xpy = x + y\n",
    "xpysqr = xpy ** 2\n",
    "den = sigx + xpysqr\n",
    "invden = 1.0 / den\n",
    "f = num * invden\n",
    "\n",
    "\n",
    "# f = num * invden\n",
    "dnum = invden\n",
    "dinvden = num\n",
    "\n",
    "# invden = 1.0 / den\n",
    "dden = (-1.0 / (den ** 2)) * dinvden\n",
    "\n",
    "# den = sigx + xpysqr\n",
    "dsigx = (1) * dden\n",
    "dxpysqr = (1) * dden\n",
    "\n",
    "# xpysqr = xpy ** 2\n",
    "dxpy = (2 * xpy) * dxpysqr\n",
    "\n",
    "# xpy = x + y\n",
    "dx = (1) * dxpy\n",
    "dy = (1) * dxpy\n",
    "\n",
    "# sigx = 1.0 / (1 + np.exp(-x))\n",
    "dx += ((1 - sigx) * sigx) * dsigx\n",
    "\n",
    "# num = x + sigy\n",
    "dx += (1) * dnum\n",
    "dsigy = (1) * dnum\n",
    "\n",
    "# sigy = 1.0 / (1 + np.exp(-y))\n",
    "dy += ((1 - sigy) * sigy) * dsigy\n",
    "\n",
    "\n",
    "\n",
    "\n",
    "\n",
    "\n",
    "\n",
    "\n",
    "\n",
    "\n",
    "\n",
    "\n",
    "\n",
    "\n"
   ]
  },
  {
   "cell_type": "code",
   "execution_count": 5,
   "metadata": {
    "collapsed": false
   },
   "outputs": [
    {
     "ename": "NameError",
     "evalue": "name 'feature_normalize' is not defined",
     "output_type": "error",
     "traceback": [
      "\u001b[0;31m---------------------------------------------------------------------------\u001b[0m",
      "\u001b[0;31mNameError\u001b[0m                                 Traceback (most recent call last)",
      "\u001b[0;32m<ipython-input-5-da7914bf522f>\u001b[0m in \u001b[0;36m<module>\u001b[0;34m()\u001b[0m\n\u001b[1;32m      2\u001b[0m \u001b[0mrand\u001b[0m \u001b[0;34m=\u001b[0m \u001b[0mnp\u001b[0m\u001b[0;34m.\u001b[0m\u001b[0mrandom\u001b[0m\u001b[0;34m.\u001b[0m\u001b[0mRandomState\u001b[0m\u001b[0;34m(\u001b[0m\u001b[0;36m12\u001b[0m\u001b[0;34m)\u001b[0m\u001b[0;34m\u001b[0m\u001b[0m\n\u001b[1;32m      3\u001b[0m \u001b[0;34m\u001b[0m\u001b[0m\n\u001b[0;32m----> 4\u001b[0;31m \u001b[0mX_copy\u001b[0m \u001b[0;34m=\u001b[0m \u001b[0mfeature_normalize\u001b[0m\u001b[0;34m(\u001b[0m\u001b[0mX\u001b[0m\u001b[0;34m)\u001b[0m\u001b[0;34m\u001b[0m\u001b[0m\n\u001b[0m\u001b[1;32m      5\u001b[0m \u001b[0;34m\u001b[0m\u001b[0m\n\u001b[1;32m      6\u001b[0m \u001b[0mwe\u001b[0m \u001b[0;34m=\u001b[0m \u001b[0mrand\u001b[0m\u001b[0;34m.\u001b[0m\u001b[0mrand\u001b[0m\u001b[0;34m(\u001b[0m\u001b[0;36m3\u001b[0m\u001b[0;34m,\u001b[0m\u001b[0;36m3\u001b[0m\u001b[0;34m)\u001b[0m\u001b[0;34m\u001b[0m\u001b[0m\n",
      "\u001b[0;31mNameError\u001b[0m: name 'feature_normalize' is not defined"
     ]
    }
   ],
   "source": [
    "\n",
    "rand = np.random.RandomState(12)\n",
    "\n",
    "X_copy = feature_normalize(X)\n",
    "\n",
    "we = rand.rand(3,3)\n",
    "rand_grad = rand.rand(13,13)\n",
    "\n",
    "conv_truth = convolution(np.reshape(X_copy, [28, 28]), we, 2)\n",
    "\n",
    "conv_pred = conv_truth + rand_grad\n",
    "\n",
    "# print conv_edge\n",
    "# print rand_grad\n",
    "plt.imshow(conv_truth, cmap='Greys', interpolation='nearest')\n",
    "\n",
    "# print we\n"
   ]
  },
  {
   "cell_type": "code",
   "execution_count": 107,
   "metadata": {
    "collapsed": false
   },
   "outputs": [
    {
     "data": {
      "text/plain": [
       "<matplotlib.image.AxesImage at 0x7f095665f190>"
      ]
     },
     "execution_count": 107,
     "metadata": {},
     "output_type": "execute_result"
    },
    {
     "data": {
      "image/png": "[encoded data removed]",
      "text/plain": [
       "<matplotlib.figure.Figure at 0x7f09568ee990>"
      ]
     },
     "metadata": {},
     "output_type": "display_data"
    }
   ],
   "source": [
    "plt.imshow(conv_pred, cmap='Greys', interpolation='nearest')"
   ]
  },
  {
   "cell_type": "code",
   "execution_count": 111,
   "metadata": {
    "collapsed": false
   },
   "outputs": [
    {
     "name": "stdout",
     "output_type": "stream",
     "text": [
      "[-0.47250005 -0.47250005 -0.47250005 -0.47250005 -0.47250005 -0.47250005\n",
      " -0.47250005 -0.47250005 -0.47250005 -0.47250005 -0.47250005 -0.47250005\n",
      " -0.47250005 -0.47250005 -0.47250005 -0.47250005 -0.47250005 -0.47250005\n",
      " -0.47250005 -0.47250005 -0.47250005 -0.47250005 -0.47250005 -0.47250005\n",
      " -0.47250005 -0.47250005 -0.47250005 -0.47250005]\n",
      "[[ 0.15416284  0.7400497   0.26331502]\n",
      " [ 0.53373939  0.01457496  0.91874701]\n",
      " [ 0.90071485  0.03342143  0.95694934]]\n",
      "[-2.13365647 -2.13365647 -2.13365647 -2.13365647 -2.13365647 -2.13365647\n",
      " -2.13365647 -2.13365647 -2.13365647 -2.13365647 -2.13365647 -2.13365647\n",
      " -2.13365647]\n",
      "[-2.13365647 -2.13365647 -2.13365647 -2.13365647 -2.13365647 -2.13365647\n",
      " -2.13365647 -2.13365647 -2.13365647 -2.13365647 -2.13365647 -2.13365647\n",
      " -2.13365647]\n",
      "[-1.99644715 -1.84982811 -1.52757328 -1.18943133 -1.28092093 -2.13139723\n",
      " -1.61243044 -1.58161883 -1.64827905 -1.36552231 -1.97293971 -1.36909602\n",
      " -2.11284667]\n"
     ]
    }
   ],
   "source": [
    "\n",
    "print X_copy[0]\n",
    "\n",
    "print we\n",
    "\n",
    "print convolution(np.reshape(X_copy, [28, 28]), we, 2)[0]\n",
    "\n",
    "print conv_truth[0]\n",
    "\n",
    "print conv_pred[0]\n"
   ]
  },
  {
   "cell_type": "code",
   "execution_count": 4,
   "metadata": {
    "collapsed": false
   },
   "outputs": [
    {
     "ename": "NameError",
     "evalue": "name 'rand' is not defined",
     "output_type": "error",
     "traceback": [
      "\u001b[0;31m---------------------------------------------------------------------------\u001b[0m",
      "\u001b[0;31mNameError\u001b[0m                                 Traceback (most recent call last)",
      "\u001b[0;32m<ipython-input-4-888d8ef9bae7>\u001b[0m in \u001b[0;36m<module>\u001b[0;34m()\u001b[0m\n\u001b[1;32m     14\u001b[0m \u001b[0;31m# print conv_pred[0]\u001b[0m\u001b[0;34m\u001b[0m\u001b[0;34m\u001b[0m\u001b[0m\n\u001b[1;32m     15\u001b[0m \u001b[0;34m\u001b[0m\u001b[0m\n\u001b[0;32m---> 16\u001b[0;31m \u001b[0mr1\u001b[0m \u001b[0;34m=\u001b[0m \u001b[0mrand\u001b[0m\u001b[0;34m.\u001b[0m\u001b[0mrand\u001b[0m\u001b[0;34m(\u001b[0m\u001b[0;36m3\u001b[0m\u001b[0;34m,\u001b[0m\u001b[0;36m3\u001b[0m\u001b[0;34m)\u001b[0m\u001b[0;34m\u001b[0m\u001b[0m\n\u001b[0m\u001b[1;32m     17\u001b[0m \u001b[0mr2\u001b[0m \u001b[0;34m=\u001b[0m \u001b[0mrand\u001b[0m\u001b[0;34m.\u001b[0m\u001b[0mrand\u001b[0m\u001b[0;34m(\u001b[0m\u001b[0;36m3\u001b[0m\u001b[0;34m,\u001b[0m\u001b[0;36m3\u001b[0m\u001b[0;34m)\u001b[0m\u001b[0;34m\u001b[0m\u001b[0m\n\u001b[1;32m     18\u001b[0m \u001b[0;34m\u001b[0m\u001b[0m\n",
      "\u001b[0;31mNameError\u001b[0m: name 'rand' is not defined"
     ]
    }
   ],
   "source": [
    "\n",
    "# def convolution(matrix, screen, stride):\n",
    "#     window_width = matrix.shape[0]\n",
    "#     screen_width = screen.shape[0]\n",
    "#     matrix_output = np.zeros(((window_width-2)/2,(window_width-2)/2))\n",
    "#     for i in range(0, window_width-2, stride):\n",
    "#         for j in range(0, window_width-2, stride):\n",
    "#             window = matrix[i:i+screen_width,j:j+screen_width]\n",
    "#             combined = screen * window\n",
    "#             matrix_output[i/2][j/2] = combined.sum()\n",
    "#     return matrix_output\n",
    "\n",
    "# print conv_truth[0]\n",
    "# print conv_pred[0]\n",
    "\n",
    "r1 = rand.rand(3,3)\n",
    "r2 = rand.rand(3,3)\n",
    "\n",
    "r3 = r1 * r2\n",
    "\n",
    "print r1\n",
    "print r3 / r2"
   ]
  },
  {
   "cell_type": "code",
   "execution_count": 3,
   "metadata": {
    "collapsed": false
   },
   "outputs": [
    {
     "ename": "NameError",
     "evalue": "name 'r2' is not defined",
     "output_type": "error",
     "traceback": [
      "\u001b[0;31m---------------------------------------------------------------------------\u001b[0m",
      "\u001b[0;31mNameError\u001b[0m                                 Traceback (most recent call last)",
      "\u001b[0;32m<ipython-input-3-3ec43a3037c6>\u001b[0m in \u001b[0;36m<module>\u001b[0;34m()\u001b[0m\n\u001b[0;32m----> 1\u001b[0;31m \u001b[0mnp\u001b[0m\u001b[0;34m.\u001b[0m\u001b[0mmean\u001b[0m\u001b[0;34m(\u001b[0m\u001b[0mr2\u001b[0m\u001b[0;34m)\u001b[0m\u001b[0;34m\u001b[0m\u001b[0m\n\u001b[0m\u001b[1;32m      2\u001b[0m \u001b[0mz\u001b[0m \u001b[0;34m=\u001b[0m \u001b[0mnp\u001b[0m\u001b[0;34m.\u001b[0m\u001b[0mndarray\u001b[0m\u001b[0;34m(\u001b[0m\u001b[0mshape\u001b[0m\u001b[0;34m=\u001b[0m\u001b[0;34m(\u001b[0m\u001b[0;36m3\u001b[0m\u001b[0;34m,\u001b[0m\u001b[0;36m3\u001b[0m\u001b[0;34m)\u001b[0m\u001b[0;34m)\u001b[0m\u001b[0;34m\u001b[0m\u001b[0m\n\u001b[1;32m      3\u001b[0m \u001b[0mz\u001b[0m\u001b[0;34m.\u001b[0m\u001b[0mfill\u001b[0m\u001b[0;34m(\u001b[0m\u001b[0mnp\u001b[0m\u001b[0;34m.\u001b[0m\u001b[0mmean\u001b[0m\u001b[0;34m(\u001b[0m\u001b[0mr2\u001b[0m\u001b[0;34m)\u001b[0m\u001b[0;34m)\u001b[0m\u001b[0;34m\u001b[0m\u001b[0m\n\u001b[1;32m      4\u001b[0m \u001b[0;31m# z\u001b[0m\u001b[0;34m\u001b[0m\u001b[0;34m\u001b[0m\u001b[0m\n\u001b[1;32m      5\u001b[0m \u001b[0;34m\u001b[0m\u001b[0m\n",
      "\u001b[0;31mNameError\u001b[0m: name 'r2' is not defined"
     ]
    }
   ],
   "source": [
    "np.mean(r2)\n",
    "z = np.ndarray(shape=(3,3))\n",
    "z.fill(np.mean(r2))\n",
    "# z\n",
    "\n",
    "matrix_output = np.zeros((28,28))\n",
    "for i in range(10):\n",
    "    for j in range(10):\n",
    "        \n",
    "        i_s = i * 2\n",
    "        i_e = i_s + 3\n",
    "        \n",
    "        j_s = j * 2\n",
    "        j_e = j_s + 3\n",
    "        \n",
    "        print 'i', i_s, i_e\n",
    "        print 'j', j_s, j_e\n",
    "        \n",
    "#         matrix_output[2:5,0:3] = r1\n",
    "        print matrix_output[i:i_e,j_s:j_e].shape\n",
    "        matrix_output[i:i_e,j_s:j_e] = r1\n",
    "#         print conv_pred\n",
    "        \n",
    "print matrix_output"
   ]
  },
  {
   "cell_type": "code",
   "execution_count": 159,
   "metadata": {
    "collapsed": false
   },
   "outputs": [
    {
     "name": "stdout",
     "output_type": "stream",
     "text": [
      "[[ 0.33356116  0.10642466  0.18614562]\n",
      " [ 0.5192488   0.11262228  0.48392559]\n",
      " [ 0.93148838  0.39885519  0.18039198]]\n"
     ]
    }
   ],
   "source": [
    "matrix_output[2:5,2:5] = r1\n",
    "print matrix_output[2:5,2:5]"
   ]
  },
  {
   "cell_type": "code",
   "execution_count": 9,
   "metadata": {
    "collapsed": false
   },
   "outputs": [
    {
     "ename": "TypeError",
     "evalue": "'mtrand.RandomState' object is not callable",
     "output_type": "error",
     "traceback": [
      "\u001b[0;31m---------------------------------------------------------------------------\u001b[0m",
      "\u001b[0;31mTypeError\u001b[0m                                 Traceback (most recent call last)",
      "\u001b[0;32m<ipython-input-9-33d39f101742>\u001b[0m in \u001b[0;36m<module>\u001b[0;34m()\u001b[0m\n\u001b[1;32m      1\u001b[0m \u001b[0mrand\u001b[0m \u001b[0;34m=\u001b[0m \u001b[0mnp\u001b[0m\u001b[0;34m.\u001b[0m\u001b[0mrandom\u001b[0m\u001b[0;34m.\u001b[0m\u001b[0mRandomState\u001b[0m\u001b[0;34m(\u001b[0m\u001b[0;36m12\u001b[0m\u001b[0;34m)\u001b[0m\u001b[0;34m\u001b[0m\u001b[0m\n\u001b[0;32m----> 2\u001b[0;31m \u001b[0mrand\u001b[0m\u001b[0;34m(\u001b[0m\u001b[0;36m5\u001b[0m\u001b[0;34m,\u001b[0m\u001b[0;36m5\u001b[0m\u001b[0;34m)\u001b[0m\u001b[0;34m\u001b[0m\u001b[0m\n\u001b[0m",
      "\u001b[0;31mTypeError\u001b[0m: 'mtrand.RandomState' object is not callable"
     ]
    }
   ],
   "source": []
  },
  {
   "cell_type": "code",
   "execution_count": null,
   "metadata": {
    "collapsed": true
   },
   "outputs": [],
   "source": []
  }
 ],
 "metadata": {
  "kernelspec": {
   "display_name": "Python 2",
   "language": "python",
   "name": "python2"
  },
  "language_info": {
   "codemirror_mode": {
    "name": "ipython",
    "version": 2
   },
   "file_extension": ".py",
   "mimetype": "text/x-python",
   "name": "python",
   "nbconvert_exporter": "python",
   "pygments_lexer": "ipython2",
   "version": "2.7.6"
  }
 },
 "nbformat": 4,
 "nbformat_minor": 1
}
