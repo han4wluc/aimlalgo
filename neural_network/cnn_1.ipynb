{
 "cells": [
  {
   "cell_type": "markdown",
   "metadata": {},
   "source": [
    "https://ujjwalkarn.me/2016/08/11/intuitive-explanation-convnets/\n",
    "\n",
    "https://docs.gimp.org/en/plug-in-convmatrix.html"
   ]
  },
  {
   "cell_type": "code",
   "execution_count": 2,
   "metadata": {
    "collapsed": true
   },
   "outputs": [],
   "source": [
    "# Package imports\n",
    "import pandas as pd\n",
    "import matplotlib.pyplot as plt\n",
    "import numpy as np\n",
    "import sklearn\n",
    "import sklearn.datasets\n",
    "import sklearn.linear_model\n",
    "import matplotlib\n",
    "\n",
    "# Display plots inline and change default figure size\n",
    "%matplotlib inline\n",
    "matplotlib.rcParams['figure.figsize'] = (10.0, 8.0)"
   ]
  },
  {
   "cell_type": "code",
   "execution_count": 20,
   "metadata": {
    "collapsed": false
   },
   "outputs": [],
   "source": [
    "# matrix_1 = np.array([\n",
    "#     [1, 1, 1, 0, 0],\n",
    "#     [0, 1, 1, 1, 0],\n",
    "#     [0, 0, 1, 1, 1],\n",
    "#     [0, 0, 1, 1, 0],\n",
    "#     [0, 1, 1, 0, 0]\n",
    "# ])\n",
    "\n",
    "matrix_1 = np.array([\n",
    "    [1, 1, 1, 0, 0, 1],\n",
    "    [0, 1, 1, 1, 0, 1],\n",
    "    [0, 0, 1, 1, 1, 0],\n",
    "    [0, 0, 1, 1, 0, 0],\n",
    "    [0, 1, 1, 0, 0, 0],\n",
    "    [0, 0, 1, 1, 0, 0],\n",
    "])\n",
    "\n",
    "matrix_2 = np.array([\n",
    "    [1, 0, 1],\n",
    "    [0, 1, 0],\n",
    "    [1, 0, 1],\n",
    "])\n",
    "\n",
    "filter_sharpen = np.array([[\n",
    "    [ 0,-1, 0],\n",
    "    [-1, 5,-1],\n",
    "    [ 0,-1, 0],\n",
    "]])\n",
    "\n",
    "edge_detect = np.array([\n",
    "    [0, 1, 0],\n",
    "    [1,-4, 1],\n",
    "    [0, 1, 0],\n",
    "])\n",
    "\n",
    "\n",
    "def convolution(matrix, screen, stride):\n",
    "    \n",
    "    window_width = matrix.shape[0]\n",
    "    screen_width = screen.shape[0]\n",
    "    \n",
    "    matrix_output = np.zeros(((window_width-2)/2,(window_width-2)/2))\n",
    "    \n",
    "    for i in range(0, window_width-2, stride):\n",
    "        for j in range(0, window_width-2, stride):\n",
    "            window = matrix[i:i+screen_width,j:j+screen_width]\n",
    "            combined = screen * window\n",
    "            matrix_output[i/2][j/2] = combined.sum()\n",
    "\n",
    "    return matrix_output\n"
   ]
  },
  {
   "cell_type": "code",
   "execution_count": 44,
   "metadata": {
    "collapsed": false
   },
   "outputs": [
    {
     "name": "stdout",
     "output_type": "stream",
     "text": [
      "[[ 13.  13.]\n",
      " [ 11.   9.]]\n"
     ]
    }
   ],
   "source": [
    "pm = 2\n",
    "\n",
    "# m_3 = matrix_3.shape[0]\n",
    "\n",
    "# m_4 = m_3 / pm\n",
    "\n",
    "pooled = np.zeros((2,2))\n",
    "\n",
    "for i in range(2):\n",
    "    for j in range(2):\n",
    "        window = matrix_3[2*i:2*i+2,2*j:2*j+2]\n",
    "#         print window\n",
    "        pooled[i][j] = np.sum(window)\n",
    "        \n",
    "print pooled\n",
    "\n"
   ]
  },
  {
   "cell_type": "code",
   "execution_count": 233,
   "metadata": {
    "collapsed": true
   },
   "outputs": [],
   "source": [
    "\n",
    "def predict_2(X, thetas):\n",
    "    a = X\n",
    "    thetas_len = len(thetas)\n",
    "    for i, theta in enumerate(thetas):\n",
    "        b = theta[0:1]\n",
    "        w = theta[1:]\n",
    "        z = np.dot(a, w) + b\n",
    "\n",
    "        if i < thetas_len-1:\n",
    "            a = np.tanh(z)\n",
    "        else:\n",
    "            exp_scores = np.exp(z)\n",
    "            a = exp_scores / np.sum(exp_scores, axis=1, keepdims=True)\n",
    "#     print 'a', a\n",
    "    return np.argmax(a, axis=1)\n",
    "\n",
    "def calculate_loss_2(X, y, thetas, reg_lambda):\n",
    "    m = X.shape[0]\n",
    "    a = X\n",
    "    thetas_len = len(thetas)\n",
    "\n",
    "    for i, theta in enumerate(thetas):\n",
    "        b = theta[0:1]\n",
    "        w = theta[1:]\n",
    "        z = np.dot(a, w) + b\n",
    "\n",
    "        if i < thetas_len-1:\n",
    "            a = np.tanh(z)\n",
    "        else:\n",
    "            exp_scores = np.exp(z)\n",
    "            a = exp_scores / np.sum(exp_scores, axis=1, keepdims=True)\n",
    "\n",
    "    correct_logprobs = -np.log(a[range(m), y.ravel()])\n",
    "    data_loss = np.sum(correct_logprobs)\n",
    "    \n",
    "    weights_sum = 0\n",
    "    for theta in thetas:\n",
    "        w = theta[1:]\n",
    "        w_sq = np.square(w)\n",
    "        w_sq_sum = w_sq.sum()\n",
    "        weights_sum += w_sq_sum\n",
    "    reg = (reg_lambda/2) * weights_sum\n",
    "    return 1./m * (data_loss + reg)\n",
    "\n",
    "\n",
    "\n",
    "def compute_gradient_2(X, y, thetas, reg_lambda):\n",
    "    m = X.shape[0]\n",
    "    a = X\n",
    "    thetas_len = len(thetas)\n",
    "\n",
    "    activations = [X]\n",
    "    \n",
    "    for i, theta in enumerate(thetas):\n",
    "        b = theta[0:1]\n",
    "        w = theta[1:]\n",
    "        z = np.dot(a, w) + b\n",
    "\n",
    "        if i < thetas_len-1:\n",
    "            a = np.tanh(z)\n",
    "        else:\n",
    "            exp_scores = np.exp(z)\n",
    "            a = exp_scores / np.sum(exp_scores, axis=1, keepdims=True)\n",
    "        activations.append(a)\n",
    "\n",
    "    deltas = [None] * thetas_len\n",
    "    \n",
    "    for i in range(thetas_len-1,-1,-1):\n",
    "        if i == thetas_len-1:\n",
    "            delta = activations[i+1]\n",
    "            delta[range(m), y.ravel()] -= 1\n",
    "        else:\n",
    "            next_delta = deltas[i+1]\n",
    "            next_theta = thetas[i+1]\n",
    "            next_w = next_theta[1:]\n",
    "            a = activations[i+1]\n",
    "            delta = np.dot(next_delta, next_w.T) * (1 - np.power(a, 2))\n",
    "        deltas[i] = delta\n",
    "    \n",
    "    thetas_grad = []\n",
    "    for i in range(len(deltas)):\n",
    "        delta = deltas[i]\n",
    "        theta = thetas[i]\n",
    "        w = theta[1:]\n",
    "        a = activations[i]\n",
    "        \n",
    "        b_grad = np.sum(delta, axis=0, keepdims=True)\n",
    "        w_grad = np.dot(a.T, delta) + reg_lambda * w\n",
    "        theta_grad = np.vstack((b_grad, w_grad))\n",
    "        thetas_grad.append(theta_grad)\n",
    "    \n",
    "    return thetas_grad\n",
    "\n",
    "\n",
    "def gradient_descent(X, y, reg_lambda, alpha, layers, num_iters):    \n",
    "    \n",
    "    rand = np.random.RandomState(12)\n",
    "    \n",
    "    thetas = []\n",
    "    for i in range(len(layers)-1):\n",
    "    \n",
    "        mm = layers[i]\n",
    "        nn = layers[i+1]\n",
    "        theta = rand.rand(mm+1, nn) / np.sqrt(mm)\n",
    "        theta[0] = 0\n",
    "        thetas.append(theta)\n",
    "    \n",
    "    costs = []\n",
    "    for i in range(num_iters):\n",
    "        \n",
    "        if i % 1 == 0:\n",
    "            cost = calculate_loss_2(X, y, thetas, reg_lambda)\n",
    "            costs.append(cost)\n",
    "        \n",
    "        thetas_grad = compute_gradient_2(X, y, thetas, reg_lambda)\n",
    "    \n",
    "        for i, theta_grad in enumerate(thetas_grad):\n",
    "            thetas[i] -= alpha * theta_grad\n",
    "\n",
    "    return thetas, costs\n",
    "\n",
    "\n",
    "def do_prediction(X, y, thetas):\n",
    "    m = X.shape[0]\n",
    "    predicted = predict_2(X, thetas).reshape(m,1)\n",
    "    n_correct = (predicted == y).sum()\n",
    "    percent_correct = float(n_correct) / m\n",
    "    return percent_correct\n"
   ]
  },
  {
   "cell_type": "code",
   "execution_count": 46,
   "metadata": {
    "collapsed": false
   },
   "outputs": [],
   "source": [
    "X = np.array([[  0,   0,   0,   0,   0,   0,   0,   0,   0,   0,   0,   0,   0,\n",
    "          0,   0,   0,   0,   0,   0,   0,   0,   0,   0,   0,   0,   0,\n",
    "          0,   0],\n",
    "       [  0,   0,   0,   0,   0,   0,   0,   0,   0,   0,   0,   0,   0,\n",
    "          0,   0,   0,   0,   0,   0,   0,   0,   0,   0,   0,   0,   0,\n",
    "          0,   0],\n",
    "       [  0,   0,   0,   0,   0,   0,   0,   0,   0,   0,   0,   0,   0,\n",
    "          0,   0,   0,   0,   0,   0,   0,   0,   0,   0,   0,   0,   0,\n",
    "          0,   0],\n",
    "       [  0,   0,   0,   0,   0,   0,   0,   0,   0,   0,   0,   0,   0,\n",
    "          0,   0,   0,   0,   0,   0,   0,   0,   0,   0,   0,   0,   0,\n",
    "          0,   0],\n",
    "       [  0,   0,   0,   0,   0,   0,   0,   0,   0,   0,   0,   0,   0,\n",
    "          0,   0,  51, 159, 253, 159,  50,   0,   0,   0,   0,   0,   0,\n",
    "          0,   0],\n",
    "       [  0,   0,   0,   0,   0,   0,   0,   0,   0,   0,   0,   0,   0,\n",
    "          0,  48, 238, 252, 252, 252, 237,   0,   0,   0,   0,   0,   0,\n",
    "          0,   0],\n",
    "       [  0,   0,   0,   0,   0,   0,   0,   0,   0,   0,   0,   0,   0,\n",
    "         54, 227, 253, 252, 239, 233, 252,  57,   6,   0,   0,   0,   0,\n",
    "          0,   0],\n",
    "       [  0,   0,   0,   0,   0,   0,   0,   0,   0,   0,   0,  10,  60,\n",
    "        224, 252, 253, 252, 202,  84, 252, 253, 122,   0,   0,   0,   0,\n",
    "          0,   0],\n",
    "       [  0,   0,   0,   0,   0,   0,   0,   0,   0,   0,   0, 163, 252,\n",
    "        252, 252, 253, 252, 252,  96, 189, 253, 167,   0,   0,   0,   0,\n",
    "          0,   0],\n",
    "       [  0,   0,   0,   0,   0,   0,   0,   0,   0,   0,  51, 238, 253,\n",
    "        253, 190, 114, 253, 228,  47,  79, 255, 168,   0,   0,   0,   0,\n",
    "          0,   0],\n",
    "       [  0,   0,   0,   0,   0,   0,   0,   0,   0,  48, 238, 252, 252,\n",
    "        179,  12,  75, 121,  21,   0,   0, 253, 243,  50,   0,   0,   0,\n",
    "          0,   0],\n",
    "       [  0,   0,   0,   0,   0,   0,   0,   0,  38, 165, 253, 233, 208,\n",
    "         84,   0,   0,   0,   0,   0,   0, 253, 252, 165,   0,   0,   0,\n",
    "          0,   0],\n",
    "       [  0,   0,   0,   0,   0,   0,   0,   7, 178, 252, 240,  71,  19,\n",
    "         28,   0,   0,   0,   0,   0,   0, 253, 252, 195,   0,   0,   0,\n",
    "          0,   0],\n",
    "       [  0,   0,   0,   0,   0,   0,   0,  57, 252, 252,  63,   0,   0,\n",
    "          0,   0,   0,   0,   0,   0,   0, 253, 252, 195,   0,   0,   0,\n",
    "          0,   0],\n",
    "       [  0,   0,   0,   0,   0,   0,   0, 198, 253, 190,   0,   0,   0,\n",
    "          0,   0,   0,   0,   0,   0,   0, 255, 253, 196,   0,   0,   0,\n",
    "          0,   0],\n",
    "       [  0,   0,   0,   0,   0,   0,  76, 246, 252, 112,   0,   0,   0,\n",
    "          0,   0,   0,   0,   0,   0,   0, 253, 252, 148,   0,   0,   0,\n",
    "          0,   0],\n",
    "       [  0,   0,   0,   0,   0,   0,  85, 252, 230,  25,   0,   0,   0,\n",
    "          0,   0,   0,   0,   0,   7, 135, 253, 186,  12,   0,   0,   0,\n",
    "          0,   0],\n",
    "       [  0,   0,   0,   0,   0,   0,  85, 252, 223,   0,   0,   0,   0,\n",
    "          0,   0,   0,   0,   7, 131, 252, 225,  71,   0,   0,   0,   0,\n",
    "          0,   0],\n",
    "       [  0,   0,   0,   0,   0,   0,  85, 252, 145,   0,   0,   0,   0,\n",
    "          0,   0,   0,  48, 165, 252, 173,   0,   0,   0,   0,   0,   0,\n",
    "          0,   0],\n",
    "       [  0,   0,   0,   0,   0,   0,  86, 253, 225,   0,   0,   0,   0,\n",
    "          0,   0, 114, 238, 253, 162,   0,   0,   0,   0,   0,   0,   0,\n",
    "          0,   0],\n",
    "       [  0,   0,   0,   0,   0,   0,  85, 252, 249, 146,  48,  29,  85,\n",
    "        178, 225, 253, 223, 167,  56,   0,   0,   0,   0,   0,   0,   0,\n",
    "          0,   0],\n",
    "       [  0,   0,   0,   0,   0,   0,  85, 252, 252, 252, 229, 215, 252,\n",
    "        252, 252, 196, 130,   0,   0,   0,   0,   0,   0,   0,   0,   0,\n",
    "          0,   0],\n",
    "       [  0,   0,   0,   0,   0,   0,  28, 199, 252, 252, 253, 252, 252,\n",
    "        233, 145,   0,   0,   0,   0,   0,   0,   0,   0,   0,   0,   0,\n",
    "          0,   0],\n",
    "       [  0,   0,   0,   0,   0,   0,   0,  25, 128, 252, 253, 252, 141,\n",
    "         37,   0,   0,   0,   0,   0,   0,   0,   0,   0,   0,   0,   0,\n",
    "          0,   0],\n",
    "       [  0,   0,   0,   0,   0,   0,   0,   0,   0,   0,   0,   0,   0,\n",
    "          0,   0,   0,   0,   0,   0,   0,   0,   0,   0,   0,   0,   0,\n",
    "          0,   0],\n",
    "       [  0,   0,   0,   0,   0,   0,   0,   0,   0,   0,   0,   0,   0,\n",
    "          0,   0,   0,   0,   0,   0,   0,   0,   0,   0,   0,   0,   0,\n",
    "          0,   0],\n",
    "       [  0,   0,   0,   0,   0,   0,   0,   0,   0,   0,   0,   0,   0,\n",
    "          0,   0,   0,   0,   0,   0,   0,   0,   0,   0,   0,   0,   0,\n",
    "          0,   0],\n",
    "       [  0,   0,   0,   0,   0,   0,   0,   0,   0,   0,   0,   0,   0,\n",
    "          0,   0,   0,   0,   0,   0,   0,   0,   0,   0,   0,   0,   0,\n",
    "          0,   0]])"
   ]
  },
  {
   "cell_type": "code",
   "execution_count": 54,
   "metadata": {
    "collapsed": false
   },
   "outputs": [
    {
     "data": {
      "text/plain": [
       "<matplotlib.image.AxesImage at 0x7f53b9f1b990>"
      ]
     },
     "execution_count": 54,
     "metadata": {},
     "output_type": "execute_result"
    },
    {
     "data": {
      "image/png": "[encoded data removed]",
      "text/plain": [
       "<matplotlib.figure.Figure at 0x7f53bbac2290>"
      ]
     },
     "metadata": {},
     "output_type": "display_data"
    }
   ],
   "source": [
    "plt.imshow(np.reshape(X, [28,28]), cmap='Greys', interpolation='nearest')"
   ]
  },
  {
   "cell_type": "code",
   "execution_count": 106,
   "metadata": {
    "collapsed": false
   },
   "outputs": [
    {
     "data": {
      "text/plain": [
       "<matplotlib.image.AxesImage at 0x7f53b8d86450>"
      ]
     },
     "execution_count": 106,
     "metadata": {},
     "output_type": "execute_result"
    },
    {
     "data": {
      "image/png": "[encoded data removed]",
      "text/plain": [
       "<matplotlib.figure.Figure at 0x7f53b9240390>"
      ]
     },
     "metadata": {},
     "output_type": "display_data"
    }
   ],
   "source": [
    "conv_sharp = convolution(np.reshape(X, [28, 28]), filter_sharpen, 2)\n",
    "plt.imshow(conv_edge, cmap='Greys', interpolation='nearest')"
   ]
  },
  {
   "cell_type": "code",
   "execution_count": 107,
   "metadata": {
    "collapsed": false
   },
   "outputs": [
    {
     "data": {
      "text/plain": [
       "<matplotlib.image.AxesImage at 0x7f53b8cb7490>"
      ]
     },
     "execution_count": 107,
     "metadata": {},
     "output_type": "execute_result"
    },
    {
     "data": {
      "image/png": "[encoded data removed]",
      "text/plain": [
       "<matplotlib.figure.Figure at 0x7f53b924b350>"
      ]
     },
     "metadata": {},
     "output_type": "display_data"
    }
   ],
   "source": [
    "conv_edge = convolution(np.reshape(X, [28, 28]), edge_detect, 2)\n",
    "plt.imshow(conv_edge, cmap='Greys', interpolation='nearest')"
   ]
  },
  {
   "cell_type": "code",
   "execution_count": 168,
   "metadata": {
    "collapsed": false
   },
   "outputs": [
    {
     "ename": "NameError",
     "evalue": "name 'conv_edge' is not defined",
     "output_type": "error",
     "traceback": [
      "\u001b[0;31m---------------------------------------------------------------------------\u001b[0m",
      "\u001b[0;31mNameError\u001b[0m                                 Traceback (most recent call last)",
      "\u001b[0;32m<ipython-input-168-34dd1bfb815a>\u001b[0m in \u001b[0;36m<module>\u001b[0;34m()\u001b[0m\n\u001b[1;32m     18\u001b[0m     \u001b[0;32mreturn\u001b[0m \u001b[0mpool_matrix\u001b[0m\u001b[0;34m\u001b[0m\u001b[0m\n\u001b[1;32m     19\u001b[0m \u001b[0;34m\u001b[0m\u001b[0m\n\u001b[0;32m---> 20\u001b[0;31m \u001b[0mpool_matrix\u001b[0m \u001b[0;34m=\u001b[0m \u001b[0mpooling\u001b[0m\u001b[0;34m(\u001b[0m\u001b[0mconv_edge\u001b[0m\u001b[0;34m,\u001b[0m \u001b[0;36m2\u001b[0m\u001b[0;34m,\u001b[0m \u001b[0mnp\u001b[0m\u001b[0;34m.\u001b[0m\u001b[0msum\u001b[0m\u001b[0;34m)\u001b[0m\u001b[0;34m\u001b[0m\u001b[0m\n\u001b[0m\u001b[1;32m     21\u001b[0m \u001b[0;32mprint\u001b[0m \u001b[0mpool_matrix\u001b[0m\u001b[0;34m.\u001b[0m\u001b[0mshape\u001b[0m\u001b[0;34m\u001b[0m\u001b[0m\n\u001b[1;32m     22\u001b[0m \u001b[0mplt\u001b[0m\u001b[0;34m.\u001b[0m\u001b[0mimshow\u001b[0m\u001b[0;34m(\u001b[0m\u001b[0mpool_matrix\u001b[0m\u001b[0;34m,\u001b[0m \u001b[0mcmap\u001b[0m\u001b[0;34m=\u001b[0m\u001b[0;34m'Greys'\u001b[0m\u001b[0;34m,\u001b[0m \u001b[0minterpolation\u001b[0m\u001b[0;34m=\u001b[0m\u001b[0;34m'nearest'\u001b[0m\u001b[0;34m)\u001b[0m\u001b[0;34m\u001b[0m\u001b[0m\n",
      "\u001b[0;31mNameError\u001b[0m: name 'conv_edge' is not defined"
     ]
    }
   ],
   "source": [
    "# print conv_edge.shape[0]/2\n",
    "\n",
    "def pooling(original_matrix, pool_size, method):\n",
    "    m = original_matrix.shape[0]\n",
    "    \n",
    "    num_of_stride = m / pool_size\n",
    "    \n",
    "    pool_matrix = np.zeros((num_of_stride, num_of_stride))\n",
    "    for i in range(num_of_stride):\n",
    "        i1 = i * pool_size\n",
    "        i2 = i * pool_size + pool_size\n",
    "        for j in range(num_of_stride):\n",
    "            j1 = j * pool_size\n",
    "            j2 = j * pool_size + pool_size\n",
    "            \n",
    "            pool = original_matrix[i1:i2,j1:j2]\n",
    "            pool_matrix[i][j] = method(pool)\n",
    "    return pool_matrix\n",
    "\n",
    "pool_matrix = pooling(conv_edge, 2, np.sum)\n",
    "print pool_matrix.shape\n",
    "plt.imshow(pool_matrix, cmap='Greys', interpolation='nearest')\n"
   ]
  },
  {
   "cell_type": "code",
   "execution_count": 110,
   "metadata": {
    "collapsed": false,
    "scrolled": true
   },
   "outputs": [
    {
     "data": {
      "text/plain": [
       "<matplotlib.image.AxesImage at 0x7f53b8abe490>"
      ]
     },
     "execution_count": 110,
     "metadata": {},
     "output_type": "execute_result"
    },
    {
     "data": {
      "image/png": "[encoded data removed]",
      "text/plain": [
       "<matplotlib.figure.Figure at 0x7f53b8ba5f90>"
      ]
     },
     "metadata": {},
     "output_type": "display_data"
    }
   ],
   "source": [
    "pool_sharp = pooling(conv_sharp, 2, np.sum)\n",
    "plt.imshow(pool_sharp, cmap='Greys', interpolation='nearest')"
   ]
  },
  {
   "cell_type": "code",
   "execution_count": 3,
   "metadata": {
    "collapsed": false
   },
   "outputs": [],
   "source": [
    "df = pd.read_csv('../mnist/mnist_train.csv')"
   ]
  },
  {
   "cell_type": "code",
   "execution_count": 273,
   "metadata": {
    "collapsed": true
   },
   "outputs": [],
   "source": [
    "\n",
    "def feature_normalize(X):\n",
    "    mean = np.mean(X)\n",
    "    std = np.std(X, ddof=1)\n",
    "    return ( X - mean ) / std\n",
    "\n",
    "matrix = df.as_matrix()[:5000]\n",
    "m = matrix.shape[0]\n",
    "y = matrix[:,0:1]\n",
    "X = matrix[:,1:]\n",
    "\n",
    "X = feature_normalize(X)\n"
   ]
  },
  {
   "cell_type": "code",
   "execution_count": 274,
   "metadata": {
    "collapsed": false
   },
   "outputs": [
    {
     "name": "stdout",
     "output_type": "stream",
     "text": [
      "(5000, 72)\n"
     ]
    }
   ],
   "source": [
    "# plt.imshow(np.reshape(X[0], [28,28]), cmap='Greys', interpolation='nearest')\n",
    "# conv_sharp = convolution(np.reshape(X, [28, 28]), filter_sharpen, 2)\n",
    "\n",
    "# print 'X.shape', X.shape\n",
    "\n",
    "# def my_func(x):\n",
    "#     return convolution(np.reshape(x, [28, 28]), filter_sharpen, 2)\n",
    "# #     return np.sum(x)\n",
    "\n",
    "# np.apply_along_axis(my_func, axis=1, arr=X)\n",
    "\n",
    "# convolution(np.reshape(X[0], [28, 28]), filter_sharpen, 2)\n",
    "\n",
    "# conv_1 = np.zeros()\n",
    "m = X.shape[0]\n",
    "conv_1 = np.empty((m,72), dtype=np.float64)\n",
    "for i, x in enumerate(X):\n",
    "    convoluted_1 = convolution(np.reshape(x, [28, 28]), filter_sharpen, 2)\n",
    "    relu_1 = np.maximum(convoluted_1, 0)\n",
    "    pool_1 = pooling(relu_1, 2, np.sum)\n",
    "    \n",
    "    convoluted_2 = convolution(np.reshape(x, [28, 28]), edge_detect, 2)\n",
    "    relu_2 = np.maximum(convoluted_2, 0)\n",
    "    pool_2 = pooling(relu_2, 2, np.max)\n",
    "\n",
    "    conv_1[i] = np.concatenate((pool_1, pool_2), axis=1).reshape(72)\n",
    "\n",
    "\n",
    "print conv_1.shape\n",
    "# print conv_1[0].shape\n",
    "\n",
    "# plt.imshow(conv_1[2], cmap='Greys', interpolation='nearest')"
   ]
  },
  {
   "cell_type": "code",
   "execution_count": null,
   "metadata": {
    "collapsed": false
   },
   "outputs": [],
   "source": [
    "alpha = 0.0003\n",
    "reg_lambda = 0.001\n",
    "\n",
    "layers = [72,12,8,10]\n",
    "num_iters = 5000\n",
    "\n",
    "thetas, costs = gradient_descent(conv_1, y, reg_lambda, alpha, layers, num_iters)\n",
    "\n",
    "print do_prediction(conv_1, y, thetas)\n",
    "    \n",
    "plt.plot(costs)\n"
   ]
  },
  {
   "cell_type": "code",
   "execution_count": null,
   "metadata": {
    "collapsed": false
   },
   "outputs": [],
   "source": []
  },
  {
   "cell_type": "code",
   "execution_count": null,
   "metadata": {
    "collapsed": true
   },
   "outputs": [],
   "source": []
  },
  {
   "cell_type": "code",
   "execution_count": null,
   "metadata": {
    "collapsed": true
   },
   "outputs": [],
   "source": []
  }
 ],
 "metadata": {
  "kernelspec": {
   "display_name": "Python 2",
   "language": "python",
   "name": "python2"
  },
  "language_info": {
   "codemirror_mode": {
    "name": "ipython",
    "version": 2
   },
   "file_extension": ".py",
   "mimetype": "text/x-python",
   "name": "python",
   "nbconvert_exporter": "python",
   "pygments_lexer": "ipython2",
   "version": "2.7.6"
  }
 },
 "nbformat": 4,
 "nbformat_minor": 1
}
