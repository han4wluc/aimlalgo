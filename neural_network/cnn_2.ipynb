{
 "cells": [
  {
   "cell_type": "code",
   "execution_count": 229,
   "metadata": {
    "collapsed": true
   },
   "outputs": [],
   "source": [
    "# Package imports\n",
    "import pandas as pd\n",
    "import matplotlib.pyplot as plt\n",
    "import numpy as np\n",
    "import sklearn\n",
    "import sklearn.datasets\n",
    "import sklearn.linear_model\n",
    "import matplotlib\n",
    "import scipy.ndimage.filters\n",
    "\n",
    "# Display plots inline and change default figure size\n",
    "%matplotlib inline\n",
    "matplotlib.rcParams['figure.figsize'] = (10.0, 8.0)"
   ]
  },
  {
   "cell_type": "code",
   "execution_count": 271,
   "metadata": {
    "collapsed": false
   },
   "outputs": [
    {
     "name": "stdout",
     "output_type": "stream",
     "text": [
      "[[ 0.15416284  0.7400497   0.26331502  0.53373939]\n",
      " [ 0.01457496  0.91874701  0.90071485  0.03342143]\n",
      " [ 0.95694934  0.13720932  0.28382835  0.60608318]\n",
      " [ 0.94422514  0.85273554  0.00225923  0.52122603]]\n",
      "[[ 0.55203763  0.48537741  0.76813415]\n",
      " [ 0.16071675  0.76456045  0.0208098 ]\n",
      " [ 0.13521018  0.11627302  0.30989758]]\n",
      "[[ 0.15416284  0.7400497   0.26331502]\n",
      " [ 0.01457496  0.91874701  0.90071485]\n",
      " [ 0.95694934  0.13720932  0.28382835]]\n",
      "[[ 0.91874701  0.90071485  0.03342143]\n",
      " [ 0.13720932  0.28382835  0.60608318]\n",
      " [ 0.85273554  0.00225923  0.52122603]]\n"
     ]
    }
   ],
   "source": [
    "\n",
    "rand = np.random.RandomState(12)\n",
    "# print rand.rand(2,2)\n",
    "\n",
    "X = rand.rand(4,4)\n",
    "print X\n",
    "filt = rand.rand(3,3)\n",
    "print filt\n",
    "\n",
    "X[0:3,0:3]\n",
    "\n",
    "X1 = X[0:3,0:3]\n",
    "X2 = X[1:4,1:4]\n",
    "\n",
    "print X1\n",
    "print X2\n"
   ]
  },
  {
   "cell_type": "code",
   "execution_count": 231,
   "metadata": {
    "collapsed": false
   },
   "outputs": [
    {
     "name": "stdout",
     "output_type": "stream",
     "text": [
      "[[ 0.15416284  0.7400497   0.26331502]\n",
      " [ 0.01457496  0.91874701  0.90071485]\n",
      " [ 0.95694934  0.13720932  0.28382835]]\n",
      "4.36955138937\n",
      "0.48550570993\n"
     ]
    }
   ],
   "source": [
    "print X1\n",
    "print X1.sum()\n",
    "print X1.mean()"
   ]
  },
  {
   "cell_type": "code",
   "execution_count": 305,
   "metadata": {
    "collapsed": false
   },
   "outputs": [
    {
     "name": "stdout",
     "output_type": "stream",
     "text": [
      "1.60339286905\n"
     ]
    }
   ],
   "source": [
    "# forward\n",
    "# B1 = (X1 * filt)\n",
    "# B1_probs = (B1 / B1.sum())\n",
    "\n",
    "# C1 = B1.sum()\n",
    "# print C1\n",
    "\n",
    "def convolute(X, filt):\n",
    "    B = (X * filt)\n",
    "    B_probs = (B / B.sum())\n",
    "    C = B.sum()\n",
    "    return C, B_probs\n",
    "    \n",
    "\n",
    "def get_filter(C, B_probs, X):\n",
    "    return (C * B_probs) / X\n",
    "\n",
    "\n",
    "def cost_func(X, B_probs, C, filt):\n",
    "    return ((X - (C * B_probs / filt)) ** 2).sum()\n",
    "    \n",
    "\n",
    "C1, B1_probs = convolute(X1, filt)\n",
    "print C1"
   ]
  },
  {
   "cell_type": "code",
   "execution_count": 242,
   "metadata": {
    "collapsed": false
   },
   "outputs": [
    {
     "name": "stdout",
     "output_type": "stream",
     "text": [
      "[[  0.00000000e+00   0.00000000e+00   5.55111512e-17]\n",
      " [  0.00000000e+00   0.00000000e+00   0.00000000e+00]\n",
      " [  0.00000000e+00   0.00000000e+00   0.00000000e+00]]\n"
     ]
    }
   ],
   "source": [
    "# backward\n",
    "Z1 = (C1) * B1_probs / filt\n",
    "print X1 - Z1"
   ]
  },
  {
   "cell_type": "code",
   "execution_count": 266,
   "metadata": {
    "collapsed": false
   },
   "outputs": [
    {
     "name": "stdout",
     "output_type": "stream",
     "text": [
      "4.36955138937\n",
      "4.36955138937\n"
     ]
    }
   ],
   "source": [
    "rand = np.random.RandomState(12)\n",
    "C2 = rand.rand()\n",
    "# print C2\n",
    "# Z2 = C2 * B1_probs / filt\n",
    "# print Z2\n",
    "print X1.sum()\n",
    "\n",
    "    \n",
    "\n",
    "# filt2 = (C2 * B1_probs) / X1\n",
    "filt2 = get_filter(C2, B1_probs, X1)\n",
    "Z2 = C2 * B1_probs / filt2\n",
    "\n",
    "print Z2.sum()\n",
    "\n",
    "# # filt2 = filt + 0.5\n",
    "# Z2 = C2 * B1_probs / filt2\n",
    "# print Z2.sum()\n"
   ]
  },
  {
   "cell_type": "code",
   "execution_count": 276,
   "metadata": {
    "collapsed": false
   },
   "outputs": [],
   "source": [
    "C1, B1_probs = convolute(X1, filt)\n",
    "C2, B2_probs = convolute(X2, filt)"
   ]
  },
  {
   "cell_type": "code",
   "execution_count": 278,
   "metadata": {
    "collapsed": false
   },
   "outputs": [
    {
     "name": "stdout",
     "output_type": "stream",
     "text": [
      "1.60339286905\n",
      "1.49879784821\n"
     ]
    }
   ],
   "source": [
    "print C1\n",
    "print C2"
   ]
  },
  {
   "cell_type": "code",
   "execution_count": 291,
   "metadata": {
    "collapsed": false
   },
   "outputs": [
    {
     "name": "stdout",
     "output_type": "stream",
     "text": [
      "[[ 0.55203763  0.48537741  0.76813415]\n",
      " [ 0.16071675  0.76456045  0.0208098 ]\n",
      " [ 0.13521018  0.11627302  0.30989758]]\n",
      "[[ 0.55203763  0.48537741  0.76813415]\n",
      " [ 0.16071675  0.76456045  0.0208098 ]\n",
      " [ 0.13521018  0.11627302  0.30989758]]\n"
     ]
    }
   ],
   "source": [
    "print get_filter(C1, B1_probs, X1)\n",
    "print get_filter(C2, B2_probs, X2)"
   ]
  },
  {
   "cell_type": "code",
   "execution_count": 292,
   "metadata": {
    "collapsed": false
   },
   "outputs": [
    {
     "name": "stdout",
     "output_type": "stream",
     "text": [
      "[[ 0.55203763  0.48537741  0.76813415]\n",
      " [ 0.16071675  0.76456045  0.0208098 ]\n",
      " [ 0.13521018  0.11627302  0.30989758]]\n"
     ]
    }
   ],
   "source": [
    "print filt"
   ]
  },
  {
   "cell_type": "code",
   "execution_count": 294,
   "metadata": {
    "collapsed": false
   },
   "outputs": [],
   "source": [
    "C3 = 1.12\n",
    "C4 = 0.3\n",
    "\n",
    "filt3 = get_filter(C3, B1_probs, X1)\n",
    "filt4 = get_filter(C4, B2_probs, X2)"
   ]
  },
  {
   "cell_type": "code",
   "execution_count": 318,
   "metadata": {
    "collapsed": false
   },
   "outputs": [
    {
     "name": "stdout",
     "output_type": "stream",
     "text": [
      "[[ 0.43188168  0.37973066  0.60094285]\n",
      " [ 0.12573531  0.598147    0.01628036]\n",
      " [ 0.10578047  0.09096515  0.24244559]]\n",
      "[[ 0.15416284  0.7400497   0.26331502]\n",
      " [ 0.01457496  0.91874701  0.90071485]\n",
      " [ 0.95694934  0.13720932  0.28382835]]\n",
      "1.58916427786\n"
     ]
    }
   ],
   "source": [
    "print C3 * filt3\n",
    "print X1\n",
    "# print ((X1 - (C3 * B1_probs / filt3)) ** 2).sum()\n",
    "# print ((X2 - (C4 * B2_probs / filt4)) ** 2).sum()\n",
    "\n",
    "filt5 = (filt3 + filt4) / 2\n",
    "cost1 = cost_func(X1, B1_probs, C3, filt3)\n",
    "cost2 = cost_func(X2, B2_probs, C4, filt3)\n",
    "print cost1 + cost2\n",
    "\n"
   ]
  },
  {
   "cell_type": "code",
   "execution_count": null,
   "metadata": {
    "collapsed": true
   },
   "outputs": [],
   "source": []
  }
 ],
 "metadata": {
  "kernelspec": {
   "display_name": "Python 2",
   "language": "python",
   "name": "python2"
  },
  "language_info": {
   "codemirror_mode": {
    "name": "ipython",
    "version": 2
   },
   "file_extension": ".py",
   "mimetype": "text/x-python",
   "name": "python",
   "nbconvert_exporter": "python",
   "pygments_lexer": "ipython2",
   "version": "2.7.6"
  }
 },
 "nbformat": 4,
 "nbformat_minor": 1
}
