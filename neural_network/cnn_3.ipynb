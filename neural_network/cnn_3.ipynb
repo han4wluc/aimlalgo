{
 "cells": [
  {
   "cell_type": "code",
   "execution_count": 3,
   "metadata": {
    "collapsed": true
   },
   "outputs": [],
   "source": [
    "# Package imports\n",
    "import pandas as pd\n",
    "import matplotlib.pyplot as plt\n",
    "import numpy as np\n",
    "import sklearn\n",
    "import sklearn.datasets\n",
    "import sklearn.linear_model\n",
    "import matplotlib\n",
    "import scipy.ndimage.filters"
   ]
  },
  {
   "cell_type": "code",
   "execution_count": 4,
   "metadata": {
    "collapsed": false
   },
   "outputs": [
    {
     "name": "stdout",
     "output_type": "stream",
     "text": [
      "[[-1.0628376   0.55565456 -1.55260479  1.36307131]\n",
      " [-2.17526006 -1.36231805 -0.62845152  0.42024021]\n",
      " [ 1.33189327  0.50178419 -1.34640574  1.05913682]\n",
      " [-1.40847759 -0.45438191  1.58337408 -0.5977421 ]]\n",
      "[[[[-1.0628376   0.55565456 -1.55260479  1.36307131]\n",
      "   [-2.17526006 -1.36231805 -0.62845152  0.42024021]\n",
      "   [ 1.33189327  0.50178419 -1.34640574  1.05913682]\n",
      "   [-1.40847759 -0.45438191  1.58337408 -0.5977421 ]]]]\n",
      "[[[[ 1.  0.  0.  0.  0.  0.  0.]\n",
      "   [ 0.  1.  0.  0.  0.  0.  0.]\n",
      "   [ 0.  0.  1.  0.  0.  0.  0.]\n",
      "   [ 0.  0.  0.  1.  0.  0.  0.]\n",
      "   [ 0.  0.  0.  0.  1.  0.  0.]\n",
      "   [ 0.  0.  0.  0.  0.  1.  0.]\n",
      "   [ 0.  0.  0.  0.  0.  0.  1.]]]]\n",
      "[[[[-1.0628376   0.55565456 -1.55260479  1.36307131]\n",
      "   [-2.17526006 -1.36231805 -0.62845152  0.42024021]\n",
      "   [ 1.33189327  0.50178419 -1.34640574  1.05913682]\n",
      "   [-1.40847759 -0.45438191  1.58337408 -0.5977421 ]]]]\n",
      "[[-4.36930349  0.98633986 -1.13236458  1.36307131]\n",
      " [-0.0901018  -4.36930349  0.98633986 -1.13236458]\n",
      " [ 0.87751136 -0.0901018  -4.36930349  0.98633986]\n",
      " [-1.40847759  0.87751136 -0.0901018  -4.36930349]]\n"
     ]
    }
   ],
   "source": [
    "img = np.eye(8)\n",
    "img = np.random.randn(4, 4)\n",
    "print(img)\n",
    "imgs = img[np.newaxis, np.newaxis, ...]\n",
    "print(imgs)\n",
    "filt = np.eye(7)\n",
    "filts = filt[np.newaxis, np.newaxis, ...]\n",
    "print filts\n",
    "convout = np.empty_like(imgs)\n",
    "print convout\n",
    "print scipy.ndimage.filters.convolve(img, filt, mode='constant')\n"
   ]
  },
  {
   "cell_type": "code",
   "execution_count": 5,
   "metadata": {
    "collapsed": false
   },
   "outputs": [
    {
     "name": "stdout",
     "output_type": "stream",
     "text": [
      "(0, 3)\n",
      "(1, 4)\n",
      "(2, 5)\n",
      "(3, 6)\n",
      "(0, 2)\n",
      "(1, 3)\n",
      "(2, 4)\n",
      "(3, 5)\n",
      "(0, 1)\n",
      "(1, 2)\n",
      "(2, 3)\n",
      "(3, 4)\n",
      "(0, 0)\n",
      "(1, 1)\n",
      "(2, 2)\n",
      "(3, 3)\n"
     ]
    }
   ],
   "source": [
    "img_h = img.shape[0]\n",
    "img_w = img.shape[0]\n",
    "\n",
    "filt_h = filt.shape[0]\n",
    "filt_w = filt.shape[1]\n",
    "\n",
    "filt_mid_h = filt_h // 2\n",
    "filt_mid_w = filt_w // 2\n",
    "\n",
    "for y in range(img_h):\n",
    "#     print(-y, -filt_mid_h)\n",
    "#     print max(-y, -filt_mid_h)\n",
    "#     print(img_h - y, filt_mid_h+1)\n",
    "    y_off_min = max(-y, -filt_mid_h)\n",
    "    y_off_max = min(img_h-y, filt_mid_h+1)\n",
    "#     print(y_off_min, y_off_max)\n",
    "\n",
    "    for y_off in range(y_off_min, y_off_max):\n",
    "#         print y_off\n",
    "        img_y = y + y_off\n",
    "        filt_y = filt_mid_w + y_off\n",
    "        print(img_y, filt_y)\n",
    "        \n",
    "\n",
    "\n",
    "# for x in range(img_w):\n",
    "#         x_off_min = max(-x, -filt_mid_w)\n",
    "#         x_off_max = min(img_w-x, filt_mid_w+1)\n",
    "#         print(x_off_min, x_off_max)    \n",
    "\n",
    "    "
   ]
  },
  {
   "cell_type": "code",
   "execution_count": null,
   "metadata": {
    "collapsed": true
   },
   "outputs": [],
   "source": []
  }
 ],
 "metadata": {
  "kernelspec": {
   "display_name": "Python 2",
   "language": "python",
   "name": "python2"
  },
  "language_info": {
   "codemirror_mode": {
    "name": "ipython",
    "version": 2
   },
   "file_extension": ".py",
   "mimetype": "text/x-python",
   "name": "python",
   "nbconvert_exporter": "python",
   "pygments_lexer": "ipython2",
   "version": "2.7.6"
  }
 },
 "nbformat": 4,
 "nbformat_minor": 1
}
