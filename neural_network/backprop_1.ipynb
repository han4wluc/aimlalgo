{
 "cells": [
  {
   "cell_type": "markdown",
   "metadata": {},
   "source": [
    "http://cs231n.github.io/optimization-2/"
   ]
  },
  {
   "cell_type": "code",
   "execution_count": 1,
   "metadata": {
    "collapsed": false
   },
   "outputs": [
    {
     "name": "stdout",
     "output_type": "stream",
     "text": [
      "w0x0 -2\n",
      "w1x1 6\n",
      "w0x0w1x1 4\n",
      "dot 1\n",
      "ndot -1\n",
      "expndot 0.367879441171\n",
      "expndotp1 1.36787944117\n",
      "invdot 0.73105857863\n"
     ]
    }
   ],
   "source": [
    "import numpy as np\n",
    "\n",
    "w0 = 2\n",
    "w1 = -3\n",
    "w2 = -3\n",
    "x0 = -1\n",
    "x1 = -2\n",
    "\n",
    "w0x0 = w0 * x0\n",
    "w1x1 = w1 * x1\n",
    "\n",
    "w0x0w1x1 = w0x0 + w1x1\n",
    "dot = w0x0w1x1 + w2\n",
    "ndot = -1 * dot\n",
    "expndot = np.exp(ndot)\n",
    "expndotp1 = 1 + expndot\n",
    "invdot = 1 / expndotp1\n",
    "\n",
    "print 'w0x0', w0x0\n",
    "print 'w1x1', w1x1\n",
    "print 'w0x0w1x1', w0x0w1x1\n",
    "print 'dot', dot\n",
    "print 'ndot', ndot\n",
    "print 'expndot', expndot\n",
    "print 'expndotp1', expndotp1\n",
    "print 'invdot', invdot\n"
   ]
  },
  {
   "cell_type": "code",
   "execution_count": 20,
   "metadata": {
    "collapsed": false
   },
   "outputs": [
    {
     "name": "stdout",
     "output_type": "stream",
     "text": [
      "dexpndotp1 -0.534446645389\n",
      "dexpndot -0.534446645389\n",
      "dxpndot -0.534446645389\n",
      "dndot -0.196611933241\n",
      "ddot 0.196611933241\n",
      "dw2 0.196611933241\n",
      "dw0x0w1x1 0.196611933241\n",
      "dw0x0 0.196611933241\n",
      "dw1x1 0.196611933241\n",
      "dw1 -0.393223866483\n",
      "dx1 -0.589835799724\n",
      "dw0 -0.196611933241\n",
      "dx0 0.393223866483\n"
     ]
    }
   ],
   "source": [
    "\n",
    "# dinvdot = 1\n",
    "dexpndotp1 = -1 / expndotp1 ** 2\n",
    "dxpndot = dexpndotp1\n",
    "dndot = dxpndot * np.exp(ndot)\n",
    "ddot = dndot * -1\n",
    "dw2 = ddot * 1\n",
    "dw0x0w1x1 = ddot * 1\n",
    "dw0x0 = dw0x0w1x1 * 1\n",
    "dw1x1 = dw0x0w1x1 * 1\n",
    "dw1 = dw1x1 * x1\n",
    "dx1 = dw1x1 * w1\n",
    "dw0 = dw0x0 * x0\n",
    "dx0 = dw0x0 * w0\n",
    "\n",
    "\n",
    "print 'dexpndotp1', dexpndotp1\n",
    "print 'dexpndot', dexpndot\n",
    "print 'dxpndot', dxpndot\n",
    "print 'dndot', dndot\n",
    "print 'ddot', ddot\n",
    "print 'dw2', dw2\n",
    "print 'dw0x0w1x1', dw0x0w1x1\n",
    "print 'dw0x0', dw0x0\n",
    "print 'dw1x1', dw1x1\n",
    "print 'dw1', dw1\n",
    "print 'dx1', dx1\n",
    "print 'dw0', dw0\n",
    "print 'dx0', dx0\n",
    "\n"
   ]
  },
  {
   "cell_type": "code",
   "execution_count": null,
   "metadata": {
    "collapsed": true
   },
   "outputs": [],
   "source": []
  },
  {
   "cell_type": "code",
   "execution_count": 32,
   "metadata": {
    "collapsed": false
   },
   "outputs": [],
   "source": [
    "def sigmoid(z):\n",
    "    return 1 / (1 + np.exp(-z))\n",
    "def dsigmoid(z):\n",
    "    return (1 - z) * z\n",
    "\n",
    "x = 3\n",
    "y = -4\n",
    "\n",
    "# forward\n",
    "sigy = sigmoid(y)\n",
    "num = x + sigy\n",
    "sigx = sigmoid(x)\n",
    "xpy = x + y\n",
    "xpysqr = xpy ** 2\n",
    "den = sigx + xpysqr\n",
    "invden = 1.0/den      #(7)\n",
    "f = num * invden      #(8)\n",
    "\n",
    "\n",
    "# backward\n",
    "df = 1\n",
    "dnum = invden                        #(8)\n",
    "dinvden = num                        #(8)\n",
    "dden = dinvden * (-1.0 /(den ** 2))  #(7)\n",
    "dsigx = dden\n",
    "dxpysqr = dden\n",
    "dxpy = (2 * xpy) * dxpysqr\n",
    "dx = (1) * dxpy\n",
    "dy = (1) * dxpy\n",
    "dx += dsigmoid(x) * dsigx\n",
    "dx += (1) * dnum\n",
    "dsigy = (1) * dnum\n",
    "dy += dsigmoid(y) * dsigy\n",
    "\n",
    "\n",
    "\n",
    "\n"
   ]
  },
  {
   "cell_type": "code",
   "execution_count": 33,
   "metadata": {
    "collapsed": true
   },
   "outputs": [],
   "source": [
    "x = 3\n",
    "y = -4\n",
    "\n",
    "# forward\n",
    "sigy = 1.0 / (1 + np.exp(-y))\n",
    "num = x + sigy\n",
    "sigx = 1.0 / (1 + np.exp(-x))\n",
    "xpy = x + y\n",
    "xpysqr = xpy ** 2\n",
    "den = sigx + xpysqr\n",
    "invden = 1.0 / den\n",
    "f = num * invden\n",
    "\n",
    "# backward\n",
    "df = 1\n",
    "dnum = invden * df\n",
    "dinvden = num * df\n",
    "dden = (-1.0 / (den ** 2)) * dinvden\n",
    "dsigx = (1) * dden\n",
    "dxpysqr = (1) * dden\n",
    "dxpy = (2 * xpy) * dxpysqr\n",
    "dx = (1) * dxpy\n",
    "dy = (1) * dxpy\n",
    "dx += ((1 - x) * x) * dsigx\n",
    "dx += (1) * dnum\n",
    "dsigy = (1) * dnum\n",
    "dy += ((1 - y) * y) * dsigy\n"
   ]
  },
  {
   "cell_type": "code",
   "execution_count": null,
   "metadata": {
    "collapsed": true
   },
   "outputs": [],
   "source": [
    "\n",
    "x = 3\n",
    "y = -4\n",
    "\n",
    "sigy = 1.0 / (1 + np.exp(-y))\n",
    "num = x + sigy\n",
    "sigx = 1.0 / (1 + np.exp(-x))\n",
    "xpy = x + y\n",
    "xpysqr = xpy ** 2\n",
    "den = sigx + xpysqr\n",
    "invden = 1.0 / den\n",
    "f = num * invden\n",
    "\n",
    "df = 1\n",
    "dnum = invden * (df)\n",
    "dinvden = num * (df)\n",
    "dden = (-1.0 / (den ** 2)) * dinvden\n",
    "dsigx = (1) * dden\n",
    "dxpysqr = (1) * dden\n",
    "dxpy = (2 * xpy) * dxpysqr\n",
    "dx = (1) * dxpy\n",
    "dy = (1) * dxpy\n",
    "dx += ((1 - sigx) * sigx) * dsigx\n",
    "dx += (1) * dnum\n",
    "dsigy = (1) * dnum\n",
    "dy += ((1 - sigy) * sigy) * dsigy\n",
    "\n"
   ]
  },
  {
   "cell_type": "code",
   "execution_count": 50,
   "metadata": {
    "collapsed": false
   },
   "outputs": [
    {
     "name": "stdout",
     "output_type": "stream",
     "text": [
      "[[ 0.10362292  0.87216744 -0.16097303]\n",
      " [-0.35192374 -1.09613071  0.14581964]\n",
      " [ 0.77591646 -0.29028436 -0.74626765]\n",
      " [-0.0439378  -0.90334797 -0.70964229]\n",
      " [-1.18734557  0.06296767 -0.98590201]]\n"
     ]
    }
   ],
   "source": [
    "# forward pass\n",
    "W = np.random.randn(5, 10)\n",
    "X = np.random.randn(10, 3)\n",
    "D = np.dot(W, X)\n",
    "\n",
    "# print(*D.shape)\n",
    "dD = np.random.randn(*D.shape)\n",
    "dW = np.dot(dD, X.T)\n",
    "\n",
    "print dD\n"
   ]
  },
  {
   "cell_type": "code",
   "execution_count": null,
   "metadata": {
    "collapsed": true
   },
   "outputs": [],
   "source": []
  }
 ],
 "metadata": {
  "kernelspec": {
   "display_name": "Python 2",
   "language": "python",
   "name": "python2"
  },
  "language_info": {
   "codemirror_mode": {
    "name": "ipython",
    "version": 2
   },
   "file_extension": ".py",
   "mimetype": "text/x-python",
   "name": "python",
   "nbconvert_exporter": "python",
   "pygments_lexer": "ipython2",
   "version": "2.7.6"
  }
 },
 "nbformat": 4,
 "nbformat_minor": 1
}
