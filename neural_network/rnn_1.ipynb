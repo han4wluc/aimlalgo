{
 "cells": [
  {
   "cell_type": "markdown",
   "metadata": {},
   "source": [
    "http://karpathy.github.io/2015/05/21/rnn-effectiveness/"
   ]
  },
  {
   "cell_type": "code",
   "execution_count": 26,
   "metadata": {
    "collapsed": false
   },
   "outputs": [],
   "source": [
    "import numpy as np\n",
    "np.random.seed(32)\n",
    "import matplotlib.pyplot as plt\n",
    "import matplotlib\n",
    "%matplotlib inline\n",
    "matplotlib.rcParams['figure.figsize'] = (10.0, 8.0)"
   ]
  },
  {
   "cell_type": "code",
   "execution_count": 4,
   "metadata": {
    "collapsed": false
   },
   "outputs": [],
   "source": [
    "# class RNN:\n",
    "#     def step(self, x):\n",
    "#         #update the hidden state\n",
    "#         self.h = np.tanh()\n",
    "\n",
    "data = open('input.txt', 'r').read()\n",
    "# print data\n"
   ]
  },
  {
   "cell_type": "code",
   "execution_count": null,
   "metadata": {
    "collapsed": false
   },
   "outputs": [],
   "source": []
  },
  {
   "cell_type": "code",
   "execution_count": 71,
   "metadata": {
    "collapsed": false,
    "scrolled": true
   },
   "outputs": [
    {
     "data": {
      "text/plain": [
       "[<matplotlib.lines.Line2D at 0x7f3fbf173590>]"
      ]
     },
     "execution_count": 71,
     "metadata": {},
     "output_type": "execute_result"
    },
    {
     "data": {
      "image/png": "[encoded data removed]",
      "text/plain": [
       "<matplotlib.figure.Figure at 0x7f3fbef44310>"
      ]
     },
     "metadata": {},
     "output_type": "display_data"
    }
   ],
   "source": [
    "\n",
    "# rand = np.random.RandomState(12)\n",
    "np.random.seed(32)\n",
    "\n",
    "hidden_size = 100\n",
    "seq_length = 25\n",
    "p = 0\n",
    "# data = \"hello\"\n",
    "data = open('input.txt', 'r').read()\n",
    "chars = list(set(data))\n",
    "vocab_size = len(chars)\n",
    "char_to_ix = { ch:i for i,ch in enumerate(chars) }\n",
    "ix_to_char = { i:ch for i,ch in enumerate(chars) }\n",
    "inputs  = [char_to_ix[ch] for ch in data[p     : p + seq_length ]]\n",
    "targets = [char_to_ix[ch] for ch in data[p + 1 : p + seq_length + 1]]\n",
    "Wxh = np.random.randn(hidden_size, vocab_size)  * 0.01 # input to hidden\n",
    "Whh = np.random.randn(hidden_size, hidden_size) * 0.01 # hidden to hidden\n",
    "Why = np.random.randn(vocab_size, hidden_size)  * 0.01 # hidden to output\n",
    "bh = np.zeros((hidden_size, 1)) # hidden bias\n",
    "by = np.zeros((vocab_size , 1)) # output bias\n",
    "hprev = np.zeros((hidden_size,1))\n",
    "\n",
    "learning_rate = 1e-1\n",
    "mWxh, mWhh, mWhy = np.zeros_like(Wxh), np.zeros_like(Whh), np.zeros_like(Why)\n",
    "mbh, mby = np.zeros_like(bh), np.zeros_like(by)\n",
    "\n",
    "def lossFun(inputs, targets, hprev):\n",
    "# def lossFun(inputs, hprev):\n",
    "    \"\"\"\n",
    "    inputs, targes are both list of integers.\n",
    "    hprev is Hx1 array of initial state\n",
    "    returns the loss, gradients on model parameters, and last hidden state\n",
    "    \"\"\"\n",
    "    xs, hs, ys, ps = {}, {}, {}, {}\n",
    "#     hs[-1] = np.copy(hprev)\n",
    "    loss = 0\n",
    "    hs[-1] = np.copy(hprev)\n",
    "    \n",
    "    # forward pass\n",
    "    for t in xrange(len(inputs)):\n",
    "        xs[t] = np.zeros((vocab_size,1)) # encode in 1-of-k representation\n",
    "        xs[t][inputs[t]] = 1\n",
    "        dot_x = np.dot(Wxh, xs[t])\n",
    "        dot_h_prev = np.dot(Whh, hs[t-1])\n",
    "        hs[t] = np.tanh(dot_x + dot_h_prev + bh) # hidden state\n",
    "        ys[t] = np.dot(Why, hs[t]) + by # unnormalized log probabilites for next chars\n",
    "        ps[t] = np.exp(ys[t]) / np.sum(np.exp(ys[t])) # probabilities for next chars\n",
    "        l = -np.log(ps[t][targets[t],0]) # softmax (cross-entropy loss)\n",
    "        loss += l\n",
    "    # backward pass: compute gradients going backwards\n",
    "    dWxh, dWhh, dWhy = np.zeros_like(Wxh), np.zeros_like(Whh), np.zeros_like(Why)\n",
    "    dbh, dby = np.zeros_like(bh), np.zeros_like(by)\n",
    "    dhnext = np.zeros_like(hs[0])\n",
    "    for t in reversed(xrange(len(inputs))):\n",
    "        dy = np.copy(ps[t])\n",
    "        dy[targets[t]] -= 1  # backprop into y. see http://cs231n.github.io/neural-networks-case-study/#grad if confused here\n",
    "        dWhy += np.dot(dy, hs[t].T)\n",
    "        dby += dy\n",
    "        dh = np.dot(Why.T, dy) + dhnext # backprop into h\n",
    "        dhraw = (1 - hs[t] * hs[t]) * dh # backprop through tanh nonlinearity\n",
    "        dbh += dhraw\n",
    "        dWxh += np.dot(dhraw, xs[t].T)\n",
    "        dWhh += np.dot(dhraw, hs[t-1].T)\n",
    "        dhnext = np.dot(Whh.T, dhraw)\n",
    "\n",
    "    for dparam in [dWxh, dWhh, dWhy, dbh, dby]:\n",
    "        np.clip(dparam, -5, 5, out=dparam) # clip to mitigate exploding gradients\n",
    "    return loss, dWxh, dWhh, dWhy, dbh, dby, hs[len(inputs)-1]\n",
    "\n",
    "def sample(h, seed_ix, n):\n",
    "    \"\"\"\n",
    "    sample a sequence of integers from the model\n",
    "    h is memory state, seed_ix is seed letter for first time step\n",
    "    \"\"\"\n",
    "    x = np.zeros((vocab_size, 1))\n",
    "    x[seed_ix] = 1\n",
    "    ixes = []\n",
    "    for t in xrange(n):\n",
    "        h = np.tanh(np.dot(Wxh, x) + np.dot(Whh, h) + bh)\n",
    "        y = np.dot(Why, h) + by\n",
    "        p = np.exp(y) / np.sum(np.exp(y))\n",
    "        ix = np.random.choice(range(vocab_size), p=p.ravel())\n",
    "        x = np.zeros((vocab_size, 1))\n",
    "        x[ix] = 1\n",
    "        ixes.append(ix)\n",
    "    return ixes\n",
    "\n",
    "\n",
    "losses = []\n",
    "smooth_loss = -np.log(1.0/vocab_size)*seq_length # loss at iteration 0\n",
    "for i in range(5):\n",
    "\n",
    "    if p+seq_length+1 >= len(data) or i == 0: \n",
    "        hprev = np.zeros((hidden_size,1)) # reset RNN memory\n",
    "        p = 0 # go from start of data\n",
    "    inputs = [char_to_ix[ch] for ch in data[p:p+seq_length]]\n",
    "    targets = [char_to_ix[ch] for ch in data[p+1:p+seq_length+1]]\n",
    "    loss, dWxh, dWhh, dWhy, dbh, dby, hprev = lossFun(inputs, targets, hprev)\n",
    "    \n",
    "    p += seq_length # move data pointer\n",
    "\n",
    "    mWxh += dWxh * dWxh\n",
    "    mWhh += dWhh * dWhh\n",
    "    mWhy += dWhy * dWhy\n",
    "    mbh += dbh * dbh\n",
    "    mby += dby * dby\n",
    "    \n",
    "\n",
    "    Wxh += -learning_rate * dWxh / np.sqrt(mWxh + 1e-8) # adagrad update\n",
    "    Whh += -learning_rate * dWhh / np.sqrt(mWhh + 1e-8)\n",
    "    Why += -learning_rate * dWhy / np.sqrt(mWhy + 1e-8)\n",
    "    bh += -learning_rate * dbh / np.sqrt(mbh + 1e-8)\n",
    "    by += -learning_rate * dby / np.sqrt(mby + 1e-8)\n",
    "\n",
    "\n",
    "    if i % 100 == 0:\n",
    "#         print inputs\n",
    "        sample_ix = sample(hprev, inputs[0], 200)\n",
    "#         txt = ''.join(ix_to_char[ix] for ix in sample_ix)\n",
    "#         print '-----\\n %s \\n------' % (txt,)\n",
    "#         print 'loss', loss\n",
    "    smooth_loss = smooth_loss * 0.999 + loss * 0.001\n",
    "#     if i % 100 == 0: print 'iter %d, loss: %f' % (i, smooth_loss) # print progress\n",
    "    losses.append(loss)\n",
    "\n",
    "plt.plot(losses)\n"
   ]
  },
  {
   "cell_type": "code",
   "execution_count": 74,
   "metadata": {
    "collapsed": false
   },
   "outputs": [
    {
     "name": "stdout",
     "output_type": "stream",
     "text": [
      "[31, 81, 65, 15, 40, 0, 31, 40, 15, 15, 40, 13, 83, 44, 9, 82, 0, 81, 66, 66, 82, 64, 17, 86, 65]\n",
      "[81, 65, 15, 40, 0, 31, 40, 15, 15, 40, 13, 83, 44, 9, 82, 0, 81, 66, 66, 82, 64, 17, 86, 65, 82]\n",
      "[[-0.01287879  0.          0.         ...,  0.          0.         -0.01581844]\n",
      " [-0.00474426  0.          0.         ...,  0.          0.          0.00425313]\n",
      " [ 0.0178115   0.          0.         ...,  0.          0.          0.00580286]\n",
      " ..., \n",
      " [ 0.00044909  0.          0.         ...,  0.          0.          0.00384821]\n",
      " [-0.01153658  0.          0.         ...,  0.          0.         -0.003235  ]\n",
      " [-0.00535685  0.          0.         ...,  0.          0.          0.00869725]]\n"
     ]
    }
   ],
   "source": [
    "p = 0\n",
    "inputs = [char_to_ix[ch] for ch in data[p:p+seq_length]]\n",
    "targets = [char_to_ix[ch] for ch in data[p+1:p+seq_length+1]]\n",
    "hprev = np.zeros((hidden_size,1))\n",
    "print inputs\n",
    "print targets\n",
    "# print hprev\n",
    "loss, a, _, _, _, _, _ = lossFun(inputs, targets, hprev)\n",
    "# print loss\n",
    "print a"
   ]
  },
  {
   "cell_type": "code",
   "execution_count": null,
   "metadata": {
    "collapsed": true
   },
   "outputs": [],
   "source": []
  }
 ],
 "metadata": {
  "kernelspec": {
   "display_name": "Python 2",
   "language": "python",
   "name": "python2"
  },
  "language_info": {
   "codemirror_mode": {
    "name": "ipython",
    "version": 2
   },
   "file_extension": ".py",
   "mimetype": "text/x-python",
   "name": "python",
   "nbconvert_exporter": "python",
   "pygments_lexer": "ipython2",
   "version": "2.7.6"
  }
 },
 "nbformat": 4,
 "nbformat_minor": 1
}
