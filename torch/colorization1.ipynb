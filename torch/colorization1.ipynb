{
 "cells": [
  {
   "cell_type": "code",
   "execution_count": 1,
   "metadata": {
    "collapsed": false
   },
   "outputs": [
    {
     "data": {
      "text/plain": [
       "\t\n"
      ]
     },
     "execution_count": 1,
     "metadata": {},
     "output_type": "execute_result"
    }
   ],
   "source": [
    "require 'image'\n",
    "require 'nn'\n",
    "print('')"
   ]
  },
  {
   "cell_type": "code",
   "execution_count": 1,
   "metadata": {
    "collapsed": false
   },
   "outputs": [
    {
     "data": {
      "text/plain": [
       "Archive:  cifar10torchsmall.zip\n"
      ]
     },
     "execution_count": 1,
     "metadata": {},
     "output_type": "execute_result"
    },
    {
     "data": {
      "text/plain": [
       "  inflating: cifar10-test.t7         "
      ]
     },
     "execution_count": 1,
     "metadata": {},
     "output_type": "execute_result"
    },
    {
     "data": {
      "text/plain": [
       "\n"
      ]
     },
     "execution_count": 1,
     "metadata": {},
     "output_type": "execute_result"
    },
    {
     "data": {
      "text/plain": [
       "  inflating: cifar10-train.t7        "
      ]
     },
     "execution_count": 1,
     "metadata": {},
     "output_type": "execute_result"
    },
    {
     "data": {
      "text/plain": [
       "\n"
      ]
     },
     "execution_count": 1,
     "metadata": {},
     "output_type": "execute_result"
    }
   ],
   "source": [
    "-- os.execute('wget -c https://s3.amazonaws.com/torch7/data/cifar10torchsmall.zip')\n",
    "-- os.execute('unzip -o cifar10torchsmall.zip')"
   ]
  },
  {
   "cell_type": "code",
   "execution_count": 2,
   "metadata": {
    "collapsed": true
   },
   "outputs": [],
   "source": [
    "trainset = torch.load('cifar10-train.t7')\n",
    "-- testset = torch.load('cifar10-test.t7')\n",
    "classes = {'airplane', 'automobile', 'bird', 'cat',\n",
    "           'deer', 'dog', 'frog', 'horse', 'ship', 'truck'}"
   ]
  },
  {
   "cell_type": "code",
   "execution_count": 3,
   "metadata": {
    "collapsed": false
   },
   "outputs": [
    {
     "data": {
      "text/plain": [
       " 10000\n",
       "     3\n",
       "    32\n",
       "    32\n",
       "[torch.LongStorage of size 4]\n",
       "\n",
       " 10000\n",
       "[torch.LongStorage of size 1]\n",
       "\n"
      ]
     },
     "execution_count": 3,
     "metadata": {},
     "output_type": "execute_result"
    }
   ],
   "source": [
    "print(trainset.data:size())\n",
    "print(trainset.label:size())"
   ]
  },
  {
   "cell_type": "code",
   "execution_count": null,
   "metadata": {
    "collapsed": false
   },
   "outputs": [],
   "source": [
    "-- itorch.image(trainset.data[2])\n",
    "-- trainset.data[{1,3}]\n",
    "\n",
    "label = trainset.data:type('torch.DoubleTensor')\n",
    "label = label[{{1,300},{},{},{}}]\n",
    "-- print(label:size())\n",
    "-- print(label[{{1,2},{},{},{}}]:size())\n",
    "-- print(label[{{1,300},{},{},{}}]:size())\n",
    "-- print(label:size())\n",
    "\n",
    "data = torch.Tensor(300,1,32,32)\n",
    "for i=1,300 do\n",
    "    data[i] = image.rgb2y(label[i])\n",
    "end\n",
    "\n",
    "mean = label:mean()\n",
    "std = label:std()\n",
    "label:add(-mean)\n",
    "label:div(std)\n",
    "\n",
    "mean = data:mean()\n",
    "std = data:std()\n",
    "data:add(-mean)\n",
    "data:div(std)\n",
    "\n",
    "print(label:size())\n",
    "print(data:size())\n",
    "-- print(label[1])\n",
    "-- print(data[1])\n",
    "\n",
    "\n"
   ]
  },
  {
   "cell_type": "code",
   "execution_count": 27,
   "metadata": {
    "collapsed": false
   },
   "outputs": [
    {
     "data": {
      "image/png": "[encoded data removed]",
      "text/plain": [
       "Console does not support images"
      ]
     },
     "metadata": {
      "image/png": {
       "height": 32,
       "width": 32
      }
     },
     "output_type": "display_data"
    },
    {
     "data": {
      "image/png": "[encoded data removed]",
      "text/plain": [
       "Console does not support images"
      ]
     },
     "metadata": {
      "image/png": {
       "height": 32,
       "width": 32
      }
     },
     "output_type": "display_data"
    }
   ],
   "source": [
    "\n",
    "itorch.image(label[1])\n",
    "itorch.image(data[1])\n",
    "\n",
    "-- yuv = image.rgb2y(label[1])\n",
    "-- print(yuv:size())\n",
    "\n",
    "-- a = torch.rand(4,2,2)\n",
    "-- b = torch.Tensor(2,2):fill(7)\n",
    "-- a[1] = b\n",
    "-- print(a)\n"
   ]
  },
  {
   "cell_type": "code",
   "execution_count": 5,
   "metadata": {
    "collapsed": false
   },
   "outputs": [],
   "source": [
    "-- l = data[{{1,2},{},{},{}}]\n",
    "-- print(l:size())\n",
    "-- m1 = nn.SpatialConvolution(1,9,3,3,2,2,1,1)\n",
    "-- o1 = m1:forward(l)\n",
    "-- print(o1:size())\n",
    "\n",
    "-- m2 = nn.SpatialConvolution(9,18,3,3,2,2,1,1)\n",
    "-- o2 = m2:forward(o1)\n",
    "-- print(o2:size())\n",
    "\n",
    "-- m3 = nn.SpatialFullConvolution(18, 18, 2, 2, 2, 2, 0, 0, 0, 0)\n",
    "-- o3 = m3:forward(o2)\n",
    "-- print(o3:size())\n",
    "\n",
    "-- m4 = nn.SpatialFullConvolution(18, 18, 2, 2, 2, 2, 0, 0, 0, 0)\n",
    "-- o4 = m4:forward(o3)\n",
    "-- print(o4:size())\n",
    "\n",
    "-- m5 = nn.View(18*32*32)\n",
    "-- o5 = m5:forward(o4)\n",
    "-- print(o5:size())\n",
    "\n",
    "-- m6 = nn.Linear(18*32*32, 32*32)\n",
    "-- o6 = m6:forward(o5)\n",
    "-- print(o6:size())\n",
    "\n",
    "model = nn.Sequential()\n",
    "model:add(nn.SpatialConvolution(1,9,3,3,2,2,1,1))\n",
    "model:add(nn.LeakyReLU(0.2))\n",
    "model:add(nn.SpatialConvolution(9,18,3,3,2,2,1,1))\n",
    "model:add(nn.LeakyReLU(0.2))\n",
    "model:add(nn.SpatialFullConvolution(18, 18, 2, 2, 2, 2, 0, 0, 0, 0))\n",
    "model:add(nn.LeakyReLU(0.2))\n",
    "model:add(nn.SpatialFullConvolution(18, 18, 2, 2, 2, 2, 0, 0, 0, 0))\n",
    "model:add(nn.LeakyReLU(0.2))\n",
    "model:add(nn.View(18* 32*32))\n",
    "model:add(nn.Linear(18*32*32, 3*32*32))\n",
    "-- model:add(nn.Sigmoid())\n",
    "model:add(nn.Tanh())\n",
    "\n",
    "-- criterion = \n"
   ]
  },
  {
   "cell_type": "code",
   "execution_count": 6,
   "metadata": {
    "collapsed": false
   },
   "outputs": [
    {
     "data": {
      "text/plain": [
       "# StochasticGradient: training\t\n"
      ]
     },
     "execution_count": 6,
     "metadata": {},
     "output_type": "execute_result"
    },
    {
     "data": {
      "text/plain": [
       "# current error = 1.1580266271611\t\n"
      ]
     },
     "execution_count": 6,
     "metadata": {},
     "output_type": "execute_result"
    },
    {
     "data": {
      "text/plain": [
       "# current error = 0.99466539251349\t\n"
      ]
     },
     "execution_count": 6,
     "metadata": {},
     "output_type": "execute_result"
    },
    {
     "data": {
      "text/plain": [
       "# current error = 0.98803691375036\t\n"
      ]
     },
     "execution_count": 6,
     "metadata": {},
     "output_type": "execute_result"
    },
    {
     "data": {
      "text/plain": [
       "# current error = 0.98420674550351\t\n"
      ]
     },
     "execution_count": 6,
     "metadata": {},
     "output_type": "execute_result"
    },
    {
     "data": {
      "text/plain": [
       "# current error = 0.96732450019255\t\n",
       "# StochasticGradient: you have reached the maximum number of iterations\t\n",
       "# training error = 0.96732450019255\t\n"
      ]
     },
     "execution_count": 6,
     "metadata": {},
     "output_type": "execute_result"
    }
   ],
   "source": [
    "\n",
    "trainset = {}\n",
    "trainset.data = data\n",
    "trainset.label = label\n",
    "-- ignore setmetatable for now, it is a feature beyond the scope of this tutorial. It sets the index operator.\n",
    "setmetatable(trainset, \n",
    "    {__index = function(t, i) \n",
    "                    return {t.data[i], t.label[i]} \n",
    "                end}\n",
    ");\n",
    "\n",
    "function trainset:size() \n",
    "    return self.data:size(1)\n",
    "end\n",
    "\n",
    "criterion = nn.MSECriterion()\n",
    "trainer = nn.StochasticGradient(model, criterion)\n",
    "trainer.learningRate = 0.1\n",
    "trainer.maxIteration = 5\n",
    "trainer:train(trainset)"
   ]
  },
  {
   "cell_type": "code",
   "execution_count": null,
   "metadata": {
    "collapsed": false
   },
   "outputs": [],
   "source": [
    "s = model:forward(trainset.data[1])"
   ]
  },
  {
   "cell_type": "code",
   "execution_count": 23,
   "metadata": {
    "collapsed": false
   },
   "outputs": [
    {
     "data": {
      "image/png": "[encoded data removed]",
      "text/plain": [
       "Console does not support images"
      ]
     },
     "metadata": {
      "image/png": {
       "height": 32,
       "width": 32
      }
     },
     "output_type": "display_data"
    },
    {
     "data": {
      "image/png": "[encoded data removed]",
      "text/plain": [
       "Console does not support images"
      ]
     },
     "metadata": {
      "image/png": {
       "height": 32,
       "width": 32
      }
     },
     "output_type": "display_data"
    },
    {
     "data": {
      "image/png": "[encoded data removed]",
      "text/plain": [
       "Console does not support images"
      ]
     },
     "metadata": {
      "image/png": {
       "height": 32,
       "width": 32
      }
     },
     "output_type": "display_data"
    }
   ],
   "source": [
    "-- torch.getnumthreads()\n",
    "index = 115\n",
    "itorch.image(data[index])\n",
    "itorch.image(label[index])\n",
    "s = model:forward(data[index])\n",
    "-- print(s:size())\n",
    "itorch.image(s:resize(3,32,32))"
   ]
  },
  {
   "cell_type": "code",
   "execution_count": 33,
   "metadata": {
    "collapsed": false
   },
   "outputs": [
    {
     "data": {
      "text/plain": [
       "-0.76159415595576\t\n"
      ]
     },
     "execution_count": 33,
     "metadata": {},
     "output_type": "execute_result"
    }
   ],
   "source": [
    "-- print(data[index])\n",
    "-- print(label[index])\n",
    "-- print(s:resize(3,32,32))\n",
    "-- torch.tanh(-1)"
   ]
  },
  {
   "cell_type": "code",
   "execution_count": 11,
   "metadata": {
    "collapsed": false
   },
   "outputs": [
    {
     "data": {
      "text/plain": [
       "1\t\n"
      ]
     },
     "execution_count": 11,
     "metadata": {},
     "output_type": "execute_result"
    }
   ],
   "source": [
    "torch.getnumthreads()\n"
   ]
  },
  {
   "cell_type": "code",
   "execution_count": 9,
   "metadata": {
    "collapsed": false
   },
   "outputs": [
    {
     "data": {
      "text/plain": [
       "\n"
      ]
     },
     "execution_count": 9,
     "metadata": {},
     "output_type": "execute_result"
    }
   ],
   "source": [
    "torch.setnumthreads(4)\n"
   ]
  },
  {
   "cell_type": "code",
   "execution_count": null,
   "metadata": {
    "collapsed": true
   },
   "outputs": [],
   "source": []
  }
 ],
 "metadata": {
  "kernelspec": {
   "display_name": "iTorch",
   "language": "lua",
   "name": "itorch"
  },
  "language_info": {
   "name": "lua",
   "version": "5.1"
  }
 },
 "nbformat": 4,
 "nbformat_minor": 1
}
