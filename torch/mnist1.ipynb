{
 "cells": [
  {
   "cell_type": "code",
   "execution_count": 1,
   "metadata": {
    "collapsed": true
   },
   "outputs": [],
   "source": [
    "require 'torch'\n",
    "require 'nn'\n",
    "require 'optim'\n",
    "mnist = require 'mnist'\n",
    "require 'image'"
   ]
  },
  {
   "cell_type": "code",
   "execution_count": 2,
   "metadata": {
    "collapsed": false
   },
   "outputs": [],
   "source": [
    "fullset = mnist.traindataset()\n",
    "testset = mnist.testdataset()"
   ]
  },
  {
   "cell_type": "code",
   "execution_count": 6,
   "metadata": {
    "collapsed": false
   },
   "outputs": [
    {
     "data": {
      "text/plain": [
       "{\n",
       "  data : ByteTensor - size: 60000x28x28\n",
       "  size : 60000\n",
       "  label : ByteTensor - size: 60000\n",
       "}\n"
      ]
     },
     "execution_count": 6,
     "metadata": {},
     "output_type": "execute_result"
    }
   ],
   "source": [
    "print(fullset)"
   ]
  },
  {
   "cell_type": "code",
   "execution_count": 7,
   "metadata": {
    "collapsed": false
   },
   "outputs": [
    {
     "data": {
      "image/png": "[encoded data removed]",
      "text/plain": [
       "Console does not support images"
      ]
     },
     "metadata": {
      "image/png": {
       "height": 28,
       "width": 28
      }
     },
     "output_type": "display_data"
    },
    {
     "data": {
      "text/plain": [
       "\n"
      ]
     },
     "execution_count": 7,
     "metadata": {},
     "output_type": "execute_result"
    }
   ],
   "source": [
    "itorch.image(fullset.data[1])"
   ]
  },
  {
   "cell_type": "code",
   "execution_count": 9,
   "metadata": {
    "collapsed": false
   },
   "outputs": [
    {
     "data": {
      "text/plain": [
       "5\t\n"
      ]
     },
     "execution_count": 9,
     "metadata": {},
     "output_type": "execute_result"
    }
   ],
   "source": [
    "fullset.label[1]"
   ]
  },
  {
   "cell_type": "code",
   "execution_count": 10,
   "metadata": {
    "collapsed": true
   },
   "outputs": [],
   "source": [
    "trainset = {\n",
    "    size = 50000,\n",
    "    data = fullset.data[{{1,50000}}]:double(),\n",
    "    label = fullset.label[{{50001,60000}}]\n",
    "}\n",
    "validationset = {\n",
    "    size = 10000,\n",
    "    data = fullset.data[{{50001,60000}}]:double(),\n",
    "    label = fullset.label[{{50001,60000}}]\n",
    "}"
   ]
  },
  {
   "cell_type": "code",
   "execution_count": 12,
   "metadata": {
    "collapsed": false
   },
   "outputs": [],
   "source": [
    "model = nn.Sequential()\n",
    "model:add(nn.Reshape(28*28))\n",
    "model:add(nn.Linear(28*28, 30))\n",
    "model:add(nn.Tanh())\n",
    "model:add(nn.Linear(30, 10))\n",
    "model:add(nn.LogSoftMax())"
   ]
  },
  {
   "cell_type": "code",
   "execution_count": 13,
   "metadata": {
    "collapsed": true
   },
   "outputs": [],
   "source": [
    "criterion = nn.ClassNLLCriterion()"
   ]
  },
  {
   "cell_type": "code",
   "execution_count": 14,
   "metadata": {
    "collapsed": true
   },
   "outputs": [],
   "source": [
    "sgd_params = {\n",
    "   learningRate = 1e-2,\n",
    "   learningRateDecay = 1e-4,\n",
    "   weightDecay = 1e-3,\n",
    "   momentum = 1e-4\n",
    "}"
   ]
  },
  {
   "cell_type": "code",
   "execution_count": 25,
   "metadata": {
    "collapsed": false
   },
   "outputs": [
    {
     "data": {
      "text/plain": [
       " 23860\n",
       "[torch.LongStorage of size 1]\n",
       "\n",
       " 23860\n",
       "[torch.LongStorage of size 1]\n",
       "\n"
      ]
     },
     "execution_count": 25,
     "metadata": {},
     "output_type": "execute_result"
    }
   ],
   "source": [
    "x, dl_dx = model:getParameters()\n",
    "print(x:size())\n",
    "print(dl_dx:size())"
   ]
  },
  {
   "cell_type": "code",
   "execution_count": 35,
   "metadata": {
    "collapsed": false
   },
   "outputs": [],
   "source": [
    "-- targets = torch.rand(5)\n",
    "-- targets:add(0.5)\n",
    "-- print(targets)\n",
    "\n",
    "trainer = nn.StochasticGradient(net, criterion)\n",
    "trainer.learningRate = 0.001\n",
    "trainer.maxIteration = 5 -- just do 5 epochs of training."
   ]
  },
  {
   "cell_type": "code",
   "execution_count": 37,
   "metadata": {
    "collapsed": false
   },
   "outputs": [
    {
     "data": {
      "text/plain": [
       "Columns 1 to 16\n",
       "   0    0    0    0    0    0    0    0    0    0    0    0    0    0    0    0\n",
       "   0    0    0    0    0    0    0    0    0    0    0    0    0    0    0    0\n",
       "   0    0    0    0    0    0    0    0    0    0    0    0    0    0    0    0\n",
       "   0    0    0    0    0    0    0    0    0    0    0    0    0    0    0    0\n",
       "   0    0    0    0    0    0    0    0    0    0    0    0    0    0    0    0\n",
       "   0    0    0    0    0    0    0    0    0    0    0    0    3   18   18   18\n",
       "   0    0    0    0    0    0    0    0   30   36   94  154  170  253  253  253\n",
       "   0    0    0    0    0    0    0   49  238  253  253  253  253  253  253  253\n",
       "   0    0    0    0    0    0    0   18  219  253  253  253  253  253  198  182\n",
       "   0    0    0    0    0    0    0    0   80  156  107  253  253  205   11    0\n",
       "   0    0    0    0    0    0    0    0    0   14    1  154  253   90    0    0\n",
       "   0    0    0    0    0    0    0    0    0    0    0  139  253  190    2    0\n",
       "   0    0    0    0    0    0    0    0    0    0    0   11  190  253   70    0\n",
       "   0    0    0    0    0    0    0    0    0    0    0    0   35  241  225  160\n",
       "   0    0    0    0    0    0    0    0    0    0    0    0    0   81  240  253\n",
       "   0    0    0    0    0    0    0    0    0    0    0    0    0    0   45  186\n",
       "   0    0    0    0    0    0    0    0    0    0    0    0    0    0    0   16\n",
       "   0    0    0    0    0    0    0    0    0    0    0    0    0    0    0    0\n",
       "   0    0    0    0    0    0    0    0    0    0    0    0    0    0   46  130\n",
       "   0    0    0    0    0    0    0    0    0    0    0    0   39  148  229  253\n",
       "   0    0    0    0    0    0    0    0    0    0   24  114  221  253  253  253\n",
       "   0    0    0    0    0    0    0    0   23   66  213  253  253  253  253  198\n",
       "   0    0    0    0    0    0   18  171  219  253  253  253  253  195   80    9\n",
       "   0    0    0    0   55  172  226  253  253  253  253  244  133   11    0    0\n",
       "   0    0    0    0  136  253  253  253  212  135  132   16    0    0    0    0\n",
       "   0    0    0    0    0    0    0    0    0    0    0    0    0    0    0    0\n",
       "   0    0    0    0    0    0    0    0    0    0    0    0    0    0    0    0\n",
       "   0    0    0    0    0    0    0    0    0    0    0    0    0    0    0    0\n",
       "\n",
       "Columns 17 to 28\n",
       "   0    0    0    0    0    0    0    0    0    0    0    0\n",
       "   0    0    0    0    0    0    0    0    0    0    0    0\n",
       "   0    0    0    0    0    0    0    0    0    0    0    0\n",
       "   0    0    0    0    0    0    0    0    0    0    0    0\n",
       "   0    0    0    0    0    0    0    0    0    0    0    0\n",
       " 126  136  175   26  166  255  247  127    0    0    0    0\n",
       " 253  253  225  172  253  242  195   64    0    0    0    0\n",
       " 253  251   93   82   82   56   39    0    0    0    0    0\n",
       " 247  241    0    0    0    0    0    0    0    0    0    0\n",
       "  43  154    0    0    0    0    0    0    0    0    0    0\n",
       "   0    0    0    0    0    0    0    0    0    0    0    0\n",
       "   0    0    0    0    0    0    0    0    0    0    0    0\n",
       "   0    0    0    0    0    0    0    0    0    0    0    0\n",
       " 108    1    0    0    0    0    0    0    0    0    0    0\n",
       " 253  119   25    0    0    0    0    0    0    0    0    0\n",
       " 253  253  150   27    0    0    0    0    0    0    0    0\n",
       "  93  252  253  187    0    0    0    0    0    0    0    0\n",
       "   0  249  253  249   64    0    0    0    0    0    0    0\n",
       " 183  253  253  207    2    0    0    0    0    0    0    0\n",
       " 253  253  250  182    0    0    0    0    0    0    0    0\n",
       " 253  201   78    0    0    0    0    0    0    0    0    0\n",
       "  81    2    0    0    0    0    0    0    0    0    0    0\n",
       "   0    0    0    0    0    0    0    0    0    0    0    0\n",
       "   0    0    0    0    0    0    0    0    0    0    0    0\n",
       "   0    0    0    0    0    0    0    0    0    0    0    0\n",
       "   0    0    0    0    0    0    0    0    0    0    0    0\n",
       "   0    0    0    0    0    0    0    0    0    0    0    0\n",
       "   0    0    0    0    0    0    0    0    0    0    0    0\n",
       "[torch.ByteTensor of size 28x28]\n",
       "\n"
      ]
     },
     "execution_count": 37,
     "metadata": {},
     "output_type": "execute_result"
    }
   ],
   "source": [
    "\n",
    "fullset.data[1]\n"
   ]
  },
  {
   "cell_type": "code",
   "execution_count": 39,
   "metadata": {
    "collapsed": false
   },
   "outputs": [
    {
     "data": {
      "text/plain": [
       "\n"
      ]
     },
     "execution_count": 39,
     "metadata": {},
     "output_type": "execute_result"
    },
    {
     "data": {
      "image/png": "[encoded data removed]",
      "text/plain": [
       "Console does not support images"
      ]
     },
     "metadata": {
      "image/png": {
       "height": 14,
       "width": 14
      }
     },
     "output_type": "display_data"
    }
   ],
   "source": [
    "\n",
    "itorch.image(image.scale(fullset.data[1], 14, 14))\n"
   ]
  },
  {
   "cell_type": "code",
   "execution_count": 52,
   "metadata": {
    "collapsed": false
   },
   "outputs": [
    {
     "data": {
      "text/plain": [
       "  2\n",
       " 28\n",
       " 28\n",
       "[torch.LongStorage of size 3]\n",
       "\n"
      ]
     },
     "execution_count": 52,
     "metadata": {},
     "output_type": "execute_result"
    }
   ],
   "source": [
    "fullset.data[{{1,2}}]:size()"
   ]
  },
  {
   "cell_type": "code",
   "execution_count": 107,
   "metadata": {
    "collapsed": false
   },
   "outputs": [
    {
     "data": {
      "text/plain": [
       "  2\n",
       "  1\n",
       " 56\n",
       " 56\n",
       "[torch.LongStorage of size 4]\n",
       "\n"
      ]
     },
     "execution_count": 107,
     "metadata": {},
     "output_type": "execute_result"
    }
   ],
   "source": [
    "data = fullset.data[{{1,2}}]\n",
    "-- data:reshape(2,1,28,28)\n",
    "data = data:reshape(2,1,28,28):type('torch.DoubleTensor')\n",
    "\n",
    "-- print(data:type('torch.DoubleTensor'))\n",
    "-- print(data:reshape(2,1,28,28):size())\n",
    "\n",
    "-- data2 = torch.rand(2,1,28,28)\n",
    "-- print(data2)\n",
    "-- m = nn.SpatialFullConvolution(nInputPlane, nOutputPlane, kW, kH, [dW], [dH], [padW], [padH], [adjW], [adjH])\n",
    "m = nn.SpatialFullConvolution(1, 1, 2, 2, 2, 2, 0, 0, 0, 0)\n",
    "o = m:forward(data)\n",
    "print(o:size())"
   ]
  },
  {
   "cell_type": "code",
   "execution_count": 109,
   "metadata": {
    "collapsed": false
   },
   "outputs": [
    {
     "data": {
      "image/png": "[encoded data removed]",
      "text/plain": [
       "Console does not support images"
      ]
     },
     "metadata": {
      "image/png": {
       "height": 16,
       "width": 32
      }
     },
     "output_type": "display_data"
    },
    {
     "data": {
      "text/plain": [
       "\n"
      ]
     },
     "execution_count": 109,
     "metadata": {},
     "output_type": "execute_result"
    }
   ],
   "source": [
    "itorch.image(image.scale(fullset.data[{{1,2}}], 14, 14))"
   ]
  },
  {
   "cell_type": "code",
   "execution_count": 5,
   "metadata": {
    "collapsed": false
   },
   "outputs": [],
   "source": [
    "scaled_data = image.scale(fullset.data[{{1,300}}], 14, 14)\n",
    "scaled_data = scaled_data:reshape(300,1,14,14):type('torch.DoubleTensor')\n",
    "\n",
    "-- m = nn.SpatialFullConvolution(1, 1, 2, 2, 2, 2, 0, 0, 0, 0)\n",
    "-- o = m:forward(scaled_data)\n",
    "-- print(o:size())\n",
    "\n",
    "-- itorch.image(scaled_data)"
   ]
  },
  {
   "cell_type": "code",
   "execution_count": 197,
   "metadata": {
    "collapsed": false
   },
   "outputs": [
    {
     "data": {
      "image/png": "[encoded data removed]",
      "text/plain": [
       "Console does not support images"
      ]
     },
     "metadata": {
      "image/png": {
       "height": 80,
       "width": 96
      }
     },
     "output_type": "display_data"
    },
    {
     "data": {
      "text/plain": [
       "32.515306122449\t\n",
       "32.390306122449\t\n",
       "5810.7704081633\t\n"
      ]
     },
     "execution_count": 197,
     "metadata": {},
     "output_type": "execute_result"
    }
   ],
   "source": [
    "itorch.image(scaled_data)\n",
    "\n",
    "index1 = 4\n",
    "index2 = 7\n",
    "\n",
    "c1 = nn.AbsCriterion()\n",
    "loss1 = c1:forward(scaled_data[index1], scaled_data[index2])\n",
    "print(loss1)\n",
    "\n",
    "c2 = nn.SmoothL1Criterion()\n",
    "loss2 = c2:forward(scaled_data[index1], scaled_data[index2])\n",
    "print(loss2)\n",
    "\n",
    "c3 = nn.MSECriterion()\n",
    "loss3 = c3:forward(scaled_data[index1], scaled_data[index2])\n",
    "print(loss3)\n"
   ]
  },
  {
   "cell_type": "code",
   "execution_count": 198,
   "metadata": {
    "collapsed": false
   },
   "outputs": [
    {
     "data": {
      "image/png": "[encoded data removed]",
      "text/plain": [
       "Console does not support images"
      ]
     },
     "metadata": {
      "image/png": {
       "height": 28,
       "width": 28
      }
     },
     "output_type": "display_data"
    },
    {
     "data": {
      "image/png": "[encoded data removed]",
      "text/plain": [
       "Console does not support images"
      ]
     },
     "metadata": {
      "image/png": {
       "height": 14,
       "width": 14
      }
     },
     "output_type": "display_data"
    },
    {
     "data": {
      "image/png": "[encoded data removed]",
      "text/plain": [
       "Console does not support images"
      ]
     },
     "metadata": {
      "image/png": {
       "height": 28,
       "width": 28
      }
     },
     "output_type": "display_data"
    }
   ],
   "source": [
    "itorch.image(fullset.data[1])\n",
    "itorch.image(scaled_data[1])\n",
    "itorch.image(image.scale(scaled_data[1],28,28))"
   ]
  },
  {
   "cell_type": "code",
   "execution_count": 204,
   "metadata": {
    "collapsed": false
   },
   "outputs": [
    {
     "data": {
      "text/plain": [
       " 28\n",
       " 28\n",
       "[torch.LongStorage of size 2]\n",
       "\n",
       " 28\n",
       " 28\n",
       "[torch.LongStorage of size 2]\n",
       "\n",
       "17.961734693878\t\n"
      ]
     },
     "execution_count": 204,
     "metadata": {},
     "output_type": "execute_result"
    }
   ],
   "source": [
    "a = torch.Tensor(28,28):copy(image.scale(image.scale(fullset.data[1], 14, 14), 28, 28))\n",
    "print(a:size())\n",
    "b = torch.Tensor(28,28):copy(fullset.data[1])\n",
    "print(b:size())\n",
    "c1 = nn.AbsCriterion()\n",
    "loss1 = c1:forward(a, b)\n",
    "print(loss1)"
   ]
  },
  {
   "cell_type": "code",
   "execution_count": 31,
   "metadata": {
    "collapsed": false
   },
   "outputs": [],
   "source": [
    "-- scaled_data = image.scale(fullset.data[{{1,300}}], 14, 14)\n",
    "-- scaled_data = scaled_data:reshape(300,1,14,14):type('torch.DoubleTensor')\n",
    "-- data = scaled_data[{{1,2}}]\n",
    "-- data = data:reshape(2,1,14,14):type('torch.DoubleTensor')\n",
    "-- print(data:size())\n",
    "-- m1 = nn.SpatialConvolution(1,8,3,3,1,1,1,1)\n",
    "-- o1 = m1:forward(data)\n",
    "-- print(o1:size())\n",
    "\n",
    "model = nn.Sequential()\n",
    "model:add(nn.SpatialConvolution(1,8,3,3,1,1,1,1))\n",
    "model:add(nn.LeakyReLU(0.2))\n",
    "-- model:add(nn.SpatialConvolution(8,8,3,3,1,1,1,1))\n",
    "-- model:add(nn.LeakyReLU(0.2))\n",
    "-- model:add(nn.SpatialBatchNormalization(8))\n",
    "\n",
    "model:add(nn.SpatialFullConvolution(8, 8, 2, 2, 2, 2, 0, 0, 0, 0))\n",
    "model:add(nn.LeakyReLU(0.2))\n",
    "-- model:add(nn.SpatialBatchNormalization(8))\n",
    "\n",
    "model:add(nn.View(8*28*28))\n",
    "\n",
    "\n",
    "-- model:add(nn.Linear(8*28*28, 2*28*28))\n",
    "-- model:add(nn.Sigmoid())\n",
    "model:add(nn.Linear(8*28*28, 28*28))\n",
    "-- model:add(nn.LeakyReLU(0.2))\n",
    "-- model:add(nn.Linear(1024, 1))\n",
    "model:add(nn.Sigmoid())\n",
    "\n",
    "-- output = model:forward(data)\n",
    "-- print(output:size())"
   ]
  },
  {
   "cell_type": "code",
   "execution_count": 4,
   "metadata": {
    "collapsed": true
   },
   "outputs": [],
   "source": [
    "-- loss3 = c3:forward(scaled_data[index1], scaled_data[index2])"
   ]
  },
  {
   "cell_type": "code",
   "execution_count": 44,
   "metadata": {
    "collapsed": false
   },
   "outputs": [],
   "source": [
    "\n",
    "fullset = mnist.traindataset()\n",
    "-- testset = mnist.testdataset()\n",
    "\n",
    "\n",
    "label = fullset.data:type('torch.DoubleTensor')\n",
    "mean = label:mean()\n",
    "std = label:std()\n",
    "label:add(-mean)\n",
    "label:div(std)\n",
    "\n",
    "label = label[{{1,300}}]\n",
    "\n",
    "data = image.scale(label, 14, 14)\n",
    "\n",
    "\n",
    "label = label:resize(300,1,28,28)\n",
    "data = data:resize(300,1,14,14)\n",
    "\n",
    "\n",
    "\n",
    "trainset = {}\n",
    "trainset.data = data\n",
    "trainset.label = label\n",
    "-- ignore setmetatable for now, it is a feature beyond the scope of this tutorial. It sets the index operator.\n",
    "setmetatable(trainset, \n",
    "    {__index = function(t, i) \n",
    "                    return {t.data[i], t.label[i]} \n",
    "                end}\n",
    ");\n",
    "\n",
    "function trainset:size() \n",
    "    return self.data:size(1)\n",
    "end\n",
    "\n",
    "-- print(torch.type(data))\n",
    "-- print(torch.type(label))\n",
    "-- itorch.image(data[1])\n",
    "-- itorch.image(label[1])\n",
    "\n",
    "\n"
   ]
  },
  {
   "cell_type": "code",
   "execution_count": 55,
   "metadata": {
    "collapsed": false
   },
   "outputs": [
    {
     "data": {
      "text/plain": [
       "# StochasticGradient: training\t\n"
      ]
     },
     "execution_count": 55,
     "metadata": {},
     "output_type": "execute_result"
    },
    {
     "data": {
      "text/plain": [
       "# current error = 0.57677172678933\t\n"
      ]
     },
     "execution_count": 55,
     "metadata": {},
     "output_type": "execute_result"
    },
    {
     "data": {
      "text/plain": [
       "# current error = 0.56044737628699\t\n"
      ]
     },
     "execution_count": 55,
     "metadata": {},
     "output_type": "execute_result"
    },
    {
     "data": {
      "text/plain": [
       "# current error = 0.54801221557092\t\n"
      ]
     },
     "execution_count": 55,
     "metadata": {},
     "output_type": "execute_result"
    },
    {
     "data": {
      "text/plain": [
       "# current error = 0.53990899850339\t\n"
      ]
     },
     "execution_count": 55,
     "metadata": {},
     "output_type": "execute_result"
    },
    {
     "data": {
      "text/plain": [
       "# current error = 0.53403252318765\t\n"
      ]
     },
     "execution_count": 55,
     "metadata": {},
     "output_type": "execute_result"
    },
    {
     "data": {
      "text/plain": [
       "# current error = 0.52901172788067\t\n"
      ]
     },
     "execution_count": 55,
     "metadata": {},
     "output_type": "execute_result"
    },
    {
     "data": {
      "text/plain": [
       "# current error = 0.5251003657411\t\n"
      ]
     },
     "execution_count": 55,
     "metadata": {},
     "output_type": "execute_result"
    },
    {
     "data": {
      "text/plain": [
       "# current error = 0.52115578148748\t\n"
      ]
     },
     "execution_count": 55,
     "metadata": {},
     "output_type": "execute_result"
    },
    {
     "data": {
      "text/plain": [
       "# current error = 0.51732894456273\t\n"
      ]
     },
     "execution_count": 55,
     "metadata": {},
     "output_type": "execute_result"
    },
    {
     "data": {
      "text/plain": [
       "# current error = 0.51456276080253\t\n"
      ]
     },
     "execution_count": 55,
     "metadata": {},
     "output_type": "execute_result"
    },
    {
     "data": {
      "text/plain": [
       "# current error = 0.5124489390435\t\n"
      ]
     },
     "execution_count": 55,
     "metadata": {},
     "output_type": "execute_result"
    },
    {
     "data": {
      "text/plain": [
       "# current error = 0.51048271595216\t\n"
      ]
     },
     "execution_count": 55,
     "metadata": {},
     "output_type": "execute_result"
    },
    {
     "data": {
      "text/plain": [
       "# current error = 0.50855443415139\t\n"
      ]
     },
     "execution_count": 55,
     "metadata": {},
     "output_type": "execute_result"
    },
    {
     "data": {
      "text/plain": [
       "# current error = 0.50717554028006\t\n"
      ]
     },
     "execution_count": 55,
     "metadata": {},
     "output_type": "execute_result"
    },
    {
     "data": {
      "text/plain": [
       "# current error = 0.50612090303876\t\n"
      ]
     },
     "execution_count": 55,
     "metadata": {},
     "output_type": "execute_result"
    },
    {
     "data": {
      "text/plain": [
       "# current error = 0.50507935409953\t\n"
      ]
     },
     "execution_count": 55,
     "metadata": {},
     "output_type": "execute_result"
    },
    {
     "data": {
      "text/plain": [
       "# current error = 0.50405551155187\t\n"
      ]
     },
     "execution_count": 55,
     "metadata": {},
     "output_type": "execute_result"
    },
    {
     "data": {
      "text/plain": [
       "# current error = 0.50313877946358\t\n"
      ]
     },
     "execution_count": 55,
     "metadata": {},
     "output_type": "execute_result"
    },
    {
     "data": {
      "text/plain": [
       "# current error = 0.5023820382972\t\n"
      ]
     },
     "execution_count": 55,
     "metadata": {},
     "output_type": "execute_result"
    },
    {
     "data": {
      "text/plain": [
       "# current error = 0.50157437674233\t\n",
       "# StochasticGradient: you have reached the maximum number of iterations\t\n",
       "# training error = 0.50157437674233\t\n"
      ]
     },
     "execution_count": 55,
     "metadata": {},
     "output_type": "execute_result"
    }
   ],
   "source": [
    "criterion = nn.MSECriterion()\n",
    "trainer = nn.StochasticGradient(model, criterion)\n",
    "trainer.learningRate = 0.1\n",
    "trainer.maxIteration = 20\n",
    "trainer:train(trainset)"
   ]
  },
  {
   "cell_type": "code",
   "execution_count": 56,
   "metadata": {
    "collapsed": false
   },
   "outputs": [
    {
     "data": {
      "image/png": "[encoded data removed]",
      "text/plain": [
       "Console does not support images"
      ]
     },
     "metadata": {
      "image/png": {
       "height": 28,
       "width": 28
      }
     },
     "output_type": "display_data"
    }
   ],
   "source": [
    "-- model:forward(trainset.data[1])\n",
    "s = model:forward(trainset.data[1])\n",
    "-- print(s:resize(28,28))\n",
    "itorch.image(s:resize(28,28))"
   ]
  },
  {
   "cell_type": "code",
   "execution_count": 83,
   "metadata": {
    "collapsed": false
   },
   "outputs": [
    {
     "data": {
      "image/png": "[encoded data removed]",
      "text/plain": [
       "Console does not support images"
      ]
     },
     "metadata": {
      "image/png": {
       "height": 14,
       "width": 14
      }
     },
     "output_type": "display_data"
    },
    {
     "data": {
      "image/png": "[encoded data removed]",
      "text/plain": [
       "Console does not support images"
      ]
     },
     "metadata": {
      "image/png": {
       "height": 28,
       "width": 28
      }
     },
     "output_type": "display_data"
    },
    {
     "data": {
      "image/png": "[encoded data removed]",
      "text/plain": [
       "Console does not support images"
      ]
     },
     "metadata": {
      "image/png": {
       "height": 28,
       "width": 28
      }
     },
     "output_type": "display_data"
    }
   ],
   "source": [
    "index = 26\n",
    "itorch.image(data[index])\n",
    "itorch.image(label[index])\n",
    "s = model:forward(trainset.data[index])\n",
    "itorch.image(s:resize(28,28))\n"
   ]
  },
  {
   "cell_type": "code",
   "execution_count": 85,
   "metadata": {
    "collapsed": false
   },
   "outputs": [],
   "source": [
    "-- print(s)"
   ]
  },
  {
   "cell_type": "code",
   "execution_count": null,
   "metadata": {
    "collapsed": true
   },
   "outputs": [],
   "source": []
  }
 ],
 "metadata": {
  "kernelspec": {
   "display_name": "iTorch",
   "language": "lua",
   "name": "itorch"
  },
  "language_info": {
   "name": "lua",
   "version": "5.1"
  }
 },
 "nbformat": 4,
 "nbformat_minor": 1
}
