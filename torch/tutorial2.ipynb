{
 "cells": [
  {
   "cell_type": "markdown",
   "metadata": {},
   "source": []
  },
  {
   "cell_type": "code",
   "execution_count": 3,
   "metadata": {
    "collapsed": false
   },
   "outputs": [
    {
     "data": {
      "text/plain": [
       "hello\t\n"
      ]
     },
     "execution_count": 3,
     "metadata": {},
     "output_type": "execute_result"
    }
   ],
   "source": [
    "require 'torch'\n",
    "print('hello')"
   ]
  },
  {
   "cell_type": "code",
   "execution_count": 7,
   "metadata": {
    "collapsed": false
   },
   "outputs": [
    {
     "data": {
      "text/plain": [
       "nil\t\n",
       "boolean\t\n",
       "number\t\n",
       "string\t\n",
       "function\t\n",
       "table\t\n",
       "userdata\t\n"
      ]
     },
     "execution_count": 7,
     "metadata": {},
     "output_type": "execute_result"
    }
   ],
   "source": [
    "print(type(nil))\n",
    "print(type(true))\n",
    "print(type(10.4*3))\n",
    "print(type(\"hello world\"))\n",
    "print(type(function() print(\"hello world\") end))\n",
    "print(type({a=3,b=4}))\n",
    "print(type(torch.Tensor()))"
   ]
  },
  {
   "cell_type": "code",
   "execution_count": 8,
   "metadata": {
    "collapsed": false
   },
   "outputs": [
    {
     "data": {
      "text/plain": [
       " 0.9977  0.1564  0.6894\n",
       " 0.3572  0.0127  0.9433\n",
       " 0.4238  0.0098  0.8561\n",
       " 0.9786  0.8132  0.2530\n",
       " 0.5725  0.9971  0.1497\n",
       "[torch.DoubleTensor of size 5x3]\n",
       "\n"
      ]
     },
     "execution_count": 8,
     "metadata": {},
     "output_type": "execute_result"
    }
   ],
   "source": [
    "a = torch.Tensor(5,3)\n",
    "a = torch.rand(5,3)\n",
    "print(a)"
   ]
  },
  {
   "cell_type": "code",
   "execution_count": 9,
   "metadata": {
    "collapsed": false
   },
   "outputs": [
    {
     "data": {
      "text/plain": [
       " 0.9977\n",
       " 0.1564\n",
       " 0.6894\n",
       " 0.3572\n",
       " 0.0127\n",
       " 0.9433\n",
       " 0.4238\n",
       " 0.0098\n",
       " 0.8561\n",
       " 0.9786\n",
       " 0.8132\n",
       " 0.2530\n",
       " 0.5725\n",
       " 0.9971\n",
       " 0.1497\n",
       "[torch.DoubleStorage of size 15]\n",
       "\n"
      ]
     },
     "execution_count": 9,
     "metadata": {},
     "output_type": "execute_result"
    }
   ],
   "source": [
    "print(a:storage())"
   ]
  },
  {
   "cell_type": "code",
   "execution_count": 17,
   "metadata": {
    "collapsed": false
   },
   "outputs": [
    {
     "data": {
      "text/plain": [
       " 0.9977  0.1564  0.6894\n",
       " 0.3572  0.0127  0.9433\n",
       " 0.4238  0.0098  0.8561\n",
       "[torch.DoubleTensor of size 3x3]\n",
       "\n"
      ]
     },
     "execution_count": 17,
     "metadata": {},
     "output_type": "execute_result"
    }
   ],
   "source": [
    "a:narrow(1,1,3)"
   ]
  },
  {
   "cell_type": "code",
   "execution_count": null,
   "metadata": {
    "collapsed": true
   },
   "outputs": [],
   "source": []
  }
 ],
 "metadata": {
  "kernelspec": {
   "display_name": "iTorch",
   "language": "lua",
   "name": "itorch"
  },
  "language_info": {
   "name": "lua",
   "version": "5.1"
  }
 },
 "nbformat": 4,
 "nbformat_minor": 1
}
