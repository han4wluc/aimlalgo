{
 "cells": [
  {
   "cell_type": "markdown",
   "metadata": {},
   "source": [
    "Normalization\n",
    "\n",
    "```\n",
    "mean = np.mean(X, axis=0)\n",
    "std = np.std(X, axis=0, ddof=1)\n",
    "return (X - mean)/std\n",
    "```"
   ]
  },
  {
   "cell_type": "markdown",
   "metadata": {},
   "source": [
    "### Adressing Overfitting\n",
    "* Reduce number of features\n",
    " * Manually select which features to keep\n",
    " * Model selection algorithm (late in course).\n",
    "* Regularization\n",
    " * Keep all the features, but reduce magniture/values of parameters $\\theta_j$\n",
    " * Works well when we have a lot of features, each of which contributes a bit to predicting $y$"
   ]
  },
  {
   "cell_type": "markdown",
   "metadata": {},
   "source": [
    "### Regularization\n",
    "Small values for parameters $\\theta_0,\\theta_1,...,\\theta_n $\n",
    "* \"Simpler\" hypothesis\n",
    "* Less prone to overfitting\n",
    "\n",
    "$J(\\theta) = \\frac{1}{2m}\\sum_{m}^{i=1}(h_\\theta(x^{(i)}) - y^{(i)})^{2} + \\lambda\\sum_{i=1}^{n}\\Theta_j^{2}$\n"
   ]
  },
  {
   "cell_type": "code",
   "execution_count": null,
   "metadata": {
    "collapsed": true
   },
   "outputs": [],
   "source": []
  }
 ],
 "metadata": {
  "kernelspec": {
   "display_name": "Python 2",
   "language": "python",
   "name": "python2"
  },
  "language_info": {
   "codemirror_mode": {
    "name": "ipython",
    "version": 2
   },
   "file_extension": ".py",
   "mimetype": "text/x-python",
   "name": "python",
   "nbconvert_exporter": "python",
   "pygments_lexer": "ipython2",
   "version": "2.7.6"
  }
 },
 "nbformat": 4,
 "nbformat_minor": 1
}
