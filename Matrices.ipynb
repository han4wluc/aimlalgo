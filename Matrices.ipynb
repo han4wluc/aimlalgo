{
 "cells": [
  {
   "cell_type": "markdown",
   "metadata": {},
   "source": [
    "\n",
    "Dimension of matrix: number of rows * number of columns\n",
    "\n",
    "### Addition\n",
    "* only matrices of same dimension can be added\n",
    "$$\n",
    "X=\n",
    "\\begin{bmatrix}\n",
    "    8 & 6 & 9 \\\\\n",
    "   10 & 1 & 10 \\\\\n",
    "\\end{bmatrix}\n",
    "+\n",
    "\\begin{bmatrix}\n",
    "    3 & 10 & 2 \\\\\n",
    "    6 & 1  & -1 \\\\\n",
    "\\end{bmatrix}\n",
    "=\n",
    "\\begin{bmatrix}\n",
    "    11 & 16 & 9 \\\\\n",
    "    10 & 1  & 10 \\\\\n",
    "\\end{bmatrix}\n",
    "$$\n",
    "\n",
    "\n",
    "### Scalar Multiplication\n",
    "\n",
    "$$\n",
    "3 \\times\n",
    "\\begin{bmatrix}\n",
    "    1 & 0 \\\\\n",
    "    2 & 5 \\\\\n",
    "    3 & 1 \\\\\n",
    "\\end{bmatrix}\n",
    "=\n",
    "\\begin{bmatrix}\n",
    "    3 &  0 \\\\\n",
    "    6 & 15 \\\\\n",
    "    9 &  3 \\\\\n",
    "\\end{bmatrix}\n",
    "$$\n",
    "\n",
    "### Matrix Vector Multiplication\n",
    "\n",
    "* columns of matrix must match row of vector\n",
    "\n",
    "<img src=\"./img/1.png\" width=\"60%\"/>\n",
    "\n",
    "<img src=\"./img/2.png\" width=\"60%\"/>\n",
    "\n",
    "\n",
    "\n",
    "### Matrix Matrix Multiplication\n",
    "\n",
    "* Number of columns in first matrix must match number of rows in second matrix\n",
    "\n",
    "$$\n",
    "\\begin{bmatrix}\n",
    "    1 & 3 & 2 \\\\\n",
    "    4 & 0 & 1 \\\\\n",
    "\\end{bmatrix}\n",
    "\\begin{bmatrix}\n",
    "    1 &  3 \\\\\n",
    "    0 &  1 \\\\\n",
    "    5 &  2 \\\\\n",
    "\\end{bmatrix}\n",
    "=\n",
    "\\begin{bmatrix}\n",
    "    11 &  10 \\\\\n",
    "     9 &  14 \\\\\n",
    "\\end{bmatrix}\n",
    "$$\n",
    "\n",
    "<img src=\"./img/3.png\" width=\"60%\"/>\n",
    "\n",
    "### Matrix Properties\n",
    "\n",
    "* $A \\times B \\ne B \\times A$\n",
    "* Matrix multiplication is associative\n",
    "* Identity matrix, 1 * I = I * 1 = I\n",
    "$\n",
    "\\begin{bmatrix}\n",
    "    1 & 0 & 0 \\\\\n",
    "    0 & 1 & 0 \\\\\n",
    "    0 & 0 & 1 \\\\\n",
    "\\end{bmatrix}\n",
    "$\n",
    "\n",
    "* Matrix Inverse, only m x m matrix have inverse. $A(A^{-1}) = A^{-1}A = I$\n",
    "$$\n",
    "\\begin{bmatrix}\n",
    "    3 & 4 \\\\\n",
    "    2 & 16 \\\\\n",
    "\\end{bmatrix}\n",
    "\\begin{bmatrix}\n",
    "      0.4 & -0.1   \\\\\n",
    "    -0.05 &  0.075 \\\\\n",
    "\\end{bmatrix}\n",
    "=\n",
    "\\begin{bmatrix}\n",
    "      1 & 0   \\\\\n",
    "      0 & 1   \\\\\n",
    "\\end{bmatrix}\n",
    "=\n",
    "I_{2x2}\n",
    "$$\n",
    "\n",
    "### Matrix Transpose\n",
    "\n",
    "* $B_{ij} = A_{ji}$\n",
    "\n",
    "$\n",
    "A=\n",
    "\\begin{bmatrix}\n",
    "   1  &  2  &  0 \\\\\n",
    "   3  &  5  &  9\n",
    "\\end{bmatrix}\n",
    "A^{T}=\n",
    "\\begin{bmatrix}\n",
    "   1  &  3  \\\\\n",
    "   2  &  5  \\\\\n",
    "   0  &  9\n",
    "\\end{bmatrix}\n",
    "$\n"
   ]
  },
  {
   "cell_type": "code",
   "execution_count": 1,
   "metadata": {
    "collapsed": true
   },
   "outputs": [],
   "source": [
    "import numpy as np\n",
    "X = np.array([[1,0],\n",
    "              [2,5],\n",
    "              [3,1]])"
   ]
  },
  {
   "cell_type": "code",
   "execution_count": 3,
   "metadata": {
    "collapsed": false
   },
   "outputs": [
    {
     "name": "stdout",
     "output_type": "stream",
     "text": [
      "[[ 3  0]\n",
      " [ 6 15]\n",
      " [ 9  3]]\n"
     ]
    }
   ],
   "source": [
    "# Scalar Multiplication\n",
    "print X * 3"
   ]
  },
  {
   "cell_type": "code",
   "execution_count": 13,
   "metadata": {
    "collapsed": false
   },
   "outputs": [
    {
     "name": "stdout",
     "output_type": "stream",
     "text": [
      "[[ 1]\n",
      " [27]\n",
      " [ 8]]\n",
      "[[ 1  0]\n",
      " [ 2 25]\n",
      " [ 3  5]]\n"
     ]
    }
   ],
   "source": [
    "# Matrix Vector Multiplication\n",
    "y = np.array([[1],\n",
    "              [5],])\n",
    "\n",
    "print X.dot(y)\n",
    "\n",
    "print X * y.T # need to sum up the columns\n"
   ]
  },
  {
   "cell_type": "code",
   "execution_count": 3,
   "metadata": {
    "collapsed": false
   },
   "outputs": [
    {
     "data": {
      "text/plain": [
       "1"
      ]
     },
     "execution_count": 3,
     "metadata": {},
     "output_type": "execute_result"
    }
   ],
   "source": [
    "import numpy as np\n",
    "a = np.array([1,1,0])\n",
    "b = np.array([0,1,1])\n",
    "np.dot(a,b)"
   ]
  },
  {
   "cell_type": "code",
   "execution_count": 4,
   "metadata": {
    "collapsed": false
   },
   "outputs": [
    {
     "data": {
      "text/plain": [
       "array([[52, 28],\n",
       "       [23, 14]])"
      ]
     },
     "execution_count": 4,
     "metadata": {},
     "output_type": "execute_result"
    }
   ],
   "source": [
    "a = np.array([[9, 5], [6, 1]])\n",
    "b = np.array([[3, 2], [5, 2]])\n",
    "\n",
    "np.dot(a, b)\n",
    "\n"
   ]
  },
  {
   "cell_type": "code",
   "execution_count": 5,
   "metadata": {
    "collapsed": false
   },
   "outputs": [
    {
     "data": {
      "text/plain": [
       "array([[27, 10],\n",
       "       [30,  2]])"
      ]
     },
     "execution_count": 5,
     "metadata": {},
     "output_type": "execute_result"
    }
   ],
   "source": [
    "np.multiply(a, b)"
   ]
  },
  {
   "cell_type": "code",
   "execution_count": 1,
   "metadata": {
    "collapsed": false
   },
   "outputs": [
    {
     "data": {
      "text/plain": [
       "4"
      ]
     },
     "execution_count": 1,
     "metadata": {},
     "output_type": "execute_result"
    }
   ],
   "source": [
    "2 + 2"
   ]
  },
  {
   "cell_type": "code",
   "execution_count": 3,
   "metadata": {
    "collapsed": false
   },
   "outputs": [
    {
     "ename": "ImportError",
     "evalue": "No module named tensorflow",
     "output_type": "error",
     "traceback": [
      "\u001b[0;31m---------------------------------------------------------------------------\u001b[0m",
      "\u001b[0;31mImportError\u001b[0m                               Traceback (most recent call last)",
      "\u001b[0;32m<ipython-input-3-a649b509054f>\u001b[0m in \u001b[0;36m<module>\u001b[0;34m()\u001b[0m\n\u001b[0;32m----> 1\u001b[0;31m \u001b[0;32mimport\u001b[0m \u001b[0mtensorflow\u001b[0m\u001b[0;34m\u001b[0m\u001b[0m\n\u001b[0m",
      "\u001b[0;31mImportError\u001b[0m: No module named tensorflow"
     ]
    }
   ],
   "source": [
    "import tensorflow"
   ]
  },
  {
   "cell_type": "code",
   "execution_count": null,
   "metadata": {
    "collapsed": true
   },
   "outputs": [],
   "source": []
  }
 ],
 "metadata": {
  "kernelspec": {
   "display_name": "Python 2",
   "language": "python",
   "name": "python2"
  },
  "language_info": {
   "codemirror_mode": {
    "name": "ipython",
    "version": 2
   },
   "file_extension": ".py",
   "mimetype": "text/x-python",
   "name": "python",
   "nbconvert_exporter": "python",
   "pygments_lexer": "ipython2",
   "version": "2.7.6"
  }
 },
 "nbformat": 4,
 "nbformat_minor": 1
}
