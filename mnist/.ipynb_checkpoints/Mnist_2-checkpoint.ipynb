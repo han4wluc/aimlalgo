{
 "cells": [
  {
   "cell_type": "code",
   "execution_count": 1,
   "metadata": {
    "collapsed": true
   },
   "outputs": [],
   "source": [
    "import pandas as pd\n",
    "import numpy as np\n",
    "import matplotlib.pyplot as plt\n",
    "%matplotlib inline\n",
    "import scipy.sparse"
   ]
  },
  {
   "cell_type": "code",
   "execution_count": 2,
   "metadata": {
    "collapsed": false
   },
   "outputs": [
    {
     "ename": "ImportError",
     "evalue": "No module named input_data",
     "output_type": "error",
     "traceback": [
      "\u001b[0;31m---------------------------------------------------------------------------\u001b[0m",
      "\u001b[0;31mImportError\u001b[0m                               Traceback (most recent call last)",
      "\u001b[0;32m<ipython-input-2-97638b4605e2>\u001b[0m in \u001b[0;36m<module>\u001b[0;34m()\u001b[0m\n\u001b[0;32m----> 1\u001b[0;31m \u001b[0;32mimport\u001b[0m \u001b[0minput_data\u001b[0m\u001b[0;34m\u001b[0m\u001b[0m\n\u001b[0m\u001b[1;32m      2\u001b[0m \u001b[0mmnist\u001b[0m \u001b[0;34m=\u001b[0m \u001b[0minput_data\u001b[0m\u001b[0;34m.\u001b[0m\u001b[0mread_data_sets\u001b[0m\u001b[0;34m(\u001b[0m\u001b[0;34m\"MNIST_data/\"\u001b[0m\u001b[0;34m,\u001b[0m \u001b[0mone_hot\u001b[0m\u001b[0;34m=\u001b[0m\u001b[0mFalse\u001b[0m\u001b[0;34m)\u001b[0m\u001b[0;34m\u001b[0m\u001b[0m\n\u001b[1;32m      3\u001b[0m \u001b[0mbatch\u001b[0m \u001b[0;34m=\u001b[0m \u001b[0mmnist\u001b[0m\u001b[0;34m.\u001b[0m\u001b[0mtrain\u001b[0m\u001b[0;34m.\u001b[0m\u001b[0mnext_batch\u001b[0m\u001b[0;34m(\u001b[0m\u001b[0;36m500\u001b[0m\u001b[0;34m)\u001b[0m\u001b[0;34m\u001b[0m\u001b[0m\n\u001b[1;32m      4\u001b[0m \u001b[0mtb\u001b[0m \u001b[0;34m=\u001b[0m \u001b[0mmnist\u001b[0m\u001b[0;34m.\u001b[0m\u001b[0mtrain\u001b[0m\u001b[0;34m.\u001b[0m\u001b[0mnext_batch\u001b[0m\u001b[0;34m(\u001b[0m\u001b[0;36m100\u001b[0m\u001b[0;34m)\u001b[0m\u001b[0;34m\u001b[0m\u001b[0m\n",
      "\u001b[0;31mImportError\u001b[0m: No module named input_data"
     ]
    }
   ],
   "source": [
    "import input_data\n",
    "mnist = input_data.read_data_sets(\"MNIST_data/\", one_hot=False)\n",
    "batch = mnist.train.next_batch(500)\n",
    "tb = mnist.train.next_batch(100)"
   ]
  },
  {
   "cell_type": "code",
   "execution_count": null,
   "metadata": {
    "collapsed": false
   },
   "outputs": [],
   "source": [
    "import gzip, numpy\n",
    "# # Load the dataset\n",
    "# f = gzip.open('./mnist.pkl.gz', 'rb')\n",
    "# train_set, valid_set, test_set = cPickle.load(f)\n",
    "# f.close()\n",
    "def load_mnist_labels(filename):\n",
    "  with gzip.open(filename, 'rb') as f:\n",
    "      data = np.frombuffer(f.read(), np.uint8, offset=8)\n",
    "  return data\n",
    "\n",
    "x = load_mnist_labels('./train-images-idx3-ubyte.gz')\n",
    "y = load_mnist_labels('./train-labels-idx1-ubyte.gz')\n",
    "testX = load_mnist_labels('./t10k-images-idx3-ubyte.gz')\n",
    "testY = load_mnist_labels('./t10k-labels-idx1-ubyte.gz')\n",
    "\n",
    "\n"
   ]
  },
  {
   "cell_type": "code",
   "execution_count": 29,
   "metadata": {
    "collapsed": false
   },
   "outputs": [],
   "source": [
    "from struct import unpack\n",
    "import gzip\n",
    "from numpy import zeros, uint8\n",
    "\n",
    "\n",
    "def get_labeled_data(imagefile, labelfile):\n",
    "    \"\"\"Read input-vector (image) and target class (label, 0-9) and return\n",
    "       it as list of tuples.\n",
    "    \"\"\"\n",
    "    # Open the images with gzip in read binary mode\n",
    "    images = gzip.open(imagefile, 'rb')\n",
    "    labels = gzip.open(labelfile, 'rb')\n",
    "\n",
    "    # Read the binary data\n",
    "\n",
    "    # We have to get big endian unsigned int. So we need '>I'\n",
    "\n",
    "    # Get metadata for images\n",
    "    images.read(4)  # skip the magic_number\n",
    "    number_of_images = images.read(4)\n",
    "    number_of_images = unpack('>I', number_of_images)[0]\n",
    "    rows = images.read(4)\n",
    "    rows = unpack('>I', rows)[0]\n",
    "    cols = images.read(4)\n",
    "    cols = unpack('>I', cols)[0]\n",
    "\n",
    "    # Get metadata for labels\n",
    "    labels.read(4)  # skip the magic_number\n",
    "    N = labels.read(4)\n",
    "    N = unpack('>I', N)[0]\n",
    "\n",
    "    if number_of_images != N:\n",
    "        raise Exception('number of labels did not match the number of images')\n",
    "\n",
    "    # Get the data\n",
    "    x = zeros((N, rows, cols), dtype=uint8)  # Initialize numpy array\n",
    "    y = zeros((N, 1), dtype=uint8)  # Initialize numpy array\n",
    "#     for i in range(N):\n",
    "    for i in range(0,10):\n",
    "        if i % 1000 == 0:\n",
    "            print(\"i: %i\" % i)\n",
    "        for row in range(rows):\n",
    "            for col in range(cols):\n",
    "                tmp_pixel = images.read(1)  # Just a single byte\n",
    "                tmp_pixel = unpack('>B', tmp_pixel)[0]\n",
    "                x[i][row][col] = tmp_pixel\n",
    "        tmp_label = labels.read(1)\n",
    "        y[i] = unpack('>B', tmp_label)[0]\n",
    "    return (x, y)\n",
    "\n",
    "# xx, _ = get_labeled_data('./train-images-idx3-ubyte.gz', './train-labels-idx1-ubyte.gz')\n",
    "# get_labeled_data('./t10k-images-idx3-ubyte.gz', './t10k-labels-idx1-ubyte.gz')\n",
    "# print xx[1]"
   ]
  },
  {
   "cell_type": "code",
   "execution_count": 8,
   "metadata": {
    "collapsed": false
   },
   "outputs": [
    {
     "name": "stdout",
     "output_type": "stream",
     "text": [
      "(500, 785)\n",
      "(500, 784)\n",
      "(500,)\n"
     ]
    }
   ],
   "source": [
    "import pandas as pd\n",
    "import numpy as np\n",
    "df = pd.read_csv('./mnist_train.csv')\n",
    "test = pd.read_csv('./mnist_test.csv', header=None)\n",
    "matrix = df.as_matrix()[:500]\n",
    "print matrix.shape\n",
    "m = matrix.shape[0]\n",
    "y = matrix[:,0:1]\n",
    "y = y.ravel()\n",
    "X = matrix[:,1:]\n",
    "\n",
    "\n",
    "matrix_test = test.as_matrix()[:500]\n",
    "X_test = matrix_test[:,1:]\n",
    "m_test = X_test.shape[0]\n",
    "y_test = matrix_test[:,0:1]\n",
    "\n",
    "\n",
    "# X, X_test = feature_normalize([X, X_test])\n",
    "\n",
    "n = X.shape[1]\n",
    "\n",
    "print X.shape\n",
    "print y.shape\n",
    "\n",
    "# theta = np.random.rand(n,1)"
   ]
  },
  {
   "cell_type": "code",
   "execution_count": 47,
   "metadata": {
    "collapsed": false
   },
   "outputs": [],
   "source": [
    "def getLoss(w,x,y,lam):\n",
    "    m = x.shape[0] #First we get the number of training examples\n",
    "    y_mat = oneHotIt(y) #Next we convert the integer class coding into a one-hot representation\n",
    "    scores = np.dot(x,w) #Then we compute raw class scores given our input and current weights\n",
    "#     print 'scores', scores\n",
    "    prob = softmax(scores) #Next we perform a softmax on these scores to get their probabilities\n",
    "#     print 'prob', prob\n",
    "    loss = (-1 / m) * np.sum(y_mat * np.log(prob)) + (lam/2)*np.sum(w*w) #We then find the loss of the probabilities\n",
    "    grad = (-1 / m) * np.dot(x.T,(y_mat - prob)) + lam*w #And compute the gradient for that loss\n",
    "    return loss,grad\n",
    "\n",
    "def oneHotIt(Y):\n",
    "    m = Y.shape[0]\n",
    "    #Y = Y[:,0]\n",
    "    OHX = scipy.sparse.csr_matrix((np.ones(m), (Y, np.array(range(m)))))\n",
    "    OHX = np.array(OHX.todense()).T\n",
    "    return OHX\n",
    "\n",
    "def softmax(z):\n",
    "    z -= np.max(z)\n",
    "    sm = (np.exp(z).T / np.sum(np.exp(z),axis=1)).T\n",
    "    return sm\n",
    "\n",
    "def getProbsAndPreds(someX):\n",
    "    probs = softmax(np.dot(someX,w))\n",
    "    preds = np.argmax(probs,axis=1)\n",
    "    return probs,preds\n"
   ]
  },
  {
   "cell_type": "code",
   "execution_count": 48,
   "metadata": {
    "collapsed": false
   },
   "outputs": [
    {
     "name": "stdout",
     "output_type": "stream",
     "text": [
      "scores [[ 14941.13309272  14540.9385305   15701.48969651 ...,  16176.93680965\n",
      "   16204.53828933  15297.14071209]\n",
      " [  9868.99497745   8915.1583817    9004.7608062  ...,   8505.03800063\n",
      "    9442.55603137  10136.54438293]\n",
      " [  8994.57260657   8331.42684586   8856.09477029 ...,   8805.32058474\n",
      "    9399.63737898   8885.13356281]\n",
      " ..., \n",
      " [  8571.15340132   8803.44787185   9237.88418949 ...,   9020.54207412\n",
      "   10612.17526644   9562.68967293]\n",
      " [ 13708.13722395  13141.74953431  14157.86891709 ...,  14216.41562065\n",
      "   14984.67900847  14752.50176639]\n",
      " [  9013.45714305   9405.82810607   8488.15992101 ...,   9676.63007718\n",
      "    9361.29741812   9478.95250744]]\n",
      "prob [[ nan  nan  nan ...,  nan  nan  nan]\n",
      " [ nan  nan  nan ...,  nan  nan  nan]\n",
      " [ nan  nan  nan ...,  nan  nan  nan]\n",
      " ..., \n",
      " [ nan  nan  nan ...,  nan  nan  nan]\n",
      " [ nan  nan  nan ...,  nan  nan  nan]\n",
      " [ nan  nan  nan ...,  nan  nan  nan]]\n",
      "w[0][0] was NaN [[ nan  nan  nan ...,  nan  nan  nan]\n",
      " [ nan  nan  nan ...,  nan  nan  nan]\n",
      " [ nan  nan  nan ...,  nan  nan  nan]\n",
      " ..., \n",
      " [ nan  nan  nan ...,  nan  nan  nan]\n",
      " [ nan  nan  nan ...,  nan  nan  nan]\n",
      " [ nan  nan  nan ...,  nan  nan  nan]]\n",
      "i 1\n",
      "nan\n"
     ]
    }
   ],
   "source": [
    "import math\n",
    "# w = np.zeros([X.shape[1],len(np.unique(y))])\n",
    "# w = np.random(shape=(X.shape[1],len(np.unique(y))])\n",
    "w = np.random.rand(X.shape[1],len(np.unique(y)))\n",
    "lam = 1\n",
    "iterations = 1000\n",
    "learningRate = 1e-5\n",
    "losses = []\n",
    "for i in range(0,iterations):\n",
    "    if math.isnan(w[0][0]):\n",
    "        print 'w[0][0] was NaN', w\n",
    "        print 'i', i\n",
    "        break\n",
    "    \n",
    "    loss,grad = getLoss(w,X,y,lam)\n",
    "#     print 'loss, grad', loss, grad\n",
    "    losses.append(loss)\n",
    "    w = w - (learningRate * grad)\n",
    "print loss"
   ]
  },
  {
   "cell_type": "code",
   "execution_count": 12,
   "metadata": {
    "collapsed": false
   },
   "outputs": [],
   "source": [
    "# plt.plot(losses)\n",
    "# print losses"
   ]
  },
  {
   "cell_type": "code",
   "execution_count": 39,
   "metadata": {
    "collapsed": false,
    "scrolled": true
   },
   "outputs": [
    {
     "name": "stdout",
     "output_type": "stream",
     "text": [
      "[  0   0   0   0   0   0   0   0   0   0   0   0   0   0   0   0   0   0\n",
      "   0   0   0   0   0   0   0   0   0   0   0   0   0   0   0   0   0   0\n",
      "   0   0   0   0   0   0   0   0   0   0   0   0   0   0   0   0   0   0\n",
      "   0   0   0   0   0   0   0   0   0   0   0   0   0   0   0   0   0   0\n",
      "   0   0   0   0   0   0   0   0   0   0   0   0   0   0   0   0   0   0\n",
      "   0   0   0   0   0   0   0   0   0   0   0   0   0   0   0   0   0   0\n",
      "   0   0   0   0   0   0   0   0   0   0   0   0   0   0   0   0   0   0\n",
      "   0   0   0   0   0   0   0   0   0   0   0   0   0   0   0   0   0   0\n",
      "   0   0   0   0   0   0   0   0   0   0   0   0   0   0   0   0  67 232\n",
      "  39   0   0   0   0   0   0   0   0   0  62  81   0   0   0   0   0   0\n",
      "   0   0   0   0   0   0   0   0 120 180  39   0   0   0   0   0   0   0\n",
      "   0   0 126 163   0   0   0   0   0   0   0   0   0   0   0   0   0   2\n",
      " 153 210  40   0   0   0   0   0   0   0   0   0 220 163   0   0   0   0\n",
      "   0   0   0   0   0   0   0   0   0  27 254 162   0   0   0   0   0   0\n",
      "   0   0   0   0 222 163   0   0   0   0   0   0   0   0   0   0   0   0\n",
      "   0 183 254 125   0   0   0   0   0   0   0   0   0  46 245 163   0   0\n",
      "   0   0   0   0   0   0   0   0   0   0   0 198 254  56   0   0   0   0\n",
      "   0   0   0   0   0 120 254 163   0   0   0   0   0   0   0   0   0   0\n",
      "   0   0  23 231 254  29   0   0   0   0   0   0   0   0   0 159 254 120\n",
      "   0   0   0   0   0   0   0   0   0   0   0   0 163 254 216  16   0   0\n",
      "   0   0   0   0   0   0   0 159 254  67   0   0   0   0   0   0   0   0\n",
      "   0  14  86 178 248 254  91   0   0   0   0   0   0   0   0   0   0 159\n",
      " 254  85   0   0   0  47  49 116 144 150 241 243 234 179 241 252  40   0\n",
      "   0   0   0   0   0   0   0   0   0 150 253 237 207 207 207 253 254 250\n",
      " 240 198 143  91  28   5 233 250   0   0   0   0   0   0   0   0   0   0\n",
      "   0   0 119 177 177 177 177 177  98  56   0   0   0   0   0 102 254 220\n",
      "   0   0   0   0   0   0   0   0   0   0   0   0   0   0   0   0   0   0\n",
      "   0   0   0   0   0   0   0 169 254 137   0   0   0   0   0   0   0   0\n",
      "   0   0   0   0   0   0   0   0   0   0   0   0   0   0   0   0   0 169\n",
      " 254  57   0   0   0   0   0   0   0   0   0   0   0   0   0   0   0   0\n",
      "   0   0   0   0   0   0   0   0   0 169 254  57   0   0   0   0   0   0\n",
      "   0   0   0   0   0   0   0   0   0   0   0   0   0   0   0   0   0   0\n",
      "   0 169 255  94   0   0   0   0   0   0   0   0   0   0   0   0   0   0\n",
      "   0   0   0   0   0   0   0   0   0   0   0 169 254  96   0   0   0   0\n",
      "   0   0   0   0   0   0   0   0   0   0   0   0   0   0   0   0   0   0\n",
      "   0   0   0 169 254 153   0   0   0   0   0   0   0   0   0   0   0   0\n",
      "   0   0   0   0   0   0   0   0   0   0   0   0   0 169 255 153   0   0\n",
      "   0   0   0   0   0   0   0   0   0   0   0   0   0   0   0   0   0   0\n",
      "   0   0   0   0   0  96 254 153   0   0   0   0   0   0   0   0   0   0\n",
      "   0   0   0   0   0   0   0   0   0   0   0   0   0   0   0   0   0   0\n",
      "   0   0   0   0   0   0   0   0   0   0   0   0   0   0   0   0   0   0\n",
      "   0   0   0   0   0   0   0   0   0   0   0   0   0   0   0   0   0   0\n",
      "   0   0   0   0   0   0   0   0   0   0   0   0   0   0   0   0   0   0\n",
      "   0   0   0   0   0   0   0   0   0   0]\n"
     ]
    }
   ],
   "source": [
    "print X[1]"
   ]
  },
  {
   "cell_type": "code",
   "execution_count": null,
   "metadata": {
    "collapsed": true
   },
   "outputs": [],
   "source": []
  }
 ],
 "metadata": {
  "kernelspec": {
   "display_name": "Python 2",
   "language": "python",
   "name": "python2"
  },
  "language_info": {
   "codemirror_mode": {
    "name": "ipython",
    "version": 2
   },
   "file_extension": ".py",
   "mimetype": "text/x-python",
   "name": "python",
   "nbconvert_exporter": "python",
   "pygments_lexer": "ipython2",
   "version": "2.7.6"
  }
 },
 "nbformat": 4,
 "nbformat_minor": 1
}
