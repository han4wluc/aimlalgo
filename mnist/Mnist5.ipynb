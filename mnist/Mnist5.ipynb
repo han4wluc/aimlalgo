{
 "cells": [
  {
   "cell_type": "markdown",
   "metadata": {},
   "source": [
    "\n",
    "Mnist5"
   ]
  },
  {
   "cell_type": "code",
   "execution_count": 1,
   "metadata": {
    "collapsed": true
   },
   "outputs": [],
   "source": [
    "import pandas as pd\n",
    "import numpy as np"
   ]
  },
  {
   "cell_type": "code",
   "execution_count": 2,
   "metadata": {
    "collapsed": false
   },
   "outputs": [
    {
     "name": "stdout",
     "output_type": "stream",
     "text": [
      "X.shape (1000, 784)\n",
      "y.shape (1000, 10)\n"
     ]
    }
   ],
   "source": [
    "df = pd.read_csv('./mnist_train.csv')[:1000]\n",
    "# test = pd.read_csv('./mnist_test.csv', header=None)\n",
    "\n",
    "matrix = df.as_matrix()\n",
    "# print matrix.shape\n",
    "m = matrix.shape[0]\n",
    "y = matrix[:,0:1]\n",
    "X = matrix[:,1:]\n",
    "\n",
    "y = to_one_hot(y, 10)\n",
    "\n",
    "print 'X.shape', X.shape\n",
    "print 'y.shape', y.shape"
   ]
  },
  {
   "cell_type": "code",
   "execution_count": 32,
   "metadata": {
    "collapsed": true
   },
   "outputs": [],
   "source": [
    "def sigmoid(z):\n",
    "  '''\n",
    "  Compute sigmoid function\n",
    "  '''\n",
    "  return 1 / (1 + np.e ** -z)\n",
    "\n",
    "def sigmoid_gradient(z):\n",
    "  return sigmoid(z) * (1-sigmoid(z))\n",
    "\n",
    "def to_one_hot(y, K):\n",
    "    m = y.shape[0]\n",
    "    \n",
    "#     K = len(np.unique(y))\n",
    "    one_hot = np.zeros(shape=(m, K))\n",
    "    for i, row in enumerate(one_hot):\n",
    "        if i < 10:\n",
    "            idx = y[i]\n",
    "            row[idx] = 1\n",
    "    return one_hot\n"
   ]
  },
  {
   "cell_type": "code",
   "execution_count": 4,
   "metadata": {
    "collapsed": false
   },
   "outputs": [
    {
     "ename": "NameError",
     "evalue": "name 'theta' is not defined",
     "output_type": "error",
     "traceback": [
      "\u001b[0;31m---------------------------------------------------------------------------\u001b[0m",
      "\u001b[0;31mNameError\u001b[0m                                 Traceback (most recent call last)",
      "\u001b[0;32m<ipython-input-4-9d1681e08478>\u001b[0m in \u001b[0;36m<module>\u001b[0;34m()\u001b[0m\n\u001b[1;32m      2\u001b[0m \u001b[0;31m# k = len(np.unique(y))\u001b[0m\u001b[0;34m\u001b[0m\u001b[0;34m\u001b[0m\u001b[0m\n\u001b[1;32m      3\u001b[0m \u001b[0mk\u001b[0m \u001b[0;34m=\u001b[0m \u001b[0;36m10\u001b[0m\u001b[0;34m\u001b[0m\u001b[0m\n\u001b[0;32m----> 4\u001b[0;31m \u001b[0;32mprint\u001b[0m \u001b[0mtheta\u001b[0m\u001b[0;34m.\u001b[0m\u001b[0mshape\u001b[0m\u001b[0;34m\u001b[0m\u001b[0m\n\u001b[0m",
      "\u001b[0;31mNameError\u001b[0m: name 'theta' is not defined"
     ]
    }
   ],
   "source": [
    "m = X.shape[1]\n",
    "k = 10\n"
   ]
  },
  {
   "cell_type": "code",
   "execution_count": null,
   "metadata": {
    "collapsed": false
   },
   "outputs": [],
   "source": []
  },
  {
   "cell_type": "code",
   "execution_count": 16,
   "metadata": {
    "collapsed": false
   },
   "outputs": [
    {
     "name": "stdout",
     "output_type": "stream",
     "text": [
      "(1000, 10)\n",
      "(1000, 10)\n",
      "(1000, 10)\n"
     ]
    }
   ],
   "source": [
    "\n",
    "# Forward Propagation\n",
    "rand = np.random.RandomState(10)\n",
    "\n",
    "theta_1 = 0.00005 * rand.rand(m, k)\n",
    "theta_2 = 0.00005 * rand.rand(10, 10)\n",
    "\n",
    "a_1 = X\n",
    "z_2 = np.dot(a_1, theta_1)\n",
    "print z_2.shape\n",
    "a_2 = sigmoid(z_2) #.sum(axis=0).reshape(1,10)\n",
    "# z_3 = np.dot(a_2, theta_2)\n",
    "print a_2.shape\n",
    "z_3 = np.dot(a_2, theta_2)\n",
    "# print z_3.sum()\n",
    "# print z_3.shape\n",
    "# print z_3[0]\n",
    "# print z_3[1]\n",
    "# print z_3[2]\n",
    "z_3 = np.argmax(z_3, axis=1).reshape(1000,1)\n",
    "a_3 = sigmoid(z_3)\n",
    "\n",
    "a_3 = to_one_hot(z_3, 10)\n",
    "print a_3.shape\n",
    "\n",
    "# print z_3\n",
    "# print np.argmax(z_3[0])\n",
    "# print np.argmax(z_3[1])\n",
    "# print np.argmax(z_3[2])"
   ]
  },
  {
   "cell_type": "code",
   "execution_count": 35,
   "metadata": {
    "collapsed": false
   },
   "outputs": [
    {
     "name": "stdout",
     "output_type": "stream",
     "text": [
      "(10, 10)\n",
      "(1000, 1)\n"
     ]
    }
   ],
   "source": [
    "# Backward Propagation\n",
    "\n",
    "d_3 = a_3 - y\n",
    "# aa_3 = z3\n",
    "# print np.abs(d_3)\n",
    "\n",
    "# (a_3 * (1 - a_3))[4]\n",
    "print theta_2.shape\n",
    "print \n",
    "print sigmoid_gradient(z_3).shape"
   ]
  },
  {
   "cell_type": "code",
   "execution_count": 28,
   "metadata": {
    "collapsed": false
   },
   "outputs": [
    {
     "data": {
      "text/plain": [
       "array([[ 1.,  0.,  0., ...,  0.,  0.,  0.],\n",
       "       [ 0.,  0.,  0., ...,  0.,  0.,  0.],\n",
       "       [ 0.,  1.,  0., ...,  0.,  0.,  0.],\n",
       "       ..., \n",
       "       [ 0.,  0.,  0., ...,  0.,  0.,  0.],\n",
       "       [ 0.,  0.,  0., ...,  0.,  0.,  0.],\n",
       "       [ 0.,  0.,  0., ...,  0.,  0.,  0.]])"
      ]
     },
     "execution_count": 28,
     "metadata": {},
     "output_type": "execute_result"
    }
   ],
   "source": [
    "y"
   ]
  },
  {
   "cell_type": "code",
   "execution_count": null,
   "metadata": {
    "collapsed": true
   },
   "outputs": [],
   "source": []
  }
 ],
 "metadata": {
  "kernelspec": {
   "display_name": "Python 2",
   "language": "python",
   "name": "python2"
  },
  "language_info": {
   "codemirror_mode": {
    "name": "ipython",
    "version": 2
   },
   "file_extension": ".py",
   "mimetype": "text/x-python",
   "name": "python",
   "nbconvert_exporter": "python",
   "pygments_lexer": "ipython2",
   "version": "2.7.6"
  }
 },
 "nbformat": 4,
 "nbformat_minor": 1
}
