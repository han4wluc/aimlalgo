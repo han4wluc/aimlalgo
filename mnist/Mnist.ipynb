{
 "cells": [
  {
   "cell_type": "code",
   "execution_count": 1,
   "metadata": {
    "collapsed": true
   },
   "outputs": [],
   "source": [
    "import pandas as pd\n",
    "import numpy as np"
   ]
  },
  {
   "cell_type": "code",
   "execution_count": 2,
   "metadata": {
    "collapsed": true
   },
   "outputs": [],
   "source": [
    "df = pd.read_csv('./mnist_train.csv')\n",
    "test = pd.read_csv('./mnist_test.csv', header=None)\n"
   ]
  },
  {
   "cell_type": "code",
   "execution_count": 325,
   "metadata": {
    "collapsed": false
   },
   "outputs": [
    {
     "name": "stdout",
     "output_type": "stream",
     "text": [
      "(10000, 785)\n",
      "(10000, 784)\n",
      "(10000, 1)\n"
     ]
    }
   ],
   "source": [
    "matrix = df.as_matrix()[:10000]\n",
    "print matrix.shape\n",
    "m = matrix.shape[0]\n",
    "y = matrix[:,0:1]\n",
    "X = matrix[:,1:]\n",
    "\n",
    "\n",
    "matrix_test = test.as_matrix()\n",
    "X_test = matrix_test[:,1:]\n",
    "m_test = X_test.shape[0]\n",
    "y_test = matrix_test[:,0:1]\n",
    "\n",
    "\n",
    "X, X_test = feature_normalize([X, X_test])\n",
    "\n",
    "n = X.shape[1]\n",
    "\n",
    "print X.shape\n",
    "print y.shape\n",
    "\n",
    "theta = np.random.rand(n,1)\n"
   ]
  },
  {
   "cell_type": "code",
   "execution_count": 311,
   "metadata": {
    "collapsed": false
   },
   "outputs": [
    {
     "data": {
      "text/plain": [
       "array([[-0.42536497, -0.42536497, -0.42536497, ..., -0.42536497,\n",
       "        -0.42536497, -0.42536497],\n",
       "       [-0.42536497, -0.42536497, -0.42536497, ..., -0.42536497,\n",
       "        -0.42536497, -0.42536497],\n",
       "       [-0.42536497, -0.42536497, -0.42536497, ..., -0.42536497,\n",
       "        -0.42536497, -0.42536497],\n",
       "       ..., \n",
       "       [-0.42536497, -0.42536497, -0.42536497, ..., -0.42536497,\n",
       "        -0.42536497, -0.42536497],\n",
       "       [-0.42536497, -0.42536497, -0.42536497, ..., -0.42536497,\n",
       "        -0.42536497, -0.42536497],\n",
       "       [-0.42536497, -0.42536497, -0.42536497, ..., -0.42536497,\n",
       "        -0.42536497, -0.42536497]])"
      ]
     },
     "execution_count": 311,
     "metadata": {},
     "output_type": "execute_result"
    }
   ],
   "source": [
    "X"
   ]
  },
  {
   "cell_type": "code",
   "execution_count": null,
   "metadata": {
    "collapsed": false
   },
   "outputs": [],
   "source": []
  },
  {
   "cell_type": "code",
   "execution_count": 4,
   "metadata": {
    "collapsed": false
   },
   "outputs": [],
   "source": [
    "def sigmoid(z):\n",
    "  '''\n",
    "  Compute sigmoid function\n",
    "  '''\n",
    "  return 1 / (1 + np.e ** -z)\n",
    "\n",
    "def hypothesis(X, theta):\n",
    "  return sigmoid(X.dot(theta))\n",
    "\n",
    "def cost_function(X, y, theta, lmbda=0):\n",
    "  '''\n",
    "  Computes Logistical cost function, return Cost, Gradient\n",
    "  '''\n",
    "  m = X.shape[0]\n",
    "  h = hypothesis(X, theta)\n",
    "  part_1 = y * (np.log(h))\n",
    "  part_2 = (1 - y) * (np.log(1.001-h))\n",
    "  reg = lmbda/(2.0*m) * (theta[1:] **  2).sum()\n",
    "  constant = -1.0/m\n",
    "  combined = (part_1 + part_2).sum() + reg\n",
    "  return constant * (combined)\n",
    "\n",
    "def feature_normalize(X):\n",
    "    mean = np.mean(X)\n",
    "    std = np.std(X, ddof=1)\n",
    "    return ( X - mean ) / std\n",
    "\n",
    "def featureNormalize(X):\n",
    "  '''\n",
    "  Returns a normalized version of X where\n",
    "  the mean value of each feature is 0 and the standard deviation\n",
    "  is 1. This is often a good preprocessing step to do when\n",
    "  working with learning algorithms.\n",
    "  '''\n",
    "  \n",
    "  mean = np.mean(X, axis=0)\n",
    "  std = np.std(X, axis=0, ddof=1)\n",
    "  return (X - mean)/std\n",
    "\n",
    "def gradient_descent(X, y, theta, alpha, num_iters, lmbda=0):\n",
    "  m = y.size\n",
    "  n = theta.size\n",
    "  J_history = np.zeros(shape=(num_iters, 1))\n",
    "  \n",
    "  constant = alpha*(1.0/m) \n",
    "  for i in range(num_iters):\n",
    "\n",
    "\n",
    "\n",
    "    h = hypothesis(X, theta)\n",
    "    error = (h - y)\n",
    "    r = error * X\n",
    "    rr = constant * r.sum(axis=0)\n",
    "    rr = np.reshape(rr,(n,1))\n",
    "#     print 'rr', rr[195:205]\n",
    "    # TODO check reg\n",
    "    theta = theta - rr\n",
    "    reg = (lmbda/m) * theta[1:]\n",
    "    theta[1:] = theta[1:] - reg\n",
    "\n",
    "    cost = cost_function(X, y, theta)\n",
    "    J_history[i,0] = cost\n",
    "\n",
    "#     gradient_approx = gradient_checking(theta)\n",
    "#     print gradient_approx\n",
    "#     print cost\n",
    "\n",
    "    \n",
    "  return theta, J_history\n",
    "\n"
   ]
  },
  {
   "cell_type": "code",
   "execution_count": 101,
   "metadata": {
    "collapsed": false
   },
   "outputs": [],
   "source": [
    "\n",
    "def gradient_checking(theta, epsilon=0.00001):\n",
    "#     print theta.shape\n",
    "    n = theta.shape[0]\n",
    "    gradient_approx = np.zeros(shape=(n,1))\n",
    "#     for i in range(5):\n",
    "#         print i\n",
    "    for i in range(n):\n",
    "#         print i\n",
    "        theta_plus = theta.copy()\n",
    "        theta_minus = theta.copy()\n",
    "        theta_plus[i] = theta_plus[i] + epsilon\n",
    "        theta_minus[i] -= epsilon\n",
    "\n",
    "        cost_plus = cost_function(X, y, theta_plus)\n",
    "        cost_minus = cost_function(X, y, theta_minus)\n",
    "        cost = (cost_plus - cost_minus) / (2 * epsilon)\n",
    "        gradient_approx[i] = cost\n",
    "    return gradient_approx\n",
    "    \n",
    "#         print cost_plus\n",
    "#         print cost_minus\n",
    "    \n",
    "# grad_approx = gradient_checking(theta)\n",
    "# print np.concatenate((theta, grad_approx), axis=1)\n"
   ]
  },
  {
   "cell_type": "code",
   "execution_count": 151,
   "metadata": {
    "collapsed": false
   },
   "outputs": [
    {
     "name": "stdout",
     "output_type": "stream",
     "text": [
      "rr [[-0.00618266]\n",
      " [-0.00619273]\n",
      " [-0.00619042]\n",
      " [-0.00619097]\n",
      " [-0.00595109]\n",
      " [-0.00528232]\n",
      " [-0.00406816]\n",
      " [-0.00202235]\n",
      " [ 0.00093101]\n",
      " [ 0.00529017]]\n",
      "done 0\n"
     ]
    }
   ],
   "source": [
    "\n",
    "# categories = [0,1,2,3,4,5,6,7,8,9]\n",
    "categories = [0]\n",
    "\n",
    "thetas = []\n",
    "for k in categories:\n",
    "    y1s = y == k\n",
    "    y1 = np.zeros(shape=(m,1))\n",
    "    y1[y1s] = 1\n",
    "\n",
    "#     print theta\n",
    "    new_theta, history = gradient_descent(X, y1, theta, 0.05, 1)\n",
    "#     print history\n",
    "#     print gradient_approx.shape\n",
    "#     print np.concatenate((history, gradient_approx), axis=1)\n",
    "    thetas.append(new_theta)\n",
    "    print 'done', k\n"
   ]
  },
  {
   "cell_type": "code",
   "execution_count": 38,
   "metadata": {
    "collapsed": false
   },
   "outputs": [
    {
     "name": "stdout",
     "output_type": "stream",
     "text": [
      "0.7741\n"
     ]
    }
   ],
   "source": [
    "predictions = []\n",
    "for t in thetas:\n",
    "#     print t.shape\n",
    "    predicted = hypothesis(X_test, t)\n",
    "    predictions.append(predicted)\n",
    "    \n",
    "predicted_table = np.concatenate(tuple(predictions), axis=1)\n",
    "predicted_table = np.argmax(predicted_table, axis=1)\n",
    "predicted_table = np.reshape(predicted_table, (m_test,1))\n",
    "correct = (predicted_table == y_test).sum()\n",
    "print float(correct) / m"
   ]
  },
  {
   "cell_type": "code",
   "execution_count": 152,
   "metadata": {
    "collapsed": false
   },
   "outputs": [
    {
     "name": "stdout",
     "output_type": "stream",
     "text": [
      "[[ 0.71850475]\n",
      " [ 0.83616732]\n",
      " [ 0.76309147]\n",
      " [ 0.10663269]\n",
      " [ 0.29033147]\n",
      " [ 0.24685244]\n",
      " [ 0.50240365]\n",
      " [ 0.96120994]\n",
      " [ 0.04775195]\n",
      " [ 0.67190725]\n",
      " [ 0.71772218]]\n",
      "[ 0.71850475]\n",
      "101.479990379\n",
      "101.481255065\n",
      "101.478725699\n",
      "1.2646831047\n"
     ]
    }
   ],
   "source": [
    "print theta[195:206]\n",
    "i = 195\n",
    "epsilon = 0.001\n",
    "theta_plus = theta.copy()\n",
    "theta_minus = theta.copy()\n",
    "print theta[i]\n",
    "theta_plus[i] = theta_plus[i] + epsilon\n",
    "theta_minus[i] -= epsilon\n",
    "\n",
    "cost_normal = cost_function(X, y, theta)\n",
    "cost_plus = cost_function(X, y, theta_plus)\n",
    "cost_minus = cost_function(X, y, theta_minus)\n",
    "print cost_normal\n",
    "print cost_plus\n",
    "print cost_minus\n",
    "cost = (cost_plus - cost_minus) / (2.0 * epsilon)\n",
    "print cost\n",
    "# gradient_approx[i] = cost"
   ]
  },
  {
   "cell_type": "code",
   "execution_count": null,
   "metadata": {
    "collapsed": true
   },
   "outputs": [],
   "source": []
  },
  {
   "cell_type": "markdown",
   "metadata": {},
   "source": [
    "### Mnist2\n",
    "https://gist.github.com/awjuliani/5ce098b4b76244b7a9e3#file-softmax-ipynb"
   ]
  },
  {
   "cell_type": "code",
   "execution_count": 312,
   "metadata": {
    "collapsed": true
   },
   "outputs": [],
   "source": [
    "import matplotlib.pyplot as plt\n",
    "%matplotlib inline\n",
    "import scipy\n",
    "import scipy.sparse\n",
    "import numpy as np"
   ]
  },
  {
   "cell_type": "code",
   "execution_count": 313,
   "metadata": {
    "collapsed": false
   },
   "outputs": [
    {
     "data": {
      "text/plain": [
       "<matplotlib.image.AxesImage at 0x7fbda4325690>"
      ]
     },
     "execution_count": 313,
     "metadata": {},
     "output_type": "execute_result"
    },
    {
     "data": {
      "image/png": "[encoded data removed]",
      "text/plain": [
       "<matplotlib.figure.Figure at 0x7fbda4517650>"
      ]
     },
     "metadata": {},
     "output_type": "display_data"
    }
   ],
   "source": [
    "# X[0]\n",
    "plt.imshow(np.reshape(X[0], [28,28]))"
   ]
  },
  {
   "cell_type": "code",
   "execution_count": 44,
   "metadata": {
    "collapsed": true
   },
   "outputs": [],
   "source": [
    "def oneHotIt(Y):\n",
    "    m = Y.shape[0]\n",
    "    #Y = Y[:,0]\n",
    "#     print m\n",
    "    OHX = scipy.sparse.csr_matrix((np.ones(m), (Y, np.array(range(m)))))\n",
    "    print OHX.toarray().shape\n",
    "    OHX = np.array(OHX.todense()).T\n",
    "    return OHX"
   ]
  },
  {
   "cell_type": "code",
   "execution_count": null,
   "metadata": {
    "collapsed": false
   },
   "outputs": [],
   "source": []
  },
  {
   "cell_type": "code",
   "execution_count": 322,
   "metadata": {
    "collapsed": false
   },
   "outputs": [],
   "source": [
    "def to_one_hot(y):\n",
    "    K = len(np.unique(y.ravel()))\n",
    "    one_hot = np.zeros(shape=(m, K))\n",
    "    for i, row in enumerate(one_hot):\n",
    "        if i < 10:\n",
    "            idx = y[i][0]\n",
    "            row[idx] = 1\n",
    "    return one_hot\n",
    "\n",
    "def softmax(z):\n",
    "    z -= np.max(z)\n",
    "    sm = (np.exp(z).T / np.sum(np.exp(z), axis=1)).T\n",
    "    return sm\n",
    "\n",
    "_nan_prob = None\n",
    "_nan_y_mat = None\n",
    "_nan_scores = None\n",
    "_nan_X = None\n",
    "_nan_theta = None\n",
    "def get_loss(X, y, theta, lam=1):\n",
    "    m = X.shape[0]\n",
    "    y_mat = to_one_hot(y)\n",
    "    scores = np.dot(X, theta)\n",
    "#     print 'scores', scores\n",
    "\n",
    "    prob = softmax(scores)\n",
    "    \n",
    "#     if math.isnan(prob[0][0]):\n",
    "#         print 'prob[0][0] was NaN'\n",
    "#         print 'scores', scores\n",
    "#         return 'nan', 'nan'\n",
    "    \n",
    "#     print 'prob', prob\n",
    "    \n",
    "    s1 = np.sum(y_mat * np.log(prob))\n",
    "    if math.isnan(s1):\n",
    "        global _nan_prob\n",
    "        global _nan_y_mat\n",
    "        global _nan_scores\n",
    "        global _nan_X\n",
    "        global _nan_theta\n",
    "        _nan_prob = prob\n",
    "        _nan_y_mat = y_mat\n",
    "        _nan_scores = scores\n",
    "        _nan_X = X\n",
    "        _nan_theta = theta\n",
    "        \n",
    "#     print 's1', s1\n",
    "    s2 = np.sum(theta ** 2)\n",
    "#     print 's2', s2\n",
    "    loss = (-1 / m) * s1 + (lam/2) * s2\n",
    "    \n",
    "#     print 'loss', loss\n",
    "    grad = (-1 / m) * np.dot(X.T,(y_mat - prob)) + lam * theta\n",
    "#     print 'grad', grad\n",
    "#     zcores = X.dot(theta)\n",
    "    return loss, grad\n",
    "    \n",
    "def get_probs_and_preds(X, theta):\n",
    "#     print X, theta\n",
    "    probs = softmax(np.dot(X, theta))\n",
    "#     print probs\n",
    "    preds = np.argmax(probs, axis=1)\n",
    "    return probs, preds"
   ]
  },
  {
   "cell_type": "code",
   "execution_count": 315,
   "metadata": {
    "collapsed": false
   },
   "outputs": [
    {
     "name": "stdout",
     "output_type": "stream",
     "text": [
      "CPU times: user 2.5 ms, sys: 3 µs, total: 2.5 ms\n",
      "Wall time: 2.51 ms\n"
     ]
    },
    {
     "data": {
      "text/plain": [
       "array([[ 1.,  0.,  0., ...,  0.,  0.,  0.],\n",
       "       [ 0.,  0.,  0., ...,  0.,  0.,  0.],\n",
       "       [ 0.,  1.,  0., ...,  0.,  0.,  0.],\n",
       "       ..., \n",
       "       [ 0.,  0.,  0., ...,  0.,  0.,  0.],\n",
       "       [ 0.,  0.,  0., ...,  0.,  0.,  0.],\n",
       "       [ 0.,  0.,  0., ...,  0.,  0.,  0.]])"
      ]
     },
     "execution_count": 315,
     "metadata": {},
     "output_type": "execute_result"
    }
   ],
   "source": [
    "%%time\n",
    "to_one_hot(y)"
   ]
  },
  {
   "cell_type": "code",
   "execution_count": 331,
   "metadata": {
    "collapsed": false
   },
   "outputs": [
    {
     "data": {
      "text/plain": [
       "49"
      ]
     },
     "execution_count": 331,
     "metadata": {},
     "output_type": "execute_result"
    }
   ],
   "source": [
    "# theta = np.zeros([X.shape[1],len(np.unique(y))])\n",
    "theta = np.random.rand(X.shape[1],len(np.unique(y)))\n",
    "# print theta\n",
    "\n",
    "# loss, grad = get_loss(X, y, theta)\n",
    "# print loss\n",
    "# print grad\n",
    "\n",
    "7 * 7\n"
   ]
  },
  {
   "cell_type": "code",
   "execution_count": 333,
   "metadata": {
    "collapsed": false
   },
   "outputs": [
    {
     "name": "stdout",
     "output_type": "stream",
     "text": [
      "theta[0][0] was NaN\n",
      "i 92\n",
      "[[ nan  nan  nan ...,  nan  nan  nan]\n",
      " [ nan  nan  nan ...,  nan  nan  nan]\n",
      " [ nan  nan  nan ...,  nan  nan  nan]\n",
      " ..., \n",
      " [ nan  nan  nan ...,  nan  nan  nan]\n",
      " [ nan  nan  nan ...,  nan  nan  nan]\n",
      " [ nan  nan  nan ...,  nan  nan  nan]]\n"
     ]
    }
   ],
   "source": [
    "# theta = np.zeros([X.shape[1],len(np.unique(y))])\n",
    "iterations = 100\n",
    "learning_rage = 1e-5\n",
    "losses = []\n",
    "for i in range(0,iterations):\n",
    "\n",
    "    if math.isnan(theta[0][0]):\n",
    "        print 'theta[0][0] was NaN'\n",
    "        print 'i', i\n",
    "        break\n",
    "    \n",
    "    loss, grad = get_loss(X, y, theta)\n",
    "    losses.append(loss)\n",
    "#     print theta\n",
    "    \n",
    "    theta = theta - (learning_rage * grad)\n",
    "#     if i % 50 == 0:\n",
    "#         print 'doing', i\n",
    "#         print theta\n",
    "#         print grad\n",
    "    \n",
    "    \n",
    "# print loss\n",
    "print theta"
   ]
  },
  {
   "cell_type": "code",
   "execution_count": 317,
   "metadata": {
    "collapsed": false
   },
   "outputs": [
    {
     "name": "stdout",
     "output_type": "stream",
     "text": [
      "[-45948.121406 -45929.125556 -45953.137896 -45884.445336 -45941.189096\n",
      " -46014.520296 -46014.520296 -46014.520296 -46014.520296 -45966.499066]\n",
      "[ nan  nan  nan  nan  nan  nan  nan  nan  nan  nan]\n"
     ]
    }
   ],
   "source": [
    "# print theta\n",
    "# import math\n",
    "\n",
    "# print _nan_prob[4199:4210]\n",
    "# print _nan_y_mat\n",
    "\n",
    "# s1 = np.sum(y_mat * np.log(prob))\n",
    "\n",
    "# print '_nan_prob', _nan_prob\n",
    "# print '_nan_y_mat', _nan_y_mat\n",
    "# print '_nan_scores', _nan_scores\n",
    "# print '_nan_X', _nan_X\n",
    "# print '_nan_theta', _nan_theta\n",
    "\n",
    "#     z -= np.max(z)\n",
    "#     sm = (np.exp(z).T / np.sum(np.exp(z), axis=1)).T\n",
    "\n",
    "\n",
    "# print _nan_scores.sum()\n",
    "print _nan_scores[4200]\n",
    "# print np.max(_nan_scores[4200])\n",
    "\n",
    "\n",
    "# print np.exp(_nan_scores[4200])\n",
    "print softmax(_nan_scores)[4200]\n"
   ]
  },
  {
   "cell_type": "code",
   "execution_count": 334,
   "metadata": {
    "collapsed": false
   },
   "outputs": [
    {
     "data": {
      "text/plain": [
       "[<matplotlib.lines.Line2D at 0x7fbd9c9f1350>]"
      ]
     },
     "execution_count": 334,
     "metadata": {},
     "output_type": "execute_result"
    },
    {
     "data": {
      "image/png": "[encoded data removed]",
      "text/plain": [
       "<matplotlib.figure.Figure at 0x7fbd9ca76210>"
      ]
     },
     "metadata": {},
     "output_type": "display_data"
    }
   ],
   "source": [
    "# print np.exp(-740.25999525)\n",
    "# np.arange(-10,10,0.1)\n",
    "plt.plot(np.exp(np.arange(-1000,-10,1)))"
   ]
  },
  {
   "cell_type": "code",
   "execution_count": 335,
   "metadata": {
    "collapsed": false
   },
   "outputs": [
    {
     "data": {
      "text/plain": [
       "[<matplotlib.lines.Line2D at 0x7fbd9c919f50>]"
      ]
     },
     "execution_count": 335,
     "metadata": {},
     "output_type": "execute_result"
    },
    {
     "data": {
      "image/png": "[encoded data removed]",
      "text/plain": [
       "<matplotlib.figure.Figure at 0x7fbd9c9a3dd0>"
      ]
     },
     "metadata": {},
     "output_type": "display_data"
    }
   ],
   "source": [
    "plt.plot(losses)\n"
   ]
  },
  {
   "cell_type": "code",
   "execution_count": 336,
   "metadata": {
    "collapsed": false
   },
   "outputs": [
    {
     "name": "stdout",
     "output_type": "stream",
     "text": [
      "[5 3 6 1 7 2 8 6 9 4]\n",
      "[0 0 0 0 0 0 0 0 0 0]\n"
     ]
    },
    {
     "data": {
      "text/plain": [
       "0.10009999999999999"
      ]
     },
     "execution_count": 336,
     "metadata": {},
     "output_type": "execute_result"
    }
   ],
   "source": [
    "def get_accuracy(X, y, theta):\n",
    "    prob, pred = get_probs_and_preds(X, theta)\n",
    "    print pred[10:20]\n",
    "#     print pred\n",
    "#     print sum(pred == y.ravel())\n",
    "    accuracy = sum(pred == y.ravel())/(float(len(y)))\n",
    "    return accuracy\n",
    "\n",
    "print y.ravel()[10:20]\n",
    "get_accuracy(X,y, theta)\n",
    "    "
   ]
  },
  {
   "cell_type": "code",
   "execution_count": 100,
   "metadata": {
    "collapsed": false
   },
   "outputs": [
    {
     "name": "stdout",
     "output_type": "stream",
     "text": [
      "[[ 1.02138421  0.44198852  0.87302001 ...,  1.12247988  1.35112885\n",
      "   0.53241122]\n",
      " [ 0.91866282  0.53445533  1.30818102 ...,  1.25548835  1.08384943\n",
      "   1.15645055]\n",
      " [ 1.05846029  0.86050958  1.07412139 ...,  0.67057408  0.91223494\n",
      "   1.14313093]\n",
      " ..., \n",
      " [ 1.02979219  0.98809221  0.63076443 ...,  0.94966453  0.76180241\n",
      "   1.21304107]\n",
      " [ 0.66008765  0.76152277  0.65499051 ...,  0.79195124  0.58837725\n",
      "   1.04191476]\n",
      " [ 0.81272896  1.31993316  0.86592854 ...,  1.09034432  0.4799567\n",
      "   1.18574185]]\n"
     ]
    }
   ],
   "source": [
    "print theta"
   ]
  },
  {
   "cell_type": "code",
   "execution_count": 206,
   "metadata": {
    "collapsed": false
   },
   "outputs": [
    {
     "name": "stdout",
     "output_type": "stream",
     "text": [
      "asdffff\n"
     ]
    }
   ],
   "source": [
    "\n",
    "# asdf\n",
    "def aaa():\n",
    "    global asdf\n",
    "    asdf = 'asdffff'\n",
    "\n",
    "aaa()\n",
    "print asdf\n",
    "    "
   ]
  },
  {
   "cell_type": "code",
   "execution_count": null,
   "metadata": {
    "collapsed": true
   },
   "outputs": [],
   "source": []
  }
 ],
 "metadata": {
  "kernelspec": {
   "display_name": "Python 2",
   "language": "python",
   "name": "python2"
  },
  "language_info": {
   "codemirror_mode": {
    "name": "ipython",
    "version": 2
   },
   "file_extension": ".py",
   "mimetype": "text/x-python",
   "name": "python",
   "nbconvert_exporter": "python",
   "pygments_lexer": "ipython2",
   "version": "2.7.6"
  }
 },
 "nbformat": 4,
 "nbformat_minor": 1
}
