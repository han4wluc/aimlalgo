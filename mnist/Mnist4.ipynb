{
 "cells": [
  {
   "cell_type": "code",
   "execution_count": 1,
   "metadata": {
    "collapsed": false
   },
   "outputs": [],
   "source": [
    "import struct\n",
    "import numpy as np\n",
    "import array\n",
    "import time\n",
    "import pandas as pd\n",
    "# import scipy.sparse\n",
    "import scipy.optimize\n",
    "import matplotlib.pyplot as plt\n",
    "%matplotlib inline"
   ]
  },
  {
   "cell_type": "code",
   "execution_count": 2,
   "metadata": {
    "collapsed": false
   },
   "outputs": [
    {
     "name": "stdout",
     "output_type": "stream",
     "text": [
      "(4000, 785)\n"
     ]
    }
   ],
   "source": [
    "df = pd.read_csv('./mnist_train.csv')[:4000]\n",
    "# test = pd.read_csv('./mnist_test.csv', header=None)\n",
    "\n",
    "matrix = df.as_matrix()\n",
    "print matrix.shape\n",
    "m = matrix.shape[0]\n",
    "y = matrix[:,0:1]\n",
    "X = matrix[:,1:]\n",
    "\n",
    "# matrix_test = test.as_matrix()\n",
    "# X_test = matrix_test[:,1:]\n",
    "# m_test = X_test.shape[0]\n",
    "# y_test = matrix_test[:,0:1]\n",
    "\n"
   ]
  },
  {
   "cell_type": "code",
   "execution_count": 5,
   "metadata": {
    "collapsed": false
   },
   "outputs": [
    {
     "name": "stdout",
     "output_type": "stream",
     "text": [
      "(1000, 784)\n",
      "(1000, 1)\n"
     ]
    }
   ],
   "source": [
    "print X.shape\n",
    "print y.shape"
   ]
  },
  {
   "cell_type": "markdown",
   "metadata": {},
   "source": [
    "### Hypothesis\n",
    "\n",
    "$\n",
    "h_\\theta(x^{(i)}) = \n",
    "\\begin{bmatrix}\n",
    "    p(y^{(i)} = 1 \\:|\\: x{(i)};\\theta) \\\\\n",
    "    p(y^{(i)} = 2 \\:|\\: x{(i)};\\theta) \\\\\n",
    "    ... \\\\\n",
    "    p(y^{(i)} = k \\:|\\: x{(i)};\\theta) \\\\\n",
    "\\end{bmatrix}\n",
    "=\n",
    "\\frac{1}{\\sum_{j=1}^{k}e^{\\theta^{T}_jx^{(i)}}}\n",
    "\\begin{bmatrix}\n",
    "    e^{\\theta^{T}_1x^{(i)}} \\\\\n",
    "    e^{\\theta^{T}_2x^{(i)}} \\\\\n",
    "    ...                     \\\\\n",
    "    e^{\\theta^{T}_kx^{(i)}} \\\\\n",
    "\\end{bmatrix}\n",
    "$\n",
    "\n",
    "\n",
    "### Cost Function\n",
    "\n",
    "$\n",
    "J(\\theta) = -\\frac{1}{m}[\\sum_{i=1}^{m}\\sum_{j=1}^{k}1\\{y^{(i)}=j\\}\\:log\\frac{e^{\\theta_j^Tx^{(i)}}}{\\sum_{l=1}^{k}e^{\\theta_l^Tx^{(i)}}}]\n",
    "$\n",
    "\n",
    "### Gradient\n",
    "\n",
    "\n",
    "$\n",
    "\\Delta_{\\theta_j}J(\\theta) = -\\frac{1}{m}\\sum_{i=1}^{m}[x^{(i)}(1\\{y^{(i)}=j\\} - p(y^{(i)} = j\\:|\\:x^{(i)};\\theta))] + \\lambda\\theta_j\n",
    "$\n"
   ]
  },
  {
   "cell_type": "code",
   "execution_count": 23,
   "metadata": {
    "collapsed": false
   },
   "outputs": [
    {
     "name": "stdout",
     "output_type": "stream",
     "text": [
      "(784, 10)\n",
      "(1000, 784)\n"
     ]
    },
    {
     "data": {
      "text/plain": [
       "array([[ 0.,  0.,  0., ...,  0.,  0.,  0.],\n",
       "       [ 0.,  0.,  0., ...,  0.,  0.,  0.],\n",
       "       [ 0.,  0.,  0., ...,  0.,  0.,  0.],\n",
       "       ..., \n",
       "       [ 0.,  0.,  0., ...,  0.,  0.,  0.],\n",
       "       [ 0.,  0.,  0., ...,  0.,  0.,  0.],\n",
       "       [ 0.,  0.,  0., ...,  0.,  0.,  0.]])"
      ]
     },
     "execution_count": 23,
     "metadata": {},
     "output_type": "execute_result"
    }
   ],
   "source": [
    "print theta.shape\n",
    "print X.shape\n",
    "\n",
    "X.dot(theta)\n"
   ]
  },
  {
   "cell_type": "code",
   "execution_count": 25,
   "metadata": {
    "collapsed": false
   },
   "outputs": [
    {
     "name": "stdout",
     "output_type": "stream",
     "text": [
      "(784, 10)\n"
     ]
    }
   ],
   "source": [
    "print theta.shape"
   ]
  },
  {
   "cell_type": "code",
   "execution_count": 31,
   "metadata": {
    "collapsed": false
   },
   "outputs": [
    {
     "name": "stdout",
     "output_type": "stream",
     "text": [
      "(2, 1)\n",
      "(1, 2)\n",
      "[[ 2  6]\n",
      " [10 30]]\n"
     ]
    }
   ],
   "source": [
    "aa = np.array([[1],[5]])\n",
    "bb = np.array([[2,6]])\n",
    "\n",
    "print aa.shape\n",
    "print bb.shape\n",
    "\n",
    "print aa .dot( bb )"
   ]
  },
  {
   "cell_type": "code",
   "execution_count": 217,
   "metadata": {
    "collapsed": false
   },
   "outputs": [],
   "source": [
    "# theta = 0.0005 * np.random.rand(X.shape[1],len(np.unique(y)))\n",
    "\n",
    "n_of_features = X.shape[1]\n",
    "k = len(np.unique(y))\n",
    "rand = np.random.RandomState(10)\n",
    "theta = 0.0005 * rand.rand(n_of_features, k)\n",
    "\n",
    "def hypothesis(X, theta):\n",
    "    \n",
    "    # Compute hypothesis\n",
    "#     print 'X.shape', X.shape\n",
    "#     print 'theta.shape', theta.shape\n",
    "#     print 'X', X.T\n",
    "#     print 'X[0]', X[0]\n",
    "#     print 'X.shape', X.T.shape\n",
    "#     print 'theta', theta.T\n",
    "#     print 'theta.shape', theta.T.shape\n",
    "    \n",
    "#     print 'X.sum()', X.sum()\n",
    "#     print 'theta.sum()', theta.sum()\n",
    "\n",
    "#     print 'theta_x_1', np.dot(X, theta) \n",
    "    theta_x = np.dot(theta.T, X.T)\n",
    "#     print 'theta_x', theta_x\n",
    "#     print 'theta_x.shape', theta_x.shape\n",
    "#     print 'theta_x.sum()', theta_x.sum()\n",
    "    \n",
    "    h = np.exp(np.dot(X, theta))\n",
    "#     print 'h', h\n",
    "    \n",
    "    # Normalize the hypothesis so each row sums to 1\n",
    "    summation = h.sum(axis=0)\n",
    "#     print 'summation', summation\n",
    "    h = h / summation\n",
    "\n",
    "    return h\n",
    "\n",
    "def to_one_hot(y):\n",
    "    K = len(np.unique(y.ravel()))\n",
    "    one_hot = np.zeros(shape=(m, K))\n",
    "    for i, row in enumerate(one_hot):\n",
    "        if i < 10:\n",
    "            idx = y[i][0]\n",
    "            row[idx] = 1\n",
    "    return one_hot\n",
    "\n",
    "def compute_weight_decay(theta, lam):\n",
    "    theta_squared = theta ** 2\n",
    "    weight_decay = 0.5 * lam * theta_squared.sum()\n",
    "    return weight_decay\n",
    "\n",
    "def softmax_cost(X, y, theta, lam=0.0001):\n",
    "    m = X.shape[0]\n",
    "    y_one_hot = to_one_hot(y)\n",
    "    h = hypothesis(X, theta)\n",
    "    traditional_cost = -(1.0)/m * (np.multiply(y_one_hot, np.log(h))).sum()\n",
    "\n",
    "    weight_decay = compute_weight_decay(theta, lam)\n",
    "\n",
    "    cost = traditional_cost + weight_decay\n",
    "    gradient = compute_gradient(X, y, theta)\n",
    "    return cost, gradient\n",
    "\n",
    "def compute_gradient(X, y, theta):\n",
    "    m = X.shape[0]\n",
    "    h = hypothesis(X, theta)\n",
    "    y_one_hot = to_one_hot(y)\n",
    "    errors = y_one_hot - h\n",
    "    weights_decay = (0.5 * theta) #.sum()\n",
    "    summation = np.dot(X.T, errors) #.sum() \n",
    "    return (-(summation / m)) + weights_decay\n",
    "    \n",
    "    \n",
    "def gradient_descent(X, y, theta, num_of_iterations, alpha, lam):\n",
    "    theta = 0.0005 * np.random.rand(X.shape[1],len(np.unique(y)))\n",
    "    \n",
    "    costs = []\n",
    "    for i in range(num_of_iterations):\n",
    "        if i % 100 == 0:\n",
    "            print 'doing', i\n",
    "        cost, gradient = softmax_cost(X, y, theta, lam)\n",
    "        costs.append(cost)\n",
    "        theta = theta - (alpha * gradient)\n",
    "    return theta, costs\n",
    "\n",
    "def feature_normalize(X):\n",
    "    mean = np.mean(X)\n",
    "    std = np.std(X, ddof=1)\n",
    "    return ( X - mean ) / std\n",
    "\n",
    "def normalize_0_1(X):\n",
    "    _min = np.min(X)\n",
    "    _max = np.max(X)\n",
    "    return (X-_min) / float(_max - _min)\n",
    "#     mean = np.mean(X)\n",
    "#     std = np.std(X, ddof=1)\n",
    "#     return ( X - mean ) / std\n",
    "\n",
    "def gradient_checking(selectors, theta, epsilon):\n",
    "    n, k = theta.shape\n",
    "#     theta = theta.flatten()\n",
    "    grad_approx = np.zeros(len(selectors));\n",
    "#     for i, _ in enumerate(theta):\n",
    "    for i, sel in enumerate(selectors):\n",
    "#         print i\n",
    "        theta_plus = theta.copy()\n",
    "        theta_minus = theta.copy()\n",
    "        \n",
    "        theta_plus[sel]  += epsilon\n",
    "        theta_minus[sel] -= epsilon\n",
    "        \n",
    "        cost_plus, _ = softmax_cost(X, y, theta_plus, 0.001)\n",
    "#         print 'cost_plus ', cost_plus\n",
    "#         print _\n",
    "#         print _.shape\n",
    "        cost_minus, _ = softmax_cost(X, y, theta_minus, 0.001)\n",
    "#         print 'cost_minus', cost_minus\n",
    "        grad_approx[i] = (cost_plus - cost_minus) / (2 * epsilon)\n",
    "    return grad_approx\n",
    "#     return theta.reshape(n, k)\n",
    "\n",
    "\n",
    "def reshape_gradient(gradient, sel):\n",
    "    gradient_reshaped = np.zeros(len(sel))\n",
    "    for i, s in enumerate(sel):\n",
    "        gradient_reshaped[i] = gradient[s]\n",
    "#     print gradient_reshaped.shape\n",
    "    return gradient_reshaped\n",
    "\n",
    "def generate_selector(theta):\n",
    "#     sel = np.full(theta.shape, False, dtype=bool)\n",
    "    sel = []\n",
    "    i = 0\n",
    "    for a, __ in np.ndenumerate(theta):\n",
    "        if i % 401 == 0:\n",
    "#             print i\n",
    "#             sel[a] = True\n",
    "            sel.append(a)\n",
    "        i += 1\n",
    "    return sel\n",
    "\n",
    "\n",
    "def calc_gradient_diff(gradient_check, gradient, sel):\n",
    "#     print gradient.shape\n",
    "    nn = gradient.shape[0] * gradient.shape[1]\n",
    "    multiplier = float(nn) / len(sel)\n",
    "    gradient_check_actual = reshape_gradient(gradient, sel)\n",
    "    return (gradient_check - gradient_check_actual).sum() * multiplier"
   ]
  },
  {
   "cell_type": "code",
   "execution_count": 220,
   "metadata": {
    "collapsed": false
   },
   "outputs": [
    {
     "data": {
      "text/plain": [
       "0.48164336036319993"
      ]
     },
     "execution_count": 220,
     "metadata": {},
     "output_type": "execute_result"
    }
   ],
   "source": [
    "\n",
    "sel = generate_selector(theta)\n",
    "\n",
    "gradient_check = gradient_checking(sel, theta, 0.0001)\n",
    "cost, gradient = softmax_cost(X, y, theta, 0.0001)\n",
    "\n",
    "calc_gradient_diff(gradient_check, gradient, sel)\n",
    "    \n"
   ]
  },
  {
   "cell_type": "code",
   "execution_count": 210,
   "metadata": {
    "collapsed": false
   },
   "outputs": [
    {
     "name": "stdout",
     "output_type": "stream",
     "text": [
      "(154,)\n",
      "(154,)\n",
      "-0.0268010144068\n"
     ]
    }
   ],
   "source": [
    "print gradient_check.shape\n",
    "# print gradient[sel].shape\n",
    "# print gradient[sel]\n",
    "gradients = np.zeros(len(sel))\n",
    "for i, s in enumerate(sel):\n",
    "    gradients[i] = gradient[s]\n",
    "print gradients.shape\n",
    "\n",
    "print (gradient_check - gradients).sum()"
   ]
  },
  {
   "cell_type": "code",
   "execution_count": 188,
   "metadata": {
    "collapsed": false
   },
   "outputs": [
    {
     "ename": "NameError",
     "evalue": "name 's' is not defined",
     "output_type": "error",
     "traceback": [
      "\u001b[0;31m---------------------------------------------------------------------------\u001b[0m",
      "\u001b[0;31mNameError\u001b[0m                                 Traceback (most recent call last)",
      "\u001b[0;32m<ipython-input-188-1a28ae540196>\u001b[0m in \u001b[0;36m<module>\u001b[0;34m()\u001b[0m\n\u001b[1;32m      7\u001b[0m \u001b[0mX_normalized\u001b[0m \u001b[0;34m=\u001b[0m \u001b[0mfeature_normalize\u001b[0m\u001b[0;34m(\u001b[0m\u001b[0mX\u001b[0m\u001b[0;34m)\u001b[0m\u001b[0;34m\u001b[0m\u001b[0m\n\u001b[1;32m      8\u001b[0m \u001b[0;31m# new_theta, costs = gradient_descent(X_normalized, y, theta, 50, 1, 0.0001)\u001b[0m\u001b[0;34m\u001b[0m\u001b[0;34m\u001b[0m\u001b[0m\n\u001b[0;32m----> 9\u001b[0;31m \u001b[0mnew_theta\u001b[0m\u001b[0;34m,\u001b[0m \u001b[0mcosts\u001b[0m \u001b[0;34m=\u001b[0m \u001b[0mgradient_descent\u001b[0m\u001b[0;34m(\u001b[0m\u001b[0ms\u001b[0m\u001b[0;34m,\u001b[0m \u001b[0my\u001b[0m\u001b[0;34m,\u001b[0m \u001b[0mtheta\u001b[0m\u001b[0;34m,\u001b[0m \u001b[0;36m100\u001b[0m\u001b[0;34m,\u001b[0m \u001b[0;36m0.15\u001b[0m\u001b[0;34m,\u001b[0m \u001b[0;36m0.05\u001b[0m\u001b[0;34m)\u001b[0m\u001b[0;34m\u001b[0m\u001b[0m\n\u001b[0m",
      "\u001b[0;31mNameError\u001b[0m: name 's' is not defined"
     ]
    }
   ],
   "source": [
    "# \n",
    "rand = np.random.RandomState(13)\n",
    "# theta = 0.0005 * rand.rand(n_of_features, k)\n",
    "theta = 1 * rand.rand(n_of_features, k)\n",
    "\n",
    "\n",
    "X_normalized = feature_normalize(X)\n",
    "# new_theta, costs = gradient_descent(X_normalized, y, theta, 50, 1, 0.0001)\n",
    "new_theta, costs = gradient_descent(s, y, theta, 100, 0.15, 0.05)"
   ]
  },
  {
   "cell_type": "code",
   "execution_count": 33,
   "metadata": {
    "collapsed": false
   },
   "outputs": [
    {
     "data": {
      "text/plain": [
       "[<matplotlib.lines.Line2D at 0x7fdedc9dad10>]"
      ]
     },
     "execution_count": 33,
     "metadata": {},
     "output_type": "execute_result"
    },
    {
     "data": {
      "image/png": "[encoded data removed]",
      "text/plain": [
       "<matplotlib.figure.Figure at 0x7fdedca58f10>"
      ]
     },
     "metadata": {},
     "output_type": "display_data"
    }
   ],
   "source": [
    "plt.plot(costs)\n",
    "# print costs"
   ]
  },
  {
   "cell_type": "code",
   "execution_count": 34,
   "metadata": {
    "collapsed": false
   },
   "outputs": [
    {
     "name": "stdout",
     "output_type": "stream",
     "text": [
      "0.21225\n"
     ]
    }
   ],
   "source": [
    "hyp = hypothesis(X, new_theta)\n",
    "predicted_table = np.argmax(hyp, axis=1)\n",
    "predicted_table = np.reshape(predicted_table, (m,1))\n",
    "correct = (predicted_table == y).sum()\n",
    "print float(correct) / m"
   ]
  },
  {
   "cell_type": "code",
   "execution_count": 239,
   "metadata": {
    "collapsed": false
   },
   "outputs": [],
   "source": [
    "# opt_solution = scipy.optimize.minimize(\n",
    "#     softmax_cost,\n",
    "#     theta,\n",
    "#     args = (\n",
    "#         X,\n",
    "#         y,\n",
    "#     ),\n",
    "#     method = 'L-BFGS-B',\n",
    "#     jac = True,\n",
    "#     options = {\n",
    "#         'maxiter': 10\n",
    "#     }\n",
    "# )\n",
    "# # opt_theta = opt_solution.x"
   ]
  },
  {
   "cell_type": "code",
   "execution_count": 18,
   "metadata": {
    "collapsed": false
   },
   "outputs": [],
   "source": [
    "\n",
    "alpha = 0.0001\n",
    "lam = 0.0001\n",
    "\n",
    "# theta = 0.0005 * rand.rand(n_of_features, k)\n",
    "# print 'theta', theta\n",
    "# X_normalized = normalize_0_1(X)\n",
    "# print 'X_normalized', X_normalized[0]\n",
    "# print 'hypothesis', hypothesis(X_normalized, theta)\n",
    "# print 'decay', compute_weight_decay(theta, lam)\n",
    "# cost, gradient = softmax_cost(X_normalized, y, theta, lam)\n",
    "# print 'cost', cost\n",
    "# print 'gradient', gradient"
   ]
  },
  {
   "cell_type": "code",
   "execution_count": 212,
   "metadata": {
    "collapsed": false
   },
   "outputs": [],
   "source": [
    "# print X.T * errors"
   ]
  },
  {
   "cell_type": "code",
   "execution_count": 9,
   "metadata": {
    "collapsed": false
   },
   "outputs": [
    {
     "name": "stdout",
     "output_type": "stream",
     "text": [
      "[  0   0   0   0   0   0   0   0   0   0   0   0   0   0   0   0   0   0\n",
      "   0   0   0   0   0   0   0   0   0   0   0   0   0   0   0   0   0   0\n",
      "   0   0   0   0   0   0   0   0   0   0   0   0   0   0   0   0   0   0\n",
      "   0   0   0   0   0   0   0   0   0   0   0   0   0   0   0   0   0   0\n",
      "   0   0   0   0   0   0   0   0   0   0   0   0   0   0   0   0   0   0\n",
      "   0   0   0   0   0   0   0   0   0   0   0   0   0   0   0   0   0   0\n",
      "   0   0   0   0   0   0   0   0   0   0   0   0   0   0   0   0   0   0\n",
      "   0  51 159 253 159  50   0   0   0   0   0   0   0   0   0   0   0   0\n",
      "   0   0   0   0   0   0   0   0   0   0  48 238 252 252 252 237   0   0\n",
      "   0   0   0   0   0   0   0   0   0   0   0   0   0   0   0   0   0   0\n",
      "   0  54 227 253 252 239 233 252  57   6   0   0   0   0   0   0   0   0\n",
      "   0   0   0   0   0   0   0   0   0  10  60 224 252 253 252 202  84 252\n",
      " 253 122   0   0   0   0   0   0   0   0   0   0   0   0   0   0   0   0\n",
      "   0 163 252 252 252 253 252 252  96 189 253 167   0   0   0   0   0   0\n",
      "   0   0   0   0   0   0   0   0   0   0  51 238 253 253 190 114 253 228\n",
      "  47  79 255 168   0   0   0   0   0   0   0   0   0   0   0   0   0   0\n",
      "   0  48 238 252 252 179  12  75 121  21   0   0 253 243  50   0   0   0\n",
      "   0   0   0   0   0   0   0   0   0   0  38 165 253 233 208  84   0   0\n",
      "   0   0   0   0 253 252 165   0   0   0   0   0   0   0   0   0   0   0\n",
      "   0   7 178 252 240  71  19  28   0   0   0   0   0   0 253 252 195   0\n",
      "   0   0   0   0   0   0   0   0   0   0   0  57 252 252  63   0   0   0\n",
      "   0   0   0   0   0   0 253 252 195   0   0   0   0   0   0   0   0   0\n",
      "   0   0   0 198 253 190   0   0   0   0   0   0   0   0   0   0 255 253\n",
      " 196   0   0   0   0   0   0   0   0   0   0   0  76 246 252 112   0   0\n",
      "   0   0   0   0   0   0   0   0 253 252 148   0   0   0   0   0   0   0\n",
      "   0   0   0   0  85 252 230  25   0   0   0   0   0   0   0   0   7 135\n",
      " 253 186  12   0   0   0   0   0   0   0   0   0   0   0  85 252 223   0\n",
      "   0   0   0   0   0   0   0   7 131 252 225  71   0   0   0   0   0   0\n",
      "   0   0   0   0   0   0  85 252 145   0   0   0   0   0   0   0  48 165\n",
      " 252 173   0   0   0   0   0   0   0   0   0   0   0   0   0   0  86 253\n",
      " 225   0   0   0   0   0   0 114 238 253 162   0   0   0   0   0   0   0\n",
      "   0   0   0   0   0   0   0   0  85 252 249 146  48  29  85 178 225 253\n",
      " 223 167  56   0   0   0   0   0   0   0   0   0   0   0   0   0   0   0\n",
      "  85 252 252 252 229 215 252 252 252 196 130   0   0   0   0   0   0   0\n",
      "   0   0   0   0   0   0   0   0   0   0  28 199 252 252 253 252 252 233\n",
      " 145   0   0   0   0   0   0   0   0   0   0   0   0   0   0   0   0   0\n",
      "   0   0   0  25 128 252 253 252 141  37   0   0   0   0   0   0   0   0\n",
      "   0   0   0   0   0   0   0   0   0   0   0   0   0   0   0   0   0   0\n",
      "   0   0   0   0   0   0   0   0   0   0   0   0   0   0   0   0   0   0\n",
      "   0   0   0   0   0   0   0   0   0   0   0   0   0   0   0   0   0   0\n",
      "   0   0   0   0   0   0   0   0   0   0   0   0   0   0   0   0   0   0\n",
      "   0   0   0   0   0   0   0   0   0   0   0   0   0   0   0   0   0   0\n",
      "   0   0   0   0   0   0   0   0   0   0   0   0   0   0   0   0   0   0\n",
      "   0   0   0   0   0   0   0   0   0   0]\n",
      "[[0 4 1 9 2 1 3 1 4 3 5 3 6 1 7 2 8 6 9 4 0 9 1 1 2 4 3 2 7 3 8 6 9 0 5 6 0\n",
      "  7 6 1 8 7 9 3 9 8 5 9 3 3 0 7 4 9 8 0 9 4 1 4 4 6 0 4 5 6 1 0 0 1 7 1 6 3\n",
      "  0 2 1 1 7 9 0 2 6 7 8 3 9 0 4 6 7 4 6 8 0 7 8 3 1 5 7 1 7 1 1 6 3 0 2 9 3\n",
      "  1 1 0 4 9 2 0 0 2 0 2 7 1 8 6 4 1 6 3 4 5 9 1 3 3 8 5 4 7 7 4 2 8 5 8 6 7\n",
      "  3 4 6 1 9 9 6 0 3 7 2 8 2 9 4 4 6 4 9 7 0 9 2 9 5 1 5 9 1 2 3 2 3 5 9 1 7\n",
      "  6 2 8 2 2 5 0 7 4 9 7 8 3 2 1 1 8 3 6 1 0 3 1 0 0 1 7 2 7 3 0 4 6 5 2 6 4\n",
      "  7 1 8 9 9 3 0 7 1 0 2 0 3 5 4 6 5 8 6 3 7 5 8 0 9 1 0 3 1 2 2 3 3 6 4 7 5\n",
      "  0 6 2 7 9 8 5 9 2 1 1 4 4 5 6 4 1 2 5 3 9 3 9 0 5 9 6 5 7 4 1 3 4 0 4 8 0\n",
      "  4 3 6 8 7 6 0 9 7 5 7 2 1 1 6 8 9 4 1 5 2 2 9 0 3 9 6 7 2 0 3 5 4 3 6 5 8\n",
      "  9 5 4 7 4 2 7 3 4 8 9 1 9 2 8 7 9 1 8 7 4 1 3 1 1 0 2 3 9 4 9 2 1 6 8 4 7\n",
      "  7 4 4 9 2 5 7 2 4 4 2 1 9 7 2 8 7 6 9 2 2 3 8 1 6 5 1 1 0 2 6 4 5 8 3 1 5\n",
      "  1 9 2 7 4 4 4 8 1 5 8 9 5 6 7 9 9 3 7 0 9 0 6 6 2 3 9 0 7 5 4 8 0 9 4 1 2\n",
      "  8 7 1 2 6 1 0 3 0 1 1 8 2 0 3 9 4 0 5 0 6 1 7 7 8 1 9 2 0 5 1 2 2 7 3 5 4\n",
      "  9 7 1 8 3 9 6 0 3 1 1 2 6 3 5 7 6 8 3 9 5 8 5 7 6 1 1 3 1 7 5 5 5 2 5 8 7\n",
      "  0 9 7 7 5 0 9 0 0 8 9 2 4 8 1 6 1 6 5 1 8 3 4 0 5 5 8 3 6 2 3 9 2 1 1 5 2\n",
      "  1 3 2 8 7 3 7 2 4 6 9 7 2 4 2 8 1 1 3 8 4 0 6 5 9 3 0 9 2 4 7 1 2 9 4 2 6\n",
      "  1 8 9 0 6 6 7 9 9 8 0 1 4 4 6 7 1 5 7 0 3 5 8 4 7 1 2 5 9 5 6 7 5 9 8 8 3\n",
      "  6 9 7 0 7 5 7 1 1 0 7 9 2 3 7 3 2 4 1 6 2 7 5 5 7 4 0 2 6 3 6 4 0 4 2 6 0\n",
      "  0 0 0 3 1 6 2 2 3 1 4 1 5 4 6 4 7 2 8 7 9 2 0 5 1 4 2 8 3 2 4 1 5 4 6 0 7\n",
      "  9 8 4 9 8 0 1 1 0 2 2 3 2 4 4 5 8 6 5 7 7 8 8 9 7 4 7 3 2 0 8 6 8 6 1 6 8\n",
      "  9 4 0 9 0 4 1 5 4 7 5 3 7 4 9 8 5 8 6 3 8 6 9 9 1 8 3 5 8 6 5 9 7 2 5 0 8\n",
      "  5 1 1 0 9 1 8 6 7 0 9 3 0 8 8 9 6 7 8 4 7 5 9 2 6 7 4 5 9 2 3 1 6 3 9 2 2\n",
      "  5 6 8 0 7 7 1 9 8 7 0 9 9 4 6 2 8 5 1 4 1 5 5 1 7 3 6 4 3 2 5 6 4 4 0 4 4\n",
      "  6 7 2 4 3 3 8 0 0 3 2 2 9 8 2 3 7 0 1 1 0 2 3 3 8 4 3 5 7 6 4 7 7 8 5 9 7\n",
      "  0 3 1 6 2 4 3 4 4 7 5 9 6 9 0 7 1 4 2 7 3 6 7 5 8 4 5 5 2 7 1 1 5 6 8 5 8\n",
      "  4 0 7 9 9 2 9 7 7 8 7 4 2 6 9 1 7 0 6 4 2 5 7 0 7 1 0 3 7 6 5 0 6 1 5 1 7\n",
      "  8 5 0 3 4 7 7 5 7 8 6 9 3 8 6 1 0 9 7 1 3 0 5 6 4 4 2 4 4 3 1 7 7 6 0 3 6\n",
      "  0]]\n",
      "[[  3.85660322e-04   1.03759747e-05   3.16824117e-04 ...,   3.80265356e-04\n",
      "    8.45554183e-05   4.41699071e-05]\n",
      " [  3.42679909e-04   4.76696673e-04   1.97413316e-06 ...,   1.45938034e-04\n",
      "    4.58887061e-04   3.57287892e-04]\n",
      " [  2.71272184e-04   7.10850238e-05   1.86670380e-04 ...,   2.56569121e-04\n",
      "    3.25198591e-04   3.00519477e-04]\n",
      " ..., \n",
      " [  3.48713905e-04   1.56844888e-04   1.02725541e-04 ...,   9.49769320e-05\n",
      "    3.15085083e-04   4.70179917e-04]\n",
      " [  4.94031613e-05   2.77312323e-04   1.47121887e-04 ...,   1.56144800e-04\n",
      "    4.21690755e-04   4.74061754e-04]\n",
      " [  4.46830018e-04   1.25052283e-04   4.76457935e-05 ...,   4.98374494e-04\n",
      "    1.15055453e-04   4.47175715e-04]]\n"
     ]
    }
   ],
   "source": [
    "print X[0]\n",
    "print y.T\n",
    "print theta"
   ]
  },
  {
   "cell_type": "code",
   "execution_count": null,
   "metadata": {
    "collapsed": false
   },
   "outputs": [],
   "source": [
    "print X\n",
    "# print y\n",
    "print theta"
   ]
  },
  {
   "cell_type": "code",
   "execution_count": 33,
   "metadata": {
    "collapsed": false
   },
   "outputs": [
    {
     "name": "stdout",
     "output_type": "stream",
     "text": [
      "[[ 7.02750991  7.65829303  8.22492154 ...,  7.57622251  7.71207028\n",
      "   7.86756045]\n",
      " [ 4.59951021  5.17384386  4.93871541 ...,  4.73542002  4.88209247\n",
      "   5.10557152]\n",
      " [ 3.966941    4.10703155  4.34924595 ...,  3.72894257  4.59960936\n",
      "   4.79950616]\n",
      " ..., \n",
      " [ 4.94369233  5.86620593  5.6433769  ...,  4.93204326  5.88177398\n",
      "   5.57196998]\n",
      " [ 6.09087626  6.60208114  7.0593024  ...,  5.8579878   6.36091286\n",
      "   6.73509632]\n",
      " [ 5.75268281  6.29468164  6.62473448 ...,  5.72080664  5.6044771\n",
      "   6.28099406]]\n"
     ]
    }
   ],
   "source": [
    "print np.dot(X, theta)"
   ]
  },
  {
   "cell_type": "code",
   "execution_count": null,
   "metadata": {
    "collapsed": true
   },
   "outputs": [],
   "source": []
  }
 ],
 "metadata": {
  "kernelspec": {
   "display_name": "Python 2",
   "language": "python",
   "name": "python2"
  },
  "language_info": {
   "codemirror_mode": {
    "name": "ipython",
    "version": 2
   },
   "file_extension": ".py",
   "mimetype": "text/x-python",
   "name": "python",
   "nbconvert_exporter": "python",
   "pygments_lexer": "ipython2",
   "version": "2.7.6"
  }
 },
 "nbformat": 4,
 "nbformat_minor": 1
}
