{
 "metadata": {
  "name": "",
  "signature": "sha256:bc17429fe91e1ed2dce7aa4b07d1fbe5030f1cc2d113d89f13279f6eea1c557f"
 },
 "nbformat": 3,
 "nbformat_minor": 0,
 "worksheets": []
}