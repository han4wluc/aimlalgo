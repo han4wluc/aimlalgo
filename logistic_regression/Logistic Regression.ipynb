{
 "cells": [
  {
   "cell_type": "markdown",
   "metadata": {},
   "source": []
  },
  {
   "cell_type": "markdown",
   "metadata": {},
   "source": [
    "### Logistic Regression Model\n",
    "\n",
    "Want $ 0 \\le h_\\theta(x) \\le 1 $\n",
    "\n",
    "$h_\\theta(x) = g(\\theta^{T}x)$\n",
    "\n",
    "**Sigmoid function/Logistic function**: $g(z) = \\frac{1}{1+e^{-z}}$\n",
    "\n",
    "**Hypothesis**: $h_\\theta(x) = \\frac{1}{1+e^{-\\Theta^{T}x}}$\n",
    "\n",
    "**Cost function**: $J(\\theta) = \\frac{1}{m}\\sum_{i=1}^{m}Cost(h_\\theta(x^{(i)}), y^{(i)}) $\n",
    "\n",
    "\n",
    "$Cost(h_\\theta(x),y) = $ <br>\n",
    "$-log(h_\\theta(x)) $&nbsp;&nbsp;&nbsp;if y = 1 <br>\n",
    "$-log(1 - h_\\theta(x))$&nbsp;&nbsp;&nbsp; if y = 0\n",
    "\n",
    "$J(\\theta) = -\\frac{1}{m}[\\sum_{i=1}^{m}y^{(i)}log(h_\\theta(x^{(i)}))+(1-y^{(i)})log (1-h_\\theta(x^{(i)}))]$\n",
    "\n",
    "**Gradient descent**: <br>\n",
    "Repeat { <br>\n",
    "&nbsp;&nbsp;&nbsp;&nbsp;$\\theta_j := \\theta_j - \\alpha\\frac{1}{m}\\sum_{i=1}^{m}(h_\\theta(x^{(i)})-y^{(i)})x_j^{(i)}$<br>\n",
    "}\n",
    "\n",
    "### Regularization\n",
    "**Cost function**: $J(\\theta) = -\\frac{1}{m}[\\sum_{i=1}^{m}y^{(i)}log(h_\\theta(x^{(i)}))+(1-y^{(i)})log (1-h_\\theta(x^{(i)}))] + \\frac{\\lambda}{2m}\\sum_{j=1}^{n}\\theta_j^{2}$\n",
    "\n",
    "**Gradient descent**: <br>\n",
    "Repeat { <br>\n",
    "&nbsp;&nbsp;&nbsp;&nbsp;$\\theta_0 := \\theta_0 - \\alpha\\frac{1}{m}\\sum_{i=1}^{m}(h_\\theta(x^{(i)})-y^{(i)})x_0^{(i)}$<br>\n",
    "&nbsp;&nbsp;&nbsp;&nbsp;$\\theta_j := \\theta_j - [\\alpha\\frac{1}{m}\\sum_{i=1}^{m}(h_\\theta(x^{(i)})-y^{(i)})x_j^{(i)} - \\frac{\\lambda}{m}\\theta_j]$<br>\n",
    "}\n"
   ]
  },
  {
   "cell_type": "code",
   "execution_count": null,
   "metadata": {
    "collapsed": true
   },
   "outputs": [],
   "source": []
  },
  {
   "cell_type": "code",
   "execution_count": null,
   "metadata": {
    "collapsed": true
   },
   "outputs": [],
   "source": []
  }
 ],
 "metadata": {
  "kernelspec": {
   "display_name": "Python 2",
   "language": "python",
   "name": "python2"
  },
  "language_info": {
   "codemirror_mode": {
    "name": "ipython",
    "version": 2
   },
   "file_extension": ".py",
   "mimetype": "text/x-python",
   "name": "python",
   "nbconvert_exporter": "python",
   "pygments_lexer": "ipython2",
   "version": "2.7.6"
  }
 },
 "nbformat": 4,
 "nbformat_minor": 1
}
