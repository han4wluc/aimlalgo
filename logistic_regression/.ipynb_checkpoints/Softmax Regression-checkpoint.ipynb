{
 "cells": [
  {
   "cell_type": "markdown",
   "metadata": {},
   "source": [
    "## Softmax Regression\n",
    "\n",
    "* http://ufldl.stanford.edu/tutorial/supervised/SoftmaxRegression/\n",
    "* http://ufldl.stanford.edu/wiki/index.php/Softmax_Regression\n",
    "\n",
    "* https://github.com/siddharth-agrawal/Softmax-Regression/blob/master/softmaxRegression.py\n",
    "* https://gist.github.com/awjuliani/5ce098b4b76244b7a9e3#file-softmax-ipynb\n"
   ]
  },
  {
   "cell_type": "markdown",
   "metadata": {},
   "source": [
    "Softmax Regression is a generalization of the Logistic Regression, where k can take different values. Logistic regression is the case where k=2"
   ]
  },
  {
   "cell_type": "markdown",
   "metadata": {},
   "source": [
    "### Hypothesis\n",
    "* Logistic Regression\n",
    "\n",
    "$h_\\theta(x) = \\frac{1}{1 + e^{(-\\theta^{T}x)}}$\n",
    "\n",
    "* Softmax Regression\n",
    "\n",
    "$\n",
    "h_\\theta(x^{(i)}) = \n",
    "\\begin{bmatrix}\n",
    "    p(y^{(i)} = 1 \\:|\\: x{(i)};\\theta) \\\\\n",
    "    p(y^{(i)} = 2 \\:|\\: x{(i)};\\theta) \\\\\n",
    "    ... \\\\\n",
    "    p(y^{(i)} = k \\:|\\: x{(i)};\\theta) \\\\\n",
    "\\end{bmatrix}\n",
    "=\n",
    "\\frac{1}{\\sum_{j=1}^{k}e^{\\theta^{T}_jx^{(i)}}}\n",
    "\\begin{bmatrix}\n",
    "    e^{\\theta^{T}_1x^{(i)}} \\\\\n",
    "    e^{\\theta^{T}_2x^{(i)}} \\\\\n",
    "    ...                     \\\\\n",
    "    e^{\\theta^{T}_kx^{(i)}} \\\\\n",
    "\\end{bmatrix}\n",
    "$\n",
    "\n",
    "### Cost Function\n",
    "\n",
    "* Logistic Regression\n",
    "\n",
    "$\n",
    "J(\\theta) = -\\frac{1}{m}[\\sum_{i=1}^{m}y^{(i)}log(h_\\theta(x^{(i)}))+(1-y^{(i)})log (1-h_\\theta(x^{(i)}))]\n",
    "$\n",
    "\n",
    "\n",
    "* Softmax Regression\n",
    "\n",
    "$\n",
    "J(\\theta) = -\\frac{1}{m}[\\sum_{i=1}^{m}\\sum_{j=1}^{k}1\\{y^{(i)}=j\\}\\:log\\frac{e^{\\theta_j^Tx^{(i)}}}{\\sum_{l=1}^{k}e^{\\theta_l^Tx^{(i)}}}]\n",
    "$\n",
    "\n",
    "$\n",
    "J(\\theta) = -\\frac{1}{m}[\\sum_{i=1}^{m}\\sum_{j=1}^{k}1\\{y^{(i)}=j\\}\\:log(p(y^{(i)}=j\\:|\\:x^{(i)};\\theta))]\n",
    "$\n",
    "\n",
    "\n",
    "### Gradient\n",
    "\n",
    "* Logistic Regression\n",
    "\n",
    "\n",
    "\n",
    "* Softmax Regression\n",
    "\n",
    "\n",
    "\n",
    "\n"
   ]
  },
  {
   "cell_type": "code",
   "execution_count": null,
   "metadata": {
    "collapsed": true
   },
   "outputs": [],
   "source": []
  }
 ],
 "metadata": {
  "kernelspec": {
   "display_name": "Python 2",
   "language": "python",
   "name": "python2"
  },
  "language_info": {
   "codemirror_mode": {
    "name": "ipython",
    "version": 2
   },
   "file_extension": ".py",
   "mimetype": "text/x-python",
   "name": "python",
   "nbconvert_exporter": "python",
   "pygments_lexer": "ipython2",
   "version": "2.7.6"
  }
 },
 "nbformat": 4,
 "nbformat_minor": 1
}
