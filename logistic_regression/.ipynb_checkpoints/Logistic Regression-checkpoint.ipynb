{
 "cells": [
  {
   "cell_type": "markdown",
   "metadata": {},
   "source": []
  },
  {
   "cell_type": "markdown",
   "metadata": {},
   "source": [
    "### Logistic Regression Model\n",
    "\n",
    "Want $ 0 \\le h_\\theta(x) \\le 1 $\n",
    "\n",
    "$h_\\theta(x) = g(\\theta^{T}x)$\n",
    "\n",
    "**Sigmoid function/Logistic function**: $g(z) = \\frac{1}{1+e^{-z}}$\n",
    "\n",
    "**Hypothesis**: $h_\\theta(x) = \\frac{1}{1+e^{-\\Theta^{T}x}}$\n",
    "\n",
    "**Cost function**: $J(\\theta) = \\frac{1}{m}\\sum_{i=1}^{m}Cost(h_\\theta(x^{(i)}), y^{(i)}) $\n",
    "\n",
    "\n",
    "$Cost(h_\\theta(x),y) = $ <br>\n",
    "$-log(h_\\theta(x)) $&nbsp;&nbsp;&nbsp;if y = 1 <br>\n",
    "$-log(1 - h_\\theta(x))$&nbsp;&nbsp;&nbsp; if y = 0\n",
    "\n",
    "$J(\\theta) = -\\frac{1}{m}[\\sum_{i=1}^{m}y^{(i)}log(h_\\theta(x^{(i)}))+(1-y^{(i)})log (1-h_\\theta(x^{(i)}))]$\n",
    "\n",
    "**Gradient descent**: <br>\n",
    "Repeat { <br>\n",
    "&nbsp;&nbsp;&nbsp;&nbsp;$\\theta_j := \\theta_j - \\alpha\\frac{1}{m}\\sum_{i=1}^{m}(h_\\theta(x^{(i)})-y^{(i)})x_j^{(i)}$<br>\n",
    "}\n"
   ]
  },
  {
   "cell_type": "code",
   "execution_count": 59,
   "metadata": {
    "collapsed": false
   },
   "outputs": [
    {
     "data": {
      "text/plain": [
       "(array([[-0.00099652],\n",
       "        [ 0.02063775]]), array([[ 0.69253585],\n",
       "        [ 0.69197672],\n",
       "        [ 0.69146509],\n",
       "        [ 0.69099668],\n",
       "        [ 0.6905676 ],\n",
       "        [ 0.6901743 ],\n",
       "        [ 0.68981356],\n",
       "        [ 0.68948244],\n",
       "        [ 0.68917828],\n",
       "        [ 0.68889865]]))"
      ]
     },
     "execution_count": 59,
     "metadata": {},
     "output_type": "execute_result"
    }
   ],
   "source": [
    "\n",
    "import numpy as np\n",
    "\n",
    "def sigmoid(z):\n",
    "  '''\n",
    "  Compute sigmoid function\n",
    "  '''\n",
    "  return 1 / (1 + np.e ** -z)\n",
    "\n",
    "def cost_function(X, y, theta):\n",
    "  '''\n",
    "  Computes Logistical cost function, return Cost, Gradient\n",
    "  '''\n",
    "  m = X.shape[0]\n",
    "  h = sigmoid(X.dot(theta))\n",
    "  part_1 = y * (np.log(h))\n",
    "  part_2 = (1 - y) * (np.log(1-h))\n",
    "  constant = -1.0/m\n",
    "  combined = (part_1 + part_2).sum()\n",
    "  return constant * combined\n",
    "\n",
    "def gradient_descent(X, y, theta, alpha, num_iters):\n",
    "  m = y.size\n",
    "  n = theta.size\n",
    "  J_history = np.zeros(shape=(num_iters, 1))\n",
    "  \n",
    "  constant = alpha*(1.0/m) \n",
    "  for i in range(num_iters):\n",
    "    h = sigmoid(X.dot(theta))\n",
    "    r = (h - y) * X\n",
    "    rr = constant * r.sum(axis=0)\n",
    "    rr = np.reshape(rr,(n,1))\n",
    "\n",
    "    theta = theta - rr\n",
    "    cost = cost_function(X, y, theta)\n",
    "    J_history[i,0] = cost\n",
    "\n",
    "  return theta, J_history\n",
    "\n",
    "        \n",
    "X = np.array([[1, 5],\n",
    "              [1, 2],\n",
    "              [1, 4],\n",
    "              [1, 5]])\n",
    "y = np.array([[1],\n",
    "              [0],\n",
    "              [1],\n",
    "              [0]])\n",
    "theta = np.array([[0],[0]])\n",
    "alpha = 0.01;\n",
    "numOfIter = 10;\n",
    "expectedTheta = np.array([[ 5.2148],\n",
    "                          [-0.5733]])\n",
    "        \n",
    "gradient_descent(X, y, theta, alpha, 10)\n"
   ]
  },
  {
   "cell_type": "code",
   "execution_count": 20,
   "metadata": {
    "collapsed": false
   },
   "outputs": [
    {
     "data": {
      "text/plain": [
       "array([[1],\n",
       "       [0],\n",
       "       [1],\n",
       "       [0],\n",
       "       [1],\n",
       "       [0]])"
      ]
     },
     "execution_count": 20,
     "metadata": {},
     "output_type": "execute_result"
    }
   ],
   "source": [
    "y"
   ]
  },
  {
   "cell_type": "code",
   "execution_count": 30,
   "metadata": {
    "collapsed": false
   },
   "outputs": [
    {
     "name": "stdout",
     "output_type": "stream",
     "text": [
      "[[1 0 1 0 1 0]]\n",
      "[[ 0.73105858]\n",
      " [ 0.99330715]\n",
      " [ 0.99987661]\n",
      " [ 0.73105858]\n",
      " [ 0.99330715]\n",
      " [ 0.99987661]]\n",
      "[[ 2.72424233]]\n"
     ]
    },
    {
     "data": {
      "text/plain": [
       "2.7242423331297339"
      ]
     },
     "execution_count": 30,
     "metadata": {},
     "output_type": "execute_result"
    }
   ],
   "source": [
    "h = sigmoid(X.dot(theta))\n",
    "print y.T\n",
    "print h\n",
    "print y.T.dot(h)\n",
    "(y * h).sum()"
   ]
  },
  {
   "cell_type": "code",
   "execution_count": 88,
   "metadata": {
    "collapsed": false
   },
   "outputs": [
    {
     "name": "stdout",
     "output_type": "stream",
     "text": [
      "[[ 1.]\n",
      " [ 1.]\n",
      " [ 1.]\n",
      " [ 1.]\n",
      " [ 1.]\n",
      " [ 0.]\n",
      " [ 0.]\n",
      " [ 0.]\n",
      " [ 0.]\n",
      " [ 0.]\n",
      " [ 0.]\n",
      " [ 0.]]\n",
      "[[ 0.]\n",
      " [ 0.]\n",
      " [ 0.]\n",
      " [ 0.]\n",
      " [ 0.]\n",
      " [ 1.]\n",
      " [ 1.]\n",
      " [ 1.]\n",
      " [ 0.]\n",
      " [ 0.]\n",
      " [ 0.]\n",
      " [ 0.]]\n",
      "[[ 0.]\n",
      " [ 0.]\n",
      " [ 0.]\n",
      " [ 0.]\n",
      " [ 0.]\n",
      " [ 0.]\n",
      " [ 0.]\n",
      " [ 0.]\n",
      " [ 1.]\n",
      " [ 1.]\n",
      " [ 1.]\n",
      " [ 1.]]\n"
     ]
    }
   ],
   "source": [
    "y = np.array([[0],\n",
    "              [0],\n",
    "              [0],\n",
    "              [0],\n",
    "              [0],\n",
    "              [1],\n",
    "              [1],\n",
    "              [1],\n",
    "              [2],\n",
    "              [2],\n",
    "              [2],\n",
    "              [2]])\n",
    "m = y.size\n",
    "y1s = y == 0\n",
    "y2s = y == 1\n",
    "y3s = y == 2\n",
    "y1 = np.zeros(shape=(m,1))\n",
    "y1[y1s] = 1\n",
    "y2 = np.zeros(shape=(m,1))\n",
    "y2[y2s] = 1\n",
    "y3 = np.zeros(shape=(m,1))\n",
    "y3[y3s] = 1\n",
    "print y1\n",
    "print y2\n",
    "print y3"
   ]
  },
  {
   "cell_type": "code",
   "execution_count": 85,
   "metadata": {
    "collapsed": false
   },
   "outputs": [
    {
     "data": {
      "text/plain": [
       "array([[ 0.],\n",
       "       [ 0.]])"
      ]
     },
     "execution_count": 85,
     "metadata": {},
     "output_type": "execute_result"
    }
   ],
   "source": [
    "np.zeros(shape=(2,1))"
   ]
  },
  {
   "cell_type": "code",
   "execution_count": 91,
   "metadata": {
    "collapsed": false
   },
   "outputs": [
    {
     "ename": "AttributeError",
     "evalue": "'module' object has no attribute 'concat'",
     "output_type": "error",
     "traceback": [
      "\u001b[0;31m---------------------------------------------------------------------------\u001b[0m",
      "\u001b[0;31mAttributeError\u001b[0m                            Traceback (most recent call last)",
      "\u001b[0;32m<ipython-input-91-885fcac2314d>\u001b[0m in \u001b[0;36m<module>\u001b[0;34m()\u001b[0m\n\u001b[1;32m      6\u001b[0m  [ 0.30686692]])\n\u001b[1;32m      7\u001b[0m \u001b[0;34m\u001b[0m\u001b[0m\n\u001b[0;32m----> 8\u001b[0;31m \u001b[0mnp\u001b[0m\u001b[0;34m.\u001b[0m\u001b[0mconcat\u001b[0m\u001b[0;34m(\u001b[0m\u001b[0mh1\u001b[0m\u001b[0;34m,\u001b[0m \u001b[0mh2\u001b[0m\u001b[0;34m)\u001b[0m\u001b[0;34m\u001b[0m\u001b[0m\n\u001b[0m",
      "\u001b[0;31mAttributeError\u001b[0m: 'module' object has no attribute 'concat'"
     ]
    }
   ],
   "source": [
    "h1 = np.array([[ 0.85549391],\n",
    "             [ 0.57599408],\n",
    "             [ 0.07855777]])\n",
    "h2 = np.array([[ 0.53572898],\n",
    " [ 0.63927907],\n",
    " [ 0.30686692]])\n",
    "\n",
    "np.np.concatenate((h1, h2))"
   ]
  },
  {
   "cell_type": "code",
   "execution_count": null,
   "metadata": {
    "collapsed": true
   },
   "outputs": [],
   "source": []
  }
 ],
 "metadata": {
  "kernelspec": {
   "display_name": "Python 2",
   "language": "python",
   "name": "python2"
  },
  "language_info": {
   "codemirror_mode": {
    "name": "ipython",
    "version": 2
   },
   "file_extension": ".py",
   "mimetype": "text/x-python",
   "name": "python",
   "nbconvert_exporter": "python",
   "pygments_lexer": "ipython2",
   "version": "2.7.6"
  }
 },
 "nbformat": 4,
 "nbformat_minor": 1
}
